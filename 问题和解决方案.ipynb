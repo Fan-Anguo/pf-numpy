{
 "cells": [
  {
   "cell_type": "markdown",
   "metadata": {},
   "source": [
    "# np.frombuffer 的 AttributeError"
   ]
  },
  {
   "cell_type": "markdown",
   "metadata": {},
   "source": [
    "```\n",
    "In [62]: np.frombuffer('hello world')\n",
    "\n",
    "AttributeError: 'str' object has no attribute '__buffer__'\n",
    "\n",
    "In [63]: np.frombuffer(b'hello world')\n",
    "\n",
    "ValueError: buffer size must be a multiple of element size\n",
    "\n",
    "In [64]: np.frombuffer(b'hello world',dtype='S1')\n",
    "Out[64]: \n",
    "array([b'h', b'e', b'l', b'l', b'o', b' ', b'w', b'o', b'r', b'l', b'd'],  dtype='|S1')\n",
    "```\n",
    "\n",
    "In PY3, the default string type is unicode. The b is used to create and display bytestrings.\n",
    "\n",
    "**The np.frombuffer docs should be updated to reflect the difference. The 'hello world' example only works with PY2 or with PY3 bytestrings.**\n",
    "\n",
    "**As I noted in the comments, there are few SO questions regarding frombuffer, indicating that it is rarely used.  np.array is by far the most common way of making an array, even from strings:**\n",
    "\n",
    "**应更新np.frombuffer文档以反映差异。 'hello world'示例仅适用于PY2或PY3字节串。**\n",
    "\n",
    "**正如我在评论中所指出的，关于frombuffer的SO问题很少，表明它很少被使用。 到目前为止，np.array是制作数组的最常用方法，即使是字符串：**\n",
    "\n",
    "```\n",
    "\n",
    "In [80]: np.array('hello')\n",
    "Out[80]: \n",
    "array('hello', \n",
    "      dtype='<U5')\n",
    "or use list to split the string into characters:\n",
    "\n",
    "In [81]: np.array(list('hello'))\n",
    "Out[81]: \n",
    "array(['h', 'e', 'l', 'l', 'o'], \n",
    "      dtype='<U1')\n",
    "\n",
    "In [82]: np.array(b'hello')\n",
    "Out[82]: \n",
    "array(b'hello', \n",
    "      dtype='|S5')\n",
    "In [83]: np.array(list(b'hello'))\n",
    "Out[83]: array([104, 101, 108, 108, 111])\n",
    "\n",
    "In [85]: np.fromiter('hello','S1')\n",
    "Out[85]: \n",
    "array([b'h', b'e', b'l', b'l', b'o'], \n",
    "      dtype='|S1')\n",
    "In [86]: np.fromiter('hello','U1')\n",
    "Out[86]: \n",
    "array(['h', 'e', 'l', 'l', 'o'], \n",
    "      dtype='<U1')*\n",
    "```"
   ]
  },
  {
   "cell_type": "code",
   "execution_count": 4,
   "metadata": {},
   "outputs": [
    {
     "data": {
      "text/plain": [
       "array('hello',\n",
       "      dtype='<U5')"
      ]
     },
     "execution_count": 4,
     "metadata": {},
     "output_type": "execute_result"
    }
   ],
   "source": [
    "import numpy as np\n",
    "np.array('hello')"
   ]
  },
  {
   "cell_type": "code",
   "execution_count": 5,
   "metadata": {},
   "outputs": [
    {
     "data": {
      "text/plain": [
       "array([1, 2], dtype=uint8)"
      ]
     },
     "execution_count": 5,
     "metadata": {},
     "output_type": "execute_result"
    }
   ],
   "source": [
    "np.frombuffer(b'\\x01\\x02', dtype=np.uint8)"
   ]
  },
  {
   "cell_type": "code",
   "execution_count": 6,
   "metadata": {},
   "outputs": [
    {
     "data": {
      "text/plain": [
       "array([1, 2, 3], dtype=uint8)"
      ]
     },
     "execution_count": 6,
     "metadata": {},
     "output_type": "execute_result"
    }
   ],
   "source": [
    " np.frombuffer(b'\\x01\\x02\\x03\\x04\\x05', dtype=np.uint8, count=3)"
   ]
  },
  {
   "cell_type": "code",
   "execution_count": null,
   "metadata": {},
   "outputs": [],
   "source": []
  }
 ],
 "metadata": {
  "kernelspec": {
   "display_name": "Python 3",
   "language": "python",
   "name": "python3"
  },
  "language_info": {
   "codemirror_mode": {
    "name": "ipython",
    "version": 3
   },
   "file_extension": ".py",
   "mimetype": "text/x-python",
   "name": "python",
   "nbconvert_exporter": "python",
   "pygments_lexer": "ipython3",
   "version": "3.6.4"
  }
 },
 "nbformat": 4,
 "nbformat_minor": 2
}
