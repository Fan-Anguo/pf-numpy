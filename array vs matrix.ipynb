{
 "cells": [
  {
   "cell_type": "markdown",
   "metadata": {},
   "source": [
    "详解numpy中array类型和matrix类型\n",
    "===="
   ]
  },
  {
   "cell_type": "markdown",
   "metadata": {},
   "source": [
    "Numpy中两大重要类型array类型(N维数组ndarray)和矩阵类型matrix是很多基于Numpy数值计算的基础，\n",
    "\n",
    "首先Numpy中最重要的数据结构就是ndarry，简写为array， 即N维数组，matrix其实也是一种array，只不过是维数为2的特殊array，matrix的维数是固定的，这点和一般array显著不同，即便加减乘除各种运算，matrix的维数不会发生变化，而array在运算时特别是归约时维数会发生变化，一句话，matrix的维数永远是2.\n",
    "\n",
    "Numpy matrices必须是2维的,但是 numpy arrays (ndarrays) 可以是多维的（1D，2D，3D····ND）. Matrix是Array的一个小的分支，包含于Array。所以matrix 拥有array的所有特性。\n",
    "\n",
    "在numpy中matrix的主要优势是：相对简单的乘法运算符号。例如，a和b是两个matrices，那么`a*b`，就是矩阵积。而不用`np.dot()`。"
   ]
  },
  {
   "cell_type": "markdown",
   "metadata": {},
   "source": [
    "# 二者之间的转化\n",
    "\n",
    "array 转 matrix 用，`mnp.asmatrix`或者`np.matrix`;\n",
    "matrix 转 array 用，`np.asarray`或者 matrix 的A属性。"
   ]
  },
  {
   "cell_type": "markdown",
   "metadata": {},
   "source": []
  },
  {
   "cell_type": "markdown",
   "metadata": {},
   "source": []
  }
 ],
 "metadata": {
  "kernelspec": {
   "display_name": "Python 3",
   "language": "python",
   "name": "python3"
  },
  "language_info": {
   "codemirror_mode": {
    "name": "ipython",
    "version": 3
   },
   "file_extension": ".py",
   "mimetype": "text/x-python",
   "name": "python",
   "nbconvert_exporter": "python",
   "pygments_lexer": "ipython3",
   "version": "3.6.5"
  },
  "toc": {
   "nav_menu": {},
   "number_sections": true,
   "sideBar": true,
   "skip_h1_title": false,
   "title_cell": "Table of Contents",
   "title_sidebar": "Contents",
   "toc_cell": false,
   "toc_position": {},
   "toc_section_display": true,
   "toc_window_display": false
  }
 },
 "nbformat": 4,
 "nbformat_minor": 2
}
