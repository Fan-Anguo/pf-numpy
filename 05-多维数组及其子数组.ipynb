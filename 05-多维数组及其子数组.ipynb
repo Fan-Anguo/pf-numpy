{
 "cells": [
  {
   "cell_type": "markdown",
   "metadata": {},
   "source": [
    "多维数组及其子数组\n",
    "===="
   ]
  },
  {
   "cell_type": "code",
   "execution_count": 2,
   "metadata": {},
   "outputs": [],
   "source": [
    "import numpy as np"
   ]
  },
  {
   "cell_type": "markdown",
   "metadata": {},
   "source": [
    "多维数组是由子数组组成的，准确解析数组的结构对初学者来说是一件头痛的事。\n",
    "\n",
    "任意 ndarray 的三个重要的属性对解析数组的结构非常有帮助：\n",
    "\n",
    "- numpy.shape\n",
    "- numpy.ndim\n",
    "- numpy.size"
   ]
  },
  {
   "cell_type": "markdown",
   "metadata": {},
   "source": [
    "假设有一个数组，它的shape是，(3, 2, 2, 4)"
   ]
  },
  {
   "cell_type": "code",
   "execution_count": 56,
   "metadata": {},
   "outputs": [
    {
     "data": {
      "text/plain": [
       "(48,)"
      ]
     },
     "execution_count": 56,
     "metadata": {},
     "output_type": "execute_result"
    }
   ],
   "source": [
    "grid = np.arange(48)\n",
    "grid.shape"
   ]
  },
  {
   "cell_type": "code",
   "execution_count": 57,
   "metadata": {},
   "outputs": [
    {
     "data": {
      "text/plain": [
       "1"
      ]
     },
     "execution_count": 57,
     "metadata": {},
     "output_type": "execute_result"
    }
   ],
   "source": [
    "grid.ndim"
   ]
  },
  {
   "cell_type": "code",
   "execution_count": 38,
   "metadata": {},
   "outputs": [
    {
     "data": {
      "text/plain": [
       "48"
      ]
     },
     "execution_count": 38,
     "metadata": {},
     "output_type": "execute_result"
    }
   ],
   "source": [
    "grid.size"
   ]
  },
  {
   "cell_type": "code",
   "execution_count": 58,
   "metadata": {},
   "outputs": [
    {
     "data": {
      "text/plain": [
       "array([ 0,  1,  2,  3,  4,  5,  6,  7,  8,  9, 10, 11, 12, 13, 14, 15, 16,\n",
       "       17, 18, 19, 20, 21, 22, 23, 24, 25, 26, 27, 28, 29, 30, 31, 32, 33,\n",
       "       34, 35, 36, 37, 38, 39, 40, 41, 42, 43, 44, 45, 46, 47])"
      ]
     },
     "execution_count": 58,
     "metadata": {},
     "output_type": "execute_result"
    }
   ],
   "source": [
    "grid"
   ]
  },
  {
   "cell_type": "code",
   "execution_count": 60,
   "metadata": {},
   "outputs": [
    {
     "data": {
      "text/plain": [
       "array([[[[ 0,  1,  2,  3],\n",
       "         [ 4,  5,  6,  7]],\n",
       "\n",
       "        [[ 8,  9, 10, 11],\n",
       "         [12, 13, 14, 15]]],\n",
       "\n",
       "\n",
       "       [[[16, 17, 18, 19],\n",
       "         [20, 21, 22, 23]],\n",
       "\n",
       "        [[24, 25, 26, 27],\n",
       "         [28, 29, 30, 31]]],\n",
       "\n",
       "\n",
       "       [[[32, 33, 34, 35],\n",
       "         [36, 37, 38, 39]],\n",
       "\n",
       "        [[40, 41, 42, 43],\n",
       "         [44, 45, 46, 47]]]])"
      ]
     },
     "execution_count": 60,
     "metadata": {},
     "output_type": "execute_result"
    }
   ],
   "source": [
    "grid = grid.reshape(3,2,2,4)\n",
    "grid"
   ]
  },
  {
   "cell_type": "code",
   "execution_count": null,
   "metadata": {},
   "outputs": [],
   "source": []
  },
  {
   "cell_type": "markdown",
   "metadata": {},
   "source": [
    "不同的创建数组方法，其结果稍有差异。\n",
    "\n",
    "下面将重点以`numpy.zeros()`函数和 `numpy.indices()`函数为例讨论这个问题。\n",
    "\n",
    "数组实际上是一个网格结构，多维数组就是网格（数组）中的每个小格子又嵌套了一个子网格（子数组）。\n",
    "\n",
    "用grid代表一个数组，即为顶级网格，grid[k]就是其中的第k个格子，即第k个子数组。这第k个格子又可能嵌套了一个子网格（即为子数组）。\n",
    "\n",
    "如何通过两个函数的参数和数组的shape属性来解析多维数组的结构呢？"
   ]
  },
  {
   "cell_type": "markdown",
   "metadata": {},
   "source": [
    "# numpy.indices()创建的数组\n",
    "\n",
    "`grid = np.indices(dimensions)`\n",
    "\n",
    "numpy.indices()函数创建的数组，其shape属性是这样求得的：在 dimensions 元组前面加上 dimensions 元组中元素的数量，即如果 dimensions 是长度为 N 的元组（r0，...，rN-1），则输出shape为（N，r0，......，RN-1）。\n",
    "\n",
    "表示为：`grid.shape = (len(dimensions),) + tuple(dimensions).`\n",
    "\n",
    "创建的数组的维度是shape的长度，即len(grid.shape)."
   ]
  },
  {
   "cell_type": "code",
   "execution_count": 4,
   "metadata": {},
   "outputs": [
    {
     "data": {
      "text/plain": [
       "(4, 2, 2, 3, 3)"
      ]
     },
     "execution_count": 4,
     "metadata": {},
     "output_type": "execute_result"
    }
   ],
   "source": [
    "dimensions = (2,2,3,3)\n",
    "grid = np.indices(dimensions)\n",
    "grid.shape"
   ]
  },
  {
   "cell_type": "code",
   "execution_count": 5,
   "metadata": {},
   "outputs": [
    {
     "data": {
      "text/plain": [
       "(4, 2, 2, 3, 3)"
      ]
     },
     "execution_count": 5,
     "metadata": {},
     "output_type": "execute_result"
    }
   ],
   "source": [
    "(len(dimensions),2,2,3,3)"
   ]
  },
  {
   "cell_type": "code",
   "execution_count": 6,
   "metadata": {},
   "outputs": [
    {
     "data": {
      "text/plain": [
       "(5, 5, 5)"
      ]
     },
     "execution_count": 6,
     "metadata": {},
     "output_type": "execute_result"
    }
   ],
   "source": [
    "len(grid.shape), grid.ndim,len(dimensions)+1"
   ]
  },
  {
   "cell_type": "code",
   "execution_count": 7,
   "metadata": {},
   "outputs": [
    {
     "data": {
      "text/plain": [
       "0"
      ]
     },
     "execution_count": 7,
     "metadata": {},
     "output_type": "execute_result"
    }
   ],
   "source": [
    "grid[0,0,0,0,0]"
   ]
  },
  {
   "cell_type": "markdown",
   "metadata": {},
   "source": [
    "## indecis数据的检索"
   ]
  },
  {
   "cell_type": "markdown",
   "metadata": {},
   "source": [
    "`grid = numpy.indices((i0,i1,...,iN-1))`\n",
    "\n",
    "- dimensions是一个正整数元组，即dimensions为：（r0，...，rN-1）。\n",
    "- grid.shape为`（N，r0，......，RN-1）`，其中 N = len(dimensions)。\n",
    "- grid的维数，或轴数 `D = len(grid.shape) = grid.ndim = N+1`。\n",
    "- 定义一个 `k = k0,k1,.kj..kD-1'`作为索引值列表。k元素个数至少1个，最多等于shape元素个数（维度数D），即检索深度小于等于维度数（实际就是网格嵌套层次）。\n",
    "- kj 为区间'[0, rj-1]'内的整数值。\n",
    "- grid[k0,k1,...kj],当`j = D-1`时检索出的是单个值。\n",
    ">- 当'j < D-1'时，检索出的是一个子数组，该数组是沿 k0 轴，**索引为 N-D**的数组。明确地表示方法如下：\n",
    "\n",
    "`grid[k,i0,i1,...,iN-1] = ik`\n",
    "\n",
    "\n",
    "\n",
    "\n",
    "\n",
    "**说明：** \n",
    "- 使用`numpy.indices(dimensions)`创建数组，dimensions是一个正整数元组，即dimensions为：（r0，...，rN-1）\n",
    "- grid是一个多维数组，每个子数组是其中的一个元素，每个元素实际是一个嵌套的列表或值;\n",
    "- grid.shape属性输出的是一个元组，该元组的第一个元素就是它的维度数，又被称为轴数，即为N；\n",
    "- grid[k]，k属于[0 : N)，即** ` 0 <= k <= (N-1) `**；\n",
    "- grid值的总个数 = `N * r0 * r1  *r2...* (rN-1)`；\n",
    "- grid是一个数组平面，被划分为 N 个格子（0层），0层上的每个格子被划分为r0个1级子格，每个1级子格又被划分为r1个子格；依此类推。\n",
    "- 想象一下，grid是一个层层嵌套的网格，当缩小到一定的时候，就看不清内部网格的划分了，只能看到第一层最大的格子，实际就是 N 个格子；\n",
    "- 当放大网格时，会看到，每个大格子里又有若干个小格子。\n",
    "\n",
    "下面以`grid = numpy.indices(2,3,4)`创建的数组网格为例说明："
   ]
  },
  {
   "cell_type": "code",
   "execution_count": 8,
   "metadata": {},
   "outputs": [
    {
     "data": {
      "text/plain": [
       "array([[1, 1, 1],\n",
       "       [1, 1, 1],\n",
       "       [1, 1, 1]])"
      ]
     },
     "execution_count": 8,
     "metadata": {},
     "output_type": "execute_result"
    }
   ],
   "source": [
    "k = 0,1,1\n",
    "grid[k]"
   ]
  },
  {
   "cell_type": "markdown",
   "metadata": {},
   "source": []
  },
  {
   "cell_type": "code",
   "execution_count": 9,
   "metadata": {},
   "outputs": [
    {
     "data": {
      "text/plain": [
       "((3, 2, 3, 4), 4)"
      ]
     },
     "execution_count": 9,
     "metadata": {},
     "output_type": "execute_result"
    }
   ],
   "source": [
    "import numpy as np\n",
    "grid = np.indices((2,3,4))\n",
    "grid.shape, grid.ndim\n"
   ]
  },
  {
   "cell_type": "markdown",
   "metadata": {},
   "source": [
    "上面的代码创建了一个维度数为3的数组，即N=3，它的结构可以用下图来示意："
   ]
  },
  {
   "cell_type": "markdown",
   "metadata": {},
   "source": [
    "<img src = \"../../../pf-img-store/indices-grid02.png\">"
   ]
  },
  {
   "cell_type": "markdown",
   "metadata": {},
   "source": [
    "**总结：**\n",
    "- 维度数 N=3 即为数组的轴数，可以理解为数组空间被划分为3个格子；\n",
    "- ndarray实际是一个带有array标识的特殊的列表，numpy.array()输出的结果，就是“array([.....])”这样一个特殊的对象。\n",
    "- 列表层层嵌套（就是网格的层层分割）；\n",
    "- shape有4个元素，每个元素的索引就是对应的网格层，该索引位置的值就是该层的子风格数。本例：\n",
    "\n",
    "`grid.shape  = (3,2,3,4)`\n",
    "\n",
    "`shape.index = (0,1,2,3)`\n",
    "\n",
    "- 0层（数组空间），分割为3格，0层的格数就是数组的维度数，或轴数；\n",
    "- 1层，分割为2格；\n",
    "- 2层，分割为3格；\n",
    "- 3层，分割为4格。"
   ]
  },
  {
   "cell_type": "markdown",
   "metadata": {},
   "source": [
    "假设创建的数组的shape如下：\n",
    "\n",
    "```\n",
    "grid.shape = (3,3,2,5)\n",
    "\n",
    "shape.index = (0,1,2,3)```\n",
    "\n",
    "- 0层（数组空间），分割为3格，0层的格数就是数组的维度数N，或轴数；\n",
    "- 1层，分割为3格；\n",
    "- 2层，分割为2格；\n",
    "- 3层，分割为5格。"
   ]
  },
  {
   "cell_type": "code",
   "execution_count": 10,
   "metadata": {},
   "outputs": [
    {
     "data": {
      "text/plain": [
       "4"
      ]
     },
     "execution_count": 10,
     "metadata": {},
     "output_type": "execute_result"
    }
   ],
   "source": [
    "grid.ndim"
   ]
  },
  {
   "cell_type": "markdown",
   "metadata": {},
   "source": [
    "# indices 网格的检索\n",
    "\n",
    "grid[k] 包含的数组，是沿第 k 轴，**索引为 N-D的数组** 。明确地表示方法如下：\n",
    "\n",
    "`grid[k,i0,i1,...,iN-1] = ik`\n",
    "\n",
    "indices创建数组，对其进行检索，索引值按照与grid.shape属性输出的元组值对应的位置进行检索。\n",
    "\n",
    "shape.index = 0,1,2,3...\n",
    "\n",
    "k检索0级格子，i0检索1级格子，i1检索2级格子，....iN-1检索最后的值。"
   ]
  },
  {
   "cell_type": "code",
   "execution_count": 11,
   "metadata": {},
   "outputs": [
    {
     "data": {
      "text/plain": [
       "3"
      ]
     },
     "execution_count": 11,
     "metadata": {},
     "output_type": "execute_result"
    }
   ],
   "source": [
    "grid[1].ndim\n",
    "#只有一个索引值，为k，对应shape中的N，输出的是0级格子中在索引为1位置的格子中的数组，该数组是一个\n",
    "#输出的的子数组，是一个1级格子，在0层上索引号为1。\n",
    "#输出的格子被划分为2格，也就是检索出的子数组的维度数为2。`N - len[k] = 3 - 1 = 2`，索引只有一个元素，长度为1。"
   ]
  },
  {
   "cell_type": "code",
   "execution_count": 12,
   "metadata": {},
   "outputs": [
    {
     "data": {
      "text/plain": [
       "array([[0, 0, 0, 0],\n",
       "       [1, 1, 1, 1],\n",
       "       [2, 2, 2, 2]])"
      ]
     },
     "execution_count": 12,
     "metadata": {},
     "output_type": "execute_result"
    }
   ],
   "source": [
    "xx = grid[1,0]\n",
    "# 有两个索引值，第一个索引值检索出0级格子，也就是轴，再在这个0级格子中检索出它的子格。\n",
    "# 索引有两个元素，长度为2，检索出的数组维度为`3-2=1'，也就是检索出的数组空间作为一个格子，\n",
    "xx"
   ]
  },
  {
   "cell_type": "code",
   "execution_count": 13,
   "metadata": {},
   "outputs": [
    {
     "data": {
      "text/plain": [
       "2"
      ]
     },
     "execution_count": 13,
     "metadata": {},
     "output_type": "execute_result"
    }
   ],
   "source": [
    "xx.ndim"
   ]
  },
  {
   "cell_type": "code",
   "execution_count": 14,
   "metadata": {},
   "outputs": [
    {
     "data": {
      "text/plain": [
       "array([2, 2, 2, 2])"
      ]
     },
     "execution_count": 14,
     "metadata": {},
     "output_type": "execute_result"
    }
   ],
   "source": [
    "yy=grid[1,1,2]\n",
    "yy"
   ]
  },
  {
   "cell_type": "code",
   "execution_count": 15,
   "metadata": {},
   "outputs": [
    {
     "data": {
      "text/plain": [
       "1"
      ]
     },
     "execution_count": 15,
     "metadata": {},
     "output_type": "execute_result"
    }
   ],
   "source": [
    "yy.ndim"
   ]
  },
  {
   "cell_type": "code",
   "execution_count": 16,
   "metadata": {},
   "outputs": [
    {
     "ename": "IndexError",
     "evalue": "index 2 is out of bounds for axis 1 with size 2",
     "output_type": "error",
     "traceback": [
      "\u001b[1;31m---------------------------------------------------------------------------\u001b[0m",
      "\u001b[1;31mIndexError\u001b[0m                                Traceback (most recent call last)",
      "\u001b[1;32m<ipython-input-16-18621c623788>\u001b[0m in \u001b[0;36m<module>\u001b[1;34m()\u001b[0m\n\u001b[0;32m      1\u001b[0m \u001b[1;31m#因为一级格子被划分为两个子格，最大索引只能是 2-1 = 1，大于等于对应位置的值都会触发错误\u001b[0m\u001b[1;33m\u001b[0m\u001b[1;33m\u001b[0m\u001b[0m\n\u001b[1;32m----> 2\u001b[1;33m \u001b[0mgrid\u001b[0m\u001b[1;33m[\u001b[0m\u001b[1;36m1\u001b[0m\u001b[1;33m,\u001b[0m\u001b[1;36m2\u001b[0m\u001b[1;33m]\u001b[0m\u001b[1;33m\u001b[0m\u001b[0m\n\u001b[0m",
      "\u001b[1;31mIndexError\u001b[0m: index 2 is out of bounds for axis 1 with size 2"
     ]
    }
   ],
   "source": [
    "#因为一级格子被划分为两个子格，最大索引只能是 2-1 = 1，大于等于对应位置的值都会触发错误\n",
    "grid[1,2]"
   ]
  },
  {
   "cell_type": "code",
   "execution_count": null,
   "metadata": {},
   "outputs": [],
   "source": [
    "grid[2,1]"
   ]
  },
  {
   "cell_type": "code",
   "execution_count": null,
   "metadata": {},
   "outputs": [],
   "source": [
    "grid[2,1,1]"
   ]
  },
  {
   "cell_type": "code",
   "execution_count": null,
   "metadata": {},
   "outputs": [],
   "source": [
    "grid[2,1,2,3]"
   ]
  },
  {
   "cell_type": "code",
   "execution_count": null,
   "metadata": {},
   "outputs": [],
   "source": [
    "grid[2,1,2,2]"
   ]
  },
  {
   "cell_type": "code",
   "execution_count": null,
   "metadata": {},
   "outputs": [],
   "source": [
    "x= np.indices((0,0))\n",
    "x"
   ]
  },
  {
   "cell_type": "code",
   "execution_count": null,
   "metadata": {},
   "outputs": [],
   "source": []
  }
 ],
 "metadata": {
  "kernelspec": {
   "display_name": "Python 3",
   "language": "python",
   "name": "python3"
  },
  "language_info": {
   "codemirror_mode": {
    "name": "ipython",
    "version": 3
   },
   "file_extension": ".py",
   "mimetype": "text/x-python",
   "name": "python",
   "nbconvert_exporter": "python",
   "pygments_lexer": "ipython3",
   "version": "3.6.4"
  }
 },
 "nbformat": 4,
 "nbformat_minor": 2
}
