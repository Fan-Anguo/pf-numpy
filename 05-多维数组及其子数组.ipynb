{
 "cells": [
  {
   "cell_type": "markdown",
   "metadata": {},
   "source": [
    "多维数组及其子数组\n",
    "===="
   ]
  },
  {
   "cell_type": "code",
   "execution_count": 7,
   "metadata": {},
   "outputs": [],
   "source": [
    "import numpy as np"
   ]
  },
  {
   "cell_type": "markdown",
   "metadata": {},
   "source": [
    "多维数组是由子数组组成的，准确解析数组的结构就数组运算、变换的基础。\n",
    "\n",
    "任意 ndarray 的三个重要的属性对解析数组的结构非常有帮助：\n",
    "\n",
    "- numpy.shape\n",
    "- numpy.ndim\n",
    "- numpy.size"
   ]
  },
  {
   "cell_type": "markdown",
   "metadata": {},
   "source": [
    "创建一个shape是 `(4, 4, 2, 2, 5)`的 ndarray，命名为grid：\n",
    "\n",
    "grid.ndim = 5\n",
    "\n",
    "grid.size = 320"
   ]
  },
  {
   "cell_type": "code",
   "execution_count": 8,
   "metadata": {},
   "outputs": [
    {
     "data": {
      "text/plain": [
       "array([[[[[  0,   1,   2,   3,   4],\n",
       "          [  5,   6,   7,   8,   9]],\n",
       "\n",
       "         [[ 10,  11,  12,  13,  14],\n",
       "          [ 15,  16,  17,  18,  19]]],\n",
       "\n",
       "\n",
       "        [[[ 20,  21,  22,  23,  24],\n",
       "          [ 25,  26,  27,  28,  29]],\n",
       "\n",
       "         [[ 30,  31,  32,  33,  34],\n",
       "          [ 35,  36,  37,  38,  39]]],\n",
       "\n",
       "\n",
       "        [[[ 40,  41,  42,  43,  44],\n",
       "          [ 45,  46,  47,  48,  49]],\n",
       "\n",
       "         [[ 50,  51,  52,  53,  54],\n",
       "          [ 55,  56,  57,  58,  59]]],\n",
       "\n",
       "\n",
       "        [[[ 60,  61,  62,  63,  64],\n",
       "          [ 65,  66,  67,  68,  69]],\n",
       "\n",
       "         [[ 70,  71,  72,  73,  74],\n",
       "          [ 75,  76,  77,  78,  79]]]],\n",
       "\n",
       "\n",
       "\n",
       "       [[[[ 80,  81,  82,  83,  84],\n",
       "          [ 85,  86,  87,  88,  89]],\n",
       "\n",
       "         [[ 90,  91,  92,  93,  94],\n",
       "          [ 95,  96,  97,  98,  99]]],\n",
       "\n",
       "\n",
       "        [[[100, 101, 102, 103, 104],\n",
       "          [105, 106, 107, 108, 109]],\n",
       "\n",
       "         [[110, 111, 112, 113, 114],\n",
       "          [115, 116, 117, 118, 119]]],\n",
       "\n",
       "\n",
       "        [[[120, 121, 122, 123, 124],\n",
       "          [125, 126, 127, 128, 129]],\n",
       "\n",
       "         [[130, 131, 132, 133, 134],\n",
       "          [135, 136, 137, 138, 139]]],\n",
       "\n",
       "\n",
       "        [[[140, 141, 142, 143, 144],\n",
       "          [145, 146, 147, 148, 149]],\n",
       "\n",
       "         [[150, 151, 152, 153, 154],\n",
       "          [155, 156, 157, 158, 159]]]],\n",
       "\n",
       "\n",
       "\n",
       "       [[[[160, 161, 162, 163, 164],\n",
       "          [165, 166, 167, 168, 169]],\n",
       "\n",
       "         [[170, 171, 172, 173, 174],\n",
       "          [175, 176, 177, 178, 179]]],\n",
       "\n",
       "\n",
       "        [[[180, 181, 182, 183, 184],\n",
       "          [185, 186, 187, 188, 189]],\n",
       "\n",
       "         [[190, 191, 192, 193, 194],\n",
       "          [195, 196, 197, 198, 199]]],\n",
       "\n",
       "\n",
       "        [[[200, 201, 202, 203, 204],\n",
       "          [205, 206, 207, 208, 209]],\n",
       "\n",
       "         [[210, 211, 212, 213, 214],\n",
       "          [215, 216, 217, 218, 219]]],\n",
       "\n",
       "\n",
       "        [[[220, 221, 222, 223, 224],\n",
       "          [225, 226, 227, 228, 229]],\n",
       "\n",
       "         [[230, 231, 232, 233, 234],\n",
       "          [235, 236, 237, 238, 239]]]],\n",
       "\n",
       "\n",
       "\n",
       "       [[[[240, 241, 242, 243, 244],\n",
       "          [245, 246, 247, 248, 249]],\n",
       "\n",
       "         [[250, 251, 252, 253, 254],\n",
       "          [255, 256, 257, 258, 259]]],\n",
       "\n",
       "\n",
       "        [[[260, 261, 262, 263, 264],\n",
       "          [265, 266, 267, 268, 269]],\n",
       "\n",
       "         [[270, 271, 272, 273, 274],\n",
       "          [275, 276, 277, 278, 279]]],\n",
       "\n",
       "\n",
       "        [[[280, 281, 282, 283, 284],\n",
       "          [285, 286, 287, 288, 289]],\n",
       "\n",
       "         [[290, 291, 292, 293, 294],\n",
       "          [295, 296, 297, 298, 299]]],\n",
       "\n",
       "\n",
       "        [[[300, 301, 302, 303, 304],\n",
       "          [305, 306, 307, 308, 309]],\n",
       "\n",
       "         [[310, 311, 312, 313, 314],\n",
       "          [315, 316, 317, 318, 319]]]]])"
      ]
     },
     "execution_count": 8,
     "metadata": {},
     "output_type": "execute_result"
    }
   ],
   "source": [
    "grid = np.arange(320).reshape(4,4,2,2,5)\n",
    "grid"
   ]
  },
  {
   "cell_type": "markdown",
   "metadata": {},
   "source": [
    "# 数组的网格思想\n",
    "\n",
    "在numpy.indices()函数中有这样一段说明：\n",
    "\n",
    "**返回表示网格索引的数组。**\n",
    "\n",
    "**计算一个数组，其中子数组包含索引值0,1，...仅沿相应的轴变化。**\n",
    "\n",
    "**用嵌套网格的思想，结合shape元组解析多维数组是最佳方法。**\n",
    "\n",
    "- 将数组对象看成一个平面空间；\n",
    "- 将这个平面分割成行、列交叉的网格；\n",
    "- 多维就是每个单元格又被分割成行列交叉的子网格；\n",
    "- 维度（轴）就是平面分割网格的方向；\n",
    "- 每个层上都有两个方向，行、列 向；"
   ]
  },
  {
   "cell_type": "markdown",
   "metadata": {},
   "source": [
    "# 用shape解析数组结构"
   ]
  },
  {
   "cell_type": "code",
   "execution_count": 9,
   "metadata": {},
   "outputs": [
    {
     "data": {
      "text/plain": [
       "(4, 4, 2, 2, 5)"
      ]
     },
     "execution_count": 9,
     "metadata": {},
     "output_type": "execute_result"
    }
   ],
   "source": [
    "grid.shape"
   ]
  },
  {
   "cell_type": "markdown",
   "metadata": {},
   "source": [
    "shape是一个元组，可以用如下形式表示其中的每个元素：\n",
    "\n",
    "`shape(s0, s1, s2, ...si...sD-1)`\n",
    "\n",
    "D是该数组的维度，也是shape元组的长度。i 是shape中各元素的索引。"
   ]
  },
  {
   "cell_type": "code",
   "execution_count": 12,
   "metadata": {},
   "outputs": [
    {
     "data": {
      "text/plain": [
       "5"
      ]
     },
     "execution_count": 12,
     "metadata": {},
     "output_type": "execute_result"
    }
   ],
   "source": [
    "grid.ndim"
   ]
  },
  {
   "cell_type": "code",
   "execution_count": 13,
   "metadata": {},
   "outputs": [
    {
     "data": {
      "text/plain": [
       "5"
      ]
     },
     "execution_count": 13,
     "metadata": {},
     "output_type": "execute_result"
    }
   ],
   "source": [
    "len(grid.shape)"
   ]
  },
  {
   "cell_type": "markdown",
   "metadata": {},
   "source": [
    "## 对于上述shape = (4, 4, 2, 2, 5)的元组，解析如下：\n",
    "\n",
    "1. 将数组平面划分为4行（s0 = 4）; 0轴，可以理解为数组平面被划分为4个单元格（4行）。\n",
    "2. 每行都划分为4列（s1 = 4）； 1轴；到这里，数组平面被划分为“4行 * 4列”的网格，有16个格子。\n",
    ">前面得到的`4行*4列`的格子是第一层，有两个轴方面，行向、列向。\n",
    "3. 得到的16个格子，每个格子都被划分为2行（s2 = 2)，2轴，行向；\n",
    "4. 16个格子中，每个格子的有2行，每行再被划分为2列（s3 = 2)，3轴，列向；\n",
    "> 3，4步对1，2步分割的网格，进行了二次划分，创建了2行*2列的子网格，第二层，也有两个轴向，行、列向。\n",
    "> 现在数组的平面空间被划分成 `16 * 4 =64`个格子。\n",
    "5. 64个格子，每个再次被划分为 5 个格子，因为这是最后一个，只有一个轴方向，默认是再一行上分为5个列。\n",
    "\n",
    "**总结：**\n",
    "- shape()元组中的元素，从s0开始，两两一组，构成一个表示行、列数的元组，在一个层次上分割数组平面。\n",
    "> (s0,s1), (s2,s3)，(s4, )，如果D为奇数，最后一次分割就只有一个方向（默认为列向）。\n",
    "- 每个层次上有两个轴（维度）向，行、列向，最后一层例外。\n",
    "- 直到shape的最后一个元素，如果元素个数是奇数，最后一次是一个一维的子数组，默认在列向上分割。\n",
    "- 最后得到的网格共有 `s0*s1*s2*..sD-1` 个数组元素（值）个数。共有：`（s0*s2*...）`行，共有`(s1*s3*s5...)`列。本例就是：`4*2 = 8行，4*2*5 = 40列，共 8 * 40 =320 个值元素`。"
   ]
  },
  {
   "cell_type": "markdown",
   "metadata": {},
   "source": [
    "# 多维数组的检索\n",
    "\n",
    "理解了上述概念后，使用索引号检索多维数组的数据就变得很容易了。检索语法为：`grid[k0,k1,...kD-1]`\n",
    "\n",
    "shape = (4, 4, 2, 2, 5)，shape的索引：（s0,s1,...sD-1)\n",
    "\n",
    "对照`grid[k0，k1..ki]`和shape，就很容易知道对象的位置了。\n",
    "\n",
    "**注意：`0<= ki <= si-1`**\n",
    "\n",
    "本例中，k0<=3, k1<=3, k2<=1，k3<=1, k4<=4，否则就会触发索引超出范围的错误。 \n",
    "\n",
    "检索出的是一个子数组，子数组的形状由shape中剩余元素组成，即（si+1, ..sD-1)。\n",
    "\n",
    "子数组行、列会被重新定义，对比不同层次子数的转置数组就能明白这点。"
   ]
  },
  {
   "cell_type": "code",
   "execution_count": 33,
   "metadata": {},
   "outputs": [
    {
     "data": {
      "text/plain": [
       "array([[120, 121, 122, 123, 124],\n",
       "       [125, 126, 127, 128, 129]])"
      ]
     },
     "execution_count": 33,
     "metadata": {},
     "output_type": "execute_result"
    }
   ],
   "source": [
    "grid[1,2,0]"
   ]
  },
  {
   "cell_type": "code",
   "execution_count": 34,
   "metadata": {},
   "outputs": [
    {
     "data": {
      "text/plain": [
       "array([[[120, 121, 122, 123, 124],\n",
       "        [125, 126, 127, 128, 129]],\n",
       "\n",
       "       [[130, 131, 132, 133, 134],\n",
       "        [135, 136, 137, 138, 139]]])"
      ]
     },
     "execution_count": 34,
     "metadata": {},
     "output_type": "execute_result"
    }
   ],
   "source": [
    "grid[1,2]"
   ]
  },
  {
   "cell_type": "code",
   "execution_count": 35,
   "metadata": {},
   "outputs": [
    {
     "data": {
      "text/plain": [
       "array([[120, 125],\n",
       "       [121, 126],\n",
       "       [122, 127],\n",
       "       [123, 128],\n",
       "       [124, 129]])"
      ]
     },
     "execution_count": 35,
     "metadata": {},
     "output_type": "execute_result"
    }
   ],
   "source": [
    "grid[1,2,0].T"
   ]
  },
  {
   "cell_type": "code",
   "execution_count": 41,
   "metadata": {},
   "outputs": [
    {
     "data": {
      "text/plain": [
       "array([[[120, 130],\n",
       "        [125, 135]],\n",
       "\n",
       "       [[121, 131],\n",
       "        [126, 136]],\n",
       "\n",
       "       [[122, 132],\n",
       "        [127, 137]],\n",
       "\n",
       "       [[123, 133],\n",
       "        [128, 138]],\n",
       "\n",
       "       [[124, 134],\n",
       "        [129, 139]]])"
      ]
     },
     "execution_count": 41,
     "metadata": {},
     "output_type": "execute_result"
    }
   ],
   "source": [
    "grid[1,2].T"
   ]
  },
  {
   "cell_type": "code",
   "execution_count": null,
   "metadata": {},
   "outputs": [],
   "source": []
  },
  {
   "cell_type": "code",
   "execution_count": 38,
   "metadata": {},
   "outputs": [
    {
     "data": {
      "text/plain": [
       "array([[0, 1, 2]], dtype=int64)"
      ]
     },
     "execution_count": 38,
     "metadata": {},
     "output_type": "execute_result"
    }
   ],
   "source": [
    "itemindex =np.argwhere(grid[0,1] == 27)\n",
    "itemindex"
   ]
  },
  {
   "cell_type": "code",
   "execution_count": 39,
   "metadata": {},
   "outputs": [
    {
     "data": {
      "text/plain": [
       "array([[[20, 21, 22, 23, 24],\n",
       "        [25, 26, 27, 28, 29]],\n",
       "\n",
       "       [[30, 31, 32, 33, 34],\n",
       "        [35, 36, 37, 38, 39]]])"
      ]
     },
     "execution_count": 39,
     "metadata": {},
     "output_type": "execute_result"
    }
   ],
   "source": [
    "grid[0,1]"
   ]
  },
  {
   "cell_type": "code",
   "execution_count": null,
   "metadata": {},
   "outputs": [],
   "source": []
  }
 ],
 "metadata": {
  "kernelspec": {
   "display_name": "Python 3",
   "language": "python",
   "name": "python3"
  },
  "language_info": {
   "codemirror_mode": {
    "name": "ipython",
    "version": 3
   },
   "file_extension": ".py",
   "mimetype": "text/x-python",
   "name": "python",
   "nbconvert_exporter": "python",
   "pygments_lexer": "ipython3",
   "version": "3.6.5"
  }
 },
 "nbformat": 4,
 "nbformat_minor": 2
}
