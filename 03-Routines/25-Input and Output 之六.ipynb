{
 "cells": [
  {
   "cell_type": "markdown",
   "metadata": {},
   "source": [
    "25-Input and Output 之六\n",
    "====\n",
    "**Text formatting options**"
   ]
  },
  {
   "cell_type": "markdown",
   "metadata": {},
   "source": [
    "| Text   formatting options                   |                                                              |\n",
    "| ------------------------------------------- | ------------------------------------------------------------ |\n",
    "| set_printoptions([precision, threshold, …]) | Set   printing options.                                      |\n",
    "| get_printoptions()                          | Return   the current print options.                          |\n",
    "| set_string_function(f[, repr])              | Set   a Python function to be used when pretty printing arrays. |\n",
    "| printoptions(*args, **kwargs)               | Context   manager for setting print options.                 |"
   ]
  },
  {
   "cell_type": "markdown",
   "metadata": {},
   "source": [
    "# numpy.set_printoptions\n",
    "`numpy.set_printoptions(precision=None, threshold=None, edgeitems=None, linewidth=None, suppress=None, nanstr=None, infstr=None, formatter=None, sign=None, floatmode=None, **kwarg)`"
   ]
  },
  {
   "cell_type": "markdown",
   "metadata": {},
   "source": [
    "设置打印选项。\n",
    "\n",
    "这些选项确定浮点数，数组和其他NumPy对象的显示方式。\n",
    "\n",
    "Set printing options.\n",
    "\n",
    "These options determine the way floating point numbers, arrays and other NumPy objects are displayed."
   ]
  },
  {
   "cell_type": "markdown",
   "metadata": {},
   "source": [
    "## Parameters:\t\n",
    "**precision** : int or None, optional\n",
    "\n",
    "浮点输出的精度位数（默认为8）。可能没有，如果floatmode不固定，打印尽可能多的数字所必需的唯一指定值。\n",
    "\n",
    "Number of digits of precision for floating point output (default 8). May be None if floatmode is not fixed, to print as many digits as necessary to uniquely specify the value.\n",
    "\n",
    "**threshold** : int, optional\n",
    "\n",
    "触发汇总数组元素总数（默认为1000）,而不是全部的 repr。\n",
    "\n",
    "Total number of array elements which trigger summarization rather than full repr (default 1000).\n",
    "\n",
    "**edgeitems** : int, optional\n",
    "\n",
    "每个维度开头和结尾的摘要中的数组项数（默认值为3）。\n",
    "\n",
    "Number of array items in summary at beginning and end of each dimension (default 3).\n",
    "\n",
    "**linewidth** : int, optional\n",
    "\n",
    "每行的字符数，用于插入换行符（默认为75）。\n",
    "\n",
    "The number of characters per line for the purpose of inserting line breaks (default 75).\n",
    "\n",
    "**suppress** : bool, optional\n",
    "\n",
    "如果为True，则始终使用固定点表示法打印浮点数，在这种情况下，当前精度中等于零的数字将打印为零。如果为假，则当最小数的绝对值<1e-4或最大绝对值与最小值的比率> 1e3时，使用科学记数法。默认值为False。\n",
    "\n",
    "If True, always print floating point numbers using fixed point notation, in which case numbers equal to zero in the current precision will print as zero. If False, then scientific notation is used when absolute value of the smallest number is < 1e-4 or the ratio of the maximum absolute value to the minimum is > 1e3. The default is False."
   ]
  },
  {
   "cell_type": "markdown",
   "metadata": {},
   "source": [
    "**nanstr** : str, optional\n",
    "\n",
    "浮点非字母数字的字符串表示形式（默认为nan）。\n",
    "\n",
    "String representation of floating point not-a-number (default nan).\n",
    "\n",
    "**infstr** : str, optional\n",
    "\n",
    "浮点无穷大的字符串表示形式（默认inf）。\n",
    "\n",
    "String representation of floating point infinity (default inf).\n",
    "\n",
    "**sign** : string, either ‘-‘, ‘+’, or ‘ ‘, optional\n",
    "\n",
    "控制浮点类型符号的打印。如果为“+”，则始终打印正值的符号。如果''，则始终在正值的符号位置打印空格（空格字符）。如果为“ - ”，则省略正值的符号字符。（默认' - '）\n",
    "\n",
    "Controls printing of the sign of floating-point types. If ‘+’, always print the sign of positive values. If ‘ ‘, always prints a space (whitespace character) in the sign position of positive values. If ‘-‘, omit the sign character of positive values. (default ‘-‘)"
   ]
  },
  {
   "cell_type": "markdown",
   "metadata": {},
   "source": [
    "**formatter** : dict of callables, optional\n",
    "\n",
    "如果不是None，则键应指示相应格式化功能适用的类型。Callables应该返回一个字符串。未指定的类型（通过其对应的键）由默认格式化程序处理。可以设置格式化程序的各个类型是：\n",
    "\n",
    "\n",
    "\n",
    "If not None, the keys should indicate the type(s) that the respective formatting function applies to. Callables should return a string. Types that are not specified (by their corresponding keys) are handled by the default formatters. Individual types for which a formatter can be set are:\n",
    "\n",
    "- ‘bool’\n",
    "- ‘int’\n",
    "- ‘timedelta’ : a numpy.timedelta64\n",
    "- ‘datetime’ : a numpy.datetime64\n",
    "- ‘float’\n",
    "- ‘longfloat’ : 128-bit floats\n",
    "- ‘complexfloat’\n",
    "- ‘longcomplexfloat’ : composed of two 128-bit floats\n",
    "- ‘numpystr’ : types numpy.string_ and numpy.unicode_\n",
    "- ‘object’ : np.object_ arrays\n",
    "- ‘str’ : all other strings\n",
    "\n",
    "可以用于一次设置一组类型的其他键是：\n",
    "\n",
    "Other keys that can be used to set a group of types at once are:\n",
    "\n",
    "- ‘all’ : sets all types\n",
    "- ‘int_kind’ : sets ‘int’\n",
    "- ‘float_kind’ : sets ‘float’ and ‘longfloat’\n",
    "- ‘complex_kind’ : sets ‘complexfloat’ and ‘longcomplexfloat’\n",
    "- ‘str_kind’ : sets ‘str’ and ‘numpystr’"
   ]
  },
  {
   "cell_type": "markdown",
   "metadata": {},
   "source": [
    "**floatmode** : str, optional\n",
    "\n",
    "控制浮点类型的精度选项的解释。可以采用以下值：\n",
    "\n",
    "Controls the interpretation of the precision option for floating-point types. Can take the following values:\n",
    "\n",
    "- **‘fixed’: Always print exactly precision fractional digits,**\n",
    ">即使这会打印比指定值唯一所需的更多或更少的数字。\n",
    "\n",
    "> even if this would print more or fewer digits than necessary to specify the value uniquely.\n",
    "\n",
    "- **‘unique’: Print the minimum number of fractional digits necessary**\n",
    ">唯一地表示每个值。不同的元素可以具有不同的数字位数。精度选项的值将 被忽略。\n",
    "\n",
    ">to represent each value uniquely. Different elements may have a different number of digits. The value of the precision option is ignored.\n",
    "\n",
    "- **‘maxprec’: Print at most precision fractional digits, but if**\n",
    "\n",
    ">一个元素可以用较少的数字唯一地表示，只打印那么多。\n",
    "\n",
    ">an element can be uniquely represented with fewer digits only print it with that many.\n",
    "\n",
    "\n",
    "- **‘maxprec_equal’: Print at most precision fractional digits,**\n",
    "\n",
    ">但是如果数组中的每个元素都可以使用相同数量的较少位数进行唯一表示，则对所有元素使用那么多位数。\n",
    "\n",
    ">but if every element in the array can be uniquely represented with an equal number of fewer digits, use that many digits for all elements."
   ]
  },
  {
   "cell_type": "markdown",
   "metadata": {},
   "source": [
    "**legacy** : string or False, optional\n",
    "\n",
    "如果设置为字符串'1.13'，则启用1.13传统打印模式。这通过在浮点的符号位置包含空格和0d数组的不同行为来近似numpy 1.13打印输出。如果设置为 False，则禁用传统模式。将忽略无法识别的字符串，并显示前向兼容性警告。\n",
    "\n",
    "1.14.0版中的新功能。\n",
    "\n",
    "If set to the string ‘1.13’ enables 1.13 legacy printing mode. This approximates numpy 1.13 print output by including a space in the sign position of floats and different behavior for 0d arrays. If set to False, disables legacy mode. Unrecognized strings will be ignored with a warning for forward compatibility.\n",
    "\n",
    "New in version 1.14.0."
   ]
  },
  {
   "cell_type": "markdown",
   "metadata": {},
   "source": [
    "**注意：**\n",
    "\n",
    "`formatter` is always reset with a call to `set_printoptions`."
   ]
  },
  {
   "cell_type": "markdown",
   "metadata": {},
   "source": [
    "## 示例\n",
    "\n",
    "可以设置浮点精度："
   ]
  },
  {
   "cell_type": "code",
   "execution_count": 4,
   "metadata": {},
   "outputs": [
    {
     "name": "stdout",
     "output_type": "stream",
     "text": [
      "[1.1235]\n"
     ]
    }
   ],
   "source": [
    "import numpy as np\n",
    "\n",
    "np.set_printoptions(precision=4)\n",
    "print(np.array([1.123456789]))"
   ]
  },
  {
   "cell_type": "code",
   "execution_count": 5,
   "metadata": {},
   "outputs": [
    {
     "name": "stdout",
     "output_type": "stream",
     "text": [
      "[0 1 2 ... 7 8 9]\n"
     ]
    }
   ],
   "source": [
    "# 可以总结长数组：\n",
    "\n",
    "np.set_printoptions(threshold=5)\n",
    "print(np.arange(10))"
   ]
  },
  {
   "cell_type": "code",
   "execution_count": 7,
   "metadata": {},
   "outputs": [
    {
     "data": {
      "text/plain": [
       "array([-4.9304e-32, -4.4409e-16,  0.0000e+00,  0.0000e+00])"
      ]
     },
     "execution_count": 7,
     "metadata": {},
     "output_type": "execute_result"
    }
   ],
   "source": [
    "# 可以抑制小结果：\n",
    "\n",
    "eps = np.finfo(float).eps\n",
    "x = np.arange(4.)\n",
    "x**2 - (x + eps)**2"
   ]
  },
  {
   "cell_type": "code",
   "execution_count": 8,
   "metadata": {},
   "outputs": [
    {
     "data": {
      "text/plain": [
       "array([-0., -0.,  0.,  0.])"
      ]
     },
     "execution_count": 8,
     "metadata": {},
     "output_type": "execute_result"
    }
   ],
   "source": [
    "np.set_printoptions(suppress=True)\n",
    "x**2 - (x + eps)**2"
   ]
  },
  {
   "cell_type": "code",
   "execution_count": 9,
   "metadata": {},
   "outputs": [
    {
     "data": {
      "text/plain": [
       "array([int: 0, int: -1, int: -2])"
      ]
     },
     "execution_count": 9,
     "metadata": {},
     "output_type": "execute_result"
    }
   ],
   "source": [
    "# 自定义格式化程序可用于根据需要显示数组元素：\n",
    "\n",
    "np.set_printoptions(formatter={'all':lambda x: 'int: '+str(-x)})\n",
    "x = np.arange(3)\n",
    "x\n"
   ]
  },
  {
   "cell_type": "code",
   "execution_count": 10,
   "metadata": {},
   "outputs": [
    {
     "data": {
      "text/plain": [
       "array([0, 1, 2])"
      ]
     },
     "execution_count": 10,
     "metadata": {},
     "output_type": "execute_result"
    }
   ],
   "source": [
    "np.set_printoptions()  # formatter gets reset\n",
    "x"
   ]
  },
  {
   "cell_type": "code",
   "execution_count": 11,
   "metadata": {},
   "outputs": [],
   "source": [
    "# 要放回默认选项，您可以使用：\n",
    "\n",
    "np.set_printoptions(edgeitems=3,infstr='inf',\n",
    "                    linewidth=75, nanstr='nan', precision=8,\n",
    "                    suppress=False, threshold=1000, formatter=None)"
   ]
  },
  {
   "cell_type": "markdown",
   "metadata": {},
   "source": [
    "# numpy.get_printoptions\n",
    "`numpy.get_printoptions()`\n",
    "\n",
    "Return the current print options.\n",
    "\n",
    "## Returns:\t\n",
    "print_opts : dict\n",
    "Dictionary of current print options with keys\n",
    "\n",
    "- precision : int\n",
    "- threshold : int\n",
    "- edgeitems : int\n",
    "- linewidth : int\n",
    "- suppress : bool\n",
    "- nanstr : str\n",
    "- infstr : str\n",
    "- formatter : dict of callables\n",
    "- sign : str\n",
    "\n",
    "For a full description of these options, see set_printoptions."
   ]
  },
  {
   "cell_type": "markdown",
   "metadata": {},
   "source": [
    "# numpy.set_string_function\n",
    "`numpy.set_string_function(f, repr=True)`\n",
    "\n",
    "Set a Python function to be used when pretty printing arrays."
   ]
  },
  {
   "cell_type": "markdown",
   "metadata": {},
   "source": [
    "## Parameters:\t\n",
    "**f** : function or None\n",
    "\n",
    "用于美观打印数组的函数。该函数应该期望单个数组参数并返回数组表示的字符串。如果为None，则将该函数重置为默认的NumPy函数以打印数组。\n",
    "\n",
    "Function to be used to pretty print arrays. The function should expect a single array argument and return a string of the representation of the array. If None, the function is reset to the default NumPy function to print arrays.\n",
    "\n",
    "**repr** : bool, optional\n",
    "\n",
    "如果为True（默认值），__repr__则设置pretty printing（）的函数，如果为False，则设置返回默认字符串表示（__str__）的函数。\n",
    "\n",
    "If True (default), the function for pretty printing (__repr__) is set, if False the function that returns the default string representation (__str__) is set."
   ]
  },
  {
   "cell_type": "markdown",
   "metadata": {},
   "source": [
    "## 示例"
   ]
  },
  {
   "cell_type": "code",
   "execution_count": 12,
   "metadata": {},
   "outputs": [
    {
     "data": {
      "text/plain": [
       "HA! - What are you going to do now?"
      ]
     },
     "execution_count": 12,
     "metadata": {},
     "output_type": "execute_result"
    }
   ],
   "source": [
    ">>> def pprint(arr):\n",
    "    return 'HA! - What are you going to do now?'\n",
    "\n",
    ">>> np.set_string_function(pprint)\n",
    ">>> a = np.arange(10)\n",
    ">>> a"
   ]
  },
  {
   "cell_type": "code",
   "execution_count": 13,
   "metadata": {},
   "outputs": [
    {
     "name": "stdout",
     "output_type": "stream",
     "text": [
      "[0 1 2 3 4 5 6 7 8 9]\n"
     ]
    }
   ],
   "source": [
    ">>> print(a)"
   ]
  },
  {
   "cell_type": "code",
   "execution_count": 15,
   "metadata": {},
   "outputs": [
    {
     "data": {
      "text/plain": [
       "array([0, 1, 2, 3, 4, 5, 6, 7, 8, 9])"
      ]
     },
     "execution_count": 15,
     "metadata": {},
     "output_type": "execute_result"
    }
   ],
   "source": [
    "# 可以将函数重置为默认值：\n",
    "\n",
    "np.set_string_function(None)\n",
    "a"
   ]
  },
  {
   "cell_type": "markdown",
   "metadata": {},
   "source": [
    "epr影响漂亮的打印或正常的字符串表示。请注意，__repr__仍然受设置的影响，__str__ 因为返回的字符串中每个数组元素的宽度等于结果的长度__str__()。"
   ]
  },
  {
   "cell_type": "code",
   "execution_count": 17,
   "metadata": {},
   "outputs": [
    {
     "data": {
      "text/plain": [
       "'random'"
      ]
     },
     "execution_count": 17,
     "metadata": {},
     "output_type": "execute_result"
    }
   ],
   "source": [
    ">>> x = np.arange(4)\n",
    ">>> np.set_string_function(lambda x:'random', repr=False)\n",
    ">>> x.__str__()"
   ]
  },
  {
   "cell_type": "code",
   "execution_count": 19,
   "metadata": {},
   "outputs": [
    {
     "data": {
      "text/plain": [
       "'array([0, 1, 2, 3])'"
      ]
     },
     "execution_count": 19,
     "metadata": {},
     "output_type": "execute_result"
    }
   ],
   "source": [
    "x.__repr__()"
   ]
  },
  {
   "cell_type": "markdown",
   "metadata": {},
   "source": [
    "# numpy.printoptions\n",
    "`numpy.printoptions(*args, **kwargs)`\n",
    "\n",
    "用于设置打印选项的上下文管理\n",
    "\n",
    "设置with块范围的打印选项，并在最后恢复旧选项。有关可用选项的完整说明，请参阅set_printoptions。\n",
    "\n",
    "Context manager for setting print options.\n",
    "\n",
    "Set print options for the scope of the with block, and restore the old options at the end. See set_printoptions for the full description of available options."
   ]
  },
  {
   "cell_type": "markdown",
   "metadata": {},
   "source": [
    "## 示例"
   ]
  },
  {
   "cell_type": "code",
   "execution_count": 27,
   "metadata": {},
   "outputs": [
    {
     "name": "stdout",
     "output_type": "stream",
     "text": [
      "random\n"
     ]
    }
   ],
   "source": [
    "with np.printoptions(precision=2):\n",
    "    print(np.array([2.0]) / 3)"
   ]
  },
  {
   "cell_type": "code",
   "execution_count": 51,
   "metadata": {},
   "outputs": [],
   "source": [
    "# with-statement的as-子句给出了当前的打印选项：\n",
    "# The `as-clause of the with-statement gives the current print options:\n",
    "\n",
    "with np.printoptions(precision=2) as opts:\n",
    "    assert opts == np.get_printoptions()    "
   ]
  },
  {
   "cell_type": "code",
   "execution_count": null,
   "metadata": {},
   "outputs": [],
   "source": []
  }
 ],
 "metadata": {
  "kernelspec": {
   "display_name": "Python 3",
   "language": "python",
   "name": "python3"
  },
  "language_info": {
   "codemirror_mode": {
    "name": "ipython",
    "version": 3
   },
   "file_extension": ".py",
   "mimetype": "text/x-python",
   "name": "python",
   "nbconvert_exporter": "python",
   "pygments_lexer": "ipython3",
   "version": "3.6.6"
  },
  "toc": {
   "base_numbering": 1,
   "nav_menu": {},
   "number_sections": true,
   "sideBar": true,
   "skip_h1_title": false,
   "title_cell": "Table of Contents",
   "title_sidebar": "Contents",
   "toc_cell": false,
   "toc_position": {},
   "toc_section_display": true,
   "toc_window_display": true
  }
 },
 "nbformat": 4,
 "nbformat_minor": 2
}
