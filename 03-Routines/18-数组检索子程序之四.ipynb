{
 "cells": [
  {
   "cell_type": "markdown",
   "metadata": {},
   "source": [
    "18-数组检索子程序之四\n",
    "====\n",
    "Iterating over arrays\n",
    "----"
   ]
  },
  {
   "cell_type": "markdown",
   "metadata": {},
   "source": [
    "| Iterating   over arrays           |                                                              |\n",
    "| --------------------------------- | ------------------------------------------------------------ |\n",
    "| nditer                            | Efficient   multi-dimensional iterator object to iterate over arrays. |\n",
    "| ndenumerate(arr)                  | Multidimensional   index iterator.                           |\n",
    "| ndindex(*shape)                   | An   N-dimensional iterator object to index arrays.          |\n",
    "| nested_iters                      | Create   nditers for use in nested loops                     |\n",
    "| flatiter                          | Flat   iterator object to iterate over arrays.               |\n",
    "| lib.Arrayterator(var[, buf_size]) | Buffered   iterator for big arrays.                          |"
   ]
  },
  {
   "cell_type": "markdown",
   "metadata": {},
   "source": [
    "# numpy.nditer\n",
    "`class numpy.nditer`\n",
    "\n",
    "用于迭代数组的高效多维迭代器对象。 要开始使用此对象，请参阅数组迭代的入门指南[introductory guide to array iteration.](https://docs.scipy.org/doc/numpy/reference/arrays.nditer.html#arrays-nditer)。"
   ]
  },
  {
   "cell_type": "markdown",
   "metadata": {},
   "source": [
    "## Parameters:\t\n",
    "**op** : ndarray or sequence of array_like，数组或类似数组的序列。要重复遍历的数组。"
   ]
  },
  {
   "cell_type": "markdown",
   "metadata": {},
   "source": [
    "### flags : sequence of str\n",
    "\n",
    "可选参数。控制迭代器行为的标志。\n",
    "\n",
    "- “buffered” enables buffering when required.在需要时可以缓冲。\n",
    "- “c_index” causes a C-order index to be tracked.导致C顺序索引被跟踪。\n",
    "- “f_index” causes a Fortran-order index to be tracked.导致Fortran顺序索引被跟踪。\n",
    "- “multi_index” causes a multi-index, or a tuple of indices with one per iteration dimension, to be tracked.导致跟踪多索引或每个迭代维度一个索引的元组。\n",
    "- “common_dtype” causes all the operands to be converted to a common data type, with copying or buffering as necessary.导致所有操作数转换为公共数据类型，并根据需要进行复制或缓冲\n",
    "- “copy_if_overlap” causes the iterator to determine if read operands have overlap with write operands, and make temporary copies as necessary to avoid overlap. False positives (needless copying) are possible in some cases.导致迭代器确定读操作数是否与写操作数重叠，并根据需要进行临时复制以避免重叠。 在某些情况下，可能会出现误报（不必要的复制）。"
   ]
  },
  {
   "cell_type": "markdown",
   "metadata": {},
   "source": [
    "- “delay_bufalloc” delays allocation of the buffers until a reset() call is made. Allows “allocate” operands to be initialized before their values are copied into the buffers.延迟缓冲区的分配，直到进行reset（）调用。 允许在将值复制到缓冲区之前初始化“分配”操作数。\n",
    "- “external_loop” causes the values given to be one-dimensional arrays with multiple values instead of zero-dimensional arrays.导致给定的值是具有多个值而不是零维数组的一维数组。\n",
    "- “grow_inner” allows the value array sizes to be made larger than the buffer size when both “buffered” and “external_loop” is used.当使用“buffered”和“external_loop”时，允许使值数组大小大于缓冲区大小。\n",
    "- “ranged” allows the iterator to be restricted to a sub-range of the iterindex values.允许将迭代器限制为iterindex值的子范围。\n",
    "- “refs_ok” enables iteration of reference types, such as object arrays.允许迭代引用类型，例如对象数组。\n",
    "- “reduce_ok” enables iteration of “readwrite” operands which are broadcasted, also known as reduction operands.能够迭代广播的“读写”操作数，也称为缩减操作数。\n",
    "- “zerosize_ok” allows itersize to be zero.允许itersize为零。"
   ]
  },
  {
   "cell_type": "markdown",
   "metadata": {},
   "source": [
    "### op_flags : list of list of str\n",
    "\n",
    "str 列表的列表，可选参数。\n",
    "\n",
    "这是每个操作数的标志列表。 至少，必须指定“readonly”，“readwrite”或“writeonly”中的一个。\n",
    "\n",
    "- “readonly” indicates the operand will only be read from.表示只读取操作数。\n",
    "- “readwrite” indicates the operand will be read from and written to.表示将读取和写入操作数。\n",
    "- “writeonly” indicates the operand will only be written to.表示只会写入操作数。\n",
    "- “no_broadcast” prevents the operand from being broadcasted.防止操作数被广播。\n",
    "- “contig” forces the operand data to be contiguous.强制操作数数据是连续的。\n",
    "- “aligned” forces the operand data to be aligned.强制操作数数据对齐。\n",
    "- “nbo” forces the operand data to be in native byte order.强制操作数数据以本机字节顺序排列。\n",
    "- “copy” allows a temporary read-only copy if required.如果需要，允许临时只读副本。\n",
    "- “updateifcopy” allows a temporary read-write copy if required.如果需要，允许临时读写副本。\n",
    "- “allocate” causes the array to be allocated if it is None in the op parameter.如果在op参数中为None，则导致分配数组。\n",
    "- “no_subtype” prevents an “allocate” operand from using a subtype.防止“分配”操作数使用子类型。\n",
    "- “arraymask” indicates that this operand is the mask to use for selecting elements when writing to operands with the ‘writemasked’ flag set. The iterator does not enforce this, but when writing from a buffer back to the array, it only copies those elements indicated by this mask.表示此操作数是在写入设置了“writemasked”标志的操作数时用于选择元素的掩码。 迭代器不会强制执行此操作，但是当从缓冲区写回数组时，它只复制由此掩码指示的元素。可用于标记仅在迭代器顺序中访问的操作数，以便在存在“copy_if_overlap”时允许不太保守的复制。\n",
    "- ‘writemasked’ indicates that only elements where the chosen ‘arraymask’ operand is True will be written to.表示只会将所选“arraymask”操作数为True的元素写入。\n",
    "- “overlap_assume_elementwise” can be used to mark operands that are accessed only in the iterator order, to allow less conservative copying when “copy_if_overlap” is present.可用于标记仅在迭代器顺序中访问的操作数，以便在存在“copy_if_overlap”时允许不太保守的复制。"
   ]
  },
  {
   "cell_type": "markdown",
   "metadata": {},
   "source": [
    "### op_dtypes : dtype or tuple of dtype(s), optional\n",
    "操作数所需的数据类型。 如果启用了复制或缓冲，则数据将转换为原始类型或从其原始类型转换。"
   ]
  },
  {
   "cell_type": "markdown",
   "metadata": {},
   "source": [
    "### order : `{‘C’, ‘F’, ‘A’, ‘K’}, optional`\n",
    "控制迭代顺序。 'C'表示C顺序，'F'表示Fortran顺序；如果所有数组都是Fortran连续，'A'表示'F'顺序，否则表示'C'顺序；'K'表示尽可能接近数组元素在内在中出现的顺序。这也会影响“allocate分配”操作数的元素内存顺序，因为它们被分配为与迭代顺序兼容。 默认为'K'。"
   ]
  },
  {
   "cell_type": "markdown",
   "metadata": {},
   "source": [
    "### casting : {‘no’, ‘equiv’, ‘safe’, ‘same_kind’, ‘unsafe’}, optional\n",
    "\n",
    "控制进行复制或缓冲时可能出现的数据转换类型。建议不要将此设置为“unsafe”，因为它会对累积产生不利影响。\n",
    "\n",
    "- ‘no’ means the data types should not be cast at all.表示根本不应该转换数据类型。\n",
    "- ‘equiv’ means only byte-order changes are allowed.表示只允许字节顺序更改。\n",
    "- ‘safe’ means only casts which can preserve values are allowed.表示只允许保存值的强制转换。\n",
    "- ‘same_kind’ means only safe casts or casts within a kind, like float64 to float32, are allowed.意味着只允许安全的演员表或某种类型的演员表，如float64到float32。\n",
    "- ‘unsafe’ means any data conversions may be done.意味着可以完成任何数据转换。"
   ]
  },
  {
   "cell_type": "markdown",
   "metadata": {},
   "source": [
    "### op_axes : list of list of ints, optional\n",
    "如果提供，则是每个操作数的int或None列表。 操作数的轴列表是从迭代器的维度到操作数的维度的映射。 可以为条目放置值-1，从而将该维度视为“newaxis”。\n",
    "\n",
    "### itershape : tuple of ints, optional\n",
    "迭代器的理想形状。 这允许“allocate”操作数具一个维度映射，该映射由op_axes不对应于一个不同操作数的一个维度，以为那个元素获得一个不等于1的值。\n",
    "\n",
    "### buffersize : int, optional\n",
    "启用缓冲时，控制临时缓冲区的大小。 设置为0表示默认值。"
   ]
  },
  {
   "cell_type": "markdown",
   "metadata": {},
   "source": [
    "**注意**\n",
    "\n",
    "nditer取代flatiter。 nditer背后的迭代器实现也由NumPy C API公开。\n",
    "\n",
    "Python暴露提供了两个迭代接口，一个遵循Python迭代器协议，另一个反映了C风格的do-while模式。 在大多数情况下，本机Python方法更好，但如果需要迭代器的坐标或索引，请使用C样式模式。"
   ]
  },
  {
   "cell_type": "markdown",
   "metadata": {},
   "source": [
    "## 示例\n",
    "\n",
    "以下是我们如何使用Python迭代器协议编写iter_add函数："
   ]
  },
  {
   "cell_type": "code",
   "execution_count": 36,
   "metadata": {},
   "outputs": [],
   "source": [
    "import numpy as np\n",
    "\n",
    "def iter_add_py(x, y, out=None):\n",
    "    addop = np.add\n",
    "    it = np.nditer([x, y, out], [],\n",
    "                [['readonly'], ['readonly'], ['writeonly','allocate']])\n",
    "    with it:\n",
    "        for (a, b, c) in it:\n",
    "            addop(a, b, out=c)\n",
    "    return it.operands[2]"
   ]
  },
  {
   "cell_type": "markdown",
   "metadata": {},
   "source": [
    "这是相同的功能，但遵循C风格模式："
   ]
  },
  {
   "cell_type": "code",
   "execution_count": 37,
   "metadata": {},
   "outputs": [],
   "source": [
    "def iter_add(x, y, out=None):\n",
    "    addop = np.add\n",
    "\n",
    "    it = np.nditer([x, y, out], [],\n",
    "                [['readonly'], ['readonly'], ['writeonly','allocate']])\n",
    "    with it:\n",
    "        while not it.finished:\n",
    "            addop(it[0], it[1], out=it[2])\n",
    "            it.iternext()\n",
    "\n",
    "        return it.operands[2]"
   ]
  },
  {
   "cell_type": "markdown",
   "metadata": {},
   "source": [
    "以下是外部生产函数示例："
   ]
  },
  {
   "cell_type": "code",
   "execution_count": 38,
   "metadata": {},
   "outputs": [],
   "source": [
    "def outer_it(x, y, out=None):\n",
    "    mulop = np.multiply\n",
    "\n",
    "    it = np.nditer([x, y, out], ['external_loop'],\n",
    "            [['readonly'], ['readonly'], ['writeonly', 'allocate']],\n",
    "            op_axes=[list(range(x.ndim)) + [-1] * y.ndim,\n",
    "                     [-1] * x.ndim + list(range(y.ndim)),\n",
    "                     None])\n",
    "    with it:\n",
    "        for (a, b, c) in it:\n",
    "            mulop(a, b, out=c)\n",
    "        return it.operands[2]"
   ]
  },
  {
   "cell_type": "code",
   "execution_count": 39,
   "metadata": {},
   "outputs": [
    {
     "data": {
      "text/plain": [
       "array([[1, 2, 3],\n",
       "       [2, 4, 6]])"
      ]
     },
     "execution_count": 39,
     "metadata": {},
     "output_type": "execute_result"
    }
   ],
   "source": [
    ">>> a = np.arange(2)+1\n",
    ">>> b = np.arange(3)+1\n",
    ">>> outer_it(a,b)"
   ]
  },
  {
   "cell_type": "markdown",
   "metadata": {},
   "source": [
    "下面是一个像“lambda”ufunc一样运行的示例函数："
   ]
  },
  {
   "cell_type": "code",
   "execution_count": 40,
   "metadata": {},
   "outputs": [],
   "source": [
    "def luf(lamdaexpr, *args, **kwargs):\n",
    "    \"luf(lambdaexpr, op1, ..., opn, out=None, order='K', casting='safe', buffersize=0)\"\n",
    "    nargs = len(args)\n",
    "    op = (kwargs.get('out',None),) + args\n",
    "    it = np.nditer(op, ['buffered','external_loop'],\n",
    "            [['writeonly','allocate','no_broadcast']] +\n",
    "                            [['readonly','nbo','aligned']]*nargs,\n",
    "            order=kwargs.get('order','K'),\n",
    "            casting=kwargs.get('casting','safe'),\n",
    "            buffersize=kwargs.get('buffersize',0))\n",
    "    while not it.finished:\n",
    "        it[0] = lamdaexpr(*it[1:])\n",
    "        it.iternext()\n",
    "        return it.operands[0]"
   ]
  },
  {
   "cell_type": "code",
   "execution_count": 41,
   "metadata": {},
   "outputs": [
    {
     "data": {
      "text/plain": [
       "array([ 0.5,  1.5,  4.5,  9.5, 16.5])"
      ]
     },
     "execution_count": 41,
     "metadata": {},
     "output_type": "execute_result"
    }
   ],
   "source": [
    ">>> a = np.arange(5)\n",
    ">>> b = np.ones(5)\n",
    ">>> luf(lambda i,j:i*i + j/2, a, b)"
   ]
  },
  {
   "cell_type": "markdown",
   "metadata": {},
   "source": [
    "如果使用操作数标志“writeonly”或“readwrite”，则操作数可以是具有WRITEBACKIFCOPY标志的原始数据的视图。 在这种情况下，必须将nditer用作上下文管理器，或者在使用结果之前必须调用nditer.close方法。 调用__exit__函数时，临时数据将写回原始数据，但不会在之前："
   ]
  },
  {
   "cell_type": "code",
   "execution_count": 42,
   "metadata": {},
   "outputs": [],
   "source": [
    "a = np.arange(6, dtype='i4')[::-2]\n",
    "\n",
    "with np.nditer(a, [],\n",
    "            [['writeonly', 'updateifcopy']],\n",
    "            casting='unsafe',\n",
    "            op_dtypes=[np.dtype('f4')]) as i:\n",
    "        x = i.operands[0]\n",
    "        x[:] = [-1, -2, -3]"
   ]
  },
  {
   "cell_type": "code",
   "execution_count": 43,
   "metadata": {},
   "outputs": [
    {
     "data": {
      "text/plain": [
       "(array([-1, -2, -3]), array([-1., -2., -3.], dtype=float32))"
      ]
     },
     "execution_count": 43,
     "metadata": {},
     "output_type": "execute_result"
    }
   ],
   "source": [
    "# a still unchanged here\n",
    "a,x"
   ]
  },
  {
   "cell_type": "markdown",
   "metadata": {},
   "source": [
    "重要的是要注意，一旦退出迭代器，悬挂引用（如示例中的x）可能会也可能不会与原始数据a共享数据。 如果写回语义是活动的，即如果`x.base.flags.writebackifcopy`为True，则退出迭代器将切断x和a之间的连接，写入x将不再写入a。 如果写回语义不活动，那么`x.data`仍将指向`a.data`的某个部分，写入一个将影响另一个。"
   ]
  },
  {
   "cell_type": "markdown",
   "metadata": {},
   "source": [
    "## Attributes:"
   ]
  },
  {
   "cell_type": "markdown",
   "metadata": {},
   "source": [
    "**dtypes** : tuple of dtype(s)\n",
    "\n",
    "value中提供的值的数据类型。 如果启用了缓冲，则可能与操作数数据类型不同。 仅在迭代器关闭之前有效。"
   ]
  },
  {
   "cell_type": "markdown",
   "metadata": {},
   "source": [
    "**finished** : bool，是否完成了对操作数的迭代。\n",
    "\n",
    "**has_delayed_bufalloc** : bool，如果为True，则使用“delay_bufalloc”标志创建迭代器，并且尚未调用reset（）函数。\n",
    "\n",
    "**has_index** : bool，如果为True，则使用“c_index”或“f_index”标志创建迭代器，并且可以使用属性索引来检索它。\n",
    "\n",
    "**has_multi_index** : bool，如果为True，则使用“multi_index”标志创建迭代器，并且可以使用属性multi_index来检索它。\n",
    "\n",
    "**index**  使用“c_index”或“f_index”标志时，此属性提供对索引的访问。 如果访问并且has_index为False，则引发ValueError。\n",
    "\n",
    "**iterationneedsapi** : bool，迭代是否需要访问Python API，例如，如果其中一个操作数是对象数组。\n",
    "\n",
    "**iterindex** : int， 与迭代次序匹配的索引。\n",
    "\n",
    "**itersize** : int，迭代器的大小。"
   ]
  },
  {
   "cell_type": "markdown",
   "metadata": {},
   "source": [
    "**itviews** 内存中操作数的结构化视图，匹配重新排序和优化的迭代器访问模式。 仅在迭代器关闭之前有效。\n",
    "\n",
    "**multi_index** 使用“multi_index”标志时，此属性提供对索引的访问。 如果访问且has_multi_index为False，则引发ValueError。\n",
    "\n",
    "**ndim** : int，迭代器的维度。\n",
    "\n",
    "**nop** : int，迭代器操作数的数量。"
   ]
  },
  {
   "cell_type": "markdown",
   "metadata": {},
   "source": [
    "**operands** : tuple of operand(s)，`operands[Slice]`\n",
    "\n",
    "**shape** : tuple of ints, shape元组，迭代器的shape。\n",
    "\n",
    "**value**， 当前迭代时操作数的值。 通常，这是数组标量的元组，但如果使用标志“external_loop”，则它是一维数组的元组。"
   ]
  },
  {
   "cell_type": "markdown",
   "metadata": {},
   "source": [
    "| Methods                |                                                              |\n",
    "| ---------------------- | ------------------------------------------------------------ |\n",
    "| close()                | Resolve all   writeback semantics in writeable operands.     |\n",
    "| copy()                 | Get   a copy of the iterator in its current state.           |\n",
    "| debug_print()          | Print the current   state of the nditer instance and debug info to stdout. |\n",
    "| enable_external_loop() | When   the “external_loop” was not used during construction, but is desired, this   modifies the iterator to behave as if the flag was specified. |\n",
    "| iternext()             | Check   whether iterations are left, and perform a single internal iteration without   returning the result. |\n",
    "| remove_axis(i)         | Removes   axis i from the   iterator.                        |\n",
    "| remove_multi_index()   | When   the “multi_index” flag was specified, this removes it, allowing the internal   iteration structure to be optimized further. |\n",
    "| reset()                | Reset   the iterator to its initial state.                   |"
   ]
  },
  {
   "cell_type": "markdown",
   "metadata": {},
   "source": [
    "| Methods                |                                                              |\n",
    "| ---------------------- | :----------------------------------------------------------- |\n",
    "| close()                | 解决可写操作数中的所有写回语义。                             |\n",
    "| copy()                 | 获取当前状态的迭代器的副本。                                 |\n",
    "| debug_print()          | 打印nditer实例的当前状态并将调试信息打印到stdout。           |\n",
    "| enable_external_loop() | 如果在构造期间未使用“external_loop”，但是需要，则会修改迭代器，使其行为就像指定了标志一样。 |\n",
    "| iternext()             | 检查是否保留迭代，并执行单个内部迭代而不返回结果。           |\n",
    "| remove_axis(i)         | 从迭代器中移除轴i。                                          |\n",
    "| remove_multi_index()   | 当指定“multi_index”标志时，这将删除它，允许进一步优化内部迭代结构。 |\n",
    "| reset()                | 将迭代器重置为其初始状态。                                   |"
   ]
  },
  {
   "cell_type": "markdown",
   "metadata": {},
   "source": [
    "# numpy.ndenumerate\n",
    "`class numpy.ndenumerate(arr)`\n",
    "\n",
    "多维索引迭代器。\n",
    "\n",
    "返回一个迭代器，产生一对数组坐标和值。\n",
    "\n",
    "## Parameters:\t\n",
    "arr : ndarray\n",
    "\n",
    "输入数组。\n",
    "\n",
    "## 示例"
   ]
  },
  {
   "cell_type": "code",
   "execution_count": 44,
   "metadata": {},
   "outputs": [
    {
     "name": "stdout",
     "output_type": "stream",
     "text": [
      "(0, 0) 1\n",
      "(0, 1) 2\n",
      "(1, 0) 3\n",
      "(1, 1) 4\n"
     ]
    }
   ],
   "source": [
    ">>> a = np.array([[1, 2], [3, 4]])\n",
    ">>> for index, x in np.ndenumerate(a):\n",
    "...     print(index, x)"
   ]
  },
  {
   "cell_type": "markdown",
   "metadata": {},
   "source": [
    "## Methods\n",
    "\n",
    "**`next()`**  标准迭代器方法，返回索引元组和数组值。"
   ]
  },
  {
   "cell_type": "markdown",
   "metadata": {},
   "source": [
    "# numpy.ndindex\n",
    "`class numpy.ndindex(*shape)`\n",
    "\n",
    "用于索引数组的N维迭代器对象。\n",
    "\n",
    "给定数组的形状，ndindex实例迭代数组的N维索引。 在每次迭代时，返回一个索引元组，最后一个维度首先迭代。\n",
    "\n",
    "## Parameters:\t\n",
    "``*args`` : ints, 数组每个维度的大小。\n",
    "\n",
    "## 示例"
   ]
  },
  {
   "cell_type": "code",
   "execution_count": 45,
   "metadata": {},
   "outputs": [
    {
     "name": "stdout",
     "output_type": "stream",
     "text": [
      "(0, 0, 0)\n",
      "(0, 1, 0)\n",
      "(1, 0, 0)\n",
      "(1, 1, 0)\n",
      "(2, 0, 0)\n",
      "(2, 1, 0)\n"
     ]
    }
   ],
   "source": [
    ">>> for index in np.ndindex(3, 2, 1):\n",
    "...     print(index)"
   ]
  },
  {
   "cell_type": "code",
   "execution_count": 46,
   "metadata": {},
   "outputs": [
    {
     "data": {
      "text/plain": [
       "array([[[0],\n",
       "        [1]],\n",
       "\n",
       "       [[2],\n",
       "        [3]],\n",
       "\n",
       "       [[4],\n",
       "        [5]]])"
      ]
     },
     "execution_count": 46,
     "metadata": {},
     "output_type": "execute_result"
    }
   ],
   "source": [
    "x=np.arange(6).reshape(3,2,1)\n",
    "x"
   ]
  },
  {
   "cell_type": "code",
   "execution_count": 47,
   "metadata": {},
   "outputs": [
    {
     "name": "stdout",
     "output_type": "stream",
     "text": [
      "0\n",
      "1\n",
      "2\n",
      "3\n",
      "4\n",
      "5\n"
     ]
    }
   ],
   "source": [
    "for index in np.ndindex(3,2,1):\n",
    "    print(x[index])"
   ]
  },
  {
   "cell_type": "markdown",
   "metadata": {},
   "source": [
    "## Methods\n",
    "\n",
    "**ndincr()**\tIncrement the multi-dimensional index by one. 将多维索引增加一个。\n",
    "**next()**\tStandard iterator method, updates the index and returns the index tuple. 标准迭代器方法，更新索引并返回索引元组。"
   ]
  },
  {
   "cell_type": "markdown",
   "metadata": {},
   "source": [
    "# numpy.nested_iters\n",
    "`numpy.nested_iters()`\n",
    "\n",
    "创建nditers以用于嵌套循环。\n",
    "\n",
    "创建一个nditer对象元组，它们在op参数的不同轴上以嵌套循环进行迭代。 第一个迭代器用在最外层循环中，最后一个在最内层循环中。 前进一个将更改后续迭代器以指向其新元素。"
   ]
  },
  {
   "cell_type": "markdown",
   "metadata": {},
   "source": [
    "## Parameters:\t\n",
    "**op** : ndarray or sequence of array_like。 `array(s)` 遍历.\n",
    "\n",
    "**axes** : list of list of int.  每个条目都用作nditer的“op_axes”参数\n",
    "\n",
    "\n",
    "**flags, op_flags, op_dtypes, order, casting, buffersize (optional)**\n",
    "\n",
    "参见nditer的同名参数。\n",
    "\n",
    "## Returns:\t\n",
    "iters : tuple of nditer。轴上每个项目的编号，最外面的一个。"
   ]
  },
  {
   "cell_type": "markdown",
   "metadata": {},
   "source": [
    "## 示例\n",
    "\n",
    "基本用法。 注意y是`[ a[：，0，：]， a[:, 1, 0], a[，2，：]]`的“平摊”版本，因为我们将第一个iter的轴指定为`[1]`."
   ]
  },
  {
   "cell_type": "code",
   "execution_count": 48,
   "metadata": {},
   "outputs": [
    {
     "name": "stdout",
     "output_type": "stream",
     "text": [
      "(0,)\n",
      " (0, 0) 0\n",
      " (0, 1) 1\n",
      " (1, 0) 6\n",
      " (1, 1) 7\n",
      "(1,)\n",
      " (0, 0) 2\n",
      " (0, 1) 3\n",
      " (1, 0) 8\n",
      " (1, 1) 9\n",
      "(2,)\n",
      " (0, 0) 4\n",
      " (0, 1) 5\n",
      " (1, 0) 10\n",
      " (1, 1) 11\n"
     ]
    }
   ],
   "source": [
    ">>> a = np.arange(12).reshape(2, 3, 2)\n",
    ">>> i, j = np.nested_iters(a, [[1], [0, 2]], flags=[\"multi_index\"])\n",
    ">>> for x in i:\n",
    "...      print(i.multi_index)\n",
    "...      for y in j:\n",
    "...          print('', j.multi_index, y)"
   ]
  },
  {
   "cell_type": "markdown",
   "metadata": {},
   "source": [
    "# numpy.flatiter\n",
    "`class numpy.flatiter`\n",
    "\n",
    "平面迭代器对象迭代数组。\n",
    "\n",
    "对于任何数组x，x.flat都会返回flatiter迭代器。 它允许迭代数组，就像它是一个1-D数组一样，在for循环中或通过调用它的下一个方法。\n",
    "\n",
    "迭代以行为主，C风格顺序完成（最后一个索引变化最快）。 迭代器也可以使用基本切片或高级索引进行索引。\n",
    "\n",
    "**注意** 不能通过调用flatiter构造函数直接从Python代码构造flatiter迭代器。\n",
    "\n",
    "## 示例"
   ]
  },
  {
   "cell_type": "code",
   "execution_count": 49,
   "metadata": {},
   "outputs": [],
   "source": [
    ">>> x = np.arange(6).reshape(2, 3)\n",
    ">>> fl = x.flat"
   ]
  },
  {
   "cell_type": "code",
   "execution_count": 50,
   "metadata": {},
   "outputs": [
    {
     "name": "stdout",
     "output_type": "stream",
     "text": [
      "0\n",
      "1\n",
      "2\n",
      "3\n",
      "4\n",
      "5\n"
     ]
    }
   ],
   "source": [
    ">>> for item in fl:\n",
    "...     print(item)\n",
    "..."
   ]
  },
  {
   "cell_type": "markdown",
   "metadata": {},
   "source": [
    "# numpy.lib.Arrayterator\n",
    "`class numpy.lib.Arrayterator(var, buf_size=None)`\n",
    "\n",
    "用于大型数组的缓冲迭代器。\n",
    "\n",
    "Arrayterator创建一个缓冲的迭代器，用于读取小的连续块中的大数组。 该类对存储在文件系统中的对象很有用。 它允许迭代对象而无需读取内存中的所有内容; 相反，读取并迭代小块。\n",
    "\n",
    "Arrayterator可以与支持多维切片的任何对象一起使用。 这包括NumPy数组，但也包括`Scientific.IO.NetCDF`或`pynetcdf`中的变量。"
   ]
  },
  {
   "cell_type": "markdown",
   "metadata": {},
   "source": [
    "## Parameters:\t\n",
    "**var** : array_like, 要遍历的对象。\n",
    "\n",
    "**buf_size** : int, optional\n",
    "\n",
    "缓冲区大小。 如果提供了buf_size，则将被读入内存的最大数据量是buf_size元素。 默认值为None，它将尽可能多的元素读入内存。"
   ]
  },
  {
   "cell_type": "markdown",
   "metadata": {},
   "source": [
    "**注意**：\n",
    "\n",
    "该算法首先找到“运行维度”，然后沿着该维度提取块。 给定一系列维度`（d1，d2，...，dn）`，例如 如果`buf_size`小于`d1`，将使用第一个维度。 另一方面，如果`d1 <buf_size <d1 * d2`将使用第二维，依此类推。 沿着此维度提取块，并且当返回最后一个块时，该过程从下一维继续，直到已读取所有元素。\n",
    "\n",
    "## 示例"
   ]
  },
  {
   "cell_type": "code",
   "execution_count": 51,
   "metadata": {},
   "outputs": [
    {
     "data": {
      "text/plain": [
       "(3, 4, 5, 6)"
      ]
     },
     "execution_count": 51,
     "metadata": {},
     "output_type": "execute_result"
    }
   ],
   "source": [
    ">>> a = np.arange(3 * 4 * 5 * 6).reshape(3, 4, 5, 6)\n",
    ">>> a_itor = np.lib.Arrayterator(a, 2)\n",
    ">>> a_itor.shape"
   ]
  },
  {
   "cell_type": "markdown",
   "metadata": {},
   "source": [
    "现在我们可以迭代a_itor，它将返回大小为2的数组。 由于buf_size小于任何维度，因此第一维将首先迭代："
   ]
  },
  {
   "cell_type": "code",
   "execution_count": 52,
   "metadata": {},
   "outputs": [
    {
     "name": "stdout",
     "output_type": "stream",
     "text": [
      "[[[[0 1]]]] (1, 1, 1, 2)\n"
     ]
    }
   ],
   "source": [
    ">>> for subarr in a_itor:\n",
    "...     if not subarr.all():\n",
    "...         print(subarr, subarr.shape)\n",
    "..."
   ]
  },
  {
   "cell_type": "markdown",
   "metadata": {},
   "source": [
    "## Attributes:\t\n",
    "**var**\n",
    "\n",
    "**buf_size**\n",
    "\n",
    "**start**\n",
    "\n",
    "**stop**\n",
    "\n",
    "**step**\n",
    "\n",
    "**shape** 要迭代的数组的形状。\n",
    "\n",
    "**flat** Arrayterator对象的一维平面迭代器。"
   ]
  }
 ],
 "metadata": {
  "kernelspec": {
   "display_name": "Python 3",
   "language": "python",
   "name": "python3"
  },
  "language_info": {
   "codemirror_mode": {
    "name": "ipython",
    "version": 3
   },
   "file_extension": ".py",
   "mimetype": "text/x-python",
   "name": "python",
   "nbconvert_exporter": "python",
   "pygments_lexer": "ipython3",
   "version": "3.6.6"
  },
  "toc": {
   "base_numbering": 1,
   "nav_menu": {},
   "number_sections": true,
   "sideBar": true,
   "skip_h1_title": false,
   "title_cell": "Table of Contents",
   "title_sidebar": "Contents",
   "toc_cell": false,
   "toc_position": {},
   "toc_section_display": true,
   "toc_window_display": false
  }
 },
 "nbformat": 4,
 "nbformat_minor": 2
}
