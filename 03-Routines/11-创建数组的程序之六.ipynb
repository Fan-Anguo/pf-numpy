{
 "cells": [
  {
   "cell_type": "markdown",
   "metadata": {},
   "source": [
    "11-创建数组的程序之六\n",
    "====\n",
    "Building matrices\n",
    "----"
   ]
  },
  {
   "cell_type": "markdown",
   "metadata": {},
   "source": [
    "| Building   matrices        |                                                              |\n",
    "| -------------------------- | ------------------------------------------------------------ |\n",
    "| diag(v[, k])               | Extract a   diagonal or construct a diagonal array.          |\n",
    "| diagflat(v[, k])           | Create   a two-dimensional array with the flattened input as a diagonal. |\n",
    "| tri(N[, M, k, dtype])      | An   array with ones at and below the given diagonal and zeros elsewhere. |\n",
    "| tril(m[, k])               | Lower   triangle of an array.                                |\n",
    "| triu(m[, k])               | Upper   triangle of an array.                                |\n",
    "| vander(x[, N, increasing]) | Generate   a Vandermonde matrix.                             |"
   ]
  },
  {
   "cell_type": "markdown",
   "metadata": {},
   "source": [
    "# numpy.diag\n",
    "`numpy.diag(v, k=0)`\n",
    "\n",
    "提取一个对角线或构造一个对角线数组。\n",
    "\n",
    "如果你使用这个函数来提取一个对角线，并希望对结果数组进行写入，参见 numpy 的更详细的文档。;它是返回一个副本，还是返回一个视图取决于您所使用的numpy版本。"
   ]
  },
  {
   "cell_type": "markdown",
   "metadata": {},
   "source": [
    "## Parameters:\t\n",
    "**v :** array_like\n",
    "如果 v 是一个2-D数组，返回第 k 个对角线的副本。如果 v 是一个1-D数组，返回一个 2-D 数组，v 在第 k 个对角线上。\n",
    "\n",
    "**k :** int, 可选关键字参数。对角线问题。默认是0。在主对角线上面的对角线使用 k > 0，在主对角线下面的对角线使用 k < 0."
   ]
  },
  {
   "cell_type": "markdown",
   "metadata": {},
   "source": [
    "## Returns:\t\n",
    "out : ndarray\n",
    "\n",
    "提取对角线或者构造对角线数组。"
   ]
  },
  {
   "cell_type": "markdown",
   "metadata": {},
   "source": [
    "## 示例"
   ]
  },
  {
   "cell_type": "code",
   "execution_count": 5,
   "metadata": {},
   "outputs": [
    {
     "data": {
      "text/plain": [
       "array([[0, 1, 2],\n",
       "       [3, 4, 5],\n",
       "       [6, 7, 8]])"
      ]
     },
     "execution_count": 5,
     "metadata": {},
     "output_type": "execute_result"
    }
   ],
   "source": [
    "import numpy as np\n",
    ">>> x = np.arange(9).reshape((3,3))\n",
    ">>> x"
   ]
  },
  {
   "cell_type": "code",
   "execution_count": 7,
   "metadata": {},
   "outputs": [
    {
     "data": {
      "text/plain": [
       "array([0, 4, 8])"
      ]
     },
     "execution_count": 7,
     "metadata": {},
     "output_type": "execute_result"
    }
   ],
   "source": [
    ">>> np.diag(x)"
   ]
  },
  {
   "cell_type": "code",
   "execution_count": 10,
   "metadata": {},
   "outputs": [
    {
     "data": {
      "text/plain": [
       "array([1, 5])"
      ]
     },
     "execution_count": 10,
     "metadata": {},
     "output_type": "execute_result"
    }
   ],
   "source": [
    ">>> np.diag(x, k=1)"
   ]
  },
  {
   "cell_type": "code",
   "execution_count": 8,
   "metadata": {},
   "outputs": [
    {
     "data": {
      "text/plain": [
       "array([3, 7])"
      ]
     },
     "execution_count": 8,
     "metadata": {},
     "output_type": "execute_result"
    }
   ],
   "source": [
    ">>> np.diag(x, k=-1)"
   ]
  },
  {
   "cell_type": "code",
   "execution_count": 9,
   "metadata": {},
   "outputs": [
    {
     "data": {
      "text/plain": [
       "array([[0, 0, 0],\n",
       "       [0, 4, 0],\n",
       "       [0, 0, 8]])"
      ]
     },
     "execution_count": 9,
     "metadata": {},
     "output_type": "execute_result"
    }
   ],
   "source": [
    ">>> np.diag(np.diag(x))"
   ]
  },
  {
   "cell_type": "markdown",
   "metadata": {},
   "source": [
    "# numpy.diagflat\n",
    "`numpy.diagflat(v, k=0)`\n",
    "\n",
    "创建一个2维数组，用展平的输入作为对角线。"
   ]
  },
  {
   "cell_type": "markdown",
   "metadata": {},
   "source": [
    "## Parameters:\t\n",
    "**v :** array_like\n",
    "\n",
    "输入数据，它被展平，并被设置为输出的第 k 条对角线。\n",
    "\n",
    "**k :** int, 可选关键字参数。对角线设置；0，默认的，对应于主对角线，一个正的（负的） k 给出了在主对角线上面（下面）的对角线。"
   ]
  },
  {
   "cell_type": "markdown",
   "metadata": {},
   "source": [
    "## Returns:\t\n",
    "\n",
    "out : ndarray，输出2-D数组。\n",
    "\n",
    "## 示例"
   ]
  },
  {
   "cell_type": "code",
   "execution_count": 16,
   "metadata": {},
   "outputs": [
    {
     "data": {
      "text/plain": [
       "array([[1, 0, 0, 0, 0, 0],\n",
       "       [0, 2, 0, 0, 0, 0],\n",
       "       [0, 0, 3, 0, 0, 0],\n",
       "       [0, 0, 0, 3, 0, 0],\n",
       "       [0, 0, 0, 0, 4, 0],\n",
       "       [0, 0, 0, 0, 0, 5]])"
      ]
     },
     "execution_count": 16,
     "metadata": {},
     "output_type": "execute_result"
    }
   ],
   "source": [
    ">>> np.diagflat([[1,2,3], [3,4,5]])"
   ]
  },
  {
   "cell_type": "code",
   "execution_count": 17,
   "metadata": {},
   "outputs": [
    {
     "data": {
      "text/plain": [
       "array([[0, 1, 0, 0],\n",
       "       [0, 0, 2, 0],\n",
       "       [0, 0, 0, 3],\n",
       "       [0, 0, 0, 0]])"
      ]
     },
     "execution_count": 17,
     "metadata": {},
     "output_type": "execute_result"
    }
   ],
   "source": [
    ">>> np.diagflat([1,2,3], 1)"
   ]
  },
  {
   "cell_type": "markdown",
   "metadata": {},
   "source": [
    "# numpy.tri\n",
    "`numpy.tri(N, M=None, k=0, dtype=<class 'float'>)`\n",
    "\n",
    "一个数组，其中包含给定对角线和低于给定对角线的数字，其他地方为零。"
   ]
  },
  {
   "cell_type": "markdown",
   "metadata": {},
   "source": [
    "## Parameters:\t\n",
    "**N :** int，数组的行数。\n",
    "\n",
    "**M :** int, 可选关键字参数。数组的列数。默认 M 等于 N.\n",
    "\n",
    "**k :** int, 可选关键字参数。子对角线及其下面的对角线被填充。k = 0是主对角线，k < 0在主对角线下面，K > 0在主对角线上面。默认是 0。\n",
    "\n",
    "**dtype :** dtype, 可选关键字参数。返回数组的数据类型。默认是float。"
   ]
  },
  {
   "cell_type": "markdown",
   "metadata": {},
   "source": [
    "## Returns:\t\n",
    "tri : ndarray of shape (N, M)\n",
    "\n",
    "shape为(N, M)的 ndarray。\n",
    "\n",
    "数组的下三角形填充1，其他地方为零; 也就是说，对于i <= j + k，T [i，j] == 1，否则为0。\n",
    "\n",
    "## 示例"
   ]
  },
  {
   "cell_type": "code",
   "execution_count": 21,
   "metadata": {},
   "outputs": [
    {
     "data": {
      "text/plain": [
       "array([[1, 1, 1, 0, 0],\n",
       "       [1, 1, 1, 1, 0],\n",
       "       [1, 1, 1, 1, 1]])"
      ]
     },
     "execution_count": 21,
     "metadata": {},
     "output_type": "execute_result"
    }
   ],
   "source": [
    ">>> np.tri(3, 5, 2, dtype=int)"
   ]
  },
  {
   "cell_type": "code",
   "execution_count": 20,
   "metadata": {},
   "outputs": [
    {
     "data": {
      "text/plain": [
       "array([[0., 0., 0., 0., 0.],\n",
       "       [1., 0., 0., 0., 0.],\n",
       "       [1., 1., 0., 0., 0.]])"
      ]
     },
     "execution_count": 20,
     "metadata": {},
     "output_type": "execute_result"
    }
   ],
   "source": [
    ">>> np.tri(3, 5, -1)"
   ]
  },
  {
   "cell_type": "markdown",
   "metadata": {},
   "source": [
    "# numpy.tril\n",
    "`numpy.tril(m, k=0)`\n",
    "\n",
    "一个数组的下三角。\n",
    "\n",
    "返回数组的副本，其中第k个对角线以上的元素归零。"
   ]
  },
  {
   "cell_type": "markdown",
   "metadata": {},
   "source": [
    "## Parameters:\t\n",
    "**m :** array_like, shape (M, N)，输入数组。\n",
    "\n",
    "**k :** int, 可选关键字参数。在对角线以上的元素转换为0。 k = 0 (默认) 是主对角线，k < 0 在主对角线下面，k > 0 在主对角线上面。\n",
    "\n",
    "## Returns:\t\n",
    "tril : ndarray, shape (M, N)\n",
    "\n",
    "m的下三角形，具有与m相同的形状和数据类型。"
   ]
  },
  {
   "cell_type": "markdown",
   "metadata": {},
   "source": [
    "## 示例"
   ]
  },
  {
   "cell_type": "code",
   "execution_count": 22,
   "metadata": {},
   "outputs": [
    {
     "data": {
      "text/plain": [
       "array([[ 0,  0,  0],\n",
       "       [ 4,  0,  0],\n",
       "       [ 7,  8,  0],\n",
       "       [10, 11, 12]])"
      ]
     },
     "execution_count": 22,
     "metadata": {},
     "output_type": "execute_result"
    }
   ],
   "source": [
    "np.tril([[1,2,3],[4,5,6],[7,8,9],[10,11,12]], -1)"
   ]
  },
  {
   "cell_type": "markdown",
   "metadata": {},
   "source": [
    "# numpy.triu\n",
    "`numpy.triu(m, k=0)`\n",
    "\n",
    "数组的上三角形。\n",
    "\n",
    "返回matrix的一个副本，第k对角线下方的元素归零。\n",
    "\n",
    "## 示例"
   ]
  },
  {
   "cell_type": "code",
   "execution_count": 23,
   "metadata": {},
   "outputs": [
    {
     "data": {
      "text/plain": [
       "array([[ 1,  2,  3],\n",
       "       [ 4,  5,  6],\n",
       "       [ 0,  8,  9],\n",
       "       [ 0,  0, 12]])"
      ]
     },
     "execution_count": 23,
     "metadata": {},
     "output_type": "execute_result"
    }
   ],
   "source": [
    " np.triu([[1,2,3],[4,5,6],[7,8,9],[10,11,12]], -1)"
   ]
  },
  {
   "cell_type": "markdown",
   "metadata": {},
   "source": [
    "# numpy.vander\n",
    "`numpy.vander(x, N=None, increasing=False)`\n",
    "\n",
    "生成一个Vandermonde矩阵。范德蒙矩阵是法国数学家范德蒙(Vandermonde,AlexandreTheophile, 1735～1796) 提出的一种各列为几何级数的矩阵。\n",
    "\n",
    "输出矩阵的列是输入向量的幂（powers）。 幂的顺序由 increasing 布尔参数决定。 具体地，当 increasing 为 False 时，第 i 个输出列是输入向量元素提升到 ‘N - i - 1’的幂。这种每行中具有几何级数的矩阵以 Alexandre-Theophile Vandermonde 命名。"
   ]
  },
  {
   "cell_type": "markdown",
   "metadata": {},
   "source": [
    "## Parameters:\t\n",
    "**x :** array_like，1-D输入数组。\n",
    "\n",
    "**N :** int, 可选关键字参数。输出中的列数。 如果未指定N，则返回正方形数组 (N = len(x)).\n",
    "\n",
    "**increasing :** bool, 可选关键字参数。列的幂顺序。如果是True，幂从左到右增加，如果为False（默认）则是相反的。\n",
    "\n",
    "## Returns:\t\n",
    "out : ndarray\n",
    "\n",
    "Vandermonde matrix. 如果 increasing 是 False, 第一列是 x^(N-1)，第二列是x^(N-2)， 等等。如果increasing是True，列是x^0, x^1, ..., x^(N-1)."
   ]
  },
  {
   "cell_type": "markdown",
   "metadata": {},
   "source": [
    "## 示例"
   ]
  },
  {
   "cell_type": "code",
   "execution_count": 24,
   "metadata": {},
   "outputs": [
    {
     "data": {
      "text/plain": [
       "array([[ 1,  1,  1],\n",
       "       [ 4,  2,  1],\n",
       "       [ 9,  3,  1],\n",
       "       [25,  5,  1]])"
      ]
     },
     "execution_count": 24,
     "metadata": {},
     "output_type": "execute_result"
    }
   ],
   "source": [
    ">>> x = np.array([1, 2, 3, 5])\n",
    ">>> N = 3\n",
    ">>> np.vander(x, N)"
   ]
  },
  {
   "cell_type": "code",
   "execution_count": 25,
   "metadata": {},
   "outputs": [
    {
     "data": {
      "text/plain": [
       "array([[ 1,  1,  1],\n",
       "       [ 4,  2,  1],\n",
       "       [ 9,  3,  1],\n",
       "       [25,  5,  1]], dtype=int32)"
      ]
     },
     "execution_count": 25,
     "metadata": {},
     "output_type": "execute_result"
    }
   ],
   "source": [
    ">>> np.column_stack([x**(N-1-i) for i in range(N)])"
   ]
  },
  {
   "cell_type": "code",
   "execution_count": 26,
   "metadata": {},
   "outputs": [
    {
     "data": {
      "text/plain": [
       "array([[  1,   1,   1,   1],\n",
       "       [  8,   4,   2,   1],\n",
       "       [ 27,   9,   3,   1],\n",
       "       [125,  25,   5,   1]])"
      ]
     },
     "execution_count": 26,
     "metadata": {},
     "output_type": "execute_result"
    }
   ],
   "source": [
    ">>> x = np.array([1, 2, 3, 5])\n",
    ">>> np.vander(x)"
   ]
  },
  {
   "cell_type": "code",
   "execution_count": 27,
   "metadata": {},
   "outputs": [
    {
     "data": {
      "text/plain": [
       "array([[  1,   1,   1,   1],\n",
       "       [  1,   2,   4,   8],\n",
       "       [  1,   3,   9,  27],\n",
       "       [  1,   5,  25, 125]])"
      ]
     },
     "execution_count": 27,
     "metadata": {},
     "output_type": "execute_result"
    }
   ],
   "source": [
    ">>> np.vander(x, increasing=True)"
   ]
  },
  {
   "cell_type": "markdown",
   "metadata": {},
   "source": [
    "方形Vandermonde矩阵的行列式是两个输入向量值之间的差异的乘积："
   ]
  },
  {
   "cell_type": "code",
   "execution_count": 28,
   "metadata": {},
   "outputs": [
    {
     "data": {
      "text/plain": [
       "48.00000000000007"
      ]
     },
     "execution_count": 28,
     "metadata": {},
     "output_type": "execute_result"
    }
   ],
   "source": [
    ">>> np.linalg.det(np.vander(x))"
   ]
  },
  {
   "cell_type": "code",
   "execution_count": 29,
   "metadata": {},
   "outputs": [
    {
     "data": {
      "text/plain": [
       "48"
      ]
     },
     "execution_count": 29,
     "metadata": {},
     "output_type": "execute_result"
    }
   ],
   "source": [
    ">>> (5-3)*(5-2)*(5-1)*(3-2)*(3-1)*(2-1)"
   ]
  },
  {
   "cell_type": "code",
   "execution_count": null,
   "metadata": {},
   "outputs": [],
   "source": []
  }
 ],
 "metadata": {
  "kernelspec": {
   "display_name": "Python 3",
   "language": "python",
   "name": "python3"
  },
  "language_info": {
   "codemirror_mode": {
    "name": "ipython",
    "version": 3
   },
   "file_extension": ".py",
   "mimetype": "text/x-python",
   "name": "python",
   "nbconvert_exporter": "python",
   "pygments_lexer": "ipython3",
   "version": "3.6.5"
  },
  "toc": {
   "base_numbering": 1,
   "nav_menu": {},
   "number_sections": true,
   "sideBar": true,
   "skip_h1_title": false,
   "title_cell": "Table of Contents",
   "title_sidebar": "Contents",
   "toc_cell": false,
   "toc_position": {},
   "toc_section_display": true,
   "toc_window_display": true
  }
 },
 "nbformat": 4,
 "nbformat_minor": 2
}
