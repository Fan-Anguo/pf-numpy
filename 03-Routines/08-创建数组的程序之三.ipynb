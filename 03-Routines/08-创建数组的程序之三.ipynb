{
 "cells": [
  {
   "cell_type": "markdown",
   "metadata": {},
   "source": [
    "创建数组的程序之三\n",
    "=====\n",
    "Creating record arrays (numpy.rec)\n",
    "----\n",
    "\n",
    "**说明**\n",
    "numpy.rec 是 numpy.core.records 的首选别名。"
   ]
  },
  {
   "cell_type": "markdown",
   "metadata": {},
   "source": [
    "- core.records.array\n",
    "- core.records.fromarrays\n",
    "- core.records.fromrecords\n",
    "- core.records.fromstring\n",
    "- core.records.fromfile"
   ]
  },
  {
   "cell_type": "markdown",
   "metadata": {},
   "source": [
    "# numpy.core.records.array\n",
    "`numpy.core.records.array(obj, dtype=None, shape=None, offset=0, strides=None, formats=None, names=None, titles=None, aligned=False, byteorder=None, copy=True)`\n",
    "\n",
    "从各种各样的数组构造一个记录数组。"
   ]
  },
  {
   "cell_type": "markdown",
   "metadata": {},
   "source": [
    "# numpy.core.records.fromarrays\n",
    "`numpy.core.records.fromarrays(arrayList, dtype=None, shape=None, formats=None, names=None, titles=None, aligned=False, byteorder=None)`\n",
    "\n",
    "从一个(flat)数组列表创建一个记录数组。"
   ]
  },
  {
   "cell_type": "code",
   "execution_count": 9,
   "metadata": {},
   "outputs": [
    {
     "name": "stdout",
     "output_type": "stream",
     "text": [
      "(2, 'dd', 2.)\n"
     ]
    }
   ],
   "source": [
    "import numpy as np\n",
    "x1=np.array([1,2,3,4])\n",
    "x2=np.array(['a','dd','xyz','12'])\n",
    "x3=np.array([1.1,2,3,4])\n",
    "r = np.core.records.fromarrays([x1,x2,x3],names='a,b,c')\n",
    "print(r[1])"
   ]
  },
  {
   "cell_type": "code",
   "execution_count": 10,
   "metadata": {},
   "outputs": [
    {
     "data": {
      "text/plain": [
       "array([1, 2, 3, 4])"
      ]
     },
     "execution_count": 10,
     "metadata": {},
     "output_type": "execute_result"
    }
   ],
   "source": [
    "x1[1]=34\n",
    "r.a"
   ]
  },
  {
   "cell_type": "markdown",
   "metadata": {},
   "source": [
    "# numpy.core.records.fromrecords\n",
    "`numpy.core.records.fromrecords(recList, dtype=None, shape=None, formats=None, names=None, titles=None, aligned=False, byteorder=None)`\n",
    "\n",
    "从文本形式的记录列表创建一个重新排列的数组。"
   ]
  },
  {
   "cell_type": "markdown",
   "metadata": {},
   "source": [
    "同一字段中的数据可以是异构的，它们将被提升为最高数据类型。 此方法用于创建较小的记录数组。 如果用于创建没有定义格式的大型数组\n",
    "\n",
    "R = fromrecords（[（2,3-，” ABC”）] *100000）\n",
    "\n",
    "它可能很慢。\n",
    "\n",
    "如果格式为None，则会自动检测格式。 使用元组列表而不是列表列表以加快处理速度。"
   ]
  },
  {
   "cell_type": "code",
   "execution_count": 11,
   "metadata": {},
   "outputs": [
    {
     "name": "stdout",
     "output_type": "stream",
     "text": [
      "(456, 'dbe', 1.2)\n"
     ]
    }
   ],
   "source": [
    "r = np.core.records.fromrecords([(456,'dbe',1.2),(2,'de',1.3)],\n",
    "                              names='col1,col2,col3')\n",
    "print(r[0])"
   ]
  },
  {
   "cell_type": "code",
   "execution_count": 12,
   "metadata": {},
   "outputs": [
    {
     "data": {
      "text/plain": [
       "array([456,   2])"
      ]
     },
     "execution_count": 12,
     "metadata": {},
     "output_type": "execute_result"
    }
   ],
   "source": [
    "r.col1"
   ]
  },
  {
   "cell_type": "code",
   "execution_count": 13,
   "metadata": {},
   "outputs": [
    {
     "data": {
      "text/plain": [
       "array(['dbe', 'de'], dtype='<U3')"
      ]
     },
     "execution_count": 13,
     "metadata": {},
     "output_type": "execute_result"
    }
   ],
   "source": [
    "r.col2"
   ]
  },
  {
   "cell_type": "code",
   "execution_count": 14,
   "metadata": {},
   "outputs": [
    {
     "name": "stdout",
     "output_type": "stream",
     "text": [
      "[(456, 'dbe', 1.2) (  2, 'de', 1.3)]\n"
     ]
    }
   ],
   "source": [
    "import pickle\n",
    "print(pickle.loads(pickle.dumps(r)))"
   ]
  },
  {
   "cell_type": "markdown",
   "metadata": {},
   "source": [
    "# numpy.core.records.fromstring\n",
    "`numpy.core.records.fromstring(datastring, dtype=None, shape=None, offset=0, formats=None, names=None, titles=None, aligned=False, byteorder=None)`\n",
    "\n",
    "从包含在字符串中的二进制数据创建一个（只读）的记录数组。"
   ]
  },
  {
   "cell_type": "markdown",
   "metadata": {},
   "source": [
    "# numpy.core.records.fromfile\n",
    "`numpy.core.records.fromfile(fd, dtype=None, shape=None, offset=0, formats=None, names=None, titles=None, aligned=False, byteorder=None)`\n",
    "\n",
    "从二进制文件数据创建数组。\n",
    "\n",
    "如果文件是一个字符串，将打开这个文件，否则将假设这是一个文件对象。文件对象必须支持随机访问。（如，它必须有 tell 和 seek 方法。）"
   ]
  },
  {
   "cell_type": "code",
   "execution_count": 16,
   "metadata": {},
   "outputs": [
    {
     "name": "stdout",
     "output_type": "stream",
     "text": [
      "(0.5, 10, b'abcde')\n"
     ]
    }
   ],
   "source": [
    ">>> from tempfile import TemporaryFile\n",
    ">>> a = np.empty(10,dtype='f8,i4,a5')\n",
    ">>> a[5] = (0.5,10,'abcde')\n",
    ">>>\n",
    ">>> fd=TemporaryFile()\n",
    ">>> a = a.newbyteorder('<')\n",
    ">>> a.tofile(fd)\n",
    ">>>\n",
    ">>> fd.seek(0)\n",
    ">>> r=np.core.records.fromfile(fd, formats='f8,i4,a5', shape=10,\n",
    "... byteorder='<')\n",
    ">>> print(r[5])"
   ]
  },
  {
   "cell_type": "code",
   "execution_count": 18,
   "metadata": {},
   "outputs": [
    {
     "data": {
      "text/plain": [
       "(10,)"
      ]
     },
     "execution_count": 18,
     "metadata": {},
     "output_type": "execute_result"
    }
   ],
   "source": [
    "(0.5, 10, 'abcde')\n",
    ">>> r.shape"
   ]
  },
  {
   "cell_type": "code",
   "execution_count": null,
   "metadata": {},
   "outputs": [],
   "source": []
  }
 ],
 "metadata": {
  "kernelspec": {
   "display_name": "Python 3",
   "language": "python",
   "name": "python3"
  },
  "language_info": {
   "codemirror_mode": {
    "name": "ipython",
    "version": 3
   },
   "file_extension": ".py",
   "mimetype": "text/x-python",
   "name": "python",
   "nbconvert_exporter": "python",
   "pygments_lexer": "ipython3",
   "version": "3.6.5"
  },
  "toc": {
   "base_numbering": 1,
   "nav_menu": {},
   "number_sections": true,
   "sideBar": true,
   "skip_h1_title": false,
   "title_cell": "Table of Contents",
   "title_sidebar": "Contents",
   "toc_cell": false,
   "toc_position": {},
   "toc_section_display": true,
   "toc_window_display": true
  }
 },
 "nbformat": 4,
 "nbformat_minor": 2
}
