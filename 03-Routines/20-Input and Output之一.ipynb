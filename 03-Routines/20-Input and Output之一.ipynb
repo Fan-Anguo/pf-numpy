{
 "cells": [
  {
   "cell_type": "markdown",
   "metadata": {},
   "source": [
    "20-Input and Output\n",
    "==="
   ]
  },
  {
   "cell_type": "markdown",
   "metadata": {},
   "source": [
    "| Input   and Output |                                 |\n",
    "| ------------------ | ------------------------------- |\n",
    "| 1                  | NumPy binary   files (NPY, NPZ) |\n",
    "| 2                  | Text files                      |\n",
    "| 3                  | Raw binary   files              |\n",
    "| 4                  | String   formatting             |\n",
    "| 5                  | Memory mapping   files          |\n",
    "| 6                  | Text   formatting options       |\n",
    "| 7                  | Base-n   representations        |\n",
    "| 8                  | Data sources                    |\n",
    "| 9                  | Binary Format   Description     |\n",
    "\n"
   ]
  },
  {
   "cell_type": "markdown",
   "metadata": {},
   "source": [
    "# NumPy binary files (NPY, NPZ)\n",
    "\n",
    "\n",
    "| NumPy binary   files (NPY, NPZ)              |                                                              |\n",
    "| -------------------------------------------- | ------------------------------------------------------------ |\n",
    "|` load(file[, mmap_mode, allow_pickle, …])`     | Load   arrays or pickled objects from .npy, .npz or pickled files. |\n",
    "| `save(file, arr[, allow_pickle, fix_imports])` | Save   an array to a binary file in NumPy .npy format.       |\n",
    "| `savez(file, *args, **kwds)`                   | Save   several arrays into a single file in uncompressed .npzformat. |\n",
    "|` savez_compressed(file, *args, **kwds)`        | Save   several arrays into a single file in compressed .npz format. |\n"
   ]
  },
  {
   "cell_type": "markdown",
   "metadata": {},
   "source": [
    "# numpy.load\n",
    "`numpy.load(file, mmap_mode=None, allow_pickle=True, fix_imports=True, encoding='ASCII')`\n",
    "\n",
    "从.npy，.npz或pickle文件加载数组或pickle对象。"
   ]
  },
  {
   "cell_type": "markdown",
   "metadata": {},
   "source": [
    "## Parameters:\t\n",
    "**file** : file-like object, string, or pathlib.Path\n",
    "\n",
    "类似文件对象，字符串，或者**pathlib.Path**\n",
    "\n",
    "要读取的文件。 类文件对象必须支持seek（）和read（）方法。 pickle文件要求类文件对象也支持readline（）方法。\n",
    "\n",
    "**mmap_mode** : `{None, ‘r+’, ‘r’, ‘w+’, ‘c’}`, optional\n",
    "\n",
    "如果不是None，则使用给定模式对文件进行内存映射（有关模式的详细说明，请参阅`numpy.memmap`）。 内存映射阵列保留在磁盘上。 但是，它可以像任何ndarray一样访问和切片。 内存映射对于访问大型文件的小片段而不将整个文件读入内存特别有用。\n",
    "\n",
    "**allow_pickle** : bool, optional\n",
    "\n",
    "允许加载存储在npy文件中的pickled对象数组。禁止pickles的原因包括安全性，因为加载pickled数据可以执行任意代码。如果不允许使用pickle，则加载对象数组将失败。默认值：True\n",
    "\n",
    "**fix_imports** : bool, optional\n",
    "\n",
    "仅在 Python 3 上加载 Python 2 生成的 pickle 文件时才有用，其中包括包含对象数组的`npy / npz`文件。 如果`fix_imports`为 True，则 pickle 将尝试将旧的Python 2名称映射到Python 3中使用的新名称。\n",
    "\n",
    "**encoding** : str, optional\n",
    "\n",
    "读取Python 2字符串时要使用的编码。仅在Python 3中加载Python 2生成的pickle文件时才有用，其中包括包含对象数组的`npy / npz`文件。 不允许使用“latin1”，“ASCII”和“bytes”以外的值，因为它们可能会破坏数字数据。 默认值：'ASCII'."
   ]
  },
  {
   "cell_type": "markdown",
   "metadata": {},
   "source": [
    "## Returns:\t\n",
    "**result** : array, tuple, dict, etc.\n",
    "\n",
    "数据存储在文件中。对于`.npz`文件，必须关闭返回的`NpzFile`类实例以避免泄漏文件描述符。"
   ]
  },
  {
   "cell_type": "markdown",
   "metadata": {},
   "source": [
    "## Raises:\t\n",
    "**IOError** 如果输入文件不存在或无法读取。\n",
    "\n",
    "**ValueError** 该文件包含一个对象数组，但给出了`allow_pickle = False`。"
   ]
  },
  {
   "cell_type": "markdown",
   "metadata": {},
   "source": [
    "**注意**\n",
    "\n",
    "- 如果文件包含pickle数据，则返回pickle中存储的任何对象。\n",
    "\n",
    "- 如果文件是`a.npy`文件，则返回单个数组。\n",
    "\n",
    "- 如果文件是`a.npz`文件，则返回类似字典的对象，其中包含`{filename：array}`键值对，一个用于存档中的每个文件。\n",
    "\n",
    "- 如果文件是`a.npz`文件，则返回的值支持上下文管理器协议，其方式与open函数类似：\n",
    "\n",
    "```\n",
    "with load('foo.npz') as data:\n",
    "    a = data['a']\n",
    "```\n",
    "退出'with'块时，底层文件描述符将关闭。\n",
    "\n",
    "## 示例\n",
    "\n",
    "将数据存储到磁盘，并再次加载："
   ]
  },
  {
   "cell_type": "code",
   "execution_count": 2,
   "metadata": {},
   "outputs": [
    {
     "data": {
      "text/plain": [
       "array([[1, 2, 3],\n",
       "       [4, 5, 6]])"
      ]
     },
     "execution_count": 2,
     "metadata": {},
     "output_type": "execute_result"
    }
   ],
   "source": [
    "import numpy as np\n",
    "\n",
    "np.save('I:/tmp/123', np.array([[1, 2, 3], [4, 5, 6]]))\n",
    "np.load('I:/tmp/123.npy')"
   ]
  },
  {
   "cell_type": "markdown",
   "metadata": {},
   "source": [
    "将压缩数据存储到磁盘，然后再次加载："
   ]
  },
  {
   "cell_type": "code",
   "execution_count": 3,
   "metadata": {},
   "outputs": [
    {
     "data": {
      "text/plain": [
       "array([[1, 2, 3],\n",
       "       [4, 5, 6]])"
      ]
     },
     "execution_count": 3,
     "metadata": {},
     "output_type": "execute_result"
    }
   ],
   "source": [
    ">>> a=np.array([[1, 2, 3], [4, 5, 6]])\n",
    ">>> b=np.array([1, 2])\n",
    ">>> np.savez('/tmp/123.npz', a=a, b=b)\n",
    ">>> data = np.load('/tmp/123.npz')\n",
    ">>> data['a']"
   ]
  },
  {
   "cell_type": "code",
   "execution_count": 4,
   "metadata": {},
   "outputs": [
    {
     "data": {
      "text/plain": [
       "array([1, 2])"
      ]
     },
     "execution_count": 4,
     "metadata": {},
     "output_type": "execute_result"
    }
   ],
   "source": [
    ">>> data['b']"
   ]
  },
  {
   "cell_type": "code",
   "execution_count": 5,
   "metadata": {},
   "outputs": [],
   "source": [
    ">>> data.close()"
   ]
  },
  {
   "cell_type": "markdown",
   "metadata": {},
   "source": [
    "对存储的数组进行Mem-map，然后直接从磁盘访问第二行："
   ]
  },
  {
   "cell_type": "code",
   "execution_count": 6,
   "metadata": {},
   "outputs": [
    {
     "data": {
      "text/plain": [
       "memmap([4, 5, 6])"
      ]
     },
     "execution_count": 6,
     "metadata": {},
     "output_type": "execute_result"
    }
   ],
   "source": [
    ">>> X = np.load('/tmp/123.npy', mmap_mode='r')\n",
    ">>> X[1, :]"
   ]
  },
  {
   "cell_type": "markdown",
   "metadata": {},
   "source": [
    "# numpy.save\n",
    "`numpy.save(file, arr, allow_pickle=True, fix_imports=True)`\n",
    "\n",
    "将数组保存为NumPy .npy格式的二进制文件。"
   ]
  },
  {
   "cell_type": "markdown",
   "metadata": {},
   "source": [
    "## Parameters:\t\n",
    "**file** : file, str, or pathlib.Path\n",
    "\n",
    "保存数据的文件或文件名。如果file是文件对象，则文件名不变。如果file是字符串或Path，则.npy 扩展名将附加到文件名（如果它还没有）。\n",
    "\n",
    "**arr** : array_like，要保存的数组数据。\n",
    "\n",
    "**allow_pickle** : bool, optional，\n",
    "\n",
    "允许使用Python pickles保存对象数组。禁止 pickles 的原因包括安全性（加载 pickled 数据可以执行任意代码）和可移植性（pickled 对象可能无法在不同的Python安装上加载，例如，如果存储的对象需要不可用的库，并且并非所有的pickle数据都兼容Python 2和Python 3）。默认值：True\n",
    "\n",
    "**fix_imports** : bool, optional\n",
    "\n",
    "仅在强制Python 3上的对象数组中的对象以Python 2兼容的方式进行pickle时才有用。如果fix_imports为True，则pickle将尝试将新的Python 3名称映射到Python 2中使用的旧模块名称，以便使用Python 2可以读取pickle数据流。"
   ]
  },
  {
   "cell_type": "markdown",
   "metadata": {},
   "source": [
    "## 示例"
   ]
  },
  {
   "cell_type": "code",
   "execution_count": 7,
   "metadata": {},
   "outputs": [
    {
     "data": {
      "text/plain": [
       "array([0, 1, 2, 3, 4, 5, 6, 7, 8, 9])"
      ]
     },
     "execution_count": 7,
     "metadata": {},
     "output_type": "execute_result"
    }
   ],
   "source": [
    ">>> from tempfile import TemporaryFile\n",
    ">>> outfile = TemporaryFile()\n",
    "\n",
    ">>> x = np.arange(10)\n",
    ">>> np.save(outfile, x)\n",
    "\n",
    ">>> outfile.seek(0) # Only needed here to simulate closing & reopening file\n",
    ">>> np.load(outfile)"
   ]
  },
  {
   "cell_type": "markdown",
   "metadata": {},
   "source": [
    "# numpy.savez\n",
    "\n",
    "`numpy.savez(file, *args, **kwds)`\n",
    "\n",
    "将多个数组以未压缩`.npz`格式保存到单个文件中。\n",
    "\n",
    "如果传入的参数没有关键字，则`.npz`文件中的相应变量名称为`'arr_0'，'arr_1'`等。如果给出关键字参数，则`.npz` 文件中相应的变量名称将与关键字名称匹配。"
   ]
  },
  {
   "cell_type": "markdown",
   "metadata": {},
   "source": [
    "## Parameters:\t\n",
    "**file** : str or file\n",
    "\n",
    "文件名（字符串）或将保存数据的打开文件（类文件对象）。如果file是字符串或Path，则 .npz扩展名将附加到文件名（如果文件名尚不存在）。\n",
    "\n",
    "**args** : Arguments, optional\n",
    "\n",
    "要保存到文件的数组。由于Python无法知道外部数组的名称savez，因此将使用名称“arr_0”，“arr_1”等保存数组。这些参数可以是任何表达式。\n",
    "\n",
    "**kwds** : Keyword arguments, optional\n",
    "\n",
    "要保存到文件的数组。数组将使用关键字名称保存在文件中。\n",
    "\n",
    "**Returns**: None"
   ]
  },
  {
   "cell_type": "markdown",
   "metadata": {},
   "source": [
    "**注意：**\n",
    "\n",
    "该`.npz`文件格式是它们所包含的变量命名的文件的压缩文档。存档未压缩，存档中的每个文件都包含一个`.npy`格式的变量。有关`.npy`格式的说明，请参阅numpy.lib.format。\n",
    "\n",
    "当使用`load`打开保存的`.npz`文件时返回一个`NpzFile`对象。这是一个类似字典的对象，可以查询其数组列表（带有`.files`属性），也可以查询数组本身。"
   ]
  },
  {
   "cell_type": "markdown",
   "metadata": {},
   "source": [
    "## 示例"
   ]
  },
  {
   "cell_type": "code",
   "execution_count": 8,
   "metadata": {},
   "outputs": [],
   "source": [
    ">>> from tempfile import TemporaryFile\n",
    ">>> outfile = TemporaryFile()\n",
    ">>> x = np.arange(10)\n",
    ">>> y = np.sin(x)"
   ]
  },
  {
   "cell_type": "markdown",
   "metadata": {},
   "source": [
    "使用带 `*args*`的`savez`，使用默认的名字保存数组。"
   ]
  },
  {
   "cell_type": "code",
   "execution_count": 9,
   "metadata": {},
   "outputs": [
    {
     "data": {
      "text/plain": [
       "['arr_0', 'arr_1']"
      ]
     },
     "execution_count": 9,
     "metadata": {},
     "output_type": "execute_result"
    }
   ],
   "source": [
    ">>> np.savez(outfile, x, y)\n",
    ">>> outfile.seek(0) # Only needed here to simulate closing & reopening file\n",
    ">>> npzfile = np.load(outfile)\n",
    ">>> npzfile.files"
   ]
  },
  {
   "cell_type": "code",
   "execution_count": 10,
   "metadata": {},
   "outputs": [
    {
     "data": {
      "text/plain": [
       "array([0, 1, 2, 3, 4, 5, 6, 7, 8, 9])"
      ]
     },
     "execution_count": 10,
     "metadata": {},
     "output_type": "execute_result"
    }
   ],
   "source": [
    ">>> npzfile['arr_0']"
   ]
  },
  {
   "cell_type": "markdown",
   "metadata": {},
   "source": [
    "使用带`**kwds`参数的`savez`，用关键字参数命名保存的数组。"
   ]
  },
  {
   "cell_type": "code",
   "execution_count": 11,
   "metadata": {},
   "outputs": [
    {
     "data": {
      "text/plain": [
       "['x', 'y']"
      ]
     },
     "execution_count": 11,
     "metadata": {},
     "output_type": "execute_result"
    }
   ],
   "source": [
    ">>> outfile = TemporaryFile()\n",
    ">>> np.savez(outfile, x=x, y=y)\n",
    ">>> outfile.seek(0)\n",
    ">>> npzfile = np.load(outfile)\n",
    ">>> npzfile.files"
   ]
  },
  {
   "cell_type": "code",
   "execution_count": 12,
   "metadata": {},
   "outputs": [
    {
     "data": {
      "text/plain": [
       "array([0, 1, 2, 3, 4, 5, 6, 7, 8, 9])"
      ]
     },
     "execution_count": 12,
     "metadata": {},
     "output_type": "execute_result"
    }
   ],
   "source": [
    ">>> npzfile['x']"
   ]
  },
  {
   "cell_type": "markdown",
   "metadata": {},
   "source": [
    "# numpy.savez_compressed\n",
    "`numpy.savez_compressed(file, *args, **kwds)`\n",
    "\n",
    "将多个数组以压缩`.npz`格式保存到单个文件中。\n",
    "\n",
    "如果给出了关键字参数，则从关键字中获取文件名。如果传入的参数没有关键字，则存储的文件名为`arr_0，arr_1`等。"
   ]
  },
  {
   "cell_type": "markdown",
   "metadata": {},
   "source": [
    "## Parameters:\t\n",
    "**file** : str or file\n",
    "\n",
    "文件名（字符串）或将保存数据的打开的文件（类似文件的对象）。如果file是字符串或Path，则 `.npz`扩展名将附加到文件名（如果文件名尚不存在）。\n",
    "\n",
    "**args** : Arguments, optional\n",
    "\n",
    "要保存到文件的数组。由于Python无法知道外部数组的名称savez，因此将使用名称“arr_0”，“arr_1”等保存数组。这些参数可以是任何表达式。\n",
    "\n",
    "**kwds** : Keyword arguments, optional\n",
    "\n",
    "要保存到文件的数组。数组将使用关键字名称保存在文件中。\n",
    "\n",
    "**Returns**: None"
   ]
  },
  {
   "cell_type": "markdown",
   "metadata": {},
   "source": [
    "**注意：**\n",
    "\n",
    "`.npz`文件格式是它们所包含的变量命名的文件的压缩文档。被压缩的存档带有`zipfile.ZIP_DEFLATED`，并且存档中的每个文件都包含一个`.npy`格式的变量。有关.npy格式的说明，请参阅 numpy.lib.format。\n",
    "\n",
    "当用`load`打开保存的`.npz`返回一个NpzFile对象。这是一个类似字典的对象，可以查询其数组列表（带有`.files`属性），也可以查询数组本身。"
   ]
  },
  {
   "cell_type": "markdown",
   "metadata": {},
   "source": [
    "## 示例"
   ]
  },
  {
   "cell_type": "code",
   "execution_count": 13,
   "metadata": {},
   "outputs": [
    {
     "name": "stdout",
     "output_type": "stream",
     "text": [
      "True\n"
     ]
    }
   ],
   "source": [
    ">>> test_array = np.random.rand(3, 2)\n",
    ">>> test_vector = np.random.rand(4)\n",
    ">>> np.savez_compressed('/tmp/123', a=test_array, b=test_vector)\n",
    ">>> loaded = np.load('/tmp/123.npz')\n",
    ">>> print(np.array_equal(test_array, loaded['a']))"
   ]
  },
  {
   "cell_type": "code",
   "execution_count": 14,
   "metadata": {},
   "outputs": [
    {
     "name": "stdout",
     "output_type": "stream",
     "text": [
      "True\n"
     ]
    }
   ],
   "source": [
    ">>> print(np.array_equal(test_vector, loaded['b']))"
   ]
  },
  {
   "cell_type": "code",
   "execution_count": null,
   "metadata": {},
   "outputs": [],
   "source": []
  }
 ],
 "metadata": {
  "kernelspec": {
   "display_name": "Python 3",
   "language": "python",
   "name": "python3"
  },
  "language_info": {
   "codemirror_mode": {
    "name": "ipython",
    "version": 3
   },
   "file_extension": ".py",
   "mimetype": "text/x-python",
   "name": "python",
   "nbconvert_exporter": "python",
   "pygments_lexer": "ipython3",
   "version": "3.6.6"
  },
  "toc": {
   "base_numbering": 1,
   "nav_menu": {},
   "number_sections": true,
   "sideBar": true,
   "skip_h1_title": false,
   "title_cell": "Table of Contents",
   "title_sidebar": "Contents",
   "toc_cell": false,
   "toc_position": {},
   "toc_section_display": true,
   "toc_window_display": true
  }
 },
 "nbformat": 4,
 "nbformat_minor": 2
}
