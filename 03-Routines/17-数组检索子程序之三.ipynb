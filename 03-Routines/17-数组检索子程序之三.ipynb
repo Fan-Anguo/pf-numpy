{
 "cells": [
  {
   "cell_type": "markdown",
   "metadata": {},
   "source": [
    "17-数组检索子程序之三\n",
    "====\n",
    "Inserting data into arrays\n",
    "----"
   ]
  },
  {
   "cell_type": "markdown",
   "metadata": {},
   "source": [
    "| Inserting   data into arrays               |                                                              |\n",
    "| ------------------------------------------ | ------------------------------------------------------------ |\n",
    "| place(arr, mask, vals)                     | Change elements   of an array based on conditional and input values. |\n",
    "| put(a, ind, v[, mode])                     | Replaces   specified elements of an array with given values. |\n",
    "| put_along_axis(arr, indices, values, axis) | Put   values into the destination array by matching 1d index and data slices. |\n",
    "| putmask(a, mask, values)                   | Changes   elements of an array based on conditional and input values. |\n",
    "| fill_diagonal(a, val[, wrap])              | Fill   the main diagonal of the given array of any dimensionality. |"
   ]
  },
  {
   "cell_type": "markdown",
   "metadata": {},
   "source": [
    "# numpy.place\n",
    "`numpy.place(arr, mask, vals)`\n",
    "\n",
    "根据条件和输入值更改数组的元素。\n",
    "\n",
    "与`np.copyto（arr，vals，where = mask）`类似，区别在于该位置使用vals的前N个元素，其中N是掩码中True值的数量，而copyto使用mask为True的元素。\n",
    "\n",
    "请注意，`extract`提取的元素与`place`完全相反。"
   ]
  },
  {
   "cell_type": "markdown",
   "metadata": {},
   "source": [
    "## Parameters:\t\n",
    "**arr** : ndarray，将数据放入的数组。\n",
    "\n",
    "**mask** : array_like，布尔掩码数组。必须与 a 有相同的大小。\n",
    "\n",
    "**vals** : 1-D sequence\n",
    "\n",
    "放入 a 的值。 仅使用前N个元素，其中N是掩码中的True值的数量。 如果vals小于N，则重复执行，如果要屏蔽 a 的元素，则此序列必须为非空。"
   ]
  },
  {
   "cell_type": "markdown",
   "metadata": {},
   "source": [
    "## 示例"
   ]
  },
  {
   "cell_type": "code",
   "execution_count": 2,
   "metadata": {},
   "outputs": [
    {
     "data": {
      "text/plain": [
       "array([[ 0,  1,  2],\n",
       "       [44, 55, 44]])"
      ]
     },
     "execution_count": 2,
     "metadata": {},
     "output_type": "execute_result"
    }
   ],
   "source": [
    "import numpy as np\n",
    ">>> arr = np.arange(6).reshape(2, 3)\n",
    ">>> np.place(arr, arr>2, [44, 55])\n",
    ">>> arr"
   ]
  },
  {
   "cell_type": "markdown",
   "metadata": {},
   "source": [
    "# numpy.put\n",
    "`numpy.put(a, ind, v, mode='raise')`\n",
    "\n",
    "用给定值替换数组的指定元素。\n",
    "\n",
    "索引适用于展平的目标数组。 put大致相当于：`a.flat[ind] = v`"
   ]
  },
  {
   "cell_type": "markdown",
   "metadata": {},
   "source": [
    "## Parameters:\t\n",
    "**a** : ndarray，目标数组。\n",
    "\n",
    "**ind** : array_like，目标索引，解释为整数。\n",
    "\n",
    "**v** : array_like，放置在目标索引处的值。 如果v比ind短，则根据需要重复。\n",
    "\n",
    "**mode** : `{‘raise’, ‘wrap’, ‘clip’}`, 可选参数。指定超出边界的索引的行为。\n",
    "\n",
    "- ‘raise’ – raise an error (default)\n",
    "- ‘wrap’ – wrap around\n",
    "- ‘clip’ – clip to the range\n",
    "\n",
    "'clip'模式意味着所有过大的索引都被索引沿着该轴的最后一个元素所取代。 请注意，这会禁用带负数的索引。"
   ]
  },
  {
   "cell_type": "markdown",
   "metadata": {},
   "source": [
    "## 示例"
   ]
  },
  {
   "cell_type": "code",
   "execution_count": 3,
   "metadata": {},
   "outputs": [
    {
     "data": {
      "text/plain": [
       "array([-44,   1, -55,   3,   4])"
      ]
     },
     "execution_count": 3,
     "metadata": {},
     "output_type": "execute_result"
    }
   ],
   "source": [
    ">>> a = np.arange(5)\n",
    ">>> np.put(a, [0, 2], [-44, -55])\n",
    ">>> a"
   ]
  },
  {
   "cell_type": "code",
   "execution_count": 4,
   "metadata": {},
   "outputs": [
    {
     "data": {
      "text/plain": [
       "array([ 0,  1,  2,  3, -5])"
      ]
     },
     "execution_count": 4,
     "metadata": {},
     "output_type": "execute_result"
    }
   ],
   "source": [
    ">>> a = np.arange(5)\n",
    ">>> np.put(a, 22, -5, mode='clip')\n",
    ">>> a"
   ]
  },
  {
   "cell_type": "markdown",
   "metadata": {},
   "source": [
    "## numpy.put_along_axis\n",
    "`numpy.put_along_axis(arr, indices, values, axis)`"
   ]
  },
  {
   "cell_type": "markdown",
   "metadata": {},
   "source": [
    "通过匹配1d索引和数据切片将值放入目标数组。\n",
    "\n",
    "这将遍历1d切片，指定沿索引和数据数组中指定轴，并使用前者将值放入后者中。 这些切片可以是不同的长度。\n",
    "\n",
    "沿轴返回索引的函数（如argsort和argpartition）会为此函数生成合适的索引。"
   ]
  },
  {
   "cell_type": "markdown",
   "metadata": {},
   "source": [
    "## Parameters:\t\n",
    "**arr**: ndarray (Ni…, M, Nk…)，目标数组。\n",
    "\n",
    "**indices**: ndarray (Ni…, J, Nk…)\n",
    "\n",
    "索引沿着arr的每个1d切片变化。必须与arr的维度匹配，但是Ni和Nj中的维度可以是1，以对arr广播。\n",
    "\n",
    "**values**: array_like (Ni…, J, Nk…)。\n",
    "\n",
    "在这些索引中插入的值。它的形状和大小被广播以与索引相匹配。\n",
    "\n",
    "**axis**: int\n",
    "\n",
    "1d切片沿着该轴。如果axis为None，则将目标数组视为已创建平展的1d视图。"
   ]
  },
  {
   "cell_type": "markdown",
   "metadata": {},
   "source": [
    "**注意**\n",
    "这相当于（但更快）以下使用`ndindex`和`s_`，它们将`ii`和`kk`中的每一个设置为索引的元组："
   ]
  },
  {
   "cell_type": "markdown",
   "metadata": {},
   "source": [
    "```\n",
    "Ni, M, Nk = a.shape[:axis], a.shape[axis], a.shape[axis+1:]\n",
    "J = indices.shape[axis]  # Need not equal M\n",
    "\n",
    "for ii in ndindex(Ni):\n",
    "    for kk in ndindex(Nk):\n",
    "        a_1d       = a      [ii + s_[:,] + kk]\n",
    "        indices_1d = indices[ii + s_[:,] + kk]\n",
    "        values_1d  = values [ii + s_[:,] + kk]\n",
    "        for j in range(J):\n",
    "            a_1d[indices_1d[j]] = values_1d[j]\n",
    "```"
   ]
  },
  {
   "cell_type": "markdown",
   "metadata": {},
   "source": [
    "同样地，消除内部循环，最后两行是：\n",
    "\n",
    "`a_1d[indices_1d] = values_1d`\n",
    "\n",
    "## 示例"
   ]
  },
  {
   "cell_type": "code",
   "execution_count": 5,
   "metadata": {},
   "outputs": [],
   "source": [
    "# 对下面的示例数组\n",
    ">>> a = np.array([[10, 30, 20], [60, 40, 50]])"
   ]
  },
  {
   "cell_type": "code",
   "execution_count": 10,
   "metadata": {},
   "outputs": [
    {
     "data": {
      "text/plain": [
       "array([[1],\n",
       "       [0]], dtype=int64)"
      ]
     },
     "execution_count": 10,
     "metadata": {},
     "output_type": "execute_result"
    }
   ],
   "source": [
    "#我们可以用以下代码替换最大值：\n",
    ">>> ai = np.expand_dims(np.argmax(a, axis=1), axis=1)\n",
    ">>> ai"
   ]
  },
  {
   "cell_type": "code",
   "execution_count": 11,
   "metadata": {},
   "outputs": [
    {
     "data": {
      "text/plain": [
       "array([[10, 30, 20],\n",
       "       [60, 40, 50]])"
      ]
     },
     "execution_count": 11,
     "metadata": {},
     "output_type": "execute_result"
    }
   ],
   "source": [
    "# >>> np.put_along_axis(a, ai, 99, axis=1) # 在1.15.0版中才有。\n",
    ">>> a"
   ]
  },
  {
   "cell_type": "markdown",
   "metadata": {},
   "source": [
    "# numpy.putmask\n",
    "`numpy.putmask(a, mask, values)`\n",
    "\n",
    "根据条件和输入值改变阵列的元素。\n",
    "\n",
    "为每个n设置`a.flat [n] = values [n]`，其中`mask.flat [n] == True`。\n",
    "\n",
    "如果值与`a`和`mask`的大小不同，那么它将重复。 这给出了与`[mask] = values`不同的行为。"
   ]
  },
  {
   "cell_type": "markdown",
   "metadata": {},
   "source": [
    "## Parameters:\t\n",
    "**a** : array_like，目标数组。\n",
    "\n",
    "**ask** : array_like，布尔掩码数组。它必须与a有相同的shape。\n",
    "\n",
    "**values** : array_like，将值放入一个掩码中是正确的。如果值小于a，那么它就会重复。\n",
    "\n",
    "## 示例"
   ]
  },
  {
   "cell_type": "code",
   "execution_count": 12,
   "metadata": {},
   "outputs": [
    {
     "data": {
      "text/plain": [
       "array([[ 0,  1,  2],\n",
       "       [ 9, 16, 25]])"
      ]
     },
     "execution_count": 12,
     "metadata": {},
     "output_type": "execute_result"
    }
   ],
   "source": [
    ">>> x = np.arange(6).reshape(2, 3)\n",
    ">>> np.putmask(x, x>2, x**2)\n",
    ">>> x"
   ]
  },
  {
   "cell_type": "markdown",
   "metadata": {},
   "source": [
    "如果值比 a 小，它就被重复。"
   ]
  },
  {
   "cell_type": "code",
   "execution_count": 13,
   "metadata": {},
   "outputs": [
    {
     "data": {
      "text/plain": [
       "array([  0,   1, -33, -44, -33])"
      ]
     },
     "execution_count": 13,
     "metadata": {},
     "output_type": "execute_result"
    }
   ],
   "source": [
    ">>> x = np.arange(5)\n",
    ">>> np.putmask(x, x>1, [-33, -44])\n",
    ">>> x"
   ]
  },
  {
   "cell_type": "markdown",
   "metadata": {},
   "source": [
    "# numpy.fill_diagonal\n",
    "`numpy.fill_diagonal(a, val, wrap=False)`\n",
    "\n",
    "填充任何维度的给定数组的主对角线。\n",
    "\n",
    "对于`a.ndim> = 2`的数组`a`，对角线是索引`a [i，...，i]`全部相同的位置列表。 此函数就地修改输入数组，它不返回值。"
   ]
  },
  {
   "cell_type": "markdown",
   "metadata": {},
   "source": [
    "## Parameters:\t\n",
    "**a** : array, at least 2-D.要填充对角线的数组，就地进行修改。\n",
    "\n",
    "**val** : scalar, 要写在对角线上的值，其类型必须与数组a的类型兼容。\n",
    "\n",
    "**wrap** : bool\n",
    "\n",
    "对于NumPy版本高达`1.6.2`的高矩阵，对角线“包裹”在N列之后。 您可以使用此选项具有此行为。 这只影响高矩阵。"
   ]
  },
  {
   "cell_type": "markdown",
   "metadata": {},
   "source": [
    "**注意**\n",
    "\n",
    "版本1.4.0中的新功能。\n",
    "\n",
    "这个功能可以通过diag_indices获得，但在内部这个版本使用了更快的实现，它从不构造索引并使用简单的切片。\n",
    "\n",
    "## 示例"
   ]
  },
  {
   "cell_type": "code",
   "execution_count": 14,
   "metadata": {},
   "outputs": [
    {
     "data": {
      "text/plain": [
       "array([[5, 0, 0],\n",
       "       [0, 5, 0],\n",
       "       [0, 0, 5]])"
      ]
     },
     "execution_count": 14,
     "metadata": {},
     "output_type": "execute_result"
    }
   ],
   "source": [
    ">>> a = np.zeros((3, 3), int)\n",
    ">>> np.fill_diagonal(a, 5)\n",
    ">>> a"
   ]
  },
  {
   "cell_type": "markdown",
   "metadata": {},
   "source": [
    "同样的函数可以在4-D数组上操作："
   ]
  },
  {
   "cell_type": "code",
   "execution_count": 15,
   "metadata": {},
   "outputs": [],
   "source": [
    ">>> a = np.zeros((3, 3, 3, 3), int)\n",
    ">>> np.fill_diagonal(a, 4)"
   ]
  },
  {
   "cell_type": "markdown",
   "metadata": {},
   "source": [
    "为清晰起见，我们只显示了几个块："
   ]
  },
  {
   "cell_type": "code",
   "execution_count": 16,
   "metadata": {},
   "outputs": [
    {
     "data": {
      "text/plain": [
       "array([[4, 0, 0],\n",
       "       [0, 0, 0],\n",
       "       [0, 0, 0]])"
      ]
     },
     "execution_count": 16,
     "metadata": {},
     "output_type": "execute_result"
    }
   ],
   "source": [
    "a[0,0]"
   ]
  },
  {
   "cell_type": "code",
   "execution_count": 17,
   "metadata": {},
   "outputs": [
    {
     "data": {
      "text/plain": [
       "array([[0, 0, 0],\n",
       "       [0, 4, 0],\n",
       "       [0, 0, 0]])"
      ]
     },
     "execution_count": 17,
     "metadata": {},
     "output_type": "execute_result"
    }
   ],
   "source": [
    "a[1,1]"
   ]
  },
  {
   "cell_type": "code",
   "execution_count": 18,
   "metadata": {},
   "outputs": [
    {
     "data": {
      "text/plain": [
       "array([[0, 0, 0],\n",
       "       [0, 0, 0],\n",
       "       [0, 0, 4]])"
      ]
     },
     "execution_count": 18,
     "metadata": {},
     "output_type": "execute_result"
    }
   ],
   "source": [
    "a[2,2]"
   ]
  },
  {
   "cell_type": "markdown",
   "metadata": {},
   "source": [
    "wrap选项只影响高矩阵："
   ]
  },
  {
   "cell_type": "code",
   "execution_count": 21,
   "metadata": {},
   "outputs": [
    {
     "data": {
      "text/plain": [
       "array([[4, 0, 0],\n",
       "       [0, 4, 0],\n",
       "       [0, 0, 4],\n",
       "       [0, 0, 0],\n",
       "       [0, 0, 0]])"
      ]
     },
     "execution_count": 21,
     "metadata": {},
     "output_type": "execute_result"
    }
   ],
   "source": [
    ">>> # tall matrices no wrap\n",
    ">>> a = np.zeros((5, 3),int)\n",
    ">>> np.fill_diagonal(a, 4)\n",
    ">>> a"
   ]
  },
  {
   "cell_type": "code",
   "execution_count": 22,
   "metadata": {},
   "outputs": [
    {
     "data": {
      "text/plain": [
       "array([[4, 0, 0],\n",
       "       [0, 4, 0],\n",
       "       [0, 0, 4],\n",
       "       [0, 0, 0],\n",
       "       [4, 0, 0]])"
      ]
     },
     "execution_count": 22,
     "metadata": {},
     "output_type": "execute_result"
    }
   ],
   "source": [
    ">>> # tall matrices wrap\n",
    ">>> a = np.zeros((5, 3),int)\n",
    ">>> np.fill_diagonal(a, 4, wrap=True)\n",
    ">>> a"
   ]
  },
  {
   "cell_type": "code",
   "execution_count": 23,
   "metadata": {},
   "outputs": [
    {
     "data": {
      "text/plain": [
       "array([[4, 0, 0, 0, 0],\n",
       "       [0, 4, 0, 0, 0],\n",
       "       [0, 0, 4, 0, 0]])"
      ]
     },
     "execution_count": 23,
     "metadata": {},
     "output_type": "execute_result"
    }
   ],
   "source": [
    ">>> # wide matrices\n",
    ">>> a = np.zeros((3, 5),int)\n",
    ">>> np.fill_diagonal(a, 4, wrap=True)\n",
    ">>> a"
   ]
  },
  {
   "cell_type": "code",
   "execution_count": null,
   "metadata": {},
   "outputs": [],
   "source": []
  }
 ],
 "metadata": {
  "kernelspec": {
   "display_name": "Python 3",
   "language": "python",
   "name": "python3"
  },
  "language_info": {
   "codemirror_mode": {
    "name": "ipython",
    "version": 3
   },
   "file_extension": ".py",
   "mimetype": "text/x-python",
   "name": "python",
   "nbconvert_exporter": "python",
   "pygments_lexer": "ipython3",
   "version": "3.6.5"
  },
  "toc": {
   "nav_menu": {},
   "number_sections": true,
   "sideBar": true,
   "skip_h1_title": false,
   "title_cell": "Table of Contents",
   "title_sidebar": "Contents",
   "toc_cell": false,
   "toc_position": {},
   "toc_section_display": true,
   "toc_window_display": false
  }
 },
 "nbformat": 4,
 "nbformat_minor": 2
}
