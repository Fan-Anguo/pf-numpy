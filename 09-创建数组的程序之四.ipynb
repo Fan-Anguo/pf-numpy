{
 "cells": [
  {
   "cell_type": "markdown",
   "metadata": {},
   "source": [
    "创建数组的程序之四\n",
    "====\n",
    "Creating character arrays (numpy.char)\n",
    "----\n",
    "**Note**\n",
    "\n",
    "numpy.char 是 numpy.core.defchararray 的首选别名。"
   ]
  },
  {
   "cell_type": "markdown",
   "metadata": {},
   "source": [
    "- core.defchararray.array\n",
    "- core.defchararray.asarray"
   ]
  },
  {
   "cell_type": "markdown",
   "metadata": {},
   "source": [
    "# numpy.core.defchararray.array\n",
    "`numpy.core.defchararray.array(obj, itemsize=None, copy=True, unicode=None, order=None)`\n",
    "\n",
    "创建一个chararray。\n",
    "\n",
    "**注意：**\n",
    "\n",
    "这个类是为numarray向后兼容提供的。新的代码(与numarray兼容无关)应该使用 string_ 或 unicode_ 类型的数组，并在numpy中使用自由函数。char用于快速向量化字符串操作。"
   ]
  },
  {
   "cell_type": "markdown",
   "metadata": {},
   "source": [
    "与str或unicode类型的常规NumPy数组相比，这个类添加了以下功能：\n",
    "\n",
    "1. 当索引时，值的末尾会自动删除空格\n",
    "2. 比较运算符在比较值时自动删除末尾的空格\n",
    "3. 矢量化的字符串操作以方法(例如 str.endswith )和中缀运算符(例如，`+, *, %`）的形式提供"
   ]
  },
  {
   "cell_type": "markdown",
   "metadata": {},
   "source": [
    "## Parameters:"
   ]
  },
  {
   "cell_type": "markdown",
   "metadata": {},
   "source": [
    "** obj : ** array of str or unicode-like\n",
    "\n",
    "** itemsize : ** int, 可选关键字参数。itemsize 是结果数组中每个标量的字符数。如果itemsize为空，而obj是对象数组或Python列表，则将自动确定itemsize。如果提供了itemsize，并且obj类型为 str 或 unicode，那么obj字符串将被分成itemsize片段。\n",
    "\n",
    "** copy : ** bool, 可选关键字参数。如果是true（默认值）,将复制对象。否则，只有当__array__返回一个副本时，或者obj是一个嵌套序列，或者需要一个副本以满足任何其他需求(项目大小、unicode、顺序等)时，才会进行复制。\n",
    "\n",
    "**unicode :** bool, 可选关键字参数。当为真时，产生的chararray可以包含Unicode字符，而当为假时只有8位字符。如果unicode为空，obj为以下之一:\n",
    "\n",
    "- a chararray,\n",
    "- an ndarray of type str or unicode\n",
    "- a Python str or unicode object,\n",
    "\n",
    "然后将自动确定输出数组的unicode设置。\n",
    "\n",
    "** order : ** {‘C’, ‘F’, ‘A’}, 可选关键字参数。指定 array 的顺序。如果order是‘C’（默认），然后数组将以c -连续的顺序排列(last-index变化最快)。如果order是' F '，那么返回的数组将是Fortran-contiguous order(第一索引变化最快)。如果order是' A '，那么返回的数组可能是任何顺序(C-、fortrancontiguous，甚至是discontiguous)。"
   ]
  },
  {
   "cell_type": "markdown",
   "metadata": {},
   "source": [
    "# numpy.core.defchararray.asarray\n",
    "`numpy.core.defchararray.asarray(obj, itemsize=None, unicode=None, order=None)`\n",
    "\n",
    "将输入转换为 chararray，仅在需要时复制数据。\n",
    "\n",
    "与str或unicode类型的常规NumPy数组相比，这个类增加了以下功能:\n",
    "\n",
    "- 当索引时，值的末尾会自动删除空格\n",
    "- 比较运算符在比较值时自动删除末尾的空格\n",
    "- 矢量化字符串操作以方法(例如str.endswith)和中缀操作符的形式提供 (如` +, *,``%```)"
   ]
  },
  {
   "cell_type": "markdown",
   "metadata": {},
   "source": [
    "## Parameters:\t\n",
    "**obj :** array of str or unicode-like\n",
    "**itemsize :** int, 可选关键字参数。itemsize是结果数组中每个标量的字符数。如果itemsize为空，而obj是对象数组或Python列表，则将自动确定itemsize。如果提供了itemsize，并且obj类型为str或unicode，那么obj字符串将被分成itemsize片段。\n",
    "\n",
    "**unicode :** bool, 可选关键字参数。当为true时，产生的chararray可以包含Unicode字符，而当为假时只有8位字符。如果unicode为空，obj为以下之一:\n",
    "\n",
    "- a chararray,\n",
    "- an ndarray of type str or ‘unicode`\n",
    "- a Python str or unicode object,\n",
    "\n",
    "然后将自动确定输出数组的unicode设置。\n",
    "\n",
    "**order :** {‘C’, ‘F’}, 可选关键字参数。指定数组的顺序。如果order是' C '(默认)，那么数组的顺序是C-contiguous (last-index变化最快)。如果order是' F '，那么返回的数组将是Fortran-contiguous(第一个索引变化最快的)。"
   ]
  },
  {
   "cell_type": "markdown",
   "metadata": {},
   "source": []
  },
  {
   "cell_type": "markdown",
   "metadata": {},
   "source": []
  },
  {
   "cell_type": "markdown",
   "metadata": {},
   "source": []
  },
  {
   "cell_type": "markdown",
   "metadata": {},
   "source": []
  }
 ],
 "metadata": {
  "kernelspec": {
   "display_name": "Python 3",
   "language": "python",
   "name": "python3"
  },
  "language_info": {
   "codemirror_mode": {
    "name": "ipython",
    "version": 3
   },
   "file_extension": ".py",
   "mimetype": "text/x-python",
   "name": "python",
   "nbconvert_exporter": "python",
   "pygments_lexer": "ipython3",
   "version": "3.6.5"
  },
  "toc": {
   "base_numbering": 1,
   "nav_menu": {},
   "number_sections": true,
   "sideBar": true,
   "skip_h1_title": false,
   "title_cell": "Table of Contents",
   "title_sidebar": "Contents",
   "toc_cell": false,
   "toc_position": {},
   "toc_section_display": true,
   "toc_window_display": true
  }
 },
 "nbformat": 4,
 "nbformat_minor": 2
}
