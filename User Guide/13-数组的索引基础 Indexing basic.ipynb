{
 "cells": [
  {
   "cell_type": "markdown",
   "metadata": {},
   "source": [
    "13-数组的索引基础\n",
    "====\n",
    " indexing basic\n",
    " ----\n",
    " NumPy User Guide ---> NumPy basics"
   ]
  },
  {
   "cell_type": "markdown",
   "metadata": {},
   "source": [
    "数组索引是指使用方括号（[ ]）来索引数组的值。索引有很多选项，它可以为numpy索引提供强大的功能，但是强大的功能也会带来一些复杂性和混淆的可能性。 我们先仅概述与索引相关的各种选项和问题。 关于索引的详细讨论请参见Indexing routines。"
   ]
  },
  {
   "cell_type": "markdown",
   "metadata": {},
   "source": [
    "# 赋值和引用\n",
    "\n",
    "以下大多数示例展示了使用索引引用数组中的数据。在赋值给数组时，这些示例也可以正常工作。有关赋值如何工作的具体示例和说明，请参见最后一节。"
   ]
  },
  {
   "cell_type": "markdown",
   "metadata": {},
   "source": [
    "# 单元素的索引\n",
    "\n",
    "人们期望一维数组的单元素索引。它的工作方式与其他标准Python序列完全相同。它从0开始，并接受负索引从数组末尾开始索引。\n",
    "\n",
    "正索引从0开始，负索引从-1开始。"
   ]
  },
  {
   "cell_type": "code",
   "execution_count": 2,
   "metadata": {},
   "outputs": [
    {
     "data": {
      "text/plain": [
       "array([0, 1, 2, 3, 4, 5, 6, 7, 8, 9])"
      ]
     },
     "execution_count": 2,
     "metadata": {},
     "output_type": "execute_result"
    }
   ],
   "source": [
    "import numpy as np\n",
    "x=np.arange(10)\n",
    "x"
   ]
  },
  {
   "cell_type": "code",
   "execution_count": 3,
   "metadata": {},
   "outputs": [
    {
     "data": {
      "text/plain": [
       "2"
      ]
     },
     "execution_count": 3,
     "metadata": {},
     "output_type": "execute_result"
    }
   ],
   "source": [
    "x[2]"
   ]
  },
  {
   "cell_type": "code",
   "execution_count": 4,
   "metadata": {},
   "outputs": [
    {
     "data": {
      "text/plain": [
       "8"
      ]
     },
     "execution_count": 4,
     "metadata": {},
     "output_type": "execute_result"
    }
   ],
   "source": [
    "x[-2]"
   ]
  },
  {
   "cell_type": "markdown",
   "metadata": {},
   "source": [
    "与列表和元组不同，numpy数组支持多维数组的多维索引。这意味着没有必要将每个维度的索引分开放到它们自己的方括号集里。"
   ]
  },
  {
   "cell_type": "code",
   "execution_count": 5,
   "metadata": {},
   "outputs": [
    {
     "data": {
      "text/plain": [
       "array([[0, 1, 2, 3, 4],\n",
       "       [5, 6, 7, 8, 9]])"
      ]
     },
     "execution_count": 5,
     "metadata": {},
     "output_type": "execute_result"
    }
   ],
   "source": [
    ">>> x.shape = (2,5) # now x is 2-dimensional\n",
    "x"
   ]
  },
  {
   "cell_type": "code",
   "execution_count": 6,
   "metadata": {},
   "outputs": [
    {
     "data": {
      "text/plain": [
       "8"
      ]
     },
     "execution_count": 6,
     "metadata": {},
     "output_type": "execute_result"
    }
   ],
   "source": [
    ">>> x[1,3]"
   ]
  },
  {
   "cell_type": "code",
   "execution_count": 7,
   "metadata": {},
   "outputs": [
    {
     "data": {
      "text/plain": [
       "9"
      ]
     },
     "execution_count": 7,
     "metadata": {},
     "output_type": "execute_result"
    }
   ],
   "source": [
    ">>> x[1,-1]"
   ]
  },
  {
   "cell_type": "markdown",
   "metadata": {},
   "source": [
    "**请注意**，如果用比维度少的索引检索多维数组，则得到一个子维度数组。 例如："
   ]
  },
  {
   "cell_type": "code",
   "execution_count": 8,
   "metadata": {},
   "outputs": [
    {
     "data": {
      "text/plain": [
       "array([0, 1, 2, 3, 4])"
      ]
     },
     "execution_count": 8,
     "metadata": {},
     "output_type": "execute_result"
    }
   ],
   "source": [
    "x[0]"
   ]
  },
  {
   "cell_type": "markdown",
   "metadata": {},
   "source": [
    "也就是说，指定的每个索引选择与所选维度的其余部分对应的数组。 在上面的示例中，选择0表示长度为5的剩余维度未指定，返回的是该维度和大小的数组。 必须注意的是，返回的数组不是原始数据的副本，而是指向内存中与原始数组相同的值。 在这种情况下，返回第一个位置（0）的 1-D array。 因此，在返回的数组上使用单个索引会进一步返回单个元素。示例如下："
   ]
  },
  {
   "cell_type": "code",
   "execution_count": 9,
   "metadata": {},
   "outputs": [
    {
     "data": {
      "text/plain": [
       "2"
      ]
     },
     "execution_count": 9,
     "metadata": {},
     "output_type": "execute_result"
    }
   ],
   "source": [
    "x[0][2]"
   ]
  },
  {
   "cell_type": "markdown",
   "metadata": {},
   "source": [
    "请**注意**虽然 `x [0,2] = x [0] [2]`，但是，因为在第一个索引之后再用 2 对其索引创建了一个新的临时数组，所以第二种情况效率更低。\n",
    "\n",
    "请注意那些习惯于 IDL 或 Fortran 内存顺序的内容，因为它与索引有关。 NumPy 使用 C 顺序索引。这意味着最后一个索引通常代表最快速变化的内存位置，与 Fortran 或 IDL 不同，IDL 或 Fortran 顺序中第一个索引代表内存中变化最快的位置。这种差异代表了混淆的巨大潜力。"
   ]
  },
  {
   "cell_type": "markdown",
   "metadata": {},
   "source": [
    "# 其它索引选项\n",
    "\n",
    "Other indexing options\n",
    "\n",
    "可以对数组进行切片(slice)和跨步(stride)以提取具有相同维度数但尺寸与原始数组不同的数组。切片和跨步的工作原理与列表和元组完全相同，只是它们还可以用于多个维度。用例子说明是最好的："
   ]
  },
  {
   "cell_type": "code",
   "execution_count": 10,
   "metadata": {},
   "outputs": [
    {
     "data": {
      "text/plain": [
       "array([0, 1, 2, 3, 4, 5, 6, 7, 8, 9])"
      ]
     },
     "execution_count": 10,
     "metadata": {},
     "output_type": "execute_result"
    }
   ],
   "source": [
    ">>> x = np.arange(10)\n",
    "x"
   ]
  },
  {
   "cell_type": "code",
   "execution_count": 11,
   "metadata": {},
   "outputs": [
    {
     "data": {
      "text/plain": [
       "array([2, 3, 4])"
      ]
     },
     "execution_count": 11,
     "metadata": {},
     "output_type": "execute_result"
    }
   ],
   "source": [
    ">>> x[2:5]"
   ]
  },
  {
   "cell_type": "code",
   "execution_count": 12,
   "metadata": {},
   "outputs": [
    {
     "data": {
      "text/plain": [
       "array([0, 1, 2])"
      ]
     },
     "execution_count": 12,
     "metadata": {},
     "output_type": "execute_result"
    }
   ],
   "source": [
    ">>> x[:-7]"
   ]
  },
  {
   "cell_type": "code",
   "execution_count": 13,
   "metadata": {},
   "outputs": [
    {
     "data": {
      "text/plain": [
       "array([1, 3, 5])"
      ]
     },
     "execution_count": 13,
     "metadata": {},
     "output_type": "execute_result"
    }
   ],
   "source": [
    ">>> x[1:7:2]"
   ]
  },
  {
   "cell_type": "code",
   "execution_count": 14,
   "metadata": {},
   "outputs": [
    {
     "data": {
      "text/plain": [
       "array([[ 0,  1,  2,  3,  4,  5,  6],\n",
       "       [ 7,  8,  9, 10, 11, 12, 13],\n",
       "       [14, 15, 16, 17, 18, 19, 20],\n",
       "       [21, 22, 23, 24, 25, 26, 27],\n",
       "       [28, 29, 30, 31, 32, 33, 34]])"
      ]
     },
     "execution_count": 14,
     "metadata": {},
     "output_type": "execute_result"
    }
   ],
   "source": [
    ">>> y = np.arange(35).reshape(5,7)\n",
    "y"
   ]
  },
  {
   "cell_type": "code",
   "execution_count": 15,
   "metadata": {},
   "outputs": [
    {
     "data": {
      "text/plain": [
       "array([[ 7, 10, 13],\n",
       "       [21, 24, 27]])"
      ]
     },
     "execution_count": 15,
     "metadata": {},
     "output_type": "execute_result"
    }
   ],
   "source": [
    ">>> y[1:5:2,::3]"
   ]
  },
  {
   "cell_type": "markdown",
   "metadata": {},
   "source": [
    "请注意，数组切片不会复制内部数组数据，但会生成原始数据的新视图。\n",
    "\n",
    "可以使用其他数组索引数组，以便从数组中选择值列表到新数组中。有两种不同的方法来实现这一点。 \n",
    "\n",
    "**一是** 使用一个或多个索引值数组。\n",
    "\n",
    "**二是** 给出一个正确形状的布尔数组来指示要选择的值。\n",
    "\n",
    "索引数组是一个非常强大的工具，可以避免循环遍历数组中的各个元素，从而大大提高性能。\n",
    "\n",
    "可以使用特殊功能通过索引有效地增加数组中的维数，以便生成的数组获取在表达式或特定函数中使用所需的形状。"
   ]
  },
  {
   "cell_type": "markdown",
   "metadata": {},
   "source": [
    "# 索引数组\n",
    "\n",
    "NumPy数组可以使用其他数组（或任何其他可以转换为数组的类似序列的对象，如列表，但元组除外）作为索引数组来检索数据。索引数组的使用范围从简单、直接的案例到复杂的、难以理解的案例。对于索引数组的所有情况，返回的是原始数据的副本，而不是切片获取的视图。\n",
    "\n",
    "索引数组必须是整数类型。数组中的每个值指示要使用的数组中的哪个值代替索引值。 示例说明："
   ]
  },
  {
   "cell_type": "markdown",
   "metadata": {},
   "source": [
    "## indexes和indices的区别\n",
    "\n",
    "中文的“索引”一词，有两个含义：\n",
    "- 一是“索引标记值”，从数据块（数组，矩阵，集合，列表等）中检索数据的位置，比如，列表的0位，3位，-1位等；\n",
    "- 二是“检索出”，意思是从数据块中检索数据的动作。\n",
    "\n",
    "在英文中常用两个单词表达“索引”，index，indices\n",
    "\n",
    "**index** `/'ɪndeks/ ` 简明含义如下：\n",
    "- n. 指标；<数>指数；索引；指针\n",
    "- vi. 做索引\n",
    "- vt. 指出；给…编索引；把…编入索引\n",
    "- 名词复数 indexes或indices\n",
    "- 动词，第三人称单数：indexes；过去分词：indexed；现在进行时：indexing；过去式：indexed\n",
    "\n",
    "**indexes**`/'indeksis/ `\n",
    "- n. 指数；标准（index的复数）；索引\n",
    "- v. 表明（index的第三人称单数）；指示；为…编索引\n",
    "\n",
    "*一般认为两者基本相同，细微的区别在于：*\n",
    "- indexes在美国、加拿大等国的英语里比较常见。但indices盛行于除北美国家以外的英语里。\n",
    "- indices一般在数学，金融和相关领域使用，而indexes使用则相对广泛。\n",
    "\n",
    "在Python数据科学中会经常涉及到这两个词，甚至在一个句子中同时出现这两个词，可以这样区分理解它们：\n",
    "1. indexing, indexed，显然都是动词形式，理解为从数据块中检索出数据；\n",
    "2. indexes，看它在句子中的词性，如果是动词的第三人称单数形式，含义同上；如果是名词复数，就是“索引”值；\n",
    "3. indices，如果是名词，就是index的复数，意指有多个“索引”值；如果是第三人称单数，就是动词，就是“检索”。\n"
   ]
  },
  {
   "cell_type": "markdown",
   "metadata": {},
   "source": [
    "比如下面这段话：\n",
    "Array indexing（动名词，理解为“检索”） refers to any use of the square brackets ([]) to index（to 动词原型，也理解为“检索”） array values. There are many options to indexing（检索）, which give numpy indexing（检索） great power, but with power comes some complexity and the potential for confusion. This section is just an overview of the various options and issues related to indexing. Aside from single element indexing, the details on most of these options are to be found in related sections.\n",
    "\n",
    "这段话翻译如下就较易理解：\n",
    "\n",
    "“数组检索是指使用方括号（[]）来检索数组的值。检索有很多选项（选项就是“检索”动作的方式），它可以为 numpy 的数据检索提供强大的功能，但是强大功能会带来一些复杂性和混淆的可能性。 本节仅概述与检索相关的各种选项和问题。除了检索单元素外，大多数这些选项的详细信息都可以在相关章节中找到。”\n",
    "\n",
    "显然，将indexing翻译为“检索”比翻译为“索引”更易于理解。"
   ]
  },
  {
   "cell_type": "markdown",
   "metadata": {},
   "source": [
    "**再比如：**\n",
    "“NumPy arrays may be indexed（过去分词，“检索”） with other arrays (or any other sequence- like object that can be converted to an array, such as lists, with the exception of tuples; see the end of this document for why this is). The use of index（名词，“索引”） arrays ranges from simple, straightforward cases to complex, hard-to-understand cases. For all cases of index arrays, what is returned is a copy of the original data, not a view as one gets for slices.”\n",
    "\n",
    "NumPy数组可以使用其他数组（或任何其他可以转换为数组的类似序列的对象，如列表，但元组除外）作为索引数组来检索数据。索引数组的使用范围从简单、直接的案例到复杂的、难以理解的案例。对于索引数组的所有情况，返回的是原始数据的副本，而不是切片获取的视图。\n",
    "\n",
    "上文中“index arrays”是指用数组（甚至可能是多个数组）作为“索引值”。"
   ]
  },
  {
   "cell_type": "code",
   "execution_count": 16,
   "metadata": {},
   "outputs": [
    {
     "data": {
      "text/plain": [
       "array([10,  9,  8,  7,  6,  5,  4,  3,  2])"
      ]
     },
     "execution_count": 16,
     "metadata": {},
     "output_type": "execute_result"
    }
   ],
   "source": [
    ">>> x = np.arange(10,1,-1)\n",
    ">>> x"
   ]
  },
  {
   "cell_type": "code",
   "execution_count": 17,
   "metadata": {},
   "outputs": [
    {
     "data": {
      "text/plain": [
       "array([7, 7, 9, 2])"
      ]
     },
     "execution_count": 17,
     "metadata": {},
     "output_type": "execute_result"
    }
   ],
   "source": [
    ">>> x[np.array([3, 3, 1, 8])]"
   ]
  },
  {
   "cell_type": "markdown",
   "metadata": {},
   "source": [
    "由值3,3,1和8组成的索引数组相应地创建一个长度为4的数组（与索引数组相同），其中每个索引值由索引数组在被检索数组中所具有的值替换。\n",
    "\n",
    "允许使用负值，并且与单个索引或切片一样工作："
   ]
  },
  {
   "cell_type": "code",
   "execution_count": 18,
   "metadata": {},
   "outputs": [
    {
     "data": {
      "text/plain": [
       "array([7, 7, 4, 2])"
      ]
     },
     "execution_count": 18,
     "metadata": {},
     "output_type": "execute_result"
    }
   ],
   "source": [
    "x[np.array([3,3,-3,8])]"
   ]
  },
  {
   "cell_type": "markdown",
   "metadata": {},
   "source": [
    "索引值超出了边界会触发一个错误："
   ]
  },
  {
   "cell_type": "code",
   "execution_count": 19,
   "metadata": {},
   "outputs": [
    {
     "ename": "IndexError",
     "evalue": "index 20 is out of bounds for axis 0 with size 9",
     "output_type": "error",
     "traceback": [
      "\u001b[1;31m---------------------------------------------------------------------------\u001b[0m",
      "\u001b[1;31mIndexError\u001b[0m                                Traceback (most recent call last)",
      "\u001b[1;32m<ipython-input-19-5e4f6c038047>\u001b[0m in \u001b[0;36m<module>\u001b[1;34m()\u001b[0m\n\u001b[1;32m----> 1\u001b[1;33m \u001b[0mx\u001b[0m\u001b[1;33m[\u001b[0m\u001b[0mnp\u001b[0m\u001b[1;33m.\u001b[0m\u001b[0marray\u001b[0m\u001b[1;33m(\u001b[0m\u001b[1;33m[\u001b[0m\u001b[1;36m3\u001b[0m\u001b[1;33m,\u001b[0m \u001b[1;36m3\u001b[0m\u001b[1;33m,\u001b[0m \u001b[1;36m20\u001b[0m\u001b[1;33m,\u001b[0m \u001b[1;36m8\u001b[0m\u001b[1;33m]\u001b[0m\u001b[1;33m)\u001b[0m\u001b[1;33m]\u001b[0m\u001b[1;33m\u001b[0m\u001b[0m\n\u001b[0m",
      "\u001b[1;31mIndexError\u001b[0m: index 20 is out of bounds for axis 0 with size 9"
     ]
    }
   ],
   "source": [
    ">>> x[np.array([3, 3, 20, 8])]"
   ]
  },
  {
   "cell_type": "markdown",
   "metadata": {},
   "source": [
    "一般来说，使用索引数组时返回的是与索引数组具有相同形状的数组，但类型和值是被检索数组的。可以使用多维索引数组更能说明问题："
   ]
  },
  {
   "cell_type": "code",
   "execution_count": null,
   "metadata": {},
   "outputs": [],
   "source": [
    ">>> x[np.array([[1,1],[2,3]])]"
   ]
  },
  {
   "cell_type": "markdown",
   "metadata": {},
   "source": [
    "# 检索多维数组\n",
    "Indexing Multi-dimensional arrays"
   ]
  },
  {
   "cell_type": "markdown",
   "metadata": {},
   "source": [
    "当检索多维数组时，事情变得更加复杂，尤其是使用“多维索引数组”检索“多维数组”。这些往往是更不寻常的用途，但它们是允许的，它们对某些问题很有用。我们从最简单的多维情况开始（使用前面示例中的数组y）："
   ]
  },
  {
   "cell_type": "code",
   "execution_count": null,
   "metadata": {},
   "outputs": [],
   "source": [
    "y"
   ]
  },
  {
   "cell_type": "code",
   "execution_count": null,
   "metadata": {},
   "outputs": [],
   "source": [
    ">>> y[np.array([0,2,4]), np.array([0,1,2])]"
   ]
  },
  {
   "cell_type": "markdown",
   "metadata": {},
   "source": [
    "在这种情况下，如果索引数组具有匹配的形状，并且被检索数组的每个维度都有一个索引数组，则结果数组具有与索引数组相同的形状，值对应于索引数组中每个位置的索引集。在此示例中，两个索引数组的第一个索引值均为0，因此结果数组的第一个值为y [0,0]。 下一个值是y [2,1]，最后一个是y [4,2]。\n",
    "\n",
    "**值对应于索引数组中每个位置的索引集。**这句话的意思是：\n",
    "- 每个维度都有一个索引数组；\n",
    "- 每个索引数组相同位置的索引值组成一个索引集；\n",
    "- 用这个索引集在被检索数组中检索出数据；\n",
    "- 检索出的数据用在输出数组的对应位置。"
   ]
  },
  {
   "cell_type": "markdown",
   "metadata": {},
   "source": [
    "如果索引数组的形状不同，则尝试将它们广播为相同的形状。如果它们无法广播到相同的形状，则会引发异常："
   ]
  },
  {
   "cell_type": "code",
   "execution_count": null,
   "metadata": {},
   "outputs": [],
   "source": [
    "y[np.array([0,2,4]), np.array([0,1])]"
   ]
  },
  {
   "cell_type": "markdown",
   "metadata": {},
   "source": [
    "广播机制允许索引数组与其他索引的标量组合。结果是标量值用于索引数组的所有相应值："
   ]
  },
  {
   "cell_type": "code",
   "execution_count": null,
   "metadata": {},
   "outputs": [],
   "source": [
    " y[np.array([0,2,4]), 1]"
   ]
  },
  {
   "cell_type": "markdown",
   "metadata": {},
   "source": [
    "跳到下一级别的复杂性，可以使用索引数组对数组进行部分检索。需要一些思考才能理解在这种情况下会发生什么。 例如，如果我们仅使用一个索引数组检索y："
   ]
  },
  {
   "cell_type": "code",
   "execution_count": null,
   "metadata": {},
   "outputs": [],
   "source": [
    "y"
   ]
  },
  {
   "cell_type": "code",
   "execution_count": null,
   "metadata": {},
   "outputs": [],
   "source": [
    " y[np.array([0,2,4])]"
   ]
  },
  {
   "cell_type": "markdown",
   "metadata": {},
   "source": [
    "结果是构造一个新数组，其中索引数组的每个值从被检索的数组中选择一行，结果数组具有一定的形状（索引元素的数量就是结果数组的行数）。\n",
    "\n",
    "这可能有用的示例是用于颜色查找表，其中我们想要将图像的值映射到 RGB 三元组以供显示。查找表可以具有形状（nlookup，3）。 使用带有dtype = np.uint8的形状（ny，nx）的图像检索此类数组（或任何整数类型，只要值与查找表的边界一致）将生成一个 shape 为（ny，nx， 3）的数组，其中三个 RGB 值与每个像素位置相关联。\n",
    "\n",
    "通常，结果数组的形状是索引数组的形状（或所有索引数组被广播到的形状）与被检索数组中任何未使用的维度（未检索的维度）的形状的串联。\n",
    "\n",
    "上例是2-D数组，行数是0维度，列数是1维度。只有一个索引数组，用于行维度，被检索数组未使用的维度就是列维度，结果数组的形状就是“索引数组”的行数和被检索数组的列数的串联，得到一个 3 * 7 的数组。"
   ]
  },
  {
   "cell_type": "markdown",
   "metadata": {},
   "source": [
    "# Boolean 或 “mask\" 索引数组\n",
    "\n",
    "用作索引的布尔数组的处理方式与索引数组完全不同。布尔数组的 shape 必须与被检索的数组的初始维度相同。在最简单的情况下，布尔数组具有相同的形状："
   ]
  },
  {
   "cell_type": "code",
   "execution_count": null,
   "metadata": {},
   "outputs": [],
   "source": [
    "b = y>20"
   ]
  },
  {
   "cell_type": "code",
   "execution_count": null,
   "metadata": {},
   "outputs": [],
   "source": [
    "b"
   ]
  },
  {
   "cell_type": "code",
   "execution_count": null,
   "metadata": {},
   "outputs": [],
   "source": [
    "y[b]"
   ]
  },
  {
   "cell_type": "markdown",
   "metadata": {},
   "source": [
    "与整数索引数组的情况不同，在布尔情况下，结果是一个一维数组，其中包含被检索数组中与布尔数组中所有 True 元素对应的所有元素。被检索数组中的元素总是被迭代，并以行优先（C样式）顺序返回。结果与`y [np.nonzero（b）]`相同。与索引数组一样，返回的是数据的副本，而不是切片所获得的视图。\n",
    "\n",
    "**说明：**  row-major (C-style) 顺序，意思是一行一行地读取，读完一行再读取下一行。行优先，列坐标（最右边的索引）变化最快."
   ]
  },
  {
   "cell_type": "markdown",
   "metadata": {},
   "source": [
    "如果 y 比 b 有更多的维度，返回的结果将是多维的。例如："
   ]
  },
  {
   "cell_type": "code",
   "execution_count": null,
   "metadata": {},
   "outputs": [],
   "source": [
    ">>> b[:,5] \n",
    "# 使用一个1-D的布尔值，它的第一个 dim 与 y 的第一个dim一致。"
   ]
  },
  {
   "cell_type": "markdown",
   "metadata": {},
   "source": [
    "\"使用一个1-D的布尔值，它的第一个 dim 与 y 的第一个dim一致\"。意思是：一维布尔索引数组的元素个数与被检索数组的shape(s0,s1,...sn)中的s0应该相等，否则会触发错误。实际就是布尔索引数组的元素个数与行数相等。\n",
    "\n",
    "换一种方式可能更容易理解：检索时，按照行优先的原则，根据1-D的布尔数组，依次决定是否选择对应的行。因为只有一个索引数组，列维度与被检索数组相同，参见索引数组部分的“串联”。"
   ]
  },
  {
   "cell_type": "code",
   "execution_count": null,
   "metadata": {},
   "outputs": [],
   "source": [
    "y"
   ]
  },
  {
   "cell_type": "code",
   "execution_count": null,
   "metadata": {},
   "outputs": [],
   "source": [
    ">>> y[b[:,5]]"
   ]
  },
  {
   "cell_type": "markdown",
   "metadata": {},
   "source": [
    "这里，第4行和第5行是从索引数组中选择的，与被检索数组的列“串联”成一个2-D数组。\n",
    "\n",
    "通常，当布尔数组的维度小于被索引的数组时，这相当于y [b，...]，这意味着 y 被 b 后面跟随填充 y 的秩所需数量的“ ：”。 因此，结果的 shape 有一个维度包含布尔数组的 True 元素的数量，后跟被索引数组的剩余维度。\n",
    "\n",
    "例如，有一个shape为(2,3,2,4)的被检索数组："
   ]
  },
  {
   "cell_type": "code",
   "execution_count": 60,
   "metadata": {},
   "outputs": [
    {
     "data": {
      "text/plain": [
       "array([[[[ 0,  1,  2,  3],\n",
       "         [ 4,  5,  6,  7]],\n",
       "\n",
       "        [[ 8,  9, 10, 11],\n",
       "         [12, 13, 14, 15]],\n",
       "\n",
       "        [[16, 17, 18, 19],\n",
       "         [20, 21, 22, 23]]],\n",
       "\n",
       "\n",
       "       [[[24, 25, 26, 27],\n",
       "         [28, 29, 30, 31]],\n",
       "\n",
       "        [[32, 33, 34, 35],\n",
       "         [36, 37, 38, 39]],\n",
       "\n",
       "        [[40, 41, 42, 43],\n",
       "         [44, 45, 46, 47]]]])"
      ]
     },
     "execution_count": 60,
     "metadata": {},
     "output_type": "execute_result"
    }
   ],
   "source": [
    ">>> x = np.arange(48).reshape(2,3,2,4)\n",
    ">>> x"
   ]
  },
  {
   "cell_type": "markdown",
   "metadata": {},
   "source": [
    "使用具有四个 True 元素的 shape（2,3）的二维布尔数组从中检索数据，"
   ]
  },
  {
   "cell_type": "code",
   "execution_count": 77,
   "metadata": {},
   "outputs": [
    {
     "data": {
      "text/plain": [
       "(2, 3)"
      ]
     },
     "execution_count": 77,
     "metadata": {},
     "output_type": "execute_result"
    }
   ],
   "source": [
    "c=np.array([[False, True,True],[True, True,False]])\n",
    "c.shape"
   ]
  },
  {
   "cell_type": "code",
   "execution_count": 78,
   "metadata": {},
   "outputs": [
    {
     "data": {
      "text/plain": [
       "array([[[ 8,  9, 10, 11],\n",
       "        [12, 13, 14, 15]],\n",
       "\n",
       "       [[16, 17, 18, 19],\n",
       "        [20, 21, 22, 23]],\n",
       "\n",
       "       [[24, 25, 26, 27],\n",
       "        [28, 29, 30, 31]],\n",
       "\n",
       "       [[32, 33, 34, 35],\n",
       "        [36, 37, 38, 39]]])"
      ]
     },
     "execution_count": 78,
     "metadata": {},
     "output_type": "execute_result"
    }
   ],
   "source": [
    "x[c]"
   ]
  },
  {
   "cell_type": "code",
   "execution_count": 76,
   "metadata": {},
   "outputs": [
    {
     "data": {
      "text/plain": [
       "(4, 2, 4)"
      ]
     },
     "execution_count": 76,
     "metadata": {},
     "output_type": "execute_result"
    }
   ],
   "source": [
    "x[c].shape"
   ]
  },
  {
   "cell_type": "markdown",
   "metadata": {},
   "source": [
    "得到的是一个shape(4,2,4)的三维数组，第一个维度是True的数量 4，被检索数组是 4-D，索引数组是2-D，剩余的还有2-D，即（2，3）后面的（2，4）。True的数量 4 与剩余 （2，4）串联组成输出数组的shape，即为（4，2，4）。"
   ]
  },
  {
   "cell_type": "markdown",
   "metadata": {},
   "source": [
    "如果使用有7个True，shape(2,3,2)的三维数组从中检索，应该得到shape(7,4)的数组。7为True的数量，剩余的维度是shape(4)，两者串联得到："
   ]
  },
  {
   "cell_type": "code",
   "execution_count": 82,
   "metadata": {},
   "outputs": [
    {
     "data": {
      "text/plain": [
       "(2, 3, 2)"
      ]
     },
     "execution_count": 82,
     "metadata": {},
     "output_type": "execute_result"
    }
   ],
   "source": [
    ">>> b = np.array([[[False, False],[True, True],[True, False]],\n",
    "                [[False, False], [True, True],[True, True]]])\n",
    ">>> b.shape"
   ]
  },
  {
   "cell_type": "code",
   "execution_count": 83,
   "metadata": {},
   "outputs": [
    {
     "data": {
      "text/plain": [
       "array([[ 8,  9, 10, 11],\n",
       "       [12, 13, 14, 15],\n",
       "       [16, 17, 18, 19],\n",
       "       [32, 33, 34, 35],\n",
       "       [36, 37, 38, 39],\n",
       "       [40, 41, 42, 43],\n",
       "       [44, 45, 46, 47]])"
      ]
     },
     "execution_count": 83,
     "metadata": {},
     "output_type": "execute_result"
    }
   ],
   "source": [
    ">>> x[b]"
   ]
  },
  {
   "cell_type": "code",
   "execution_count": 81,
   "metadata": {},
   "outputs": [
    {
     "data": {
      "text/plain": [
       "(7, 4)"
      ]
     },
     "execution_count": 81,
     "metadata": {},
     "output_type": "execute_result"
    }
   ],
   "source": [
    "x[b].shape"
   ]
  },
  {
   "cell_type": "markdown",
   "metadata": {},
   "source": [
    "**说明：**\n",
    "- 索引数组的shape与被检索数组的shape从左到右依次匹配，否则将触发错误。上例中，被检索数组的shape(2,3,2,4)，索引数组的shape必须是（2），（2，3），（2，3，2），（2，3，2，4）;\n",
    "- 得到的数组，“维度数 = （被检索数组维度 - 索引数组的维度 + 1）”;\n",
    "- 得到的数组的shape由索引数组的True数量与被检索数组剩余维组成。"
   ]
  },
  {
   "cell_type": "code",
   "execution_count": 93,
   "metadata": {},
   "outputs": [
    {
     "data": {
      "text/plain": [
       "(2,)"
      ]
     },
     "execution_count": 93,
     "metadata": {},
     "output_type": "execute_result"
    }
   ],
   "source": [
    "d = np.array([False, True])\n",
    "d.shape"
   ]
  },
  {
   "cell_type": "code",
   "execution_count": 94,
   "metadata": {
    "scrolled": true
   },
   "outputs": [
    {
     "data": {
      "text/plain": [
       "array([[[[24, 25, 26, 27],\n",
       "         [28, 29, 30, 31]],\n",
       "\n",
       "        [[32, 33, 34, 35],\n",
       "         [36, 37, 38, 39]],\n",
       "\n",
       "        [[40, 41, 42, 43],\n",
       "         [44, 45, 46, 47]]]])"
      ]
     },
     "execution_count": 94,
     "metadata": {},
     "output_type": "execute_result"
    }
   ],
   "source": [
    "x[d]"
   ]
  },
  {
   "cell_type": "code",
   "execution_count": 95,
   "metadata": {},
   "outputs": [
    {
     "data": {
      "text/plain": [
       "(1, 3, 2, 4)"
      ]
     },
     "execution_count": 95,
     "metadata": {},
     "output_type": "execute_result"
    }
   ],
   "source": [
    "x[d].shape"
   ]
  },
  {
   "cell_type": "markdown",
   "metadata": {},
   "source": [
    "# 结合索引数组与切片\n",
    "Combining index arrays with slices\n",
    "\n",
    "索引数组可以与切片结合使用："
   ]
  },
  {
   "cell_type": "code",
   "execution_count": 96,
   "metadata": {},
   "outputs": [
    {
     "data": {
      "text/plain": [
       "array([[ 1,  2],\n",
       "       [15, 16],\n",
       "       [29, 30]])"
      ]
     },
     "execution_count": 96,
     "metadata": {},
     "output_type": "execute_result"
    }
   ],
   "source": [
    "y[np.array([0,2,4]),1:3]"
   ]
  },
  {
   "cell_type": "markdown",
   "metadata": {},
   "source": [
    "实际上，切片被转换为索引数组 `np.array（[[1,2]]）`（shape（1,2）），它与索引数组一起广播以产生shape(3,2)的结果数组。\n",
    "\n",
    "同样，切片可以与广播的布尔索引组合："
   ]
  },
  {
   "cell_type": "code",
   "execution_count": 99,
   "metadata": {},
   "outputs": [
    {
     "data": {
      "text/plain": [
       "array([[22, 23],\n",
       "       [29, 30]])"
      ]
     },
     "execution_count": 99,
     "metadata": {},
     "output_type": "execute_result"
    }
   ],
   "source": [
    "b = y>20\n",
    "y[b[:,5],1:3]"
   ]
  },
  {
   "cell_type": "markdown",
   "metadata": {},
   "source": [
    "# 结构化检索工具\n",
    "Structural indexing tools"
   ]
  },
  {
   "cell_type": "markdown",
   "metadata": {},
   "source": [
    "为了便于数组形状与表达式和赋值的轻松匹配，可以使用`np.newaxis`对象在数组索引中添加大小为1的新维度。例如："
   ]
  },
  {
   "cell_type": "code",
   "execution_count": 100,
   "metadata": {},
   "outputs": [
    {
     "data": {
      "text/plain": [
       "(5, 7)"
      ]
     },
     "execution_count": 100,
     "metadata": {},
     "output_type": "execute_result"
    }
   ],
   "source": [
    ">>> y.shape"
   ]
  },
  {
   "cell_type": "code",
   "execution_count": 101,
   "metadata": {},
   "outputs": [
    {
     "data": {
      "text/plain": [
       "(5, 1, 7)"
      ]
     },
     "execution_count": 101,
     "metadata": {},
     "output_type": "execute_result"
    }
   ],
   "source": [
    ">>> y[:,np.newaxis,:].shape"
   ]
  },
  {
   "cell_type": "markdown",
   "metadata": {},
   "source": [
    "请注意，数组中没有新元素，只是增加了维度。这可以方便地以一种方式组合两个数组，否则将需要显式重塑(reshape)操作。 例如："
   ]
  },
  {
   "cell_type": "code",
   "execution_count": 102,
   "metadata": {},
   "outputs": [
    {
     "data": {
      "text/plain": [
       "array([[0, 1, 2, 3, 4],\n",
       "       [1, 2, 3, 4, 5],\n",
       "       [2, 3, 4, 5, 6],\n",
       "       [3, 4, 5, 6, 7],\n",
       "       [4, 5, 6, 7, 8]])"
      ]
     },
     "execution_count": 102,
     "metadata": {},
     "output_type": "execute_result"
    }
   ],
   "source": [
    ">>> x = np.arange(5)\n",
    ">>> x[:,np.newaxis] + x[np.newaxis,:]"
   ]
  },
  {
   "cell_type": "code",
   "execution_count": 103,
   "metadata": {},
   "outputs": [
    {
     "data": {
      "text/plain": [
       "array([0, 1, 2, 3, 4])"
      ]
     },
     "execution_count": 103,
     "metadata": {},
     "output_type": "execute_result"
    }
   ],
   "source": [
    "x"
   ]
  },
  {
   "cell_type": "code",
   "execution_count": 105,
   "metadata": {},
   "outputs": [
    {
     "data": {
      "text/plain": [
       "array([[0],\n",
       "       [1],\n",
       "       [2],\n",
       "       [3],\n",
       "       [4]])"
      ]
     },
     "execution_count": 105,
     "metadata": {},
     "output_type": "execute_result"
    }
   ],
   "source": [
    "x.reshape(5,1)"
   ]
  },
  {
   "cell_type": "code",
   "execution_count": 106,
   "metadata": {},
   "outputs": [
    {
     "data": {
      "text/plain": [
       "array([[0, 1, 2, 3, 4],\n",
       "       [1, 2, 3, 4, 5],\n",
       "       [2, 3, 4, 5, 6],\n",
       "       [3, 4, 5, 6, 7],\n",
       "       [4, 5, 6, 7, 8]])"
      ]
     },
     "execution_count": 106,
     "metadata": {},
     "output_type": "execute_result"
    }
   ],
   "source": [
    "x.reshape(5,1)+x.reshape(1,5)"
   ]
  },
  {
   "cell_type": "markdown",
   "metadata": {},
   "source": [
    "省略号语法可用于指示选择整体中所有剩余的未指定维度。例如："
   ]
  },
  {
   "cell_type": "code",
   "execution_count": 110,
   "metadata": {},
   "outputs": [
    {
     "data": {
      "text/plain": [
       "array([[[[ 0,  1,  2],\n",
       "         [ 3,  4,  5],\n",
       "         [ 6,  7,  8]],\n",
       "\n",
       "        [[ 9, 10, 11],\n",
       "         [12, 13, 14],\n",
       "         [15, 16, 17]],\n",
       "\n",
       "        [[18, 19, 20],\n",
       "         [21, 22, 23],\n",
       "         [24, 25, 26]]],\n",
       "\n",
       "\n",
       "       [[[27, 28, 29],\n",
       "         [30, 31, 32],\n",
       "         [33, 34, 35]],\n",
       "\n",
       "        [[36, 37, 38],\n",
       "         [39, 40, 41],\n",
       "         [42, 43, 44]],\n",
       "\n",
       "        [[45, 46, 47],\n",
       "         [48, 49, 50],\n",
       "         [51, 52, 53]]],\n",
       "\n",
       "\n",
       "       [[[54, 55, 56],\n",
       "         [57, 58, 59],\n",
       "         [60, 61, 62]],\n",
       "\n",
       "        [[63, 64, 65],\n",
       "         [66, 67, 68],\n",
       "         [69, 70, 71]],\n",
       "\n",
       "        [[72, 73, 74],\n",
       "         [75, 76, 77],\n",
       "         [78, 79, 80]]]])"
      ]
     },
     "execution_count": 110,
     "metadata": {},
     "output_type": "execute_result"
    }
   ],
   "source": [
    " z = np.arange(81).reshape(3,3,3,3)\n",
    " z"
   ]
  },
  {
   "cell_type": "code",
   "execution_count": null,
   "metadata": {},
   "outputs": [],
   "source": [
    " z[1,...,2]"
   ]
  },
  {
   "cell_type": "markdown",
   "metadata": {},
   "source": [
    "这与下面的索引等效："
   ]
  },
  {
   "cell_type": "code",
   "execution_count": 108,
   "metadata": {},
   "outputs": [
    {
     "data": {
      "text/plain": [
       "array([[29, 32, 35],\n",
       "       [38, 41, 44],\n",
       "       [47, 50, 53]])"
      ]
     },
     "execution_count": 108,
     "metadata": {},
     "output_type": "execute_result"
    }
   ],
   "source": [
    ">>> z[1,:,:,2]"
   ]
  },
  {
   "cell_type": "markdown",
   "metadata": {},
   "source": [
    "# 为被检索数组赋值\n",
    "Assigning values to indexed arrays"
   ]
  },
  {
   "cell_type": "markdown",
   "metadata": {},
   "source": [
    "如上所述，可以选择一个数组的子集分配给使用单个索引、切片、index和mask数组。分配给索引数组的值必须形状一致（相同的shape或广播到索引的形状）。例如，允许为切片分配一个常量："
   ]
  },
  {
   "cell_type": "code",
   "execution_count": 114,
   "metadata": {},
   "outputs": [
    {
     "data": {
      "text/plain": [
       "array([0, 1, 1, 1, 1, 1, 1, 7, 8, 9])"
      ]
     },
     "execution_count": 114,
     "metadata": {},
     "output_type": "execute_result"
    }
   ],
   "source": [
    "x = np.arange(10)\n",
    "x[2:7] = 1\n",
    "x"
   ]
  },
  {
   "cell_type": "code",
   "execution_count": 116,
   "metadata": {},
   "outputs": [
    {
     "data": {
      "text/plain": [
       "array([0, 1, 2, 3, 4])"
      ]
     },
     "execution_count": 116,
     "metadata": {},
     "output_type": "execute_result"
    }
   ],
   "source": [
    "x[2:7] = np.arange(5)"
   ]
  },
  {
   "cell_type": "markdown",
   "metadata": {},
   "source": [
    "请注意，如果将较高类型分配给较低类型（例如浮点数到整数）则赋值结果可能会改变，甚至触发异常（将复数分配给浮点数或整数）："
   ]
  },
  {
   "cell_type": "code",
   "execution_count": 117,
   "metadata": {},
   "outputs": [
    {
     "data": {
      "text/plain": [
       "1"
      ]
     },
     "execution_count": 117,
     "metadata": {},
     "output_type": "execute_result"
    }
   ],
   "source": [
    ">>> x[1] = 1.2\n",
    ">>> x[1]"
   ]
  },
  {
   "cell_type": "code",
   "execution_count": 118,
   "metadata": {},
   "outputs": [
    {
     "ename": "TypeError",
     "evalue": "can't convert complex to int",
     "output_type": "error",
     "traceback": [
      "\u001b[1;31m---------------------------------------------------------------------------\u001b[0m",
      "\u001b[1;31mTypeError\u001b[0m                                 Traceback (most recent call last)",
      "\u001b[1;32m<ipython-input-118-c073c7dfbf09>\u001b[0m in \u001b[0;36m<module>\u001b[1;34m()\u001b[0m\n\u001b[1;32m----> 1\u001b[1;33m \u001b[0mx\u001b[0m\u001b[1;33m[\u001b[0m\u001b[1;36m1\u001b[0m\u001b[1;33m]\u001b[0m \u001b[1;33m=\u001b[0m \u001b[1;36m1.2j\u001b[0m\u001b[1;33m\u001b[0m\u001b[0m\n\u001b[0m",
      "\u001b[1;31mTypeError\u001b[0m: can't convert complex to int"
     ]
    }
   ],
   "source": [
    ">>> x[1] = 1.2j"
   ]
  },
  {
   "cell_type": "markdown",
   "metadata": {},
   "source": [
    "与某些引用（例如数组和掩码索引）不同，总是对数组中的原始数据进行赋值（实际上，没有什么意义！）。 但请注意，某些操作可能无法正常工作。下面这个特殊的例子通常让人惊讶："
   ]
  },
  {
   "cell_type": "code",
   "execution_count": 119,
   "metadata": {},
   "outputs": [
    {
     "data": {
      "text/plain": [
       "array([ 0, 10, 20, 30, 40])"
      ]
     },
     "execution_count": 119,
     "metadata": {},
     "output_type": "execute_result"
    }
   ],
   "source": [
    ">>> x = np.arange(0, 50, 10)\n",
    ">>> x"
   ]
  },
  {
   "cell_type": "code",
   "execution_count": 120,
   "metadata": {},
   "outputs": [
    {
     "data": {
      "text/plain": [
       "array([ 0, 11, 20, 31, 40])"
      ]
     },
     "execution_count": 120,
     "metadata": {},
     "output_type": "execute_result"
    }
   ],
   "source": [
    ">>> x[np.array([1, 1, 3, 1])] += 1\n",
    ">>> x"
   ]
  },
  {
   "cell_type": "markdown",
   "metadata": {},
   "source": [
    "人们期望第一个位置将增加 3. 实际上，它只会增加 1。原因是从原始（作为临时）提取的新数组包含值1,1,3,1，然后将值1添加到临时值，然后将临时值分配回原始数组。 因此，数组在`x [1] +1` 处的值被分配给 `x [1]` 三次，而不是递增 3 次。"
   ]
  },
  {
   "cell_type": "markdown",
   "metadata": {},
   "source": [
    "# 处理程序中可变数量的索引\n",
    "Dealing with variable numbers of indices within programs"
   ]
  },
  {
   "cell_type": "markdown",
   "metadata": {},
   "source": [
    "索引语法非常强大，但在处理可变数量的索引时会受到限制。例如，如果您想编写一个可以处理具有不同维数的参数的函数，而不必为每个可能的维度编写特殊情形的代码，那么该怎么做呢？ 如果向索引提供元组，则元组将被解释为索引列表。 例如（使用先前的数组z定义）："
   ]
  },
  {
   "cell_type": "code",
   "execution_count": 121,
   "metadata": {},
   "outputs": [
    {
     "data": {
      "text/plain": [
       "40"
      ]
     },
     "execution_count": 121,
     "metadata": {},
     "output_type": "execute_result"
    }
   ],
   "source": [
    ">>> indices = (1,1,1,1)\n",
    ">>> z[indices]"
   ]
  },
  {
   "cell_type": "markdown",
   "metadata": {},
   "source": [
    "因此，可以使用代码构造任意数量的索引的元组，然后在索引中使用它们。\n",
    "\n",
    "可以使用Python中的slice（）函数在程序中指定切片。 例如："
   ]
  },
  {
   "cell_type": "code",
   "execution_count": 123,
   "metadata": {},
   "outputs": [
    {
     "data": {
      "text/plain": [
       "array([39, 40])"
      ]
     },
     "execution_count": 123,
     "metadata": {},
     "output_type": "execute_result"
    }
   ],
   "source": [
    ">>> indices = (1,1,1,slice(0,2)) # same as [1,1,1,0:2]\n",
    ">>> z[indices]"
   ]
  },
  {
   "cell_type": "markdown",
   "metadata": {},
   "source": [
    "同样，省略可以通过使用 Ellipsis 对象来指定："
   ]
  },
  {
   "cell_type": "code",
   "execution_count": 124,
   "metadata": {},
   "outputs": [
    {
     "data": {
      "text/plain": [
       "array([[28, 31, 34],\n",
       "       [37, 40, 43],\n",
       "       [46, 49, 52]])"
      ]
     },
     "execution_count": 124,
     "metadata": {},
     "output_type": "execute_result"
    }
   ],
   "source": [
    ">>> indices = (1, Ellipsis, 1) # same as [1,...,1]\n",
    ">>> z[indices]"
   ]
  },
  {
   "cell_type": "markdown",
   "metadata": {},
   "source": [
    "由于这个原因，可以直接使用np.nonzero（）函数的输出作为索引，因为它总是返回索引数组的元组。\n",
    "\n",
    "因为对元组的特殊处理，它们不会像列表那样自动转换为数组。 举个例子："
   ]
  },
  {
   "cell_type": "code",
   "execution_count": 125,
   "metadata": {},
   "outputs": [
    {
     "data": {
      "text/plain": [
       "array([[[[27, 28, 29],\n",
       "         [30, 31, 32],\n",
       "         [33, 34, 35]],\n",
       "\n",
       "        [[36, 37, 38],\n",
       "         [39, 40, 41],\n",
       "         [42, 43, 44]],\n",
       "\n",
       "        [[45, 46, 47],\n",
       "         [48, 49, 50],\n",
       "         [51, 52, 53]]],\n",
       "\n",
       "\n",
       "       [[[27, 28, 29],\n",
       "         [30, 31, 32],\n",
       "         [33, 34, 35]],\n",
       "\n",
       "        [[36, 37, 38],\n",
       "         [39, 40, 41],\n",
       "         [42, 43, 44]],\n",
       "\n",
       "        [[45, 46, 47],\n",
       "         [48, 49, 50],\n",
       "         [51, 52, 53]]],\n",
       "\n",
       "\n",
       "       [[[27, 28, 29],\n",
       "         [30, 31, 32],\n",
       "         [33, 34, 35]],\n",
       "\n",
       "        [[36, 37, 38],\n",
       "         [39, 40, 41],\n",
       "         [42, 43, 44]],\n",
       "\n",
       "        [[45, 46, 47],\n",
       "         [48, 49, 50],\n",
       "         [51, 52, 53]]],\n",
       "\n",
       "\n",
       "       [[[27, 28, 29],\n",
       "         [30, 31, 32],\n",
       "         [33, 34, 35]],\n",
       "\n",
       "        [[36, 37, 38],\n",
       "         [39, 40, 41],\n",
       "         [42, 43, 44]],\n",
       "\n",
       "        [[45, 46, 47],\n",
       "         [48, 49, 50],\n",
       "         [51, 52, 53]]]])"
      ]
     },
     "execution_count": 125,
     "metadata": {},
     "output_type": "execute_result"
    }
   ],
   "source": [
    ">>> z[[1,1,1,1]] # produces a large array"
   ]
  },
  {
   "cell_type": "code",
   "execution_count": 126,
   "metadata": {},
   "outputs": [
    {
     "data": {
      "text/plain": [
       "40"
      ]
     },
     "execution_count": 126,
     "metadata": {},
     "output_type": "execute_result"
    }
   ],
   "source": [
    ">>> z[(1,1,1,1)] # returns a single value"
   ]
  },
  {
   "cell_type": "code",
   "execution_count": null,
   "metadata": {},
   "outputs": [],
   "source": []
  }
 ],
 "metadata": {
  "kernelspec": {
   "display_name": "Python 3",
   "language": "python",
   "name": "python3"
  },
  "language_info": {
   "codemirror_mode": {
    "name": "ipython",
    "version": 3
   },
   "file_extension": ".py",
   "mimetype": "text/x-python",
   "name": "python",
   "nbconvert_exporter": "python",
   "pygments_lexer": "ipython3",
   "version": "3.6.5"
  },
  "toc": {
   "base_numbering": 1,
   "nav_menu": {},
   "number_sections": true,
   "sideBar": true,
   "skip_h1_title": false,
   "title_cell": "Table of Contents",
   "title_sidebar": "Contents",
   "toc_cell": false,
   "toc_position": {},
   "toc_section_display": true,
   "toc_window_display": true
  }
 },
 "nbformat": 4,
 "nbformat_minor": 2
}
