{
 "cells": [
  {
   "cell_type": "markdown",
   "metadata": {},
   "source": [
    "The N-dimensional array (ndarray)\n",
    "===="
   ]
  },
  {
   "cell_type": "markdown",
   "metadata": {},
   "source": [
    "**The N-dimensional array (ndarray)**\n",
    "\n",
    "An ndarray is a (usually fixed-size) multidimensional container of items of the same type and size. The number of dimensions and items in an array is defined by its shape, which is a tuple of N positive integers that specify the sizes of each dimension. The type of items in the array is specified by a separate data-type object (dtype), one of which is associated with each ndarray.\n",
    "\n",
    "As with other container objects in Python, the contents of an ndarray can be accessed and modified by indexing or slicing the array (using, for example, N integers), and via the methods and attributes of the ndarray.\n",
    "\n",
    "Different ndarrays can share the same data, so that changes made in one ndarray may be visible in another. That is, an ndarray can be a “view” to another ndarray, and the data it is referring to is taken care of by the “base” ndarray. ndarrays can also be views to memory owned by Python strings or objects implementing the buffer or array interfaces."
   ]
  },
  {
   "cell_type": "markdown",
   "metadata": {},
   "source": [
    "N维数组（ndarray）\n",
    "\n",
    "ndarray是具有相同类型和大小的 items(项目)的（通常是固定大小的）多维容器。数组中的维和项的数量由其形状(shpae)定义，该形状是指定每个维的大小的N个正整数的元组。数组中的项类型由单独的数据类型对象（dtype）指定，其中一个与每个ndarray相关联。\n",
    "\n",
    "与Python中的其他容器对象一样，可以通过索引或切片数组（例如，使用N个整数）以及通过ndarray的方法和属性来访问和修改ndarray的内容。\n",
    "\n",
    "不同的ndarray可以共享相同的数据，因此在一个ndarray中进行的更改可能在另一个中可见。 也就是说，ndarray可以是另一个ndarray的“视图”，它指向的数据由“base”ndarray处理。 ndarrays也可以是内存自身的视图，该内存视图为Python字符串、或对象实现缓冲区、或数组接口。"
   ]
  },
  {
   "cell_type": "markdown",
   "metadata": {},
   "source": [
    "**Example**\n",
    "\n",
    "A 2-dimensional array of size 2 x 3, composed of 4-byte integer elements:\n",
    "\n",
    "一个大小为  2 x 3 的数组，由 4 字节整形元素组成。"
   ]
  },
  {
   "cell_type": "code",
   "execution_count": 2,
   "metadata": {},
   "outputs": [
    {
     "data": {
      "text/plain": [
       "numpy.ndarray"
      ]
     },
     "execution_count": 2,
     "metadata": {},
     "output_type": "execute_result"
    }
   ],
   "source": [
    "import numpy as np\n",
    ">>> x = np.array([[1, 2, 3], [4, 5, 6]], np.int32)\n",
    ">>> type(x)"
   ]
  },
  {
   "cell_type": "code",
   "execution_count": 3,
   "metadata": {},
   "outputs": [
    {
     "data": {
      "text/plain": [
       "(2, 3)"
      ]
     },
     "execution_count": 3,
     "metadata": {},
     "output_type": "execute_result"
    }
   ],
   "source": [
    "x.shape"
   ]
  },
  {
   "cell_type": "code",
   "execution_count": 5,
   "metadata": {},
   "outputs": [
    {
     "data": {
      "text/plain": [
       "dtype('int32')"
      ]
     },
     "execution_count": 5,
     "metadata": {},
     "output_type": "execute_result"
    }
   ],
   "source": [
    "x.dtype"
   ]
  },
  {
   "cell_type": "markdown",
   "metadata": {},
   "source": [
    "The array can be indexed using Python container-like syntax:\n",
    "\n",
    "可以使用类似Python容器的语法对数组进行检索："
   ]
  },
  {
   "cell_type": "code",
   "execution_count": 6,
   "metadata": {},
   "outputs": [
    {
     "data": {
      "text/plain": [
       "6"
      ]
     },
     "execution_count": 6,
     "metadata": {},
     "output_type": "execute_result"
    }
   ],
   "source": [
    ">>> # The element of x in the *second* row, *third* column, namely, 6.\n",
    ">>> x[1, 2]"
   ]
  },
  {
   "cell_type": "markdown",
   "metadata": {},
   "source": [
    "For example slicing can produce views of the array:\n",
    "\n",
    "例如，切片可以生成数组的视图："
   ]
  },
  {
   "cell_type": "code",
   "execution_count": 7,
   "metadata": {},
   "outputs": [
    {
     "data": {
      "text/plain": [
       "array([2, 5])"
      ]
     },
     "execution_count": 7,
     "metadata": {},
     "output_type": "execute_result"
    }
   ],
   "source": [
    ">>> y = x[:,1]\n",
    ">>> y"
   ]
  },
  {
   "cell_type": "code",
   "execution_count": 8,
   "metadata": {},
   "outputs": [
    {
     "data": {
      "text/plain": [
       "array([9, 5])"
      ]
     },
     "execution_count": 8,
     "metadata": {},
     "output_type": "execute_result"
    }
   ],
   "source": [
    ">>> y[0] = 9 # this also changes the corresponding element in x\n",
    ">>> y"
   ]
  },
  {
   "cell_type": "code",
   "execution_count": 9,
   "metadata": {},
   "outputs": [
    {
     "data": {
      "text/plain": [
       "array([[1, 9, 3],\n",
       "       [4, 5, 6]])"
      ]
     },
     "execution_count": 9,
     "metadata": {},
     "output_type": "execute_result"
    }
   ],
   "source": [
    ">>> x"
   ]
  },
  {
   "cell_type": "markdown",
   "metadata": {},
   "source": [
    "# Constructing arrays\n",
    "New arrays can be constructed using the routines detailed in Array creation routines, and also by using the low-level ndarray constructor:\n",
    "\n",
    "`ndarray(shape[, dtype, buffer, offset, …])`\n",
    "\n",
    "An array object represents a multidimensional, homogeneous array of fixed-size items."
   ]
  },
  {
   "cell_type": "markdown",
   "metadata": {},
   "source": [
    "可以使用在[ Array creation routines](https://docs.scipy.org/doc/numpy/reference/routines.array-creation.html#routines-array-creation)中详细介绍的子程序创建新的数组：\n",
    "\n",
    "`ndarray(shape[, dtype, buffer, offset, …])`  一个数组对象，表示固定大小的项的多维同构数组。"
   ]
  },
  {
   "cell_type": "markdown",
   "metadata": {},
   "source": [
    "# Indexing arrays\n",
    "Arrays can be indexed using an extended Python slicing syntax, `array[selection]`. Similar syntax is also used for accessing fields in a structured array.\n",
    "\n",
    "可以使用扩展的Python切片语法`array[selection]`来检索数组。类似的语法也用于访问结构化数组中的字段。参见[array indexing](https://docs.scipy.org/doc/numpy/reference/arrays.indexing.html#arrays-indexing)"
   ]
  },
  {
   "cell_type": "markdown",
   "metadata": {},
   "source": [
    "# Internal memory layout of an ndarray"
   ]
  },
  {
   "cell_type": "markdown",
   "metadata": {},
   "source": [
    "An instance of class ndarray consists of a contiguous one-dimensional segment of computer memory (owned by the array, or by some other object), combined with an indexing scheme that maps N integers into the location of an item in the block. The ranges in which the indices can vary is specified by the shape of the array. How many bytes each item takes and how the bytes are interpreted is defined by the data-type object associated with the array.\n",
    "\n",
    "A segment of memory is inherently 1-dimensional, and there are many different schemes for arranging the items of an N-dimensional array in a 1-dimensional block. NumPy is flexible, and ndarray objects can accommodate any strided indexing scheme. In a strided scheme, the N-dimensional index `(n_0, n_1, ..., n_{N-1})` corresponds to the offset (in bytes):"
   ]
  },
  {
   "cell_type": "markdown",
   "metadata": {},
   "source": [
    "ndarray类的实例由计算机内存的连续一维段（由数组拥有，或由其他对象拥有）组成，结合一个索引方案，将N个整数映射到块中的 item 的位置。索引可以变化的范围是由数组的形状指定。每个项目占用多少字节以及如何解释字节由与数组关联的数据类型对象定义。\n",
    "\n",
    "存储器段本质上是1维的，并且有许多不同的方案用于在1维块中布置N维数组的项目。NumPy 非常灵活，ndarray对象可以适应任何跨步索引方案。在跨步方案中，N维索引`（n_0，n_1，...，n_ {N-1}）`对应于偏移量（以字节为单位）："
   ]
  },
  {
   "cell_type": "markdown",
   "metadata": {},
   "source": [
    "<img src=\"../../pf-img-store/numpy/ndarray01.svg\">"
   ]
  },
  {
   "cell_type": "markdown",
   "metadata": {},
   "source": [
    "from the beginning of the memory block associated with the array. Here, s_k are integers which specify the strides of the array. The column-major order (used, for example, in the Fortran language and in Matlab) and row-major order (used in C) schemes are just specific kinds of strided scheme, and correspond to memory that can be addressed by the strides:"
   ]
  },
  {
   "cell_type": "markdown",
   "metadata": {},
   "source": [
    "从与数组关联的内存块的开始。这里，s_k是指定数组步长的整数。列主要顺序（例如，在 Fortran 语言和 Matlab 中使用）和行主要顺序（在C中使用）方案只是特定种类的跨步方案，并且对应于可由步幅解决的内存："
   ]
  },
  {
   "cell_type": "markdown",
   "metadata": {},
   "source": [
    "<img src=\"../../pf-img-store/numpy/ndarray02.svg\">"
   ]
  },
  {
   "cell_type": "markdown",
   "metadata": {},
   "source": [
    "where `d_j = self.shape[j].`"
   ]
  },
  {
   "cell_type": "markdown",
   "metadata": {},
   "source": [
    "Both the C and Fortran orders are contiguous, i.e., single-segment, memory layouts, in which every part of the memory block can be accessed by some combination of the indices.\n",
    "\n",
    "While a C-style and Fortran-style contiguous array, which has the corresponding flags set, can be addressed with the above strides, the actual strides may be different. This can happen in two cases:"
   ]
  },
  {
   "cell_type": "markdown",
   "metadata": {},
   "source": [
    "C和Fortran顺序都是连续的，即单段存储器布局，其中存储器块的每个部分可以通过索引的某种组合来访问。\n",
    "\n",
    "虽然具有相应标志集的C风格和Fortran风格的连续数组可以通过上述步骤来解决，但实际步幅可能不同。 这可能发生在两种情况："
   ]
  },
  {
   "cell_type": "markdown",
   "metadata": {},
   "source": [
    "1. If `self.shape[k] == 1` then for any legal index `index[k] == 0`. This means that in the formula for the offset `n_k = 0` and thus *`s_kn_k = 0`* and the value of `s_k = self.strides[k]` is arbitrary.\n",
    "2. If an array has no elements `(self.size == 0)` there is no legal index and the strides are never used. Any array with no elements may be considered C-style and Fortran-style contiguous."
   ]
  },
  {
   "cell_type": "markdown",
   "metadata": {},
   "source": [
    "Point 1. means that self and self.squeeze() always have the same contiguity and aligned flags value. This also means that even a high dimensional array could be C-style and Fortran-style contiguous at the same time.\n",
    "\n",
    "An array is considered aligned if the memory offsets for all elements and the base offset itself is a multiple of self.itemsize."
   ]
  },
  {
   "cell_type": "markdown",
   "metadata": {},
   "source": [
    "点1.表示self和self.squeeze（）始终具有相同的连续性和对齐的标志值。 这也意味着即使是高维数组也可能同时是C风格和Fortran风格的连续。\n",
    "\n",
    "如果所有元素的内存偏移量和基本偏移量本身是self.itemsize的倍数，则认为数组是对齐的。"
   ]
  },
  {
   "cell_type": "markdown",
   "metadata": {},
   "source": [
    "Data in new ndarrays is in the row-major (C) order, unless otherwise specified, but, for example, basic array slicing often produces views in a different scheme.\n",
    "\n",
    "除非另有说明，否则新ndarray中的数据采用行主（C）顺序，但是，例如，基本数组切片通常会以不同的方案生成视图。"
   ]
  },
  {
   "cell_type": "markdown",
   "metadata": {},
   "source": [
    "**Note**\n",
    "Several algorithms in NumPy work on arbitrarily strided arrays. However, some algorithms require single-segment arrays. When an irregularly strided array is passed in to such algorithms, a copy is automatically made."
   ]
  },
  {
   "cell_type": "markdown",
   "metadata": {},
   "source": [
    "**注意**\n",
    "\n",
    "NumPy中的几种算法适用于任意跨步阵列。但是，某些算法需要单段数组。当将不规则跨越的阵列传递给这样的算法时，自动进行复制。"
   ]
  },
  {
   "cell_type": "markdown",
   "metadata": {},
   "source": [
    "**Array attributes**\n",
    "Array attributes reflect information that is intrinsic to the array itself. Generally, accessing an array through its attributes allows you to get and sometimes set intrinsic properties of the array without creating a new array. The exposed attributes are the core parts of an array and only some of them can be reset meaningfully without creating a new array. Information on each attribute is given below.\n",
    "\n",
    "# 数组属性\n",
    "数组属性反映了数组本身固有的信息。 通常，通过其属性访问数组允许您获取并有时设置数组的内部属性，而无需创建新数组。 公开的属性是数组的核心部分，只有部分属性可以有意义地重置而无需创建新数组。 有关每个属性的信息如下。"
   ]
  },
  {
   "cell_type": "markdown",
   "metadata": {},
   "source": [
    "## Memory layout\n",
    "The following attributes contain information about the memory layout of the array:\n",
    "\n",
    "下列属性包含关于阵列的内存布局的信息："
   ]
  },
  {
   "cell_type": "markdown",
   "metadata": {},
   "source": []
  },
  {
   "cell_type": "markdown",
   "metadata": {},
   "source": []
  },
  {
   "cell_type": "markdown",
   "metadata": {},
   "source": []
  },
  {
   "cell_type": "markdown",
   "metadata": {},
   "source": []
  },
  {
   "cell_type": "markdown",
   "metadata": {},
   "source": []
  },
  {
   "cell_type": "markdown",
   "metadata": {},
   "source": []
  }
 ],
 "metadata": {
  "kernelspec": {
   "display_name": "Python 3",
   "language": "python",
   "name": "python3"
  },
  "language_info": {
   "codemirror_mode": {
    "name": "ipython",
    "version": 3
   },
   "file_extension": ".py",
   "mimetype": "text/x-python",
   "name": "python",
   "nbconvert_exporter": "python",
   "pygments_lexer": "ipython3",
   "version": "3.6.6"
  },
  "toc": {
   "base_numbering": 1,
   "nav_menu": {},
   "number_sections": true,
   "sideBar": true,
   "skip_h1_title": false,
   "title_cell": "Table of Contents",
   "title_sidebar": "Contents",
   "toc_cell": false,
   "toc_position": {},
   "toc_section_display": true,
   "toc_window_display": false
  }
 },
 "nbformat": 4,
 "nbformat_minor": 2
}
