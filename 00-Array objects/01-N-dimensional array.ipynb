{
 "cells": [
  {
   "cell_type": "markdown",
   "metadata": {},
   "source": [
    "The N-dimensional array (ndarray)\n",
    "===="
   ]
  },
  {
   "cell_type": "markdown",
   "metadata": {},
   "source": [
    "**The N-dimensional array (ndarray)**\n",
    "\n",
    "An ndarray is a (usually fixed-size) multidimensional container of items of the same type and size. The number of dimensions and items in an array is defined by its shape, which is a tuple of N positive integers that specify the sizes of each dimension. The type of items in the array is specified by a separate data-type object (dtype), one of which is associated with each ndarray.\n",
    "\n",
    "As with other container objects in Python, the contents of an ndarray can be accessed and modified by indexing or slicing the array (using, for example, N integers), and via the methods and attributes of the ndarray.\n",
    "\n",
    "Different ndarrays can share the same data, so that changes made in one ndarray may be visible in another. That is, an ndarray can be a “view” to another ndarray, and the data it is referring to is taken care of by the “base” ndarray. ndarrays can also be views to memory owned by Python strings or objects implementing the buffer or array interfaces."
   ]
  },
  {
   "cell_type": "markdown",
   "metadata": {},
   "source": [
    "N维数组（ndarray）\n",
    "\n",
    "ndarray是具有相同类型和大小的 items(项目)的（通常是固定大小的）多维容器。数组中的维和项的数量由其形状(shpae)定义，该形状是指定每个维的大小的N个正整数的元组。数组中的项类型由单独的数据类型对象（dtype）指定，其中一个与每个ndarray相关联。\n",
    "\n",
    "与Python中的其他容器对象一样，可以通过索引或切片数组（例如，使用N个整数）以及通过ndarray的方法和属性来访问和修改ndarray的内容。\n",
    "\n",
    "不同的ndarray可以共享相同的数据，因此在一个ndarray中进行的更改可能在另一个中可见。 也就是说，ndarray可以是另一个ndarray的“视图”，它所指的数据由“base”ndarray处理。 ndarrays也可以是Python字符串或实现缓冲区或数组接口的对象所拥有的内存视图。"
   ]
  }
 ],
 "metadata": {
  "kernelspec": {
   "display_name": "Python 3",
   "language": "python",
   "name": "python3"
  },
  "language_info": {
   "codemirror_mode": {
    "name": "ipython",
    "version": 3
   },
   "file_extension": ".py",
   "mimetype": "text/x-python",
   "name": "python",
   "nbconvert_exporter": "python",
   "pygments_lexer": "ipython3",
   "version": "3.6.6"
  },
  "toc": {
   "base_numbering": 1,
   "nav_menu": {},
   "number_sections": true,
   "sideBar": true,
   "skip_h1_title": false,
   "title_cell": "Table of Contents",
   "title_sidebar": "Contents",
   "toc_cell": false,
   "toc_position": {},
   "toc_section_display": true,
   "toc_window_display": false
  }
 },
 "nbformat": 4,
 "nbformat_minor": 2
}
