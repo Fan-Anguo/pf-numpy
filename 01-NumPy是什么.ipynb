{
 "cells": [
  {
   "cell_type": "markdown",
   "metadata": {},
   "source": [
    "NumPy是什么？\n",
    "===="
   ]
  },
  {
   "cell_type": "markdown",
   "metadata": {},
   "source": [
    "NumPy是Python中科学计算的基础包。它是一个Python库，提供多维数组对象，各种派生对象（如 masked arrays 掩码数组，matrices 矩阵），以及用于数组快速操作的各种程序，包括数学，逻辑，形状操作，排序，选择，I / O离散傅立叶变换，基本线性代数，基本统计运算，随机模拟等等。"
   ]
  },
  {
   "cell_type": "markdown",
   "metadata": {},
   "source": [
    "NumPy包的核心是 ndarray 对象。nadarray对象封装了同类数据类型的 n 维数组，许多操作在编译代码中执行以提高性能。 NumPy数组和标准Python序列之间有几个重要的区别："
   ]
  },
  {
   "cell_type": "markdown",
   "metadata": {},
   "source": [
    "- NumPy数组在创建时具有固定大小，与 Python 列表（可以动态增长）不同。更改 ndarray 的大小将创建一个新数组并删除原始数组。\n",
    "- NumPy数组中的元素都需要具有相同的数据类型，因此在内存中的大小相同。例外情况：可以有对象组成的数组（Python的对象，包括 NumPy 的对象），从而允许不同大小的元素的数组。\n",
    "- NumPy数组有助于对大量数据进行高级数学和其他类型的操作。通常，与使用Python的内置序列相比，这些操作的执行效率更高，代码更少。\n",
    "- 越来越多的基于Python的科学和数学软件包正在使用NumPy数组;虽然这些通常支持Python序列输入，但它们在处理之前将这些输入转换为 NumPy 数组，并且它们通常输出NumPy数组。换句话说，为了有效地使用当今大量（甚至大多数）基于Python的科学/数学软件，只知道如何使用Python的内置序列类型是不够的 - 还需要知道如何使用NumPy 数组。"
   ]
  },
  {
   "cell_type": "markdown",
   "metadata": {},
   "source": [
    "关于序列大小和速度的要点在科学计算中尤为重要。作为一个简单的例子，考虑将1-D序列中的每个元素与相同长度的另一个序列中的相应元素相乘的情况。如果数据存储在两个Python列表a和b中，我们可以迭代每个元素：\n",
    "\n",
    "```\n",
    "c = []\n",
    "for i in range(len(a)):\n",
    "    c.append(a[i]*b[i])\n",
    "    ```"
   ]
  },
  {
   "cell_type": "markdown",
   "metadata": {},
   "source": [
    "这产生了正确的答案，但如果a和b每个包含数百万个数字，我们将为Python中循环的低效率付出代价。 我们可以通过写入在C中更快地完成相同的任务（为了清楚起见，我们忽略了变量声明和初始化，内存分配等）\n",
    "\n",
    "```\n",
    "for (i = 0; i < rows; i++): {\n",
    "  c[i] = a[i]*b[i];\n",
    "}\n",
    "```\n"
   ]
  },
  {
   "cell_type": "markdown",
   "metadata": {},
   "source": [
    "这节省了解释Python代码和操作Python对象所涉及的所有开销，但代价是没有了从Python编码中获得的好处（简洁、明了、易懂）。此外，所需的编码工作随着我们数据的维度而增加。例如，在二维数组的情况下，C代码（如前所述）扩展为\n",
    "\n",
    "```\n",
    "for (i = 0; i < rows; i++): {\n",
    "  for (j = 0; j < columns; j++): {\n",
    "    c[i][j] = a[i][j]*b[i][j];\n",
    "  }\n",
    "}\n",
    "```"
   ]
  },
  {
   "cell_type": "markdown",
   "metadata": {},
   "source": [
    "NumPy为我们提供了两全其美：当涉及到ndarray时，逐个元素的操作是“默认模式”，但逐个元素的操作由预编译的C代码快速执行。在 NumPy 中:\n",
    "\n",
    "`c = a * b`"
   ]
  },
  {
   "cell_type": "markdown",
   "metadata": {},
   "source": [
    "以接近 C 的速度执行前面的示例所做的事情，但是我们期望基于 Python 的代码的 简单明了。实际上，NumPy 的语法更简单！ 最后一个例子说明了 NumPy 的两个功能，它们是它的 NumPy 大部分功能的基础：vectorization 矢量化 和 broadcasting 广播。"
   ]
  },
  {
   "cell_type": "markdown",
   "metadata": {},
   "source": [
    "Vectorization 描述了代码中没有任何显式循环，索引等 - 在代码中，这些事情当然正在发生，只是在“幕后”使用预编译的 C 代码进行了优化。矢量化代码有许多优点，其中包括："
   ]
  },
  {
   "cell_type": "markdown",
   "metadata": {},
   "source": [
    "- 矢量化代码更简洁，更易于阅读\n",
    "- 更少的代码行通常意味着更少的错误\n",
    "- 代码更接近于标准的数学符号（通常，更容易，正确编码数学结构）\n",
    "- 矢量化的结果是代码更加“Pythonic”。如果没有矢量化，我们的代码就会被低效且难以阅读的循环所困扰。"
   ]
  },
  {
   "cell_type": "markdown",
   "metadata": {},
   "source": [
    "广播是用于描述隐式的逐元素操作行为的术语; 一般而言，在NumPy中，所有操作的行为使用这种隐式的逐元素方式，操作不仅仅是算术运算，还有逻辑的，逐位的，功能性的等运算，即它们“广播 broadcast”。 此外，在上面的例子中，a 和 b 可以是相同形状的多维阵列，或标量和阵列，甚至是具有不同形状的两个阵列，条件是较小的阵列可“扩展”到较大的形状，这样，生成的广播是明确的。有关广播的详细“规则”，请参阅[numpy.doc.broadcasting.](https://docs.scipy.org/doc/numpy/user/basics.broadcasting.html#module-numpy.doc.broadcasting)"
   ]
  },
  {
   "cell_type": "markdown",
   "metadata": {},
   "source": [
    "NumPy完全支持面向对象的方法，开始，再次使用 ndarray。 例如，ndarray 是一个类，拥有许多方法和属性。在最外层的NumPy命名空间中，它的许多方法镜像了函数，使程序员可以完全自由地编写她喜欢的范例和/或最适合手头任务的范例。"
   ]
  },
  {
   "cell_type": "markdown",
   "metadata": {},
   "source": [
    "**小结：**\n",
    "- NumPy是一个Python库；\n",
    "- 为Python的科学计算而设计的；\n",
    "- NumPy的核心是提供了 ndarray 对象，它是一个**同类型**的多维数组；\n",
    "- 提供了快速操作数组的程序；\n",
    "- 在后台是C语言逐元素操作，在前台是清晰明了的Python语言；\n",
    "- 完美地把C语言的速度优势和Python语言的直观明了结合起来；\n",
    "- vectorization 矢量化 和 broadcasting 广播是NumPy大部分功能的基础；\n",
    "- NumPy还提供了一些派生对象，如 masked arrays 掩码数组，matrices 矩阵。"
   ]
  },
  {
   "cell_type": "markdown",
   "metadata": {},
   "source": []
  },
  {
   "cell_type": "markdown",
   "metadata": {},
   "source": []
  },
  {
   "cell_type": "markdown",
   "metadata": {},
   "source": []
  },
  {
   "cell_type": "markdown",
   "metadata": {},
   "source": []
  }
 ],
 "metadata": {
  "kernelspec": {
   "display_name": "Python 3",
   "language": "python",
   "name": "python3"
  },
  "language_info": {
   "codemirror_mode": {
    "name": "ipython",
    "version": 3
   },
   "file_extension": ".py",
   "mimetype": "text/x-python",
   "name": "python",
   "nbconvert_exporter": "python",
   "pygments_lexer": "ipython3",
   "version": "3.6.4"
  }
 },
 "nbformat": 4,
 "nbformat_minor": 2
}
