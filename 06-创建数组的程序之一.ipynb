{
 "cells": [
  {
   "cell_type": "markdown",
   "metadata": {},
   "source": [
    "06-创建数组的程序之一\n",
    "====\n",
    "\n",
    "根据创建数组的方式、数组类型等的不同，创建数组的程序可以分为7大类。\n",
    "\n",
    "1. Ones and zeros，1和0\n",
    "2. From existing data，从现有的数据\n",
    "3. Creating record arrays (numpy.rec)，创建记录数组\n",
    "4. Creating character arrays (numpy.char)，创建字符数组\n",
    "5. Numerical ranges， 数值范围\n",
    "6. Building matrices， 建立矩阵\n",
    "7. The Matrix class， Matrix类\n"
   ]
  },
  {
   "cell_type": "code",
   "execution_count": 3,
   "metadata": {},
   "outputs": [],
   "source": [
    "import numpy as np"
   ]
  },
  {
   "cell_type": "markdown",
   "metadata": {},
   "source": [
    "# Ones and Zeros, 1 和 0\n",
    "\n",
    "Numpy有10个函数可以创建由1或者0组成的矩阵：\n",
    "\n",
    "1. empty(shape[, dtype, order])\n",
    "2. empty_like(prototype[, dtype, order, subok])\n",
    "3. eye(N[, M, k, dtype, order])\n",
    "4. identity(n[, dtype])\n",
    "5. ones(shape[, dtype, order])\n",
    "6. ones_like(a[, dtype, order, subok])\n",
    "7. zeros(shape[, dtype, order])\n",
    "8. zeros_like(a[, dtype, order, subok])\n",
    "9. full(shape, fill_value[, dtype, order])\n",
    "10. full_like(a, fill_value[, dtype, order, subok])\n"
   ]
  },
  {
   "cell_type": "markdown",
   "metadata": {},
   "source": [
    "# numpy.empty\n",
    "\n",
    "`numpy.empty(shape, dtype=float, order='C')`\n",
    "\n",
    "返回一个给出的形状和类型的新数组，不初始化元素。\n",
    "\n",
    "## Parameters:\n",
    "**shape :** 整数或整数元组，空数组的shape，如(2, 3) or 2.\n",
    "\n",
    "**dtype :** data-type, optional，数据类型，关键字参数，可选。想要数组输出的数据类型，如，numpy.int8。默认是 numpy.float64.\n",
    "\n",
    "**order :** {‘C’, ‘F’},可选关键字参数, 默认: ‘C’。将多维数组存储在row-major（C语言风格）或column-major（Fortran语言风格)的内存中。\n",
    "\n",
    "## Returns：\n",
    "输出：ndarray\n",
    "\n",
    "给定shape、dtype 和 order的未初始化（任意）数据数组。数组对象将被初始化为None。\n",
    "\n",
    "**注意：** 输出的数组为 empty，与零不同。不将数组值设置为零，因此可能稍微快一些。但它要求用户手动设置数组中的所有值，因此应谨慎使用。"
   ]
  },
  {
   "cell_type": "code",
   "execution_count": 4,
   "metadata": {},
   "outputs": [
    {
     "data": {
      "text/plain": [
       "array([[0, 0, 0],\n",
       "       [0, 0, 0]])"
      ]
     },
     "execution_count": 4,
     "metadata": {},
     "output_type": "execute_result"
    }
   ],
   "source": [
    "np.empty((2,3),dtype = int)"
   ]
  },
  {
   "cell_type": "markdown",
   "metadata": {},
   "source": [
    "** 注意：输出数组里的数是随机random生成的。每次运行都会变化。**"
   ]
  },
  {
   "cell_type": "markdown",
   "metadata": {},
   "source": [
    "# numpy.empty_like\n",
    "`numpy.empty_like(prototype, dtype=None, order='K', subok=True)`\n",
    "\n",
    "返回一个新数组，与给出的prototype(数组样品)具有相同的shape和type。"
   ]
  },
  {
   "cell_type": "markdown",
   "metadata": {},
   "source": [
    "## Parameters:\n",
    "\n",
    "**prototype :** 参照的数组样品。返回的数组的 shape 和 data-type 与数组样品的这些属性相同。\n",
    "\n",
    "**dtype :** 数据类型，可选关键字参数。重写结果的数据类型。\n",
    "\n",
    "**order :** {‘C’, ‘F’, ‘A’, or ‘K’}, 可选关键字参数。重写结果的内存设计。 ‘C’ 意指 C-order； ‘F’ 意指 F-order；如果 prototype 是Fortran相邻的， ‘A’ 意指 ‘F’ ，否则意指‘C’。 ‘K’ 意指尽可能地匹配 prototype.\n",
    "\n",
    "**subok :** 布尔值，可选关键字参数。如果是 True, 新创建的 array 将使用 “a” 类型的子类，否则它将是一个基类数组。默认值为True。\n",
    "\n",
    "## Returns:\n",
    "\n",
    "输出 : ndarray\n",
    "\n",
    "数据未初始化的数组（随机数），与 prototype 有相同的 shape 和 type。"
   ]
  },
  {
   "cell_type": "markdown",
   "metadata": {},
   "source": [
    "**注意：**\n",
    "\n",
    "这个函数不初始化返回的array；如果要初始数组请使用 zeros_like 或 ones_like。它可能比设置数组值的函数略快。"
   ]
  },
  {
   "cell_type": "code",
   "execution_count": 5,
   "metadata": {},
   "outputs": [
    {
     "data": {
      "text/plain": [
       "array([[1667982177,          1,          0],\n",
       "       [         1,          2,         67]])"
      ]
     },
     "execution_count": 5,
     "metadata": {},
     "output_type": "execute_result"
    }
   ],
   "source": [
    "a = ([1,2,3],[4,5,6])\n",
    "np.empty_like(a)"
   ]
  },
  {
   "cell_type": "markdown",
   "metadata": {},
   "source": [
    "创建的数组的值是未初始化的，用随机数表示。"
   ]
  },
  {
   "cell_type": "markdown",
   "metadata": {},
   "source": [
    "# numpy.eye\n",
    "`numpy.eye(N, M=None, k=0, dtype=<class 'float'>, order='C')`\n",
    "\n",
    "返回一个 2-D 数组，对角线上是 1，其它是 0。2—D，是二维的意思。"
   ]
  },
  {
   "cell_type": "markdown",
   "metadata": {},
   "source": [
    "## Parameters\n",
    "**N :** int，输出数组的行数，位置参数。\n",
    "\n",
    "**M :** int, 可选的关键字参数，输出的列数。默认为None，如果是None，默认是N列。\n",
    "\n",
    "**k :** int, 可选的关键字（小写 k ）参数，对角线的索引：0默认指向主对角线，一个正整数指向主对角线上方（右上方）的对角线，一个负整数指向主对角线下方的对角线。**注意：如果 `M<>N`，即为矩形数组，这个主对角线是指 `min(N,M) * min(N,M)`正方形数组从左上角到右下角的对角线。而不是数组从左上角到右下角的对角线。**\n",
    "\n",
    "**dtype :** data-type, 可选关键字参数，返回数组的数据类型。\n",
    "\n",
    "**order :** {‘C’, ‘F’}, 可选关键字参数，输出在内存中的存储顺序是row-major (C-style) 还是 column-major (Fortran-style)。\n",
    "\n",
    "## Returns:\n",
    "输出: shape 为 (N,M)的 ndarray，除了第k个对角线上元素为 1 外，其它值都为 0。"
   ]
  },
  {
   "cell_type": "code",
   "execution_count": 6,
   "metadata": {},
   "outputs": [
    {
     "data": {
      "text/plain": [
       "array([[1, 0, 0, 0, 0, 0, 0],\n",
       "       [0, 1, 0, 0, 0, 0, 0],\n",
       "       [0, 0, 1, 0, 0, 0, 0],\n",
       "       [0, 0, 0, 1, 0, 0, 0],\n",
       "       [0, 0, 0, 0, 1, 0, 0]])"
      ]
     },
     "execution_count": 6,
     "metadata": {},
     "output_type": "execute_result"
    }
   ],
   "source": [
    "np.eye(5,M=7,k=0,dtype=int)"
   ]
  },
  {
   "cell_type": "code",
   "execution_count": 8,
   "metadata": {},
   "outputs": [
    {
     "data": {
      "text/plain": [
       "array([[0, 0, 0, 0, 0],\n",
       "       [0, 0, 0, 0, 0],\n",
       "       [1, 0, 0, 0, 0],\n",
       "       [0, 1, 0, 0, 0],\n",
       "       [0, 0, 1, 0, 0],\n",
       "       [0, 0, 0, 1, 0],\n",
       "       [0, 0, 0, 0, 1]])"
      ]
     },
     "execution_count": 8,
     "metadata": {},
     "output_type": "execute_result"
    }
   ],
   "source": [
    "np.eye(7, M=5, k=-2, dtype=int)"
   ]
  },
  {
   "cell_type": "markdown",
   "metadata": {},
   "source": [
    "# numpy.identity\n",
    "`numpy.identity(n, dtype=None)`\n",
    "\n",
    "返回行列数一致的数组。一个行列数相等的正文形数组，在主对角线上是1，其它是0。\n",
    "\n",
    "## Parameters:\t\n",
    "**n :** int，`n * n`输出中的行列数。小写的n。\n",
    "\n",
    "**dtype :** data-type, 数据类型，可选关键字参数。默认为 float。\n",
    "\n",
    "## Returns:\n",
    "输出：ndarray，n x n array，主对角线上值被设置为 1 ，其它都是 0。"
   ]
  },
  {
   "cell_type": "code",
   "execution_count": 11,
   "metadata": {},
   "outputs": [
    {
     "data": {
      "text/plain": [
       "array([[1, 0, 0],\n",
       "       [0, 1, 0],\n",
       "       [0, 0, 1]], dtype=int8)"
      ]
     },
     "execution_count": 11,
     "metadata": {},
     "output_type": "execute_result"
    }
   ],
   "source": [
    "np.identity(3,dtype=np.int8)"
   ]
  },
  {
   "cell_type": "markdown",
   "metadata": {},
   "source": [
    "# numpy.ones\n",
    "`numpy.ones(shape, dtype=None, order='C')`\n",
    "\n",
    "按照给出的 shape 和 type 返回一个新的数组，所有值被填充为 1。\n",
    "\n",
    "## Parameters：\n",
    "**shape :** 位置参数，int 或者 int 的序列。新数组的 shape，例如，(2,3)或者 2.\n",
    "\n",
    "**dtype :** data-type, 可选关键字参数，数组的 data-type, 例如，numpy.int8. 默认为 numpy.float64.\n",
    "\n",
    "**order :** {‘C’, ‘F’}, 可选关键字参数，默认: C。在内存中存储多维数据的顺序，row-major (C-style) 或 column-major (Fortran-style) .\n",
    "\n",
    "## Returns:\n",
    "输出 : ndarray"
   ]
  },
  {
   "cell_type": "code",
   "execution_count": 13,
   "metadata": {},
   "outputs": [
    {
     "data": {
      "text/plain": [
       "array([[1, 1],\n",
       "       [1, 1],\n",
       "       [1, 1]], dtype=int8)"
      ]
     },
     "execution_count": 13,
     "metadata": {},
     "output_type": "execute_result"
    }
   ],
   "source": [
    "np.ones((3,2),dtype=np.int8)"
   ]
  },
  {
   "cell_type": "markdown",
   "metadata": {},
   "source": [
    "# numpy.ones_like\n",
    "`numpy.ones_like(a, dtype=None, order='K', subok=True)`\n",
    "\n",
    "返回一个shape 和 type 与给出的数组相同的，值为 1 的数组。\n",
    "\n",
    "## Parameters:\n",
    "\n",
    "**a :** array_like，参照数组，定义输出数组相同 shape 和 dtype属性的参照数组。\n",
    "\n",
    "**dtype :** data-type, 数据类型，可选关键字参数，重写结果的数据类型。\n",
    "\n",
    "**order :** {‘C’, ‘F’, ‘A’, or ‘K’}, 可选关键字参数，重写输出数组的内存布局。 ‘C’ 意指 C-order； ‘F’ 意指 F-order； 如果紧邻着 Fortran ‘A’ 意指 ‘F’ ，否则是 ‘C’ 。 ‘K’ 意指尽可能匹配相关的布局。\n",
    "\n",
    "**subok :** bool, 可选关键字参数，默认为True。如果是真的话，那么新创建的数组将使用“a”的子类类型，否则它将是一个基类数组。\n",
    "\n",
    "## Returns:\n",
    "输出: ndarray，与a具有相同shape 和 type 的数组。"
   ]
  },
  {
   "cell_type": "code",
   "execution_count": 20,
   "metadata": {},
   "outputs": [
    {
     "data": {
      "text/plain": [
       "array([[0, 1, 2],\n",
       "       [3, 4, 5]])"
      ]
     },
     "execution_count": 20,
     "metadata": {},
     "output_type": "execute_result"
    }
   ],
   "source": [
    "x=np.arange(6)\n",
    "x=x.reshape((2,3))\n",
    "x"
   ]
  },
  {
   "cell_type": "code",
   "execution_count": 21,
   "metadata": {},
   "outputs": [
    {
     "data": {
      "text/plain": [
       "array([[1, 1, 1],\n",
       "       [1, 1, 1]])"
      ]
     },
     "execution_count": 21,
     "metadata": {},
     "output_type": "execute_result"
    }
   ],
   "source": [
    "np.ones_like(x)"
   ]
  },
  {
   "cell_type": "markdown",
   "metadata": {},
   "source": [
    "# numpy.zeros\n",
    "`numpy.zeros(shape, dtype=float, order='C')`\n",
    "\n",
    "按照给定的 shape 和 type 返回一个新的数组，所有的值设置为 0.\n",
    "\n",
    "用法与numpy.ones相同。"
   ]
  },
  {
   "cell_type": "code",
   "execution_count": 24,
   "metadata": {},
   "outputs": [
    {
     "data": {
      "text/plain": [
       "array([[0, 0, 0],\n",
       "       [0, 0, 0]], dtype=int8)"
      ]
     },
     "execution_count": 24,
     "metadata": {},
     "output_type": "execute_result"
    }
   ],
   "source": [
    "np.zeros((2,3),dtype=np.int8)"
   ]
  },
  {
   "cell_type": "markdown",
   "metadata": {},
   "source": [
    "# numpy.zeros_like\n",
    "`numpy.zeros_like(a, dtype=None, order='K', subok=True)`\n",
    "\n",
    "返回一个shape 和 type 与给出的数组'a'相同的，值为 0 的数组。\n",
    "\n",
    "用法与numpy.ones_like相同。"
   ]
  },
  {
   "cell_type": "code",
   "execution_count": 25,
   "metadata": {},
   "outputs": [
    {
     "data": {
      "text/plain": [
       "array([[0, 1, 2],\n",
       "       [3, 4, 5]])"
      ]
     },
     "execution_count": 25,
     "metadata": {},
     "output_type": "execute_result"
    }
   ],
   "source": [
    "x = np.arange(6)\n",
    "x = x.reshape((2, 3))\n",
    "x"
   ]
  },
  {
   "cell_type": "code",
   "execution_count": 26,
   "metadata": {},
   "outputs": [
    {
     "data": {
      "text/plain": [
       "array([[0, 0, 0],\n",
       "       [0, 0, 0]])"
      ]
     },
     "execution_count": 26,
     "metadata": {},
     "output_type": "execute_result"
    }
   ],
   "source": [
    "np.zeros_like(x)"
   ]
  },
  {
   "cell_type": "markdown",
   "metadata": {},
   "source": [
    "# numpy.full\n",
    "`numpy.full(shape, fill_value, dtype=None, order='C')`\n",
    "\n",
    "按照给出的shape和type返回一个新的数组，使用`fill_value`填充每个值。\n",
    "\n",
    "参见numpy.ones。使用fill_value填充每个值，而不是 1。"
   ]
  },
  {
   "cell_type": "code",
   "execution_count": 30,
   "metadata": {},
   "outputs": [
    {
     "data": {
      "text/plain": [
       "array([[ inf,  inf,  inf],\n",
       "       [ inf,  inf,  inf]])"
      ]
     },
     "execution_count": 30,
     "metadata": {},
     "output_type": "execute_result"
    }
   ],
   "source": [
    "np.full((2,3),np.inf)"
   ]
  },
  {
   "cell_type": "code",
   "execution_count": 31,
   "metadata": {},
   "outputs": [
    {
     "data": {
      "text/plain": [
       "array([['info', 'info', 'info'],\n",
       "       ['info', 'info', 'info']],\n",
       "      dtype='<U4')"
      ]
     },
     "execution_count": 31,
     "metadata": {},
     "output_type": "execute_result"
    }
   ],
   "source": [
    "np.full((2,3),'info')"
   ]
  },
  {
   "cell_type": "code",
   "execution_count": 32,
   "metadata": {},
   "outputs": [
    {
     "data": {
      "text/plain": [
       "array([[7, 7, 7],\n",
       "       [7, 7, 7]])"
      ]
     },
     "execution_count": 32,
     "metadata": {},
     "output_type": "execute_result"
    }
   ],
   "source": [
    "np.full((2,3),7)"
   ]
  },
  {
   "cell_type": "markdown",
   "metadata": {},
   "source": [
    "# numpy.full_like\n",
    "`numpy.full_like(a, fill_value, dtype=None, order='K', subok=True)`\n",
    "\n",
    "返回一个shape 和 type与给出的数组‘a’相同的，使用fill_value填充各值的数组。\n",
    "\n",
    "参考numpy.ones 和 numpy.ones_like。"
   ]
  },
  {
   "cell_type": "code",
   "execution_count": 37,
   "metadata": {},
   "outputs": [
    {
     "data": {
      "text/plain": [
       "array([[ 0.,  1.,  2.],\n",
       "       [ 3.,  4.,  5.]])"
      ]
     },
     "execution_count": 37,
     "metadata": {},
     "output_type": "execute_result"
    }
   ],
   "source": [
    "y=np.arange(6,dtype=np.double)\n",
    "y = y.reshape((2,3))\n",
    "y"
   ]
  },
  {
   "cell_type": "code",
   "execution_count": 38,
   "metadata": {},
   "outputs": [
    {
     "data": {
      "text/plain": [
       "array([[ 0.1,  0.1,  0.1],\n",
       "       [ 0.1,  0.1,  0.1]])"
      ]
     },
     "execution_count": 38,
     "metadata": {},
     "output_type": "execute_result"
    }
   ],
   "source": [
    "np.full_like(y,0.1)"
   ]
  },
  {
   "cell_type": "markdown",
   "metadata": {},
   "source": []
  },
  {
   "cell_type": "markdown",
   "metadata": {},
   "source": []
  }
 ],
 "metadata": {
  "kernelspec": {
   "display_name": "Python 3",
   "language": "python",
   "name": "python3"
  },
  "language_info": {
   "codemirror_mode": {
    "name": "ipython",
    "version": 3
   },
   "file_extension": ".py",
   "mimetype": "text/x-python",
   "name": "python",
   "nbconvert_exporter": "python",
   "pygments_lexer": "ipython3",
   "version": "3.6.4"
  }
 },
 "nbformat": 4,
 "nbformat_minor": 2
}
