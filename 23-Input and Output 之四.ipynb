{
 "cells": [
  {
   "cell_type": "markdown",
   "metadata": {},
   "source": [
    "23-Input and Output 之四\n",
    "====\n",
    "**String formatting**"
   ]
  },
  {
   "cell_type": "markdown",
   "metadata": {},
   "source": [
    "| String   formatting                             |                                                              |\n",
    "| ----------------------------------------------- | ------------------------------------------------------------ |\n",
    "| array2string(a[, max_line_width, precision, …]) | Return   a string representation of an array.                |\n",
    "| array_repr(arr[, max_line_width, precision, …]) | Return   the string representation of an array.              |\n",
    "| array_str(a[, max_line_width, precision, …])    | Return   a string representation of the data in an array.    |\n",
    "| format_float_positional(x[, precision, …])      | Format   a floating-point scalar as a decimal string in positional notation. |\n",
    "| format_float_scientific(x[, precision, …])      | Format   a floating-point scalar as a decimal string in scientific notation. |"
   ]
  },
  {
   "cell_type": "markdown",
   "metadata": {},
   "source": [
    "# numpy.array2string\n",
    "`numpy.array2string(a, max_line_width=None, precision=None, suppress_small=None, separator=' ', prefix='', style=<no value>, formatter=None, threshold=None, edgeitems=None, sign=None, floatmode=None, suffix='', **kwarg)`\n",
    "\n",
    "返回一个数组的字符串表示。"
   ]
  },
  {
   "cell_type": "markdown",
   "metadata": {},
   "source": [
    "## Parameters:\t\n",
    "**a** : array_like\n",
    "\n",
    "输入数组。\n",
    "\n",
    "**max_line_width** : int, optional\n",
    "\n",
    "字符串应跨越的最大列数。换行符在数组元素之后适当地拆分字符串。\n",
    "\n",
    "The maximum number of columns the string should span. Newline characters splits the string appropriately after array elements.\n",
    "\n",
    "**precision** : int or None, optional\n",
    "\n",
    "浮点精度。默认值是当前打印精度（通常为8），可以使用set_printoptions改变。\n",
    "\n",
    "Floating point precision. Default is the current printing precision (usually 8), which can be altered using set_printoptions.\n",
    "\n",
    "**suppress_small** : bool, optional\n",
    "\n",
    "代表非常小的数字为零。如果数字小于当前打印精度，则数字“非常小”。\n",
    "\n",
    "Represent very small numbers as zero. A number is “very small” if it is smaller than the current printing precision.\n",
    "\n",
    "**separator** : str, optional\n",
    "\n",
    "插入元素之间。\n",
    "\n",
    "Inserted between elements."
   ]
  },
  {
   "cell_type": "markdown",
   "metadata": {},
   "source": [
    "**prefix** : str, optional\n",
    "\n",
    "**suffix**: str, optional\n",
    "\n",
    "前缀和后缀字符串的长度分别用于对齐和包装输出。阵列通常打印为：\n",
    "\n",
    "`prefix + array2string(a) + suffix`\n",
    "\n",
    "输出由前缀字符串的长度左边填充，并在列处强制换行。max_line_width - len(suffix)\n",
    "\n",
    "The length of the prefix and suffix strings are used to respectively align and wrap the output. An array is typically printed as:\n",
    "\n",
    "`prefix + array2string(a) + suffix`\n",
    "\n",
    "The output is left-padded by the length of the prefix string, and wrapping is forced at the column max_line_width - len(suffix).\n",
    "\n",
    "**style** : _NoValue, optional\n",
    "\n",
    "没有效果，不要用。\n",
    "\n",
    "自1.14.0版本后弃用。\n",
    "\n",
    "Has no effect, do not use.\n",
    "\n",
    "Deprecated since version 1.14.0."
   ]
  },
  {
   "cell_type": "markdown",
   "metadata": {},
   "source": [
    "**formatter** : dict of callables, optional\n",
    "\n",
    "如果不是None，则键应指示相应格式化功能适用的类型。Callables应该返回一个字符串。未指定的类型（通过其对应的键）由默认格式化程序处理。可以设置格式化程序的各个类型是：\n",
    "\n",
    "If not None, the keys should indicate the type(s) that the respective formatting function applies to. Callables should return a string. Types that are not specified (by their corresponding keys) are handled by the default formatters. Individual types for which a formatter can be set are:"
   ]
  },
  {
   "cell_type": "markdown",
   "metadata": {},
   "source": [
    "- ‘bool’\n",
    "- ‘int’\n",
    "- ‘timedelta’ : a numpy.timedelta64\n",
    "- ‘datetime’ : a numpy.datetime64\n",
    "- ‘float’\n",
    "- ‘longfloat’ : 128-bit floats\n",
    "- ‘complexfloat’\n",
    "- ‘longcomplexfloat’ : composed of two 128-bit floats\n",
    "- ‘void’ : type numpy.void\n",
    "- ‘numpystr’ : types numpy.string_ and numpy.unicode_\n",
    "- ‘str’ : all other strings"
   ]
  },
  {
   "cell_type": "markdown",
   "metadata": {},
   "source": [
    "可以用于一次设置一组类型的其他键是：\n",
    "\n",
    "Other keys that can be used to set a group of types at once are:\n",
    "\n",
    "- ‘all’ : sets all types\n",
    "- ‘int_kind’ : sets ‘int’\n",
    "- ‘float_kind’ : sets ‘float’ and ‘longfloat’\n",
    "- ‘complex_kind’ : sets ‘complexfloat’ and ‘longcomplexfloat’\n",
    "- ‘str_kind’ : sets ‘str’ and ‘numpystr’"
   ]
  },
  {
   "cell_type": "markdown",
   "metadata": {},
   "source": [
    "**threshold** : int, optional\n",
    "\n",
    "数组元素总数，它是触发器的摘要而非完整repr。\n",
    "\n",
    "Total number of array elements which trigger summarization rather than full repr.\n",
    "\n",
    "**edgeitems** : int, optional\n",
    "\n",
    "每个维度开头和结尾的摘要中的数组项数。\n",
    "\n",
    "Number of array items in summary at beginning and end of each dimension.\n",
    "\n",
    "**sign** : string, either `‘-‘, ‘+’, or ‘ ‘`, optional\n",
    "\n",
    "控制浮点类型符号的打印。如果为“+”，则始终打印正值的符号。如果''，则始终在正值的符号位置打印空格（空格字符）。如果为“ - ”，则省略正值的符号字符。\n",
    "\n",
    "Controls printing of the sign of floating-point types. If ‘+’, always print the sign of positive values. If ‘ ‘, always prints a space (whitespace character) in the sign position of positive values. If ‘-‘, omit the sign character of positive values."
   ]
  },
  {
   "cell_type": "markdown",
   "metadata": {},
   "source": [
    "**floatmode** : str, optional\n",
    "\n",
    "控制浮点类型的精度选项的解释。可以采用以下值：\n",
    "\n",
    "Controls the interpretation of the precision option for floating-point types. Can take the following values:\n",
    "\n",
    "- 'fixed'：始终打印精确的小数位数，即使打印的位数多于或少于指定唯一值所需的位数。\n",
    "- 'unique'：打印唯一表示每个值所需的最小小数位数。不同的元素可以具有不同的数字位数。精度选项的值将被忽略。\n",
    "- 'maxprec'：打印最多精度小数位，但如果一个元素可以用较少的数字唯一地表示，则只打印那么多。\n",
    "- 'maxprec_equal'：打印最多精度小数位，但如果数组中的每个元素都可以用相同数量的较少位数唯一表示，则对所有元素使用那么多位数。\n",
    "\n",
    "\n",
    "- ‘fixed’: Always print exactly precision fractional digits, even if this would print more or fewer digits than necessary to specify the value uniquely.\n",
    "- ‘unique’: Print the minimum number of fractional digits necessary to represent each value uniquely. Different elements may have a different number of digits. The value of the precision option is ignored.\n",
    "- ‘maxprec’: Print at most precision fractional digits, but if an element can be uniquely represented with fewer digits only print it with that many.\n",
    "- ‘maxprec_equal’: Print at most precision fractional digits, but if every element in the array can be uniquely represented with an equal number of fewer digits, use that many digits for all elements."
   ]
  },
  {
   "cell_type": "markdown",
   "metadata": {},
   "source": [
    "**legacy** : string or False, optional\n",
    "\n",
    "如果设置为字符串'1.13'，则启用1.13传统打印模式。这通过在浮点的符号位置包含空格和0d数组的不同行为来近似numpy 1.13打印输出。如果设置为 False，则禁用传统模式。将忽略无法识别的字符串，并显示前向兼容性警告。\n",
    "\n",
    "1.14.0版中的新功能。\n",
    "\n",
    "If set to the string ‘1.13’ enables 1.13 legacy printing mode. This approximates numpy 1.13 print output by including a space in the sign position of floats and different behavior for 0d arrays. If set to False, disables legacy mode. Unrecognized strings will be ignored with a warning for forward compatibility.\n",
    "\n",
    "New in version 1.14.0."
   ]
  },
  {
   "cell_type": "markdown",
   "metadata": {},
   "source": [
    "## Returns:\t\n",
    "array_str : str\n",
    "\n",
    "数组的字符串表示。\n",
    "\n",
    "String representation of the array."
   ]
  },
  {
   "cell_type": "markdown",
   "metadata": {},
   "source": [
    "## Raises:\t\n",
    "TypeError\n",
    "\n",
    "如果在`formatter`中的一个可调用不返回字符串。\n",
    "\n",
    "if a callable in formatter does not return a string."
   ]
  },
  {
   "cell_type": "markdown",
   "metadata": {},
   "source": [
    "**注意：**\n",
    "\n",
    "如果为某种类型指定了格式化程序，则会忽略该类型的precision关键字。\n",
    "\n",
    "这是一个非常灵活的功能; array_repr并且array_str在array2string内部使用， 因此具有相同名称的关键字在所有三个函数中应该完全相同。\n",
    "\n",
    "If a formatter is specified for a certain type, the precision keyword is ignored for that type.\n",
    "\n",
    "This is a very flexible function; array_repr and array_str are using array2string internally so keywords with the same name should work identically in all three functions."
   ]
  },
  {
   "cell_type": "markdown",
   "metadata": {},
   "source": [
    "## 示例"
   ]
  },
  {
   "cell_type": "code",
   "execution_count": 1,
   "metadata": {},
   "outputs": [
    {
     "name": "stdout",
     "output_type": "stream",
     "text": [
      "[0.,1.,2.,3.]\n"
     ]
    }
   ],
   "source": [
    "import numpy as np\n",
    ">>> x = np.array([1e-16,1,2,3])\n",
    ">>> print(np.array2string(x, precision=2, separator=',',\n",
    "...                       suppress_small=True))"
   ]
  },
  {
   "cell_type": "code",
   "execution_count": 2,
   "metadata": {},
   "outputs": [
    {
     "data": {
      "text/plain": [
       "'[0.00 1.00 2.00]'"
      ]
     },
     "execution_count": 2,
     "metadata": {},
     "output_type": "execute_result"
    }
   ],
   "source": [
    ">>> x  = np.arange(3.)\n",
    ">>> np.array2string(x, formatter={'float_kind':lambda x: \"%.2f\" % x})"
   ]
  },
  {
   "cell_type": "code",
   "execution_count": 3,
   "metadata": {},
   "outputs": [
    {
     "data": {
      "text/plain": [
       "'[0x0 0x1 0x2]'"
      ]
     },
     "execution_count": 3,
     "metadata": {},
     "output_type": "execute_result"
    }
   ],
   "source": [
    ">>> x  = np.arange(3)\n",
    ">>> np.array2string(x, formatter={'int':lambda x: hex(x)})"
   ]
  },
  {
   "cell_type": "markdown",
   "metadata": {},
   "source": [
    "# numpy.array_repr\n",
    "`numpy.array_repr(arr, max_line_width=None, precision=None, suppress_small=None)`\n",
    "\n",
    "返回数组的字符串表示。\n",
    "\n",
    "Return the string representation of an array."
   ]
  },
  {
   "cell_type": "markdown",
   "metadata": {},
   "source": [
    "## Parameters:\t\n",
    "**arr** : ndarray\n",
    "Input array.\n",
    "\n",
    "**max_line_width** : int, optional\n",
    "\n",
    "字符串应跨越的最大列数。换行符在数组元素之后适当地拆分字符串。\n",
    "\n",
    "The maximum number of columns the string should span. Newline characters split the string appropriately after array elements.\n",
    "\n",
    "**precision** : int, optional\n",
    "\n",
    "浮点精度。默认值是当前打印精度（通常为8），可以使用更改set_printoptions。\n",
    "\n",
    "Floating point precision. Default is the current printing precision (usually 8), which can be altered using set_printoptions.\n",
    "\n",
    "**suppress_small** : bool, optional\n",
    "\n",
    "将非常小的数字表示为零，默认为False。非常小是由精度定义的，如果精度为8，则小于5e-9的数字表示为零。\n",
    "\n",
    "Represent very small numbers as zero, default is False. Very small is defined by precision, if the precision is 8 then numbers smaller than 5e-9 are represented as zero."
   ]
  },
  {
   "cell_type": "markdown",
   "metadata": {},
   "source": [
    "## Returns:\t\n",
    "string : str\n",
    "\n",
    "返回数组的字符串表示。\n",
    "\n",
    "The string representation of an array.\n",
    "\n",
    "## 示例"
   ]
  },
  {
   "cell_type": "code",
   "execution_count": 4,
   "metadata": {},
   "outputs": [
    {
     "data": {
      "text/plain": [
       "'array([1, 2])'"
      ]
     },
     "execution_count": 4,
     "metadata": {},
     "output_type": "execute_result"
    }
   ],
   "source": [
    ">>> np.array_repr(np.array([1,2]))"
   ]
  },
  {
   "cell_type": "code",
   "execution_count": 5,
   "metadata": {},
   "outputs": [
    {
     "data": {
      "text/plain": [
       "'MaskedArray([0.])'"
      ]
     },
     "execution_count": 5,
     "metadata": {},
     "output_type": "execute_result"
    }
   ],
   "source": [
    ">>> np.array_repr(np.ma.array([0.]))"
   ]
  },
  {
   "cell_type": "code",
   "execution_count": 6,
   "metadata": {},
   "outputs": [
    {
     "data": {
      "text/plain": [
       "'array([], dtype=int32)'"
      ]
     },
     "execution_count": 6,
     "metadata": {},
     "output_type": "execute_result"
    }
   ],
   "source": [
    ">>> np.array_repr(np.array([], np.int32))"
   ]
  },
  {
   "cell_type": "code",
   "execution_count": 7,
   "metadata": {},
   "outputs": [],
   "source": [
    ">>> x = np.array([1e-6, 4e-7, 2, 3])"
   ]
  },
  {
   "cell_type": "code",
   "execution_count": 8,
   "metadata": {},
   "outputs": [
    {
     "data": {
      "text/plain": [
       "'array([0.000001, 0.      , 2.      , 3.      ])'"
      ]
     },
     "execution_count": 8,
     "metadata": {},
     "output_type": "execute_result"
    }
   ],
   "source": [
    ">>> np.array_repr(x, precision=6, suppress_small=True)"
   ]
  },
  {
   "cell_type": "markdown",
   "metadata": {},
   "source": [
    "# numpy.array_str\n",
    "`numpy.array_str(a, max_line_width=None, precision=None, suppress_small=None)`\n",
    "\n",
    "\n",
    "\n",
    "Return a string representation of the data in an array.\n",
    "\n",
    "The data in the array is returned as a single string. This function is similar to array_repr, the difference being that array_repr also returns information on the kind of array and its data type."
   ]
  },
  {
   "cell_type": "markdown",
   "metadata": {},
   "source": [
    "## Parameters:\t\n",
    "**a** : ndarray\n",
    "\n",
    "Input array.\n",
    "\n",
    "**max_line_width** : int, optional\n",
    "\n",
    "如果文本长于max_line_width，则插入换行符。默认值是,间接的,75。\n",
    "\n",
    "Inserts newlines if text is longer than max_line_width. The default is, indirectly, 75.\n",
    "\n",
    "**precision** : int, optional\n",
    "\n",
    "浮点精度。默认值是当前打印精度（通常为8），可以使用更改set_printoptions。\n",
    "\n",
    "Floating point precision. Default is the current printing precision (usually 8), which can be altered using set_printoptions.\n",
    "\n",
    "**suppress_small** : bool, optional\n",
    "\n",
    "将数字“非常接近”表示为零; 默认值为False。非常接近由精度定义：如果精度为8，例如，比5e-9更小（绝对值）的数字表示为零。\n",
    "\n",
    "Represent numbers “very close” to zero as zero; default is False. Very close is defined by precision: if the precision is 8, e.g., numbers smaller (in absolute value) than 5e-9 are represented as zero."
   ]
  },
  {
   "cell_type": "markdown",
   "metadata": {},
   "source": [
    "## 示例"
   ]
  },
  {
   "cell_type": "code",
   "execution_count": 9,
   "metadata": {},
   "outputs": [
    {
     "data": {
      "text/plain": [
       "'[0 1 2]'"
      ]
     },
     "execution_count": 9,
     "metadata": {},
     "output_type": "execute_result"
    }
   ],
   "source": [
    ">>> np.array_str(np.arange(3))"
   ]
  },
  {
   "cell_type": "markdown",
   "metadata": {},
   "source": [
    "# numpy.format_float_positional\n",
    "\n",
    "`numpy.format_float_positional(x, precision=None, unique=True, fractional=True, trim='k', sign=False, pad_left=None, pad_right=None)`\n",
    "\n",
    "在位置表示法中将浮点标量格式化为十进制字符串。\n",
    "\n",
    "提供对舍入，修剪和填充的控制。使用并假设IEEE无偏舍入。使用“Dragon4”算法。\n",
    "\n",
    "Format a floating-point scalar as a decimal string in positional notation.\n",
    "\n",
    "Provides control over rounding, trimming and padding. Uses and assumes IEEE unbiased rounding. Uses the “Dragon4” algorithm."
   ]
  },
  {
   "cell_type": "markdown",
   "metadata": {},
   "source": [
    "## Parameters:\t\n",
    "**x** : python float or numpy floating scalar\n",
    "\n",
    "Value to format.\n",
    "\n",
    "**precision** : non-negative integer or None, optional\n",
    "\n",
    "要打印的最大位数。如果unique为 True，则可以为None ，但如果unique为False，则必须为整数。\n",
    "\n",
    "Maximum number of digits to print. May be None if unique is True, but must be an integer if unique is False.\n",
    "\n",
    "**unique** : boolean, optional\n",
    "\n",
    "如果为True，则使用数字生成策略，该策略通过明智的舍入给出最短的表示，该表示通过相同类型的其他值唯一地标识浮点数。如果 省略精度，则打印出所有必要的数字，否则在精确数字后切除数字生成，并将剩余值四舍五入。如果为False，则生成数字，就像打印无限精度值并在精确数字后停止一样，将剩余值四舍五入。\n",
    "\n",
    "If True, use a digit-generation strategy which gives the shortest representation which uniquely identifies the floating-point number from other values of the same type, by judicious rounding. If precision was omitted, print out all necessary digits, otherwise digit generation is cut off after precision digits and the remaining value is rounded. If False, digits are generated as if printing an infinite-precision value and stopping after precision digits, rounding the remaining value.\n",
    "\n",
    "**fractional** : boolean, optional\n",
    "\n",
    "如果为True，精度数字的截止值是指小数点后的总位数，包括前导零。如果为False，则精度指的是小数点之前或之后的有效位总数，忽略前导零。\n",
    "\n",
    "If True, the cutoff of precision digits refers to the total number of digits after the decimal point, including leading zeros. If False, precision refers to the total number of significant digits, before or after the decimal point, ignoring leading zeros."
   ]
  },
  {
   "cell_type": "markdown",
   "metadata": {},
   "source": [
    "**trim** : one of `‘k’, ‘.’, ‘0’, ‘-‘`, optional\n",
    "\n",
    "控制跟踪数字的后处理修剪，如下所示：\n",
    "\n",
    "- 'k'：保持尾随零，保持小数点（不修剪）\n",
    "- '' ：修剪所有尾随零，留下小数点\n",
    "- '0'：除了小数点前的零点以外的所有值。如果缺少则插入零。\n",
    "- ' - '：修剪尾随零和任何尾随小数点\n",
    "\n",
    "\n",
    "Controls post-processing trimming of trailing digits, as follows:\n",
    "\n",
    "- ‘k’ : keep trailing zeros, keep decimal point (no trimming)\n",
    "- ‘.’ : trim all trailing zeros, leave decimal point\n",
    "- ‘0’ : trim all but the zero before the decimal point. Insert the zero if it is missing.\n",
    "- ‘-‘ : trim trailing zeros and any trailing decimal point"
   ]
  },
  {
   "cell_type": "markdown",
   "metadata": {},
   "source": [
    "**sign** : boolean, optional\n",
    "\n",
    "是否显示正值的符号。\n",
    "\n",
    "Whether to show the sign for positive values.\n",
    "\n",
    "**pad_left** : non-negative integer, optional\n",
    "\n",
    "用空格填充字符串的左侧，直到小数点左边至少有多个字符。\n",
    "\n",
    "Pad the left side of the string with whitespace until at least that many characters are to the left of the decimal point.\n",
    "\n",
    "**pad_right** : non-negative integer, optional\n",
    "\n",
    "用空格填充字符串的右侧，直到至少那么多字符位于小数点的右侧。\n",
    "\n",
    "Pad the right side of the string with whitespace until at least that many characters are to the right of the decimal point."
   ]
  },
  {
   "cell_type": "markdown",
   "metadata": {},
   "source": [
    "## Returns:\t\n",
    "rep : string\n",
    "\n",
    "浮点值的字符串表示形式。\n",
    "\n",
    "The string representation of the floating point value\n",
    "\n",
    "## 示例"
   ]
  },
  {
   "cell_type": "code",
   "execution_count": 10,
   "metadata": {},
   "outputs": [
    {
     "data": {
      "text/plain": [
       "'3.1415927'"
      ]
     },
     "execution_count": 10,
     "metadata": {},
     "output_type": "execute_result"
    }
   ],
   "source": [
    ">>> np.format_float_positional(np.float32(np.pi))"
   ]
  },
  {
   "cell_type": "code",
   "execution_count": 11,
   "metadata": {},
   "outputs": [
    {
     "data": {
      "text/plain": [
       "'3.14'"
      ]
     },
     "execution_count": 11,
     "metadata": {},
     "output_type": "execute_result"
    }
   ],
   "source": [
    ">>> np.format_float_positional(np.float16(np.pi))"
   ]
  },
  {
   "cell_type": "code",
   "execution_count": 12,
   "metadata": {},
   "outputs": [
    {
     "data": {
      "text/plain": [
       "'0.3'"
      ]
     },
     "execution_count": 12,
     "metadata": {},
     "output_type": "execute_result"
    }
   ],
   "source": [
    ">>> np.format_float_positional(np.float16(0.3))"
   ]
  },
  {
   "cell_type": "code",
   "execution_count": 13,
   "metadata": {},
   "outputs": [
    {
     "data": {
      "text/plain": [
       "'0.3000488281'"
      ]
     },
     "execution_count": 13,
     "metadata": {},
     "output_type": "execute_result"
    }
   ],
   "source": [
    ">>> np.format_float_positional(np.float16(0.3), unique=False, precision=10)"
   ]
  },
  {
   "cell_type": "markdown",
   "metadata": {},
   "source": [
    "# numpy.format_float_scientific\n",
    "\n",
    "`numpy.format_float_scientific(x, precision=None, unique=True, trim='k', sign=False, pad_left=None, exp_digits=None)`\n",
    "\n",
    "使用科学计数法将浮点标量格式化为十进制字符串。\n",
    "\n",
    "提供对舍入，修剪和填充的控制。使用并假设IEEE无偏舍入。使用“Dragon4”算法。\n",
    "\n",
    "Format a floating-point scalar as a decimal string in scientific notation.\n",
    "\n",
    "Provides control over rounding, trimming and padding. Uses and assumes IEEE unbiased rounding. Uses the “Dragon4” algorithm."
   ]
  },
  {
   "cell_type": "markdown",
   "metadata": {},
   "source": [
    "## Parameters:\t\n",
    "**x** : python float or numpy floating scalar\n",
    "\n",
    "要格式化的值。\n",
    "\n",
    "Value to format.\n",
    "\n",
    "**precision** : non-negative integer or None, optional\n",
    "\n",
    "要打印的最大位数。如果unique为 True，则可以为None ，但如果unique为False，则必须为整数。\n",
    "\n",
    "Maximum number of digits to print. May be None if unique is True, but must be an integer if unique is False.\n",
    "\n",
    "**unique** : boolean, optional\n",
    "\n",
    "如果为True，则使用数字生成策略，明智的舍入给出最短的表示，该表示通过相同类型的其他值唯一地标识浮点数。如果省略精度，则打印所有必要的数字，否则在精确数字后切除数字生成，并将剩余值四舍五入。如果为False，则生成数字，就像打印无限精度值并在精确数字后停止一样，将剩余值四舍五入。\n",
    "\n",
    "If True, use a digit-generation strategy which gives the shortest representation which uniquely identifies the floating-point number from other values of the same type, by judicious rounding. If precision was omitted, print all necessary digits, otherwise digit generation is cut off after precision digits and the remaining value is rounded. If False, digits are generated as if printing an infinite-precision value and stopping after precision digits, rounding the remaining value."
   ]
  },
  {
   "cell_type": "markdown",
   "metadata": {},
   "source": [
    "**trim** : one of ‘k’, ‘.’, ‘0’, ‘-‘, optional\n",
    "\n",
    "控制跟踪数字的后处理修剪，如下所示：\n",
    "\n",
    "- 'k'：保持尾随零，保持小数点（不修剪）\n",
    "- '' ：修剪所有尾随零，留下小数点\n",
    "- '0'：除了小数点前的零点以外的所有值。如果缺少则插入零。\n",
    "- ' - '：修剪尾随零和任何尾随小数点\n",
    "\n",
    "Controls post-processing trimming of trailing digits, as follows:\n",
    "\n",
    "- ‘k’ : keep trailing zeros, keep decimal point (no trimming)\n",
    "- ‘.’ : trim all trailing zeros, leave decimal point\n",
    "- ‘0’ : trim all but the zero before the decimal point. Insert the zero if it is missing.\n",
    "- ‘-‘ : trim trailing zeros and any trailing decimal point"
   ]
  },
  {
   "cell_type": "markdown",
   "metadata": {},
   "source": [
    "**sign** : boolean, optional\n",
    "\n",
    "是否显示正值的符号。\n",
    "\n",
    "Whether to show the sign for positive values.\n",
    "\n",
    "**pad_left** : non-negative integer, optional\n",
    "\n",
    "用空格填充字符串的左侧，直到小数点左边至少有多个字符。\n",
    "\n",
    "Pad the left side of the string with whitespace until at least that many characters are to the left of the decimal point.\n",
    "\n",
    "**exp_digits** : non-negative integer, optional\n",
    "\n",
    "用零填充指数，直到它包含至少这么多数字。如果省略，则指数至少为2位数。\n",
    "\n",
    "Pad the exponent with zeros until it contains at least this many digits. If omitted, the exponent will be at least 2 digits."
   ]
  },
  {
   "cell_type": "markdown",
   "metadata": {},
   "source": [
    "## Returns:\t\n",
    "rep : string\n",
    "\n",
    "浮点值的字符串表示\n",
    "\n",
    "The string representation of the floating point value\n",
    "\n",
    "## 示例"
   ]
  },
  {
   "cell_type": "code",
   "execution_count": 14,
   "metadata": {},
   "outputs": [
    {
     "data": {
      "text/plain": [
       "'3.1415927e+00'"
      ]
     },
     "execution_count": 14,
     "metadata": {},
     "output_type": "execute_result"
    }
   ],
   "source": [
    ">>> np.format_float_scientific(np.float32(np.pi))"
   ]
  },
  {
   "cell_type": "code",
   "execution_count": 15,
   "metadata": {},
   "outputs": [
    {
     "data": {
      "text/plain": [
       "'1.230000071797338e+24'"
      ]
     },
     "execution_count": 15,
     "metadata": {},
     "output_type": "execute_result"
    }
   ],
   "source": [
    ">>> s = np.float32(1.23e24)\n",
    ">>> np.format_float_scientific(s, unique=False, precision=15)"
   ]
  },
  {
   "cell_type": "code",
   "execution_count": 16,
   "metadata": {},
   "outputs": [
    {
     "data": {
      "text/plain": [
       "'1.23e+0024'"
      ]
     },
     "execution_count": 16,
     "metadata": {},
     "output_type": "execute_result"
    }
   ],
   "source": [
    ">>> np.format_float_scientific(s, exp_digits=4)"
   ]
  },
  {
   "cell_type": "markdown",
   "metadata": {},
   "source": []
  }
 ],
 "metadata": {
  "kernelspec": {
   "display_name": "Python 3",
   "language": "python",
   "name": "python3"
  },
  "language_info": {
   "codemirror_mode": {
    "name": "ipython",
    "version": 3
   },
   "file_extension": ".py",
   "mimetype": "text/x-python",
   "name": "python",
   "nbconvert_exporter": "python",
   "pygments_lexer": "ipython3",
   "version": "3.6.6"
  },
  "toc": {
   "base_numbering": 1,
   "nav_menu": {},
   "number_sections": true,
   "sideBar": true,
   "skip_h1_title": false,
   "title_cell": "Table of Contents",
   "title_sidebar": "Contents",
   "toc_cell": false,
   "toc_position": {},
   "toc_section_display": true,
   "toc_window_display": false
  }
 },
 "nbformat": 4,
 "nbformat_minor": 2
}
