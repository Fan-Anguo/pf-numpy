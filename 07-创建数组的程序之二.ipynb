{
 "cells": [
  {
   "cell_type": "markdown",
   "metadata": {},
   "source": [
    "创建数组的程序之二\n",
    "====\n",
    "From existing data，从现有的数据\n",
    "----"
   ]
  },
  {
   "cell_type": "code",
   "execution_count": 131,
   "metadata": {},
   "outputs": [],
   "source": [
    "import numpy as np"
   ]
  },
  {
   "cell_type": "markdown",
   "metadata": {},
   "source": [
    "- array(object[, dtype, copy, order, subok, ndmin])\n",
    "- asarray(a[, dtype, order])\n",
    "- asanyarray(a[, dtype, order])\n",
    "- ascontiguousarray(a[, dtype])\n",
    "- asmatrix(data[, dtype])\n",
    "- copy(a[, order])\n",
    "- frombuffer(buffer[, dtype, count, offset])\n",
    "- fromfile(file[, dtype, count, sep])\n",
    "- `fromfunction(function, shape, **kwargs)`\n",
    "- fromiter(iterable, dtype[, count])\n",
    "- fromstring(string[, dtype, count, sep])\n",
    "- loadtxt(fname[, dtype, comments, delimiter, …])"
   ]
  },
  {
   "cell_type": "markdown",
   "metadata": {},
   "source": [
    "# numpy.array\n",
    "`numpy.array(object, dtype=None, copy=True, order='K', subok=False, ndmin=0)`"
   ]
  },
  {
   "cell_type": "markdown",
   "metadata": {},
   "source": [
    "**object :** array_like，类似数组的对象。\n",
    "\n",
    "数组，公开数组接口的任何对象，`__array__`方法返回数组的对象，或任何（嵌套）序列。\n",
    "\n",
    "**dtype :** data-type, 可选关键字参数。\n",
    "\n",
    "数组所需的数据类型。如果没有给出，类型将被确定为保持序列中的对象所需的最小类型。此参数只能用于“upcast”（向上转型）数组。 对于downcasting(向下转型)，请使用.astype（t）方法。\n",
    "\n",
    "**copy :** bool, 可选关键字参数。\n",
    "\n",
    "如果为true（默认值），则复制对象。 否则，只有当`__array__`返回副本，obj是嵌套序列，或者需要副本来满足任何其他要求（dtype，order等）时，才会生成副本。\n",
    "\n",
    "**order :** {‘K’, ‘A’, ‘C’, ‘F’}, 可选关键字参数。\n",
    "\n",
    "指定数组的内存布局。如果object不是数组，则新创建的数组将按C顺序排列（行为主），除非指定了“F”，如果指定 为“F”它将采用Fortran顺序（列为主）。如果object是一个数组，则按照以下规则：\n",
    "\n",
    "| order | no copy   | copy=True                                             |\n",
    "| ----- | --------- | ----------------------------------------------------- |\n",
    "| ‘K’   | unchanged | F   & C order preserved, otherwise most similar order |\n",
    "| ‘A’   | unchanged | F   order if input is F and not C, otherwise C order  |\n",
    "| ‘C’   | C   order | C   order                                             |\n",
    "| ‘F’   | F   order | F   order                                             |"
   ]
  },
  {
   "cell_type": "markdown",
   "metadata": {},
   "source": [
    "# numpy.asarray\n",
    "`numpy.asarray(a, dtype=None, order=None)`\n",
    "\n",
    "将输入转换为一个数组。"
   ]
  },
  {
   "cell_type": "markdown",
   "metadata": {},
   "source": [
    "## Parameters:\n",
    "**a :** array_like，输入数据，可以转换为数组的任何形式。包括列表，元组列表，元组，元组的元组，列表和ndarray的元组。\n",
    "\n",
    "**dtype :** data-type, 数据类型，可选关键字参数。默认情况下，数据类型是从输入数据推断出来的。\n",
    "\n",
    "**order :** {‘C’, ‘F’}, 可选关键字参数。是使用row-major（C-style）还是 column（fortranstyle）内存表示。默认为“C”。\n",
    "\n",
    "## Returns:\n",
    "\n",
    "输出: ndarray\n",
    "\n",
    "a 的数组解释。如果输入已经是具有匹配的 dtype 和 order 的ndarray，则不执行复制。 如果 a 是 ndarray 的子类，则返回基类 ndarray。"
   ]
  },
  {
   "cell_type": "code",
   "execution_count": 132,
   "metadata": {},
   "outputs": [
    {
     "data": {
      "text/plain": [
       "array([1, 2])"
      ]
     },
     "execution_count": 132,
     "metadata": {},
     "output_type": "execute_result"
    }
   ],
   "source": [
    "# 将一个 list 转换为 array:\n",
    "\n",
    "a = [1, 2]\n",
    "np.asarray(a)"
   ]
  },
  {
   "cell_type": "code",
   "execution_count": 133,
   "metadata": {},
   "outputs": [
    {
     "data": {
      "text/plain": [
       "True"
      ]
     },
     "execution_count": 133,
     "metadata": {},
     "output_type": "execute_result"
    }
   ],
   "source": [
    "# 不复制现有的数组：\n",
    "\n",
    "a = np.array([1, 2])\n",
    "np.asarray(a) is a"
   ]
  },
  {
   "cell_type": "code",
   "execution_count": 134,
   "metadata": {},
   "outputs": [
    {
     "data": {
      "text/plain": [
       "True"
      ]
     },
     "execution_count": 134,
     "metadata": {},
     "output_type": "execute_result"
    }
   ],
   "source": [
    "# 如果已设置 dtype, 仅当 array 的 dtype 不匹配时才被复制:\n",
    "\n",
    "a = np.array([1, 2], dtype=np.float32)\n",
    "np.asarray(a, dtype=np.float32) is a"
   ]
  },
  {
   "cell_type": "code",
   "execution_count": 135,
   "metadata": {},
   "outputs": [
    {
     "data": {
      "text/plain": [
       "False"
      ]
     },
     "execution_count": 135,
     "metadata": {},
     "output_type": "execute_result"
    }
   ],
   "source": [
    "np.asarray(a, dtype=np.float64) is a"
   ]
  },
  {
   "cell_type": "code",
   "execution_count": 136,
   "metadata": {},
   "outputs": [
    {
     "data": {
      "text/plain": [
       "True"
      ]
     },
     "execution_count": 136,
     "metadata": {},
     "output_type": "execute_result"
    }
   ],
   "source": [
    "# 与asanyarray相反，ndarray子类不通过：：\n",
    "\n",
    "issubclass(np.recarray, np.ndarray)"
   ]
  },
  {
   "cell_type": "code",
   "execution_count": 137,
   "metadata": {},
   "outputs": [
    {
     "data": {
      "text/plain": [
       "False"
      ]
     },
     "execution_count": 137,
     "metadata": {},
     "output_type": "execute_result"
    }
   ],
   "source": [
    "a = np.array([(1.0, 2), (3.0, 4)], dtype='f4,i4').view(np.recarray)\n",
    "np.asarray(a) is a"
   ]
  },
  {
   "cell_type": "code",
   "execution_count": 138,
   "metadata": {},
   "outputs": [
    {
     "data": {
      "text/plain": [
       "True"
      ]
     },
     "execution_count": 138,
     "metadata": {},
     "output_type": "execute_result"
    }
   ],
   "source": [
    "np.asanyarray(a) is a"
   ]
  },
  {
   "cell_type": "markdown",
   "metadata": {},
   "source": [
    "# numpy.asanyarray\n",
    "`numpy.asanyarray(a, dtype=None, order=None)`\n",
    "\n",
    "将输入转换为 ndarray，但通过ndarray子类转换。"
   ]
  },
  {
   "cell_type": "markdown",
   "metadata": {},
   "source": [
    "## Parameters:\n",
    "**a :** array_like。输入数据。任何形式的可以转换为数组的数据。包括标量，列表，元组的列表，元组，元组的元组，列表的元组和ndarray。\n",
    "\n",
    "**dtype : **data-type, 可选关键字参数。默认情况下，data-type 是从输入的数据推断出来的。\n",
    "\n",
    "**order :** {‘C’, ‘F’}, 可选关键字参数。\n",
    "\n",
    "是使用row-major（C-style）还是 column（fortranstyle）内存表示。默认为“C”。\n",
    "\n",
    "## Returns：\n",
    "\n",
    "输出：ndarray，或者 ndarray 子类。\n",
    "\n",
    "a 的数组解释。如果 a 是一个 ndarray 或者 ndarray的子类，它按原样返回并且不执行复制（实际就是引用）。"
   ]
  },
  {
   "cell_type": "code",
   "execution_count": 139,
   "metadata": {},
   "outputs": [
    {
     "data": {
      "text/plain": [
       "array([1, 2])"
      ]
     },
     "execution_count": 139,
     "metadata": {},
     "output_type": "execute_result"
    }
   ],
   "source": [
    "# 将一个列表转换为 array:\n",
    "\n",
    "a = [1,2]\n",
    "np.asanyarray(a)"
   ]
  },
  {
   "cell_type": "code",
   "execution_count": 140,
   "metadata": {},
   "outputs": [
    {
     "data": {
      "text/plain": [
       "True"
      ]
     },
     "execution_count": 140,
     "metadata": {},
     "output_type": "execute_result"
    }
   ],
   "source": [
    "# 实例化 ndarray 子类是通过原样（as-is）进行的：\n",
    "a = np.array([(1.0,2),(3.0,4)],dtype='f4,i4').view(np.recarray)\n",
    "np.asanyarray(a) is a"
   ]
  },
  {
   "cell_type": "markdown",
   "metadata": {},
   "source": [
    "# numpy.ascontiguousarray\n",
    "`numpy.ascontiguousarray(a, dtype=None)`\n",
    "\n",
    "返回一个在内存（C 顺序）中相连的数组。\n",
    "\n",
    "## Parameters:\n",
    "\n",
    "**a :**  array_like，输入数组。\n",
    "\n",
    "**dtype :** str or dtype object, 可选关键字参数，返回数组的数据类型。\n",
    "\n",
    "## Returns:\t\n",
    "输出: ndarray\n",
    "\n",
    "相邻的数组的 shape 和内容与 a 相同，dtype是指定的。"
   ]
  },
  {
   "cell_type": "code",
   "execution_count": 141,
   "metadata": {},
   "outputs": [
    {
     "data": {
      "text/plain": [
       "array([[0, 1, 2],\n",
       "       [3, 4, 5]])"
      ]
     },
     "execution_count": 141,
     "metadata": {},
     "output_type": "execute_result"
    }
   ],
   "source": [
    "x = np.arange(6).reshape(2,3)\n",
    "x"
   ]
  },
  {
   "cell_type": "code",
   "execution_count": 142,
   "metadata": {},
   "outputs": [
    {
     "data": {
      "text/plain": [
       "array([[ 0.,  1.,  2.],\n",
       "       [ 3.,  4.,  5.]], dtype=float32)"
      ]
     },
     "execution_count": 142,
     "metadata": {},
     "output_type": "execute_result"
    }
   ],
   "source": [
    "np.ascontiguousarray(x,dtype=np.float32)"
   ]
  },
  {
   "cell_type": "code",
   "execution_count": 143,
   "metadata": {},
   "outputs": [
    {
     "data": {
      "text/plain": [
       "True"
      ]
     },
     "execution_count": 143,
     "metadata": {},
     "output_type": "execute_result"
    }
   ],
   "source": [
    "x.flags['C_CONTIGUOUS']"
   ]
  },
  {
   "cell_type": "markdown",
   "metadata": {},
   "source": [
    "# numpy.asmatrix\n",
    "`numpy.asmatrix(data, dtype=None)`\n",
    "\n",
    "将输入编译为一个 matrix.\n",
    "\n",
    "不同于 matrix, 如果输入已经是一个 matrix 或者 ndarray，asmatrix 不生成一个拷贝。等价于 `matrix(data, copy=False)`.\n",
    "\n",
    "## Parameters:\n",
    "**data :** array_like，输入数据。\n",
    "\n",
    "**dtype :** data-type，输出 matrix 的数据类型。\n",
    "\n",
    "## Returns:\n",
    "**mat :** matrix，数据被编译为一个 matrix."
   ]
  },
  {
   "cell_type": "code",
   "execution_count": 144,
   "metadata": {},
   "outputs": [
    {
     "data": {
      "text/plain": [
       "array([[1, 2],\n",
       "       [3, 4]])"
      ]
     },
     "execution_count": 144,
     "metadata": {},
     "output_type": "execute_result"
    }
   ],
   "source": [
    "x = np.array([[1,2],[3,4]])\n",
    "x"
   ]
  },
  {
   "cell_type": "code",
   "execution_count": 145,
   "metadata": {},
   "outputs": [
    {
     "data": {
      "text/plain": [
       "matrix([[1, 2],\n",
       "        [3, 4]])"
      ]
     },
     "execution_count": 145,
     "metadata": {},
     "output_type": "execute_result"
    }
   ],
   "source": [
    "m = np.asmatrix(x)\n",
    "m"
   ]
  },
  {
   "cell_type": "code",
   "execution_count": 146,
   "metadata": {},
   "outputs": [
    {
     "data": {
      "text/plain": [
       "False"
      ]
     },
     "execution_count": 146,
     "metadata": {},
     "output_type": "execute_result"
    }
   ],
   "source": [
    "x is m"
   ]
  },
  {
   "cell_type": "code",
   "execution_count": 147,
   "metadata": {},
   "outputs": [],
   "source": [
    "n = np.asmatrix(m)"
   ]
  },
  {
   "cell_type": "code",
   "execution_count": 148,
   "metadata": {},
   "outputs": [
    {
     "data": {
      "text/plain": [
       "True"
      ]
     },
     "execution_count": 148,
     "metadata": {},
     "output_type": "execute_result"
    }
   ],
   "source": [
    "n is m"
   ]
  },
  {
   "cell_type": "markdown",
   "metadata": {},
   "source": [
    "# numpy.copy\n",
    "`numpy.copy(a, order='K')`\n",
    "\n",
    "返回给定对象的数组副本。\n",
    "\n",
    "## Parameters:\n",
    "**a :** array_like，输入的数据.\n",
    "\n",
    "**order :** {‘C’, ‘F’, ‘A’, ‘K’}, 可选关键字参数。控制副本的内存布局。 ‘C’ 意指 C-order, ‘F’ 意指 F-order, 如果a是与Fortran相邻的，‘A’ 意指 ‘F’,否则意指 ‘C’. ‘K’ 意指尽可能接近a的布局。 (注意：这个函数与 ndarray.copy非常近似，但是它们的order = arguments的默认值不同。)\n",
    "\n",
    "## Returns: \n",
    "arr : ndarray\n",
    "\n",
    "a 的数组解释。\n",
    "\n",
    "**注意**\n",
    "\n",
    "这个等价于：`np.array(a, copy=True) `"
   ]
  },
  {
   "cell_type": "code",
   "execution_count": 149,
   "metadata": {},
   "outputs": [],
   "source": [
    "# 创建一个数组x，y引用x, z复制x:\n",
    "\n",
    "x = np.array([1,2,3])\n",
    "y= x\n",
    "z = np.copy(x)\n",
    "\n",
    "#注意：当我们修改 x 时，y 会变化，但z不会。"
   ]
  },
  {
   "cell_type": "code",
   "execution_count": 150,
   "metadata": {},
   "outputs": [
    {
     "data": {
      "text/plain": [
       "True"
      ]
     },
     "execution_count": 150,
     "metadata": {},
     "output_type": "execute_result"
    }
   ],
   "source": [
    "x[0]=10\n",
    "x[0]==y[0]"
   ]
  },
  {
   "cell_type": "code",
   "execution_count": 151,
   "metadata": {},
   "outputs": [
    {
     "data": {
      "text/plain": [
       "False"
      ]
     },
     "execution_count": 151,
     "metadata": {},
     "output_type": "execute_result"
    }
   ],
   "source": [
    "x[0]==z[0]"
   ]
  },
  {
   "cell_type": "markdown",
   "metadata": {},
   "source": [
    "# numpy.frombuffer\n",
    "`numpy.frombuffer(buffer, dtype=float, count=-1, offset=0)`\n",
    "\n",
    "将缓存解读为 1-D array.\n",
    "\n",
    "## Parameters:\t\n",
    "**buffer :** buffer_like 一个暴露了缓冲区接口的对象。\n",
    "\n",
    "**dtype :** data-type, 可选关键字参数。返回的 array的数据类型，默认为：float.\n",
    "\n",
    "**count :** int, 可选关键字参数。要读的条目数量。-1 意味着缓冲区的所有数据。\n",
    "\n",
    "**offset :** int, 可选关键字参数。从这个偏移位置开始读取缓冲区（字节数）；默认为：0"
   ]
  },
  {
   "cell_type": "markdown",
   "metadata": {},
   "source": [
    "**注意：**如果缓冲区中没有机器字节顺序的数据，那么应该将其指定为数据类型的一部分，例如：\n",
    "\n",
    "```\n",
    "dt = np.dtype(int)\n",
    "dt = dt.newbyteorder('>')\n",
    "np.frombuffer(buf, dtype=dt)\n",
    "```\n",
    "\n",
    "生成的数组的数据不会被字节交换，但会被正确解读。"
   ]
  },
  {
   "cell_type": "code",
   "execution_count": 152,
   "metadata": {},
   "outputs": [
    {
     "data": {
      "text/plain": [
       "array([b'w', b'o', b'r', b'l', b'd'],\n",
       "      dtype='|S1')"
      ]
     },
     "execution_count": 152,
     "metadata": {},
     "output_type": "execute_result"
    }
   ],
   "source": [
    "s = b'hello world'\n",
    "np.frombuffer(s, dtype='S1', count=5, offset=6)"
   ]
  },
  {
   "cell_type": "markdown",
   "metadata": {},
   "source": [
    "# numpy.fromfile\n",
    "`numpy.fromfile(file, dtype=float, count=-1, sep='')`\n",
    "\n",
    "从文本或二进制文件中的数据构造一个 array.\n",
    "\n",
    "一种非常高效的方法，可以用已知的数据类型来读取二进制数据，以及解析简单格式化的文本文件。使用tofile方法编写的数据可以使用这个函数读取。"
   ]
  },
  {
   "cell_type": "markdown",
   "metadata": {},
   "source": [
    "## Parameters:\n",
    "**file :** file or str，打开文件对象，或文件名。\n",
    "\n",
    "**dtype :** data-type，返回数组的数据类型。对于二进制文件，它被用于确定文件中条目的大小 和字节顺序。\n",
    "\n",
    "**count :** int，读取条目的数量。-1 表示所有条目（如，完整的文件）。\n",
    "\n",
    "**sep :** str，如果file是一个文本文件，两个条目之间的分隔符。 空（“”）分隔符意味着文件将被视作二进制处理。\n",
    "\n",
    "分隔符中的空格（“”）匹配零个或多个空格字符。仅由空格组成的分隔符必须匹配至少一个空格。"
   ]
  },
  {
   "cell_type": "markdown",
   "metadata": {},
   "source": [
    "**注意：**\n",
    "\n",
    "不要依赖于tofile和fromfile的组合来进行数据存储，因为生成的二进制文件不是独立于平台的。 特别是，不保存字节顺序或数据类型信息。 数据可以使用保存和加载以平台独立的.npy格式存储。"
   ]
  },
  {
   "cell_type": "code",
   "execution_count": 153,
   "metadata": {},
   "outputs": [
    {
     "data": {
      "text/plain": [
       "dtype([('time', [('min', '<i4'), ('sec', '<i4')]), ('temp', '<f8')])"
      ]
     },
     "execution_count": 153,
     "metadata": {},
     "output_type": "execute_result"
    }
   ],
   "source": [
    "# 构造一个 ndarray:\n",
    "\n",
    "dt = np.dtype([('time', [('min', int), ('sec', int)]),\n",
    "                ('temp', float)])\n",
    "dt"
   ]
  },
  {
   "cell_type": "code",
   "execution_count": 178,
   "metadata": {},
   "outputs": [
    {
     "data": {
      "text/plain": [
       "array([0], dtype=int8)"
      ]
     },
     "execution_count": 178,
     "metadata": {},
     "output_type": "execute_result"
    }
   ],
   "source": [
    "x = np.zeros((1,), dtype='b')\n",
    "x"
   ]
  },
  {
   "cell_type": "code",
   "execution_count": 179,
   "metadata": {},
   "outputs": [
    {
     "data": {
      "text/plain": [
       "1"
      ]
     },
     "execution_count": 179,
     "metadata": {},
     "output_type": "execute_result"
    }
   ],
   "source": [
    "# Save the raw data to disk:\n",
    "\n",
    "import tempfile\n",
    "fname = tempfile.TemporaryFile('w+b')\n",
    "fname.write(x)"
   ]
  },
  {
   "cell_type": "code",
   "execution_count": 184,
   "metadata": {},
   "outputs": [
    {
     "data": {
      "text/plain": [
       "array([], dtype=float64)"
      ]
     },
     "execution_count": 184,
     "metadata": {},
     "output_type": "execute_result"
    }
   ],
   "source": [
    "# Read the raw data from disk:\n",
    "\n",
    "np.fromfile(fname, dtype=dt)"
   ]
  },
  {
   "cell_type": "code",
   "execution_count": 186,
   "metadata": {},
   "outputs": [
    {
     "ename": "OSError",
     "evalue": "[Errno 22] Invalid argument: '<tempfile._TemporaryFileWrapper object at 0x000001EC2D2F5F98>.npy'",
     "output_type": "error",
     "traceback": [
      "\u001b[1;31m---------------------------------------------------------------------------\u001b[0m",
      "\u001b[1;31mOSError\u001b[0m                                   Traceback (most recent call last)",
      "\u001b[1;32m<ipython-input-186-cf598a8409c5>\u001b[0m in \u001b[0;36m<module>\u001b[1;34m()\u001b[0m\n\u001b[0;32m      2\u001b[0m \u001b[1;33m\u001b[0m\u001b[0m\n\u001b[0;32m      3\u001b[0m \u001b[0mnp\u001b[0m\u001b[1;33m.\u001b[0m\u001b[0msave\u001b[0m\u001b[1;33m(\u001b[0m\u001b[0mfname\u001b[0m\u001b[1;33m,\u001b[0m \u001b[0mx\u001b[0m\u001b[1;33m)\u001b[0m\u001b[1;33m\u001b[0m\u001b[0m\n\u001b[1;32m----> 4\u001b[1;33m \u001b[0mnp\u001b[0m\u001b[1;33m.\u001b[0m\u001b[0mload\u001b[0m\u001b[1;33m(\u001b[0m\u001b[0mstr\u001b[0m\u001b[1;33m(\u001b[0m\u001b[0mfname\u001b[0m\u001b[1;33m)\u001b[0m \u001b[1;33m+\u001b[0m \u001b[1;34m'.npy'\u001b[0m\u001b[1;33m)\u001b[0m\u001b[1;33m\u001b[0m\u001b[0m\n\u001b[0m",
      "\u001b[1;32mC:\\Anaconda3\\envs\\Anaconda3\\lib\\site-packages\\numpy\\lib\\npyio.py\u001b[0m in \u001b[0;36mload\u001b[1;34m(file, mmap_mode, allow_pickle, fix_imports, encoding)\u001b[0m\n\u001b[0;32m    368\u001b[0m     \u001b[0mown_fid\u001b[0m \u001b[1;33m=\u001b[0m \u001b[1;32mFalse\u001b[0m\u001b[1;33m\u001b[0m\u001b[0m\n\u001b[0;32m    369\u001b[0m     \u001b[1;32mif\u001b[0m \u001b[0misinstance\u001b[0m\u001b[1;33m(\u001b[0m\u001b[0mfile\u001b[0m\u001b[1;33m,\u001b[0m \u001b[0mbasestring\u001b[0m\u001b[1;33m)\u001b[0m\u001b[1;33m:\u001b[0m\u001b[1;33m\u001b[0m\u001b[0m\n\u001b[1;32m--> 370\u001b[1;33m         \u001b[0mfid\u001b[0m \u001b[1;33m=\u001b[0m \u001b[0mopen\u001b[0m\u001b[1;33m(\u001b[0m\u001b[0mfile\u001b[0m\u001b[1;33m,\u001b[0m \u001b[1;34m\"rb\"\u001b[0m\u001b[1;33m)\u001b[0m\u001b[1;33m\u001b[0m\u001b[0m\n\u001b[0m\u001b[0;32m    371\u001b[0m         \u001b[0mown_fid\u001b[0m \u001b[1;33m=\u001b[0m \u001b[1;32mTrue\u001b[0m\u001b[1;33m\u001b[0m\u001b[0m\n\u001b[0;32m    372\u001b[0m     \u001b[1;32melif\u001b[0m \u001b[0mis_pathlib_path\u001b[0m\u001b[1;33m(\u001b[0m\u001b[0mfile\u001b[0m\u001b[1;33m)\u001b[0m\u001b[1;33m:\u001b[0m\u001b[1;33m\u001b[0m\u001b[0m\n",
      "\u001b[1;31mOSError\u001b[0m: [Errno 22] Invalid argument: '<tempfile._TemporaryFileWrapper object at 0x000001EC2D2F5F98>.npy'"
     ]
    }
   ],
   "source": [
    "# The recommended way to store and load data:\n",
    "\n",
    "np.save(fname, x)\n",
    "np.load(fname + '.npy')"
   ]
  },
  {
   "cell_type": "code",
   "execution_count": null,
   "metadata": {},
   "outputs": [],
   "source": []
  },
  {
   "cell_type": "code",
   "execution_count": null,
   "metadata": {},
   "outputs": [],
   "source": []
  }
 ],
 "metadata": {
  "kernelspec": {
   "display_name": "Python 3",
   "language": "python",
   "name": "python3"
  },
  "language_info": {
   "codemirror_mode": {
    "name": "ipython",
    "version": 3
   },
   "file_extension": ".py",
   "mimetype": "text/x-python",
   "name": "python",
   "nbconvert_exporter": "python",
   "pygments_lexer": "ipython3",
   "version": "3.6.6"
  },
  "latex_envs": {
   "LaTeX_envs_menu_present": true,
   "autoclose": false,
   "autocomplete": true,
   "bibliofile": "biblio.bib",
   "cite_by": "apalike",
   "current_citInitial": 1,
   "eqLabelWithNumbers": true,
   "eqNumInitial": 1,
   "hotkeys": {
    "equation": "Ctrl-E",
    "itemize": "Ctrl-I"
   },
   "labels_anchors": false,
   "latex_user_defs": false,
   "report_style_numbering": false,
   "user_envs_cfg": false
  },
  "toc": {
   "base_numbering": 1,
   "nav_menu": {},
   "number_sections": true,
   "sideBar": true,
   "skip_h1_title": false,
   "title_cell": "Table of Contents",
   "title_sidebar": "Contents",
   "toc_cell": false,
   "toc_position": {},
   "toc_section_display": true,
   "toc_window_display": true
  }
 },
 "nbformat": 4,
 "nbformat_minor": 2
}
