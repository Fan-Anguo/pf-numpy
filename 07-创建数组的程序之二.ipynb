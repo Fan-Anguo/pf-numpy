{
 "cells": [
  {
   "cell_type": "markdown",
   "metadata": {},
   "source": [
    "创建数组的程序之二\n",
    "====\n",
    "From existing data，从现有的数据\n",
    "----"
   ]
  },
  {
   "cell_type": "code",
   "execution_count": 33,
   "metadata": {},
   "outputs": [],
   "source": [
    "import numpy as np"
   ]
  },
  {
   "cell_type": "markdown",
   "metadata": {},
   "source": [
    "- array(object[, dtype, copy, order, subok, ndmin])\n",
    "- asarray(a[, dtype, order])\n",
    "- asanyarray(a[, dtype, order])\n",
    "- ascontiguousarray(a[, dtype])\n",
    "- asmatrix(data[, dtype])\n",
    "- copy(a[, order])\n",
    "- frombuffer(buffer[, dtype, count, offset])\n",
    "- fromfile(file[, dtype, count, sep])\n",
    "- `fromfunction(function, shape, **kwargs)`\n",
    "- fromiter(iterable, dtype[, count])\n",
    "- fromstring(string[, dtype, count, sep])\n",
    "- loadtxt(fname[, dtype, comments, delimiter, …])"
   ]
  },
  {
   "cell_type": "markdown",
   "metadata": {},
   "source": [
    "# numpy.array\n",
    "`numpy.array(object, dtype=None, copy=True, order='K', subok=False, ndmin=0)`"
   ]
  },
  {
   "cell_type": "markdown",
   "metadata": {},
   "source": [
    "**object :** array_like，类似数组的对象。\n",
    "\n",
    "数组，公开数组接口的任何对象，`__array__`方法返回数组的对象，或任何（嵌套）序列。\n",
    "\n",
    "**dtype :** data-type, 可选关键字参数。\n",
    "\n",
    "数组所需的数据类型。如果没有给出，类型将被确定为保持序列中的对象所需的最小类型。此参数只能用于“upcast”（向上转型）数组。 对于downcasting(向下转型)，请使用.astype（t）方法。\n",
    "\n",
    "**copy :** bool, 可选关键字参数。\n",
    "\n",
    "如果为true（默认值），则复制对象。 否则，只有当`__array__`返回副本，obj是嵌套序列，或者需要副本来满足任何其他要求（dtype，order等）时，才会生成副本。\n",
    "\n",
    "**order :** {‘K’, ‘A’, ‘C’, ‘F’}, 可选关键字参数。\n",
    "\n",
    "指定数组的内存布局。如果object不是数组，则新创建的数组将按C顺序排列（行为主），除非指定了“F”，如果指定 为“F”它将采用Fortran顺序（列为主）。如果object是一个数组，则按照以下规则：\n",
    "\n",
    "| order | no copy   | copy=True                                             |\n",
    "| ----- | --------- | ----------------------------------------------------- |\n",
    "| ‘K’   | unchanged | F   & C order preserved, otherwise most similar order |\n",
    "| ‘A’   | unchanged | F   order if input is F and not C, otherwise C order  |\n",
    "| ‘C’   | C   order | C   order                                             |\n",
    "| ‘F’   | F   order | F   order                                             |"
   ]
  },
  {
   "cell_type": "markdown",
   "metadata": {},
   "source": [
    "# numpy.asarray\n",
    "`numpy.asarray(a, dtype=None, order=None)`\n",
    "\n",
    "将输入转换为一个数组。"
   ]
  },
  {
   "cell_type": "markdown",
   "metadata": {},
   "source": [
    "## Parameters:\n",
    "**a :** array_like，输入数据，可以转换为数组的任何形式。包括列表，元组列表，元组，元组的元组，列表和ndarray的元组。\n",
    "\n",
    "**dtype :** data-type, 数据类型，可选关键字参数。默认情况下，数据类型是从输入数据推断出来的。\n",
    "\n",
    "**order :** {‘C’, ‘F’}, 可选关键字参数。是使用row-major（C-style）还是 column（fortranstyle）内存表示。默认为“C”。\n",
    "\n",
    "## Returns:\n",
    "\n",
    "输出: ndarray\n",
    "\n",
    "a 的数组解释。如果输入已经是具有匹配的 dtype 和 order 的ndarray，则不执行复制。 如果 a 是 ndarray 的子类，则返回基类 ndarray。"
   ]
  },
  {
   "cell_type": "code",
   "execution_count": 34,
   "metadata": {},
   "outputs": [
    {
     "data": {
      "text/plain": [
       "array([1, 2])"
      ]
     },
     "execution_count": 34,
     "metadata": {},
     "output_type": "execute_result"
    }
   ],
   "source": [
    "# 将一个 list 转换为 array:\n",
    "\n",
    "a = [1, 2]\n",
    "np.asarray(a)"
   ]
  },
  {
   "cell_type": "code",
   "execution_count": 35,
   "metadata": {},
   "outputs": [
    {
     "data": {
      "text/plain": [
       "True"
      ]
     },
     "execution_count": 35,
     "metadata": {},
     "output_type": "execute_result"
    }
   ],
   "source": [
    "# 不复制现有的数组：\n",
    "\n",
    "a = np.array([1, 2])\n",
    "np.asarray(a) is a"
   ]
  },
  {
   "cell_type": "code",
   "execution_count": 36,
   "metadata": {},
   "outputs": [
    {
     "data": {
      "text/plain": [
       "True"
      ]
     },
     "execution_count": 36,
     "metadata": {},
     "output_type": "execute_result"
    }
   ],
   "source": [
    "# 如果已设置 dtype, 仅当 array 的 dtype 不匹配时才被复制:\n",
    "\n",
    "a = np.array([1, 2], dtype=np.float32)\n",
    "np.asarray(a, dtype=np.float32) is a"
   ]
  },
  {
   "cell_type": "code",
   "execution_count": 37,
   "metadata": {},
   "outputs": [
    {
     "data": {
      "text/plain": [
       "False"
      ]
     },
     "execution_count": 37,
     "metadata": {},
     "output_type": "execute_result"
    }
   ],
   "source": [
    "np.asarray(a, dtype=np.float64) is a"
   ]
  },
  {
   "cell_type": "code",
   "execution_count": 38,
   "metadata": {},
   "outputs": [
    {
     "data": {
      "text/plain": [
       "True"
      ]
     },
     "execution_count": 38,
     "metadata": {},
     "output_type": "execute_result"
    }
   ],
   "source": [
    "# 与asanyarray相反，ndarray子类不通过：：\n",
    "\n",
    "issubclass(np.recarray, np.ndarray)"
   ]
  },
  {
   "cell_type": "code",
   "execution_count": 39,
   "metadata": {},
   "outputs": [
    {
     "data": {
      "text/plain": [
       "False"
      ]
     },
     "execution_count": 39,
     "metadata": {},
     "output_type": "execute_result"
    }
   ],
   "source": [
    "a = np.array([(1.0, 2), (3.0, 4)], dtype='f4,i4').view(np.recarray)\n",
    "np.asarray(a) is a"
   ]
  },
  {
   "cell_type": "code",
   "execution_count": 40,
   "metadata": {},
   "outputs": [
    {
     "data": {
      "text/plain": [
       "True"
      ]
     },
     "execution_count": 40,
     "metadata": {},
     "output_type": "execute_result"
    }
   ],
   "source": [
    "np.asanyarray(a) is a"
   ]
  },
  {
   "cell_type": "markdown",
   "metadata": {},
   "source": [
    "# numpy.asanyarray\n",
    "`numpy.asanyarray(a, dtype=None, order=None)`\n",
    "\n",
    "将输入转换为 ndarray，但通过ndarray子类转换。"
   ]
  },
  {
   "cell_type": "markdown",
   "metadata": {},
   "source": [
    "## Parameters:\n",
    "**a :** array_like。输入数据。任何形式的可以转换为数组的数据。包括标量，列表，元组的列表，元组，元组的元组，列表的元组和ndarray。\n",
    "\n",
    "**dtype : **data-type, 可选关键字参数。默认情况下，data-type 是从输入的数据推断出来的。\n",
    "\n",
    "**order :** {‘C’, ‘F’}, 可选关键字参数。\n",
    "\n",
    "是使用row-major（C-style）还是 column（fortranstyle）内存表示。默认为“C”。\n",
    "\n",
    "## Returns：\n",
    "\n",
    "输出：ndarray，或者 ndarray 子类。\n",
    "\n",
    "a 的数组解释。如果 a 是一个 ndarray 或者 ndarray的子类，它按原样返回并且不执行复制（实际就是引用）。"
   ]
  },
  {
   "cell_type": "code",
   "execution_count": 41,
   "metadata": {},
   "outputs": [
    {
     "data": {
      "text/plain": [
       "array([1, 2])"
      ]
     },
     "execution_count": 41,
     "metadata": {},
     "output_type": "execute_result"
    }
   ],
   "source": [
    "# 将一个列表转换为 array:\n",
    "\n",
    "a = [1,2]\n",
    "np.asanyarray(a)"
   ]
  },
  {
   "cell_type": "code",
   "execution_count": 42,
   "metadata": {},
   "outputs": [
    {
     "data": {
      "text/plain": [
       "True"
      ]
     },
     "execution_count": 42,
     "metadata": {},
     "output_type": "execute_result"
    }
   ],
   "source": [
    "# 实例化 ndarray 子类是通过原样（as-is）进行的：\n",
    "a = np.array([(1.0,2),(3.0,4)],dtype='f4,i4').view(np.recarray)\n",
    "np.asanyarray(a) is a"
   ]
  },
  {
   "cell_type": "markdown",
   "metadata": {},
   "source": [
    "# numpy.ascontiguousarray\n",
    "`numpy.ascontiguousarray(a, dtype=None)`\n",
    "\n",
    "返回一个在内存（C 顺序）中相连的数组。\n",
    "\n",
    "## Parameters:\n",
    "\n",
    "**a :**  array_like，输入数组。\n",
    "\n",
    "**dtype :** str or dtype object, 可选关键字参数，返回数组的数据类型。\n",
    "\n",
    "## Returns:\t\n",
    "输出: ndarray\n",
    "\n",
    "相邻的数组的 shape 和内容与 a 相同，dtype是指定的。"
   ]
  },
  {
   "cell_type": "code",
   "execution_count": 43,
   "metadata": {},
   "outputs": [
    {
     "data": {
      "text/plain": [
       "array([[0, 1, 2],\n",
       "       [3, 4, 5]])"
      ]
     },
     "execution_count": 43,
     "metadata": {},
     "output_type": "execute_result"
    }
   ],
   "source": [
    "x = np.arange(6).reshape(2,3)\n",
    "x"
   ]
  },
  {
   "cell_type": "code",
   "execution_count": 44,
   "metadata": {},
   "outputs": [
    {
     "data": {
      "text/plain": [
       "array([[ 0.,  1.,  2.],\n",
       "       [ 3.,  4.,  5.]], dtype=float32)"
      ]
     },
     "execution_count": 44,
     "metadata": {},
     "output_type": "execute_result"
    }
   ],
   "source": [
    "np.ascontiguousarray(x,dtype=np.float32)"
   ]
  },
  {
   "cell_type": "code",
   "execution_count": 45,
   "metadata": {},
   "outputs": [
    {
     "data": {
      "text/plain": [
       "True"
      ]
     },
     "execution_count": 45,
     "metadata": {},
     "output_type": "execute_result"
    }
   ],
   "source": [
    "x.flags['C_CONTIGUOUS']"
   ]
  },
  {
   "cell_type": "markdown",
   "metadata": {},
   "source": [
    "# numpy.asmatrix\n",
    "`numpy.asmatrix(data, dtype=None)`\n",
    "\n",
    "将输入编译为一个 matrix.\n",
    "\n",
    "不同于 matrix, 如果输入已经是一个 matrix 或者 ndarray，asmatrix 不生成一个拷贝。等价于 `matrix(data, copy=False)`.\n",
    "\n",
    "## Parameters:\n",
    "**data :** array_like，输入数据。\n",
    "\n",
    "**dtype :** data-type，输出 matrix 的数据类型。\n",
    "\n",
    "## Returns:\n",
    "**mat :** matrix，数据被编译为一个 matrix."
   ]
  },
  {
   "cell_type": "code",
   "execution_count": 46,
   "metadata": {},
   "outputs": [
    {
     "data": {
      "text/plain": [
       "array([[1, 2],\n",
       "       [3, 4]])"
      ]
     },
     "execution_count": 46,
     "metadata": {},
     "output_type": "execute_result"
    }
   ],
   "source": [
    "x = np.array([[1,2],[3,4]])\n",
    "x"
   ]
  },
  {
   "cell_type": "code",
   "execution_count": 47,
   "metadata": {},
   "outputs": [
    {
     "data": {
      "text/plain": [
       "matrix([[1, 2],\n",
       "        [3, 4]])"
      ]
     },
     "execution_count": 47,
     "metadata": {},
     "output_type": "execute_result"
    }
   ],
   "source": [
    "m = np.asmatrix(x)\n",
    "m"
   ]
  },
  {
   "cell_type": "code",
   "execution_count": 48,
   "metadata": {},
   "outputs": [
    {
     "data": {
      "text/plain": [
       "False"
      ]
     },
     "execution_count": 48,
     "metadata": {},
     "output_type": "execute_result"
    }
   ],
   "source": [
    "x is m"
   ]
  },
  {
   "cell_type": "code",
   "execution_count": 51,
   "metadata": {},
   "outputs": [],
   "source": [
    "n = np.asmatrix(m)"
   ]
  },
  {
   "cell_type": "code",
   "execution_count": 52,
   "metadata": {},
   "outputs": [
    {
     "data": {
      "text/plain": [
       "True"
      ]
     },
     "execution_count": 52,
     "metadata": {},
     "output_type": "execute_result"
    }
   ],
   "source": [
    "n is m"
   ]
  },
  {
   "cell_type": "markdown",
   "metadata": {},
   "source": [
    "# numpy.copy\n",
    "`numpy.copy(a, order='K')`\n",
    "\n",
    "返回给定对象的数组副本。\n",
    "\n",
    "## Parameters:\n",
    "**a :** array_like，输入的数据.\n",
    "\n",
    "**order :** {‘C’, ‘F’, ‘A’, ‘K’}, 可选关键字参数。控制副本的内存布局。 ‘C’ 意指 C-order, ‘F’ 意指 F-order, 如果a是与Fortran相邻的，‘A’ 意指 ‘F’,否则意指 ‘C’. ‘K’ 意指尽可能接近a的布局。 (注意：这个函数与 ndarray.copy非常近似，但是它们的order = arguments的默认值不同。)\n",
    "\n",
    "## Returns: \n",
    "arr : ndarray\n",
    "\n",
    "a 的数组解释。\n",
    "\n",
    "**注意**\n",
    "\n",
    "这个等价于：`np.array(a, copy=True) `"
   ]
  },
  {
   "cell_type": "code",
   "execution_count": null,
   "metadata": {},
   "outputs": [],
   "source": [
    "Create an array x, with a reference y and a copy z:\n",
    "\n",
    ">>>\n",
    ">>> x = np.array([1, 2, 3])\n",
    ">>> y = x\n",
    ">>> z = np.copy(x)\n",
    "Note that, when we modify x, y changes, but not z:\n",
    "\n",
    ">>>\n",
    ">>> x[0] = 10\n",
    ">>> x[0] == y[0]\n",
    "True\n",
    ">>> x[0] == z[0]\n",
    "False"
   ]
  },
  {
   "cell_type": "code",
   "execution_count": 54,
   "metadata": {},
   "outputs": [],
   "source": [
    "# 创建一个数组x，y引用x, z复制x:\n",
    "\n",
    "x = np.array([1,2,3])\n",
    "y= x\n",
    "z = np.copy(x)\n",
    "\n",
    "#注意：当我们修改 x 时，y 会变化，但z不会。"
   ]
  },
  {
   "cell_type": "code",
   "execution_count": 56,
   "metadata": {},
   "outputs": [
    {
     "data": {
      "text/plain": [
       "True"
      ]
     },
     "execution_count": 56,
     "metadata": {},
     "output_type": "execute_result"
    }
   ],
   "source": [
    "x[0]=10\n",
    "x[0]==y[0]"
   ]
  },
  {
   "cell_type": "code",
   "execution_count": 57,
   "metadata": {},
   "outputs": [
    {
     "data": {
      "text/plain": [
       "False"
      ]
     },
     "execution_count": 57,
     "metadata": {},
     "output_type": "execute_result"
    }
   ],
   "source": [
    "x[0]==z[0]"
   ]
  },
  {
   "cell_type": "markdown",
   "metadata": {},
   "source": [
    "# numpy.frombuffer\n",
    "numpy.frombuffer(buffer, dtype=float, count=-1, offset=0)\n",
    "Interpret a buffer as a 1-dimensional array.\n",
    "\n",
    "Parameters:\t\n",
    "buffer : buffer_like\n",
    "An object that exposes the buffer interface.\n",
    "\n",
    "dtype : data-type, optional\n",
    "Data-type of the returned array; default: float.\n",
    "\n",
    "count : int, optional\n",
    "Number of items to read. -1 means all data in the buffer.\n",
    "\n",
    "offset : int, optional\n",
    "Start reading the buffer from this offset (in bytes); default: 0."
   ]
  }
 ],
 "metadata": {
  "kernelspec": {
   "display_name": "Python 3",
   "language": "python",
   "name": "python3"
  },
  "language_info": {
   "codemirror_mode": {
    "name": "ipython",
    "version": 3
   },
   "file_extension": ".py",
   "mimetype": "text/x-python",
   "name": "python",
   "nbconvert_exporter": "python",
   "pygments_lexer": "ipython3",
   "version": "3.6.4"
  },
  "latex_envs": {
   "LaTeX_envs_menu_present": true,
   "autocomplete": true,
   "bibliofile": "biblio.bib",
   "cite_by": "apalike",
   "current_citInitial": 1,
   "eqLabelWithNumbers": true,
   "eqNumInitial": 1,
   "hotkeys": {
    "equation": "Ctrl-E",
    "itemize": "Ctrl-I"
   },
   "labels_anchors": false,
   "latex_user_defs": false,
   "report_style_numbering": false,
   "user_envs_cfg": false
  },
  "toc": {
   "nav_menu": {},
   "number_sections": true,
   "sideBar": true,
   "skip_h1_title": false,
   "title_cell": "Table of Contents",
   "title_sidebar": "Contents",
   "toc_cell": false,
   "toc_position": {},
   "toc_section_display": true,
   "toc_window_display": false
  }
 },
 "nbformat": 4,
 "nbformat_minor": 2
}
