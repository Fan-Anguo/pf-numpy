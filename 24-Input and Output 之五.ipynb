{
 "cells": [
  {
   "cell_type": "markdown",
   "metadata": {},
   "source": [
    "24-Input and Output 之五\n",
    "====\n",
    "**Memory mapping files**\n",
    "\n",
    "memmap为存储在磁盘上的二进制文件中的阵列创建一个内存映射。\n",
    "\n",
    "memmap\tCreate a memory-map to an array stored in a binary file on disk."
   ]
  },
  {
   "cell_type": "markdown",
   "metadata": {},
   "source": [
    "# numpy.memmap\n",
    "`class numpy.memmap`\n",
    "\n",
    "为存储在磁盘上的二进制文件中的数组创建内存映射。\n",
    "\n",
    "内存映射文件用于访问磁盘上的大段文件，而无需将整个文件读入内存。NumPy的memmap是类似于数组的对象。这与Python的mmap 模块不同，后者使用类似文件的对象。\n",
    "\n",
    "这个ndarray的子​​类与某些操作有一些不愉快的交互，因为它不太适合作为子类。使用此子类的另一种方法是自己创建mmap 对象，然后直接使用ndarray .__ new__创建一个ndarray，传递在其'buffer ='参数中创建的对象。\n",
    "\n",
    "此类可能在某些时候被转换为工厂函数，该函数将视图返回到mmap缓冲区。\n",
    "\n",
    "删除memmap实例以关闭memmap文件。\n",
    "\n",
    "Create a memory-map to an array stored in a binary file on disk.\n",
    "\n",
    "Memory-mapped files are used for accessing small segments of large files on disk, without reading the entire file into memory. NumPy’s memmap’s are array-like objects. This differs from Python’s mmap module, which uses file-like objects.\n",
    "\n",
    "This subclass of ndarray has some unpleasant interactions with some operations, because it doesn’t quite fit properly as a subclass. An alternative to using this subclass is to create the mmap object yourself, then create an ndarray with ndarray.__new__ directly, passing the object created in its ‘buffer=’ parameter.\n",
    "\n",
    "This class may at some point be turned into a factory function which returns a view into an mmap buffer.\n",
    "\n",
    "Delete the memmap instance to close the memmap file."
   ]
  },
  {
   "cell_type": "markdown",
   "metadata": {},
   "source": [
    "## Parameters:\t\n",
    "**filename** : str, file-like object, or pathlib.Path instance\n",
    "\n",
    "要用作数组数据缓冲区的文件名或文件对象。\n",
    "\n",
    "The file name or file object to be used as the array data buffer.\n",
    "\n",
    "**dtype** : data-type, optional\n",
    "\n",
    "用于解释文件内容的数据类型。默认是uint8。\n",
    "\n",
    "The data-type used to interpret the file contents. Default is uint8."
   ]
  },
  {
   "cell_type": "markdown",
   "metadata": {},
   "source": [
    "**mode** : {‘r+’, ‘r’, ‘w+’, ‘c’}, optional\n",
    "\n",
    "该文件以此模式打开：\n",
    "\n",
    "- 'R'\t打开现有文件以供阅读。\n",
    "- 'R +'\t打开现有文件进行读写。\n",
    "- 'W +'\t创建或覆盖现有文件以进行读写。\n",
    "- 'C'\t写时复制：分配会影响内存中的数据，但更改不会保存到磁盘。磁盘上的文件是只读的。\n",
    "\n",
    "默认为'r +'。\n",
    "\n",
    "The file is opened in this mode:\n",
    "\n",
    "- ‘r’\tOpen existing file for reading only.\n",
    "- ‘r+’\tOpen existing file for reading and writing.\n",
    "- ‘w+’\tCreate or overwrite existing file for reading and writing.\n",
    "- ‘c’\tCopy-on-write: assignments affect data in memory, but changes are not saved to disk. The file on disk is read-only.\n",
    "\n",
    "Default is ‘r+’."
   ]
  },
  {
   "cell_type": "markdown",
   "metadata": {},
   "source": [
    "**offset** : int, optional\n",
    "\n",
    "在该文件中，数组数据从此偏移量开始。由于偏移量是以字节为单位测量的，因此通常应为`dtype`字节大小的倍数。在`mode != 'r'`时候，甚至超出文件末尾的正偏移都是有效的; 该文件将被扩展以容纳附加数据。默认情况下，`memmap` 将在文件的开头开始，即使是一个文件指针`fp` and `fp.tell() != 0` 。\n",
    "\n",
    "In the file, array data starts at this offset. Since offset is measured in bytes, it should normally be a multiple of the byte-size of dtype. When `mode != 'r'`, even positive offsets beyond end of file are valid; The file will be extended to accommodate the additional data. By default, `memmap` will start at the beginning of the file, even if filename is a file pointer `fp` and `fp.tell() != 0`."
   ]
  },
  {
   "cell_type": "markdown",
   "metadata": {},
   "source": [
    "**shape** : tuple, optional\n",
    "\n",
    "所需的阵列形状。如果`mode == 'r'`和偏移后的剩余字节数不是**dtype**字节大小的倍数，则必须指定**shape**。默认情况下，返回的数组将是1-D，其元素数由文件大小和数据类型确定。\n",
    "\n",
    "The desired shape of the array. If `mode == 'r'` and the number of remaining bytes after offset is not a multiple of the byte-size of dtype, you must specify shape. By default, the returned array will be 1-D with the number of elements determined by file size and data-type.\n",
    "\n",
    "**order** : {‘C’, ‘F’}, optional\n",
    "\n",
    "指定ndarray内存布局的顺序： row-major，C-style或column-major，Fortran-style。这仅在形状大于1-D时有效。默认顺序为“C”。\n",
    "\n",
    "Specify the order of the ndarray memory layout: row-major, C-style or column-major, Fortran-style. This only has an effect if the shape is greater than 1-D. The default order is ‘C’."
   ]
  },
  {
   "cell_type": "markdown",
   "metadata": {},
   "source": [
    "**注意：**\n",
    "\n",
    "memmap对象可以在接受ndarray的任何地方使用。给出一个memmap `fp, isinstance(fp, numpy.ndarray) `返回True。\n",
    "\n",
    "在32位系统上，内存映射文件不能大于2GB。\n",
    "\n",
    "当memmap导致文件系统中创建或扩展文件超出其当前大小时，新部件的内容未指定。在具有POSIX文件系统语义的系统上，扩展部分将填充零字节。\n",
    "\n",
    "The memmap object can be used anywhere an ndarray is accepted. Given a memmap `fp, isinstance(fp, numpy.ndarray) `returns True.\n",
    "\n",
    "Memory-mapped files cannot be larger than 2GB on 32-bit systems.\n",
    "\n",
    "When a memmap causes a file to be created or extended beyond its current size in the filesystem, the contents of the new part are unspecified. On systems with POSIX filesystem semantics, the extended part will be filled with zero bytes."
   ]
  },
  {
   "cell_type": "markdown",
   "metadata": {},
   "source": [
    "## 示例"
   ]
  },
  {
   "cell_type": "code",
   "execution_count": 15,
   "metadata": {},
   "outputs": [],
   "source": [
    "import numpy as np\n",
    ">>> data = np.arange(12, dtype='float32')\n",
    ">>> data.resize((3,4))"
   ]
  },
  {
   "cell_type": "markdown",
   "metadata": {},
   "source": [
    "这个例子使用一个临时文件，这样doctest就不会将文件写到目录中。你应使用一个“正常”的文件名。\n",
    "\n",
    "This example uses a temporary file so that doctest doesn’t write files to your directory. You would use a ‘normal’ filename."
   ]
  },
  {
   "cell_type": "code",
   "execution_count": 16,
   "metadata": {},
   "outputs": [],
   "source": [
    ">>> from tempfile import mkdtemp\n",
    ">>> import os.path as path\n",
    ">>> filename = path.join(mkdtemp(), 'newfile.dat')"
   ]
  },
  {
   "cell_type": "markdown",
   "metadata": {},
   "source": [
    "创建一个与我们的数据相匹配的dtype和shape的memmap：\n",
    "\n",
    "Create a memmap with dtype and shape that matches our data:"
   ]
  },
  {
   "cell_type": "code",
   "execution_count": 17,
   "metadata": {},
   "outputs": [
    {
     "data": {
      "text/plain": [
       "memmap([[0., 0., 0., 0.],\n",
       "        [0., 0., 0., 0.],\n",
       "        [0., 0., 0., 0.]], dtype=float32)"
      ]
     },
     "execution_count": 17,
     "metadata": {},
     "output_type": "execute_result"
    }
   ],
   "source": [
    ">>> fp = np.memmap(filename, dtype='float32', mode='w+', shape=(3,4))\n",
    ">>> fp"
   ]
  },
  {
   "cell_type": "markdown",
   "metadata": {},
   "source": [
    "将数据写入memmap数组：\n",
    "\n",
    "Write data to memmap array:"
   ]
  },
  {
   "cell_type": "code",
   "execution_count": 18,
   "metadata": {},
   "outputs": [
    {
     "data": {
      "text/plain": [
       "memmap([[ 0.,  1.,  2.,  3.],\n",
       "        [ 4.,  5.,  6.,  7.],\n",
       "        [ 8.,  9., 10., 11.]], dtype=float32)"
      ]
     },
     "execution_count": 18,
     "metadata": {},
     "output_type": "execute_result"
    }
   ],
   "source": [
    ">>> fp[:] = data[:]\n",
    ">>> fp"
   ]
  },
  {
   "cell_type": "code",
   "execution_count": 19,
   "metadata": {},
   "outputs": [
    {
     "data": {
      "text/plain": [
       "True"
      ]
     },
     "execution_count": 19,
     "metadata": {},
     "output_type": "execute_result"
    }
   ],
   "source": [
    ">>> fp.filename == path.abspath(filename)"
   ]
  },
  {
   "cell_type": "markdown",
   "metadata": {},
   "source": [
    "在删除对象之前，删除刷新内存以更改磁盘：\n",
    "\n",
    "Deletion flushes memory changes to disk before removing the object:"
   ]
  },
  {
   "cell_type": "code",
   "execution_count": 20,
   "metadata": {},
   "outputs": [],
   "source": [
    ">>> del fp"
   ]
  },
  {
   "cell_type": "markdown",
   "metadata": {},
   "source": [
    "加载memmap并验证数据是否已存储："
   ]
  },
  {
   "cell_type": "code",
   "execution_count": 21,
   "metadata": {},
   "outputs": [
    {
     "data": {
      "text/plain": [
       "memmap([[ 0.,  1.,  2.,  3.],\n",
       "        [ 4.,  5.,  6.,  7.],\n",
       "        [ 8.,  9., 10., 11.]], dtype=float32)"
      ]
     },
     "execution_count": 21,
     "metadata": {},
     "output_type": "execute_result"
    }
   ],
   "source": [
    ">>> newfp = np.memmap(filename, dtype='float32', mode='r', shape=(3,4))\n",
    ">>> newfp"
   ]
  },
  {
   "cell_type": "markdown",
   "metadata": {},
   "source": [
    "只读memmap："
   ]
  },
  {
   "cell_type": "code",
   "execution_count": 22,
   "metadata": {},
   "outputs": [
    {
     "data": {
      "text/plain": [
       "False"
      ]
     },
     "execution_count": 22,
     "metadata": {},
     "output_type": "execute_result"
    }
   ],
   "source": [
    ">>> fpr = np.memmap(filename, dtype='float32', mode='r', shape=(3,4))\n",
    ">>> fpr.flags.writeable"
   ]
  },
  {
   "cell_type": "markdown",
   "metadata": {},
   "source": [
    "写时复制memmap："
   ]
  },
  {
   "cell_type": "code",
   "execution_count": 23,
   "metadata": {},
   "outputs": [
    {
     "data": {
      "text/plain": [
       "True"
      ]
     },
     "execution_count": 23,
     "metadata": {},
     "output_type": "execute_result"
    }
   ],
   "source": [
    ">>> fpc = np.memmap(filename, dtype='float32', mode='c', shape=(3,4))\n",
    ">>> fpc.flags.writeable"
   ]
  },
  {
   "cell_type": "markdown",
   "metadata": {},
   "source": [
    "可以分配给写时复制数组，但是值只写入数组的内存副本，而不是写入磁盘："
   ]
  },
  {
   "cell_type": "code",
   "execution_count": 24,
   "metadata": {},
   "outputs": [
    {
     "data": {
      "text/plain": [
       "memmap([[ 0.,  1.,  2.,  3.],\n",
       "        [ 4.,  5.,  6.,  7.],\n",
       "        [ 8.,  9., 10., 11.]], dtype=float32)"
      ]
     },
     "execution_count": 24,
     "metadata": {},
     "output_type": "execute_result"
    }
   ],
   "source": [
    ">>> fpc"
   ]
  },
  {
   "cell_type": "code",
   "execution_count": 25,
   "metadata": {},
   "outputs": [
    {
     "data": {
      "text/plain": [
       "memmap([[ 0.,  0.,  0.,  0.],\n",
       "        [ 4.,  5.,  6.,  7.],\n",
       "        [ 8.,  9., 10., 11.]], dtype=float32)"
      ]
     },
     "execution_count": 25,
     "metadata": {},
     "output_type": "execute_result"
    }
   ],
   "source": [
    ">>> fpc[0,:] = 0\n",
    ">>> fpc"
   ]
  },
  {
   "cell_type": "markdown",
   "metadata": {},
   "source": [
    "磁盘上的文件未更改："
   ]
  },
  {
   "cell_type": "code",
   "execution_count": 26,
   "metadata": {},
   "outputs": [
    {
     "data": {
      "text/plain": [
       "memmap([[ 0.,  1.,  2.,  3.],\n",
       "        [ 4.,  5.,  6.,  7.],\n",
       "        [ 8.,  9., 10., 11.]], dtype=float32)"
      ]
     },
     "execution_count": 26,
     "metadata": {},
     "output_type": "execute_result"
    }
   ],
   "source": [
    ">>> fpr"
   ]
  },
  {
   "cell_type": "markdown",
   "metadata": {},
   "source": [
    "偏移到memmap："
   ]
  },
  {
   "cell_type": "code",
   "execution_count": 27,
   "metadata": {},
   "outputs": [
    {
     "data": {
      "text/plain": [
       "memmap([ 4.,  5.,  6.,  7.,  8.,  9., 10., 11.], dtype=float32)"
      ]
     },
     "execution_count": 27,
     "metadata": {},
     "output_type": "execute_result"
    }
   ],
   "source": [
    ">>> fpo = np.memmap(filename, dtype='float32', mode='r', offset=16)\n",
    ">>> fpo"
   ]
  },
  {
   "cell_type": "markdown",
   "metadata": {},
   "source": [
    "## Attributes:\t\n",
    "**filename** : str or pathlib.Path instance\n",
    "\n",
    "映射文件的路径。\n",
    "Path to the mapped file.\n",
    "\n",
    "offset : int\n",
    "\n",
    "文件中的偏移位置。\n",
    "Offset position in the file.\n",
    "\n",
    "mode : str\n",
    "\n",
    "文件模式。\n",
    "File mode."
   ]
  },
  {
   "cell_type": "markdown",
   "metadata": {},
   "source": [
    "## Methods\n",
    "\n",
    "`flush()`将数组中的任何更改写入磁盘上的文件。\n",
    "\n",
    "`flush()`Write any changes in the array to the file on disk."
   ]
  },
  {
   "cell_type": "markdown",
   "metadata": {},
   "source": []
  },
  {
   "cell_type": "code",
   "execution_count": null,
   "metadata": {},
   "outputs": [],
   "source": []
  }
 ],
 "metadata": {
  "kernelspec": {
   "display_name": "Python 3",
   "language": "python",
   "name": "python3"
  },
  "language_info": {
   "codemirror_mode": {
    "name": "ipython",
    "version": 3
   },
   "file_extension": ".py",
   "mimetype": "text/x-python",
   "name": "python",
   "nbconvert_exporter": "python",
   "pygments_lexer": "ipython3",
   "version": "3.6.6"
  },
  "toc": {
   "base_numbering": 1,
   "nav_menu": {},
   "number_sections": true,
   "sideBar": true,
   "skip_h1_title": false,
   "title_cell": "Table of Contents",
   "title_sidebar": "Contents",
   "toc_cell": false,
   "toc_position": {},
   "toc_section_display": true,
   "toc_window_display": false
  }
 },
 "nbformat": 4,
 "nbformat_minor": 2
}
