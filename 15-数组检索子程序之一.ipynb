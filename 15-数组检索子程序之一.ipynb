{
 "cells": [
  {
   "cell_type": "markdown",
   "metadata": {},
   "source": [
    "15-数组检索子程序之一\n",
    "====\n",
    "indexing routines，生成索引数组\n",
    "----"
   ]
  },
  {
   "cell_type": "markdown",
   "metadata": {},
   "source": [
    "| Generating   index arrays                       |                                                              |\n",
    "| ----------------------------------------------- | ------------------------------------------------------------ |\n",
    "| c_                                              | Translates   slice objects to concatenation along the second axis. |\n",
    "| r_                                              | Translates   slice objects to concatenation along the first axis. |\n",
    "| s_                                              | A   nicer way to build up index tuples for arrays.           |\n",
    "| nonzero(a)                                      | Return   the indices of the elements that are non-zero.      |\n",
    "| where(condition, [x, y])                        | Return   elements, either from x or y, depending on condition. |\n",
    "| indices(dimensions[, dtype])                    | Return   an array representing the indices of a grid.        |\n",
    "| ix_(*args)                                      | Construct   an open mesh from multiple sequences.            |\n",
    "| ogrid                                           | nd_grid instance which returns an open multi-dimensional   “meshgrid”. |\n",
    "| ravel_multi_index(multi_index, dims[, mode, …]) | Converts   a tuple of index arrays into an array of flat indices, applying boundary   modes to the multi-index. |\n",
    "| unravel_index(indices, dims[, order])           | Converts   a flat index or array of flat indices into a tuple of coordinate arrays. |\n",
    "| diag_indices(n[, ndim])                         | Return   the indices to access the main diagonal of an array. |\n",
    "| diag_indices_from(arr)                          | Return   the indices to access the main diagonal of an n-dimensional array. |\n",
    "| mask_indices(n, mask_func[, k])                 | Return   the indices to access (n, n) arrays, given a masking function. |\n",
    "| tril_indices(n[, k, m])                         | Return   the indices for the lower-triangle of an (n, m) array. |\n",
    "| tril_indices_from(arr[, k])                     | Return   the indices for the lower-triangle of arr.          |\n",
    "| triu_indices(n[, k, m])                         | Return   the indices for the upper-triangle of an (n, m) array. |\n",
    "| triu_indices_from(arr[, k])                     | Return   the indices for the upper-triangle of arr.          |"
   ]
  },
  {
   "cell_type": "markdown",
   "metadata": {},
   "source": [
    "# numpy.c_\n",
    "`numpy.c_ = <numpy.lib.index_tricks.CClass object>`"
   ]
  },
  {
   "cell_type": "markdown",
   "metadata": {},
   "source": [
    "将切片对象转换为沿第二轴的连接。\n",
    "\n",
    "这是`np.r_['-1,2,0', index expression]`的简写，因为它很常见，所以很有用。 特别是，数组将在升级到至少2-D后沿着它们的最后一个轴堆叠，其中1个后置为形状（由1-D数组生成的列向量）。\n",
    "\n",
    "## 示例"
   ]
  },
  {
   "cell_type": "code",
   "execution_count": 2,
   "metadata": {},
   "outputs": [
    {
     "data": {
      "text/plain": [
       "array([[1, 4],\n",
       "       [2, 5],\n",
       "       [3, 6]])"
      ]
     },
     "execution_count": 2,
     "metadata": {},
     "output_type": "execute_result"
    }
   ],
   "source": [
    "import numpy as np\n",
    "np.c_[np.array([1,2,3]), np.array([4,5,6])]"
   ]
  },
  {
   "cell_type": "code",
   "execution_count": 3,
   "metadata": {},
   "outputs": [
    {
     "data": {
      "text/plain": [
       "array([[1, 2, 3, 0, 0, 4, 5, 6]])"
      ]
     },
     "execution_count": 3,
     "metadata": {},
     "output_type": "execute_result"
    }
   ],
   "source": [
    "np.c_[np.array([[1,2,3]]), 0, 0, np.array([[4,5,6]])]"
   ]
  },
  {
   "cell_type": "markdown",
   "metadata": {},
   "source": [
    "# numpy.r_\n",
    "numpy.r_ = <numpy.lib.index_tricks.RClass object>"
   ]
  },
  {
   "cell_type": "markdown",
   "metadata": {},
   "source": [
    "将切片对象转换为沿第一轴的连接。\n",
    "\n",
    "这是一种快速构建数组的简单方法。有两个用例。\n",
    "\n",
    "1. 如果索引表达式包含逗号分隔的数组，则将它们沿第一个轴堆叠。\n",
    "2. 如果索引表达式包含切片符号或标量，则创建一个具有切片符号指示范围的一维数组。\n",
    "\n",
    "如果使用切片符号，则语法 `start：stop：step` 相当于 `np.arange（start，stop，step）`的括号内。但是，如果step是一个虚数（即100j），那么它的整数部分被解释为所需的点数，并且start和stop是包含的。换句话说，`start：stop：stepj`被解释为`np.linspace（start，stop，step，endpoint = 1）`括号内的。扩展切片表示法后，所有逗号分隔的序列连接在一起。"
   ]
  },
  {
   "cell_type": "markdown",
   "metadata": {},
   "source": [
    "作为索引表达式的第一个元素放置的可选字符串可用于更改输出。字符串'r'或'c'导致输出矩阵。如果结果是1-D并且指定'r'，则产生1×N（行）矩阵。如果结果是1-D并且指定了'c'，则产生N×1（列）矩阵。如果结果是2-D，则两者都提供相同的矩阵结果。\n",
    "\n",
    "字符串整数指定堆叠多个逗号分隔数组的轴。由两个逗号分隔的整数组成的字符串允许指示最小的维数，以强制每个条目作为第二个整数（要连接的轴仍然是第一个整数）。\n",
    "\n",
    "具有三个以逗号分隔的整数的字符串允许指定轴连接，强制条目的最小维数，以及哪个轴应包含小于指定维数的数组的开头。换句话说，第三个整数允许您指定1应放置在其形状已升级的数组形状中的位置。默认情况下，它们位于形状元组的前面。第三个参数允许您指定数组的起始位置。因此，第三个参数'0'会将1放在数组形状的末尾。负整数指定新形状元组中应放置升级数组的最后一个维度的位置，因此默认值为“-1”。\n",
    "\n",
    "一个带有三个逗号分隔的整数的字符串允许指定轴的连接，最小的维度来强制条目，并且哪个轴应该包含数组的开始，这些数组的数量小于指定的维数。换句话说，第三个整数允许你指定在shape已升级的数组的shape中`1's`的应该被放置的位置。默认情况下，它们被放置在shape元组的前面。第三个参数允许您指定数组的起始位置。因此，“0”的第三个参数将把`1's`放在数组形状的末尾。负整数指定了新形状元组的位置，升级后的数组的最后一个维度应该放在哪里，所以默认值是'-1'。"
   ]
  },
  {
   "cell_type": "markdown",
   "metadata": {},
   "source": [
    "**参数：**\n",
    "不是一个函数，所以没有参数。\n",
    "\n",
    "**返回：**\n",
    "一个连接的 nadarray 或者 matrix."
   ]
  },
  {
   "cell_type": "markdown",
   "metadata": {},
   "source": [
    "## 示例"
   ]
  },
  {
   "cell_type": "code",
   "execution_count": 4,
   "metadata": {},
   "outputs": [
    {
     "data": {
      "text/plain": [
       "array([1, 2, 3, 0, 0, 4, 5, 6])"
      ]
     },
     "execution_count": 4,
     "metadata": {},
     "output_type": "execute_result"
    }
   ],
   "source": [
    ">>> np.r_[np.array([1,2,3]), 0, 0, np.array([4,5,6])]"
   ]
  },
  {
   "cell_type": "code",
   "execution_count": 5,
   "metadata": {},
   "outputs": [
    {
     "data": {
      "text/plain": [
       "array([-1. , -0.6, -0.2,  0.2,  0.6,  1. ,  0. ,  0. ,  0. ,  5. ,  6. ])"
      ]
     },
     "execution_count": 5,
     "metadata": {},
     "output_type": "execute_result"
    }
   ],
   "source": [
    ">>> np.r_[-1:1:6j, [0]*3, 5, 6]"
   ]
  },
  {
   "cell_type": "markdown",
   "metadata": {},
   "source": [
    "字符串整数指定要连接的轴或最小的维数，以迫使条目进入。"
   ]
  },
  {
   "cell_type": "code",
   "execution_count": 6,
   "metadata": {},
   "outputs": [
    {
     "data": {
      "text/plain": [
       "array([[0, 1, 2, 0, 1, 2],\n",
       "       [3, 4, 5, 3, 4, 5]])"
      ]
     },
     "execution_count": 6,
     "metadata": {},
     "output_type": "execute_result"
    }
   ],
   "source": [
    ">>> a = np.array([[0, 1, 2], [3, 4, 5]])\n",
    ">>> np.r_['-1', a, a] # concatenate along last axis"
   ]
  },
  {
   "cell_type": "code",
   "execution_count": 7,
   "metadata": {},
   "outputs": [
    {
     "data": {
      "text/plain": [
       "array([[1, 2, 3],\n",
       "       [4, 5, 6]])"
      ]
     },
     "execution_count": 7,
     "metadata": {},
     "output_type": "execute_result"
    }
   ],
   "source": [
    ">>> np.r_['0,2', [1,2,3], [4,5,6]] # concatenate along first axis, dim>=2"
   ]
  },
  {
   "cell_type": "code",
   "execution_count": 8,
   "metadata": {},
   "outputs": [
    {
     "data": {
      "text/plain": [
       "array([[1],\n",
       "       [2],\n",
       "       [3],\n",
       "       [4],\n",
       "       [5],\n",
       "       [6]])"
      ]
     },
     "execution_count": 8,
     "metadata": {},
     "output_type": "execute_result"
    }
   ],
   "source": [
    ">>> np.r_['0,2,0', [1,2,3], [4,5,6]]"
   ]
  },
  {
   "cell_type": "code",
   "execution_count": 9,
   "metadata": {},
   "outputs": [
    {
     "data": {
      "text/plain": [
       "array([[1, 4],\n",
       "       [2, 5],\n",
       "       [3, 6]])"
      ]
     },
     "execution_count": 9,
     "metadata": {},
     "output_type": "execute_result"
    }
   ],
   "source": [
    ">>> np.r_['1,2,0', [1,2,3], [4,5,6]]"
   ]
  },
  {
   "cell_type": "markdown",
   "metadata": {},
   "source": [
    "用“r”或“c”作为第一个字符串参数创建一个矩阵。"
   ]
  },
  {
   "cell_type": "code",
   "execution_count": 10,
   "metadata": {},
   "outputs": [
    {
     "data": {
      "text/plain": [
       "matrix([[1, 2, 3, 4, 5, 6]])"
      ]
     },
     "execution_count": 10,
     "metadata": {},
     "output_type": "execute_result"
    }
   ],
   "source": [
    "np.r_['r',[1,2,3], [4,5,6]]"
   ]
  },
  {
   "cell_type": "markdown",
   "metadata": {},
   "source": [
    "# numpy.s_\n",
    "`numpy.s_ = <numpy.lib.index_tricks.IndexExpression object>`"
   ]
  },
  {
   "cell_type": "markdown",
   "metadata": {},
   "source": [
    "一种更好的建立数组的索引元组的方法。\n",
    "\n",
    "**注意**\n",
    "\n",
    "使用两个预定义的`index_exp`实例或 `s_rather`，而不是直接使用IndexExpression。"
   ]
  },
  {
   "cell_type": "markdown",
   "metadata": {},
   "source": [
    "对于任何索引组合，包括切片和轴插入，`[indices]`与任何数组 `a[np.index_exp [indices]]`相同。 但是，`np.index_exp [indices]`可以在Python代码中的任何位置使用，并返回可用于构造复杂索引表达式的切片对象元组。"
   ]
  },
  {
   "cell_type": "markdown",
   "metadata": {},
   "source": [
    "## Parameters:\t\n",
    "**maketuple** : bool\n",
    "\n",
    "如果是True，总是返回元组。\n",
    "\n",
    "返回切片元组。"
   ]
  },
  {
   "cell_type": "markdown",
   "metadata": {},
   "source": [
    "**注意**：\n",
    "\n",
    "你可以用`slice（）`加上一些特殊的对象来完成所有这些，但是需要记住很多东西，这个版本更简单，因为它使用了标准的数组索引语法。\n",
    "\n",
    "## 示例"
   ]
  },
  {
   "cell_type": "code",
   "execution_count": 11,
   "metadata": {},
   "outputs": [
    {
     "data": {
      "text/plain": [
       "slice(2, None, 2)"
      ]
     },
     "execution_count": 11,
     "metadata": {},
     "output_type": "execute_result"
    }
   ],
   "source": [
    ">>> np.s_[2::2]"
   ]
  },
  {
   "cell_type": "code",
   "execution_count": 12,
   "metadata": {},
   "outputs": [
    {
     "data": {
      "text/plain": [
       "slice(2, None, 2)"
      ]
     },
     "execution_count": 12,
     "metadata": {},
     "output_type": "execute_result"
    }
   ],
   "source": [
    "slice(2, None, 2)"
   ]
  },
  {
   "cell_type": "code",
   "execution_count": 13,
   "metadata": {},
   "outputs": [
    {
     "data": {
      "text/plain": [
       "(slice(2, None, 2),)"
      ]
     },
     "execution_count": 13,
     "metadata": {},
     "output_type": "execute_result"
    }
   ],
   "source": [
    ">>> np.index_exp[2::2]"
   ]
  },
  {
   "cell_type": "code",
   "execution_count": 14,
   "metadata": {},
   "outputs": [
    {
     "data": {
      "text/plain": [
       "array([2, 4])"
      ]
     },
     "execution_count": 14,
     "metadata": {},
     "output_type": "execute_result"
    }
   ],
   "source": [
    ">>> np.array([0, 1, 2, 3, 4])[np.s_[2::2]]"
   ]
  },
  {
   "cell_type": "markdown",
   "metadata": {},
   "source": [
    "# numpy.nonzero\n",
    "`numpy.nonzero(a)`"
   ]
  },
  {
   "cell_type": "markdown",
   "metadata": {},
   "source": [
    "返回非零元素的索引。\n",
    "\n",
    "返回一个数组的元组，一个用于a的每个维度，包含该维度中非零元素的索引。a中的值总是经过测试，并以c级的顺序返回。相应的非零值可以通过：\n",
    "\n",
    "`a[nonzero(a)]`\n",
    "\n",
    "使用元素而不是维度来对索引进行分组：\n",
    "\n",
    "`transpose(nonzero(a))`\n",
    "\n",
    "这样做的结果总是一个2-D数组，每个非零元素都有一行。"
   ]
  },
  {
   "cell_type": "markdown",
   "metadata": {},
   "source": [
    "## Parameters:\t\n",
    "**a :** array_like，l输入数组\n",
    "\n",
    "## Returns:\t\n",
    "数组的元组： 元组，非零元素的索引。\n",
    "## 示例"
   ]
  },
  {
   "cell_type": "code",
   "execution_count": 15,
   "metadata": {},
   "outputs": [
    {
     "data": {
      "text/plain": [
       "array([[1, 0, 0],\n",
       "       [0, 2, 0],\n",
       "       [1, 1, 0]])"
      ]
     },
     "execution_count": 15,
     "metadata": {},
     "output_type": "execute_result"
    }
   ],
   "source": [
    ">>> x = np.array([[1,0,0], [0,2,0], [1,1,0]])\n",
    ">>> x"
   ]
  },
  {
   "cell_type": "code",
   "execution_count": 16,
   "metadata": {},
   "outputs": [
    {
     "data": {
      "text/plain": [
       "(array([0, 1, 2, 2], dtype=int64), array([0, 1, 0, 1], dtype=int64))"
      ]
     },
     "execution_count": 16,
     "metadata": {},
     "output_type": "execute_result"
    }
   ],
   "source": [
    ">>> np.nonzero(x)"
   ]
  },
  {
   "cell_type": "code",
   "execution_count": 17,
   "metadata": {},
   "outputs": [
    {
     "data": {
      "text/plain": [
       "array([1, 2, 1, 1])"
      ]
     },
     "execution_count": 17,
     "metadata": {},
     "output_type": "execute_result"
    }
   ],
   "source": [
    ">>> x[np.nonzero(x)]"
   ]
  },
  {
   "cell_type": "code",
   "execution_count": 18,
   "metadata": {},
   "outputs": [
    {
     "data": {
      "text/plain": [
       "array([[0, 0],\n",
       "       [1, 1],\n",
       "       [2, 0],\n",
       "       [2, 1]], dtype=int64)"
      ]
     },
     "execution_count": 18,
     "metadata": {},
     "output_type": "execute_result"
    }
   ],
   "source": [
    ">>> np.transpose(np.nonzero(x))"
   ]
  },
  {
   "cell_type": "markdown",
   "metadata": {},
   "source": [
    "nozero 的一个常见用途是找到一个数组的索引，其中一个条件为真。给定一个数组a，条件a是一个布尔数组，因为False被解释为0，np。非零（a-3）产生条件为tru的a的指数。\n",
    "\n",
    "非零的一个常见用途是查找数组的索引，其中条件为True。 给定一个数组a，条件a> 3是一个布尔数组，并且因为False被解释为0，所以`np.nonzero（a> 3）`产生条件为tru的a的索引。"
   ]
  },
  {
   "cell_type": "code",
   "execution_count": 19,
   "metadata": {},
   "outputs": [
    {
     "data": {
      "text/plain": [
       "array([[False, False, False],\n",
       "       [ True,  True,  True],\n",
       "       [ True,  True,  True]])"
      ]
     },
     "execution_count": 19,
     "metadata": {},
     "output_type": "execute_result"
    }
   ],
   "source": [
    ">>> a = np.array([[1,2,3],[4,5,6],[7,8,9]])\n",
    ">>> a > 3"
   ]
  },
  {
   "cell_type": "code",
   "execution_count": 20,
   "metadata": {},
   "outputs": [
    {
     "data": {
      "text/plain": [
       "(array([1, 1, 1, 2, 2, 2], dtype=int64),\n",
       " array([0, 1, 2, 0, 1, 2], dtype=int64))"
      ]
     },
     "execution_count": 20,
     "metadata": {},
     "output_type": "execute_result"
    }
   ],
   "source": [
    ">>> np.nonzero(a > 3)"
   ]
  },
  {
   "cell_type": "markdown",
   "metadata": {},
   "source": [
    "可以调用布尔数组的非零方法："
   ]
  },
  {
   "cell_type": "code",
   "execution_count": 21,
   "metadata": {},
   "outputs": [
    {
     "data": {
      "text/plain": [
       "(array([1, 1, 1, 2, 2, 2], dtype=int64),\n",
       " array([0, 1, 2, 0, 1, 2], dtype=int64))"
      ]
     },
     "execution_count": 21,
     "metadata": {},
     "output_type": "execute_result"
    }
   ],
   "source": [
    " (a > 3).nonzero()"
   ]
  },
  {
   "cell_type": "markdown",
   "metadata": {},
   "source": [
    "# numpy.where\n",
    "`numpy.where(condition[, x, y])`\n",
    "\n",
    "根据condition，从 x 或 y 返回元素。\n",
    "\n",
    "如果仅给出 condition，返回`condition.nonzero()`。"
   ]
  },
  {
   "cell_type": "markdown",
   "metadata": {},
   "source": [
    "## Parameters:\t\n",
    "**condition :** array_like, bool，\n",
    "为True时返回 x，否则返回 y。\n",
    "\n",
    "**x, y :** array_like, 可选参数。从x, y之一中选择值，并且需要将 condition 广播到一些形状。"
   ]
  },
  {
   "cell_type": "markdown",
   "metadata": {},
   "source": [
    "## Returns:\t\n",
    "out : ndarray or tuple of ndarrays\n",
    "输出：ndarray 或者 ndarrays 元组。\n",
    "\n",
    "如果x 和 y 都被定义了，输出的数组包含 x 中 condition 为 True的元素，否则从 y 中提取。\n",
    "\n",
    "如果仅给出了 condition，返回`condition.nonzero()`元组， condition为True的位置的索引。"
   ]
  },
  {
   "cell_type": "markdown",
   "metadata": {},
   "source": [
    "**注意**\n",
    "\n",
    "如果给出了 x 和 y ，并且输入的数组是1-D的，等同于下面的检索：\n",
    "\n",
    "`[xv if c else yv for (c,xv,yv) in zip(condition,x,y)]`\n",
    "\n",
    "## 示例"
   ]
  },
  {
   "cell_type": "code",
   "execution_count": 22,
   "metadata": {},
   "outputs": [
    {
     "data": {
      "text/plain": [
       "array([[1, 8],\n",
       "       [3, 4]])"
      ]
     },
     "execution_count": 22,
     "metadata": {},
     "output_type": "execute_result"
    }
   ],
   "source": [
    ">>> np.where([[True, False], [True, True]],\n",
    "...          [[1, 2], [3, 4]],\n",
    "...          [[9, 8], [7, 6]])"
   ]
  },
  {
   "cell_type": "code",
   "execution_count": 23,
   "metadata": {},
   "outputs": [
    {
     "data": {
      "text/plain": [
       "(array([0, 1], dtype=int64), array([1, 0], dtype=int64))"
      ]
     },
     "execution_count": 23,
     "metadata": {},
     "output_type": "execute_result"
    }
   ],
   "source": [
    ">>> np.where([[0, 1], [1, 0]])"
   ]
  },
  {
   "cell_type": "code",
   "execution_count": 24,
   "metadata": {},
   "outputs": [],
   "source": [
    ">>> x = np.arange(9.).reshape(3, 3)"
   ]
  },
  {
   "cell_type": "code",
   "execution_count": 25,
   "metadata": {},
   "outputs": [
    {
     "data": {
      "text/plain": [
       "(array([2, 2, 2], dtype=int64), array([0, 1, 2], dtype=int64))"
      ]
     },
     "execution_count": 25,
     "metadata": {},
     "output_type": "execute_result"
    }
   ],
   "source": [
    ">>> np.where( x > 5 )"
   ]
  },
  {
   "cell_type": "code",
   "execution_count": 26,
   "metadata": {},
   "outputs": [
    {
     "data": {
      "text/plain": [
       "array([4., 5., 6., 7., 8.])"
      ]
     },
     "execution_count": 26,
     "metadata": {},
     "output_type": "execute_result"
    }
   ],
   "source": [
    ">>> x[np.where( x > 3.0 )]               # Note: result is 1D."
   ]
  },
  {
   "cell_type": "code",
   "execution_count": 27,
   "metadata": {},
   "outputs": [
    {
     "data": {
      "text/plain": [
       "array([[ 0.,  1.,  2.],\n",
       "       [ 3.,  4., -1.],\n",
       "       [-1., -1., -1.]])"
      ]
     },
     "execution_count": 27,
     "metadata": {},
     "output_type": "execute_result"
    }
   ],
   "source": [
    ">>> np.where(x < 5, x, -1)               # Note: broadcasting."
   ]
  },
  {
   "cell_type": "markdown",
   "metadata": {},
   "source": [
    "求出具有良好值的x元素的指标。\n",
    "Find the indices of elements of x that are in goodvalues."
   ]
  },
  {
   "cell_type": "code",
   "execution_count": 28,
   "metadata": {},
   "outputs": [],
   "source": [
    ">>> goodvalues = [3, 4, 7]"
   ]
  },
  {
   "cell_type": "code",
   "execution_count": 29,
   "metadata": {},
   "outputs": [],
   "source": [
    ">>> ix = np.isin(x, goodvalues)"
   ]
  },
  {
   "cell_type": "code",
   "execution_count": 30,
   "metadata": {},
   "outputs": [
    {
     "data": {
      "text/plain": [
       "array([[False, False, False],\n",
       "       [ True,  True, False],\n",
       "       [False,  True, False]])"
      ]
     },
     "execution_count": 30,
     "metadata": {},
     "output_type": "execute_result"
    }
   ],
   "source": [
    ">>> ix"
   ]
  },
  {
   "cell_type": "code",
   "execution_count": 31,
   "metadata": {},
   "outputs": [
    {
     "data": {
      "text/plain": [
       "(array([1, 1, 2], dtype=int64), array([0, 1, 1], dtype=int64))"
      ]
     },
     "execution_count": 31,
     "metadata": {},
     "output_type": "execute_result"
    }
   ],
   "source": [
    ">>> np.where(ix)"
   ]
  },
  {
   "cell_type": "markdown",
   "metadata": {},
   "source": [
    "# numpy.indices\n",
    "`numpy.indices(dimensions, dtype=<class 'int'>)`\n",
    "\n",
    "返回一个表示网格索引的数组。\n",
    "\n",
    "计算一个数组，其中子数组包含索引值 `0,1,…`只沿相应的轴变化。"
   ]
  },
  {
   "cell_type": "markdown",
   "metadata": {},
   "source": [
    "## Parameters:\t\n",
    "**dimensions :** sequence of ints，网格的shape.\n",
    "\n",
    "**dtype :** dtype, 可选关键字参数。结果的数据类型。\n",
    "\n",
    "**Returns:** grid : ndarray\n",
    "\n",
    "网格索引的数组，`grid.shape = (len(dimensions),) + tuple(dimensions)`.\n",
    "\n"
   ]
  },
  {
   "cell_type": "markdown",
   "metadata": {},
   "source": [
    "**注意**\n",
    "\n",
    "输出shape是通过在前面的维度元组里预先设置维度数得到的，即，如果维度是一个长度为N的元组 `(r0, ..., rN-1) `,输出shape是`(N,r0,...,rN-1)`。\n",
    "\n",
    "子数组`grid[k]`包含沿第k轴的 N-D 索引数组。即：`grid[k,i0,i1,...,iN-1] = ik`"
   ]
  },
  {
   "cell_type": "markdown",
   "metadata": {},
   "source": [
    "## 示例"
   ]
  },
  {
   "cell_type": "code",
   "execution_count": 32,
   "metadata": {},
   "outputs": [
    {
     "data": {
      "text/plain": [
       "array([[[0, 0, 0],\n",
       "        [1, 1, 1]],\n",
       "\n",
       "       [[0, 1, 2],\n",
       "        [0, 1, 2]]])"
      ]
     },
     "execution_count": 32,
     "metadata": {},
     "output_type": "execute_result"
    }
   ],
   "source": [
    ">>> grid = np.indices((2, 3))\n",
    "grid"
   ]
  },
  {
   "cell_type": "code",
   "execution_count": 33,
   "metadata": {},
   "outputs": [
    {
     "data": {
      "text/plain": [
       "(2, 2, 3)"
      ]
     },
     "execution_count": 33,
     "metadata": {},
     "output_type": "execute_result"
    }
   ],
   "source": [
    ">>> grid.shape"
   ]
  },
  {
   "cell_type": "code",
   "execution_count": 34,
   "metadata": {},
   "outputs": [
    {
     "data": {
      "text/plain": [
       "array([[0, 0, 0],\n",
       "       [1, 1, 1]])"
      ]
     },
     "execution_count": 34,
     "metadata": {},
     "output_type": "execute_result"
    }
   ],
   "source": [
    ">>> grid[0]        # row indices"
   ]
  },
  {
   "cell_type": "code",
   "execution_count": 35,
   "metadata": {},
   "outputs": [
    {
     "data": {
      "text/plain": [
       "array([[0, 1, 2],\n",
       "       [0, 1, 2]])"
      ]
     },
     "execution_count": 35,
     "metadata": {},
     "output_type": "execute_result"
    }
   ],
   "source": [
    ">>> grid[1]        # column indices"
   ]
  },
  {
   "cell_type": "markdown",
   "metadata": {},
   "source": [
    "这些索引可以用作一个数组的索引："
   ]
  },
  {
   "cell_type": "code",
   "execution_count": 36,
   "metadata": {},
   "outputs": [
    {
     "data": {
      "text/plain": [
       "array([[ 0,  1,  2,  3],\n",
       "       [ 4,  5,  6,  7],\n",
       "       [ 8,  9, 10, 11],\n",
       "       [12, 13, 14, 15],\n",
       "       [16, 17, 18, 19]])"
      ]
     },
     "execution_count": 36,
     "metadata": {},
     "output_type": "execute_result"
    }
   ],
   "source": [
    ">>> x = np.arange(20).reshape(5, 4)\n",
    "x"
   ]
  },
  {
   "cell_type": "code",
   "execution_count": 37,
   "metadata": {},
   "outputs": [
    {
     "data": {
      "text/plain": [
       "array([[0, 0, 0],\n",
       "       [1, 1, 1]])"
      ]
     },
     "execution_count": 37,
     "metadata": {},
     "output_type": "execute_result"
    }
   ],
   "source": [
    ">>> row, col = np.indices((2, 3))\n",
    "row"
   ]
  },
  {
   "cell_type": "code",
   "execution_count": 38,
   "metadata": {},
   "outputs": [
    {
     "data": {
      "text/plain": [
       "array([[0, 1, 2],\n",
       "       [0, 1, 2]])"
      ]
     },
     "execution_count": 38,
     "metadata": {},
     "output_type": "execute_result"
    }
   ],
   "source": [
    "col"
   ]
  },
  {
   "cell_type": "code",
   "execution_count": 39,
   "metadata": {},
   "outputs": [
    {
     "data": {
      "text/plain": [
       "array([[0, 1, 2],\n",
       "       [4, 5, 6]])"
      ]
     },
     "execution_count": 39,
     "metadata": {},
     "output_type": "execute_result"
    }
   ],
   "source": [
    ">>> x[row, col]"
   ]
  },
  {
   "cell_type": "markdown",
   "metadata": {},
   "source": [
    "**注意**：\n",
    "\n",
    "请注意，在上面的示例中，使用`x [：2，：3]`直接提取所需元素会更直接。"
   ]
  },
  {
   "cell_type": "markdown",
   "metadata": {},
   "source": [
    "# numpy.ix_\n",
    "`numpy.ix_(*args)`\n",
    "\n",
    "从多个序列构造一个开放网格。\n",
    "\n",
    "该函数采用N个1-D序列并返回N个输出，每个输出具有N个维度，使得除了一个维度外，形状都为 `1`，具有非单位形状值的维度在所有N个维度中循环。\n",
    "\n",
    "使用`ix_`可以快速构建索引数组，以索引交叉产品。 `a [np.ix _（[1,3]，[2,5]）]`返回数组\n",
    "`[[a[1,2] a[1,5]]，[a[3,2] a[3,5]]]]`。"
   ]
  },
  {
   "cell_type": "markdown",
   "metadata": {},
   "source": [
    "## Parameters:\t\n",
    "**args :** 1-D sequences\n",
    "\n",
    "每个序列应该是整数或布尔类型。布尔序列将被解释为相应维度的布尔掩码（相当于传入`np.nonzero（boolean_sequence）`）。\n",
    "\n",
    "## Returns:\t\n",
    "out : tuple of ndarrays\n",
    "\n",
    "N个数组，每个N维，N为输入序列的数量。 这些数组一起形成开放网格。\n",
    "\n",
    "## 示例"
   ]
  },
  {
   "cell_type": "code",
   "execution_count": 40,
   "metadata": {},
   "outputs": [
    {
     "data": {
      "text/plain": [
       "array([[0, 1, 2, 3, 4],\n",
       "       [5, 6, 7, 8, 9]])"
      ]
     },
     "execution_count": 40,
     "metadata": {},
     "output_type": "execute_result"
    }
   ],
   "source": [
    ">>> a = np.arange(10).reshape(2, 5)\n",
    ">>> a"
   ]
  },
  {
   "cell_type": "code",
   "execution_count": 41,
   "metadata": {},
   "outputs": [
    {
     "data": {
      "text/plain": [
       "(array([[0],\n",
       "        [1]]), array([[2, 4]]))"
      ]
     },
     "execution_count": 41,
     "metadata": {},
     "output_type": "execute_result"
    }
   ],
   "source": [
    ">>> ixgrid = np.ix_([0, 1], [2, 4])\n",
    ">>> ixgrid"
   ]
  },
  {
   "cell_type": "code",
   "execution_count": 42,
   "metadata": {},
   "outputs": [
    {
     "data": {
      "text/plain": [
       "array([[2, 4],\n",
       "       [7, 9]])"
      ]
     },
     "execution_count": 42,
     "metadata": {},
     "output_type": "execute_result"
    }
   ],
   "source": [
    ">>> ixgrid[0].shape, ixgrid[1].shape\n",
    ">>> a[ixgrid]"
   ]
  },
  {
   "cell_type": "code",
   "execution_count": 43,
   "metadata": {},
   "outputs": [
    {
     "data": {
      "text/plain": [
       "array([[2, 4],\n",
       "       [7, 9]])"
      ]
     },
     "execution_count": 43,
     "metadata": {},
     "output_type": "execute_result"
    }
   ],
   "source": [
    ">>> ixgrid = np.ix_([True, True], [2, 4])\n",
    ">>> a[ixgrid]"
   ]
  },
  {
   "cell_type": "code",
   "execution_count": 44,
   "metadata": {},
   "outputs": [
    {
     "data": {
      "text/plain": [
       "array([[2, 4],\n",
       "       [7, 9]])"
      ]
     },
     "execution_count": 44,
     "metadata": {},
     "output_type": "execute_result"
    }
   ],
   "source": [
    ">>> ixgrid = np.ix_([True, True], [False, False, True, False, True])\n",
    ">>> a[ixgrid]"
   ]
  },
  {
   "cell_type": "markdown",
   "metadata": {},
   "source": [
    "# numpy.ogrid\n",
    "`numpy.ogrid = <numpy.lib.index_tricks.nd_grid object>`\n",
    "\n",
    "nd_grid实例，它返回一个开放的多维“meshgrid”。\n",
    "\n",
    "`numpy.lib.index_tricks.nd_grid`的一个实例，它在索引时返回一个打开的（即没有充实的）网格-网格，这样每个返回的数组只有一个维度大于1. 输出数组的维度和数量等于索引维度数。 如果step不是复数，则stop不包括在内。\n",
    "\n",
    "然而，如果步长是复数（例如5j），则其幅度的整数部分被解释为指定在start和stop之间创建的点的数量，其中stop是包含的。\n",
    "\n",
    "**返回：** 只有一个维度的网格-网格`ndarrays`，'math：`neq 1'`\n",
    "\n",
    "## 示例"
   ]
  },
  {
   "cell_type": "code",
   "execution_count": 45,
   "metadata": {},
   "outputs": [
    {
     "data": {
      "text/plain": [
       "array([-1. , -0.5,  0. ,  0.5,  1. ])"
      ]
     },
     "execution_count": 45,
     "metadata": {},
     "output_type": "execute_result"
    }
   ],
   "source": [
    ">>> from numpy import ogrid\n",
    ">>> ogrid[-1:1:5j]"
   ]
  },
  {
   "cell_type": "code",
   "execution_count": 46,
   "metadata": {},
   "outputs": [
    {
     "data": {
      "text/plain": [
       "[array([[0],\n",
       "        [1],\n",
       "        [2],\n",
       "        [3],\n",
       "        [4]]), array([[0, 1, 2, 3, 4]])]"
      ]
     },
     "execution_count": 46,
     "metadata": {},
     "output_type": "execute_result"
    }
   ],
   "source": [
    ">>> ogrid[0:5,0:5]"
   ]
  },
  {
   "cell_type": "markdown",
   "metadata": {},
   "source": [
    "# numpy.ravel_multi_index\n",
    "`numpy.ravel_multi_index(multi_index, dims, mode='raise', order='C')`\n",
    "\n",
    "将索引数组的元组转换为平面索引数组，将边界模式应用于多重索引。"
   ]
  },
  {
   "cell_type": "markdown",
   "metadata": {},
   "source": [
    "## Parameters:\t\n",
    "**multi_index :** 类似数组的元组，整数数组的元组，每个维度一个数组。是一个索引数组。\n",
    "\n",
    "**dims :** tuple of ints，被检索数组的shape，应用`multi_index`中的索引检索的目标数组的形状。\n",
    "\n",
    "**mode :** `{‘raise’, ‘wrap’, ‘clip’}`, 可选参数。指定如何处理越界索引。可以指定一种模式或模式的元组，每个索引一种模式。\n",
    "\n",
    "- ‘raise’ – raise an error (default)\n",
    "- ‘wrap’ – wrap around\n",
    "- ‘clip’ – clip to the range\n",
    "\n",
    "在“clip”模式下，通常会换行的负索引将剪切为0。\n",
    "\n",
    "**order :** `{‘C’, ‘F’}`, 可选参数。确定是将多索引视为以行主（C样式）还是列为主（Fortran样式）顺序编制索引。"
   ]
  },
  {
   "cell_type": "markdown",
   "metadata": {},
   "source": [
    "## Returns:\t\n",
    "raveled_indices : ndarray，解开的索引：ndarray\n",
    "\n",
    "一个维度模糊的数组的扁平化版本的索引数组。\n"
   ]
  },
  {
   "cell_type": "markdown",
   "metadata": {},
   "source": [
    "## 示例"
   ]
  },
  {
   "cell_type": "code",
   "execution_count": 47,
   "metadata": {},
   "outputs": [
    {
     "data": {
      "text/plain": [
       "array([[3, 6, 6],\n",
       "       [4, 5, 1]])"
      ]
     },
     "execution_count": 47,
     "metadata": {},
     "output_type": "execute_result"
    }
   ],
   "source": [
    ">>> arr = np.array([[3,6,6],[4,5,1]])\n",
    "arr"
   ]
  },
  {
   "cell_type": "code",
   "execution_count": 48,
   "metadata": {},
   "outputs": [
    {
     "data": {
      "text/plain": [
       "array([22, 41, 37], dtype=int64)"
      ]
     },
     "execution_count": 48,
     "metadata": {},
     "output_type": "execute_result"
    }
   ],
   "source": [
    ">>> np.ravel_multi_index(arr, (7,6))"
   ]
  },
  {
   "cell_type": "code",
   "execution_count": 49,
   "metadata": {},
   "outputs": [
    {
     "data": {
      "text/plain": [
       "array([31, 41, 13], dtype=int64)"
      ]
     },
     "execution_count": 49,
     "metadata": {},
     "output_type": "execute_result"
    }
   ],
   "source": [
    ">>> np.ravel_multi_index(arr, (7,6), order='F')"
   ]
  },
  {
   "cell_type": "code",
   "execution_count": 50,
   "metadata": {},
   "outputs": [
    {
     "data": {
      "text/plain": [
       "array([22, 23, 19], dtype=int64)"
      ]
     },
     "execution_count": 50,
     "metadata": {},
     "output_type": "execute_result"
    }
   ],
   "source": [
    ">>> np.ravel_multi_index(arr, (4,6), mode='clip')"
   ]
  },
  {
   "cell_type": "code",
   "execution_count": 51,
   "metadata": {},
   "outputs": [
    {
     "data": {
      "text/plain": [
       "array([12, 13, 13], dtype=int64)"
      ]
     },
     "execution_count": 51,
     "metadata": {},
     "output_type": "execute_result"
    }
   ],
   "source": [
    ">>> np.ravel_multi_index(arr, (4,4), mode=('clip','wrap'))"
   ]
  },
  {
   "cell_type": "code",
   "execution_count": 52,
   "metadata": {},
   "outputs": [
    {
     "data": {
      "text/plain": [
       "1621"
      ]
     },
     "execution_count": 52,
     "metadata": {},
     "output_type": "execute_result"
    }
   ],
   "source": [
    ">>> np.ravel_multi_index((3,1,4,1), (6,7,8,9))"
   ]
  },
  {
   "cell_type": "markdown",
   "metadata": {},
   "source": [
    "## 函数释义\n",
    "\n",
    "上面的定义和示例来自官方文档。很难看明白。释义如下："
   ]
  },
  {
   "cell_type": "markdown",
   "metadata": {},
   "source": [
    "这个函数主要功能为把给定的一个由多个数组组成的元组，函数的第一个参数，元组元素的个数与要检索的数组的维度一致，即要检索的目标数组有几维，该元组就有几个元素（数组），将该元组转化为一系列的数值对，用这些数值对作为各维度上的索引值到目标数组中检索数据。\n",
    "\n",
    "dims参数定义了要检索的目标数组，dims（函数的第二个参数）是目标数组的shape，值为依次增大的自然数。\n",
    "\n",
    "在上面的示例中，dims是一个shape为（7，6）的2-D数组，值为从零开始依次增大的自然数。\n",
    "\n",
    "该函数使用`multi_index`作为索引数组，从dims中检索出数据。\n",
    "\n",
    "dims是一个整数元组，设 `dims = (dims0,dims1,dimsN-1)`, dims 实际可以这样生成： `np.arange(dims0*dims1*...dimsN-1).reshape(dims)`.\n",
    "\n",
    "**官方示例中的dims可以这样得到：**"
   ]
  },
  {
   "cell_type": "code",
   "execution_count": 53,
   "metadata": {},
   "outputs": [
    {
     "data": {
      "text/plain": [
       "array([ 0,  1,  2,  3,  4,  5,  6,  7,  8,  9, 10, 11, 12, 13, 14, 15, 16,\n",
       "       17, 18, 19, 20, 21, 22, 23, 24, 25, 26, 27, 28, 29, 30, 31, 32, 33,\n",
       "       34, 35, 36, 37, 38, 39, 40, 41])"
      ]
     },
     "execution_count": 53,
     "metadata": {},
     "output_type": "execute_result"
    }
   ],
   "source": [
    "dims = np.arange(7*6)\n",
    "dims"
   ]
  },
  {
   "cell_type": "code",
   "execution_count": 54,
   "metadata": {},
   "outputs": [
    {
     "data": {
      "text/plain": [
       "array([[ 0,  1,  2,  3,  4,  5],\n",
       "       [ 6,  7,  8,  9, 10, 11],\n",
       "       [12, 13, 14, 15, 16, 17],\n",
       "       [18, 19, 20, 21, 22, 23],\n",
       "       [24, 25, 26, 27, 28, 29],\n",
       "       [30, 31, 32, 33, 34, 35],\n",
       "       [36, 37, 38, 39, 40, 41]])"
      ]
     },
     "execution_count": 54,
     "metadata": {},
     "output_type": "execute_result"
    }
   ],
   "source": [
    "dims = dims.reshape(7,6)\n",
    "dims"
   ]
  },
  {
   "cell_type": "markdown",
   "metadata": {},
   "source": [
    "该函数的意义即为用一个唯一的一维数组来定位（检索、保存）原数组的二维（或多维(i,j,k,…)）数对的数据。"
   ]
  },
  {
   "cell_type": "markdown",
   "metadata": {},
   "source": [
    "官方示例中`arr`即为要转换的多维索引数组，把arr的内容当作索引，即[3,6,6]为横坐标，[4,5,1]为纵坐标，去索引形状为(7,6)，内容为从0开始，从左往右，从上往下依次增大的自然数为值的数组中的值。\n",
    "\n",
    "例如第一个要索引的数`[3,4]`即为shape为`(7,6)`的dims数组中第4行，第5列的的值，即为3*6+4=22，即为结果中的第一个数。依次类推。\n",
    "\n",
    "明白了函数的意义，其它参数的作用就好理解了。"
   ]
  },
  {
   "cell_type": "markdown",
   "metadata": {},
   "source": [
    "# numpy.unravel_index\n",
    "`numpy.unravel_index(indices, dims, order='C')`\n",
    "\n",
    "将扁平索引或扁平数组的索引转换成一个坐标数组的元组。"
   ]
  },
  {
   "cell_type": "markdown",
   "metadata": {},
   "source": [
    "## Parameters:\t\n",
    "**indices :** array_like，一个整数数组，它的元素是索引到维度为dims的数组的扁平版本。\n",
    "\n",
    "**dims :** tuple of ints，用于解开索引的数组的形状。\n",
    "\n",
    "**order :** {‘C’, ‘F’}, 可选参数，确定是将索引视为以行为主（C样式）还是列为主（Fortran样式）的顺序编制索引。"
   ]
  },
  {
   "cell_type": "markdown",
   "metadata": {},
   "source": [
    "## Returns:\n",
    "unraveled_coords : tuple of ndarray\n",
    "\n",
    "元组中的每个数组都具有与索引数组相同的形状。"
   ]
  },
  {
   "cell_type": "markdown",
   "metadata": {},
   "source": [
    "## 示例"
   ]
  },
  {
   "cell_type": "code",
   "execution_count": 55,
   "metadata": {},
   "outputs": [
    {
     "data": {
      "text/plain": [
       "(array([3, 6, 6], dtype=int64), array([4, 5, 1], dtype=int64))"
      ]
     },
     "execution_count": 55,
     "metadata": {},
     "output_type": "execute_result"
    }
   ],
   "source": [
    ">>> np.unravel_index([22, 41, 37], (7,6))"
   ]
  },
  {
   "cell_type": "code",
   "execution_count": 56,
   "metadata": {},
   "outputs": [
    {
     "data": {
      "text/plain": [
       "(array([3, 6, 6], dtype=int64), array([4, 5, 1], dtype=int64))"
      ]
     },
     "execution_count": 56,
     "metadata": {},
     "output_type": "execute_result"
    }
   ],
   "source": [
    ">>> np.unravel_index([31, 41, 13], (7,6), order='F')"
   ]
  },
  {
   "cell_type": "code",
   "execution_count": 57,
   "metadata": {},
   "outputs": [
    {
     "data": {
      "text/plain": [
       "(3, 1, 4, 1)"
      ]
     },
     "execution_count": 57,
     "metadata": {},
     "output_type": "execute_result"
    }
   ],
   "source": [
    ">>> np.unravel_index(1621, (6,7,8,9))"
   ]
  },
  {
   "cell_type": "markdown",
   "metadata": {},
   "source": [
    "## 函数释义\n",
    "\n",
    "给出一个数组的形状dims = (dims0,dims1...dimsN-1)，该数组的元素值为从0开始依次增大的自然数。该数组的维度为N，最大值是`(dims0*dims1*...dimsN-1)-1`。\n",
    "\n",
    "也就是该数组可以这样生成：`x = np.arange(dims0*dims1*...dimsN-1).reshape(dims)`\n",
    "\n",
    "示例：给定一个数组，shape=（6,7,8,9），即4维的数组，求第 n 个元素的下标是什么？ \n",
    "\n",
    "该数组元素个数为`6*7*8*9 = 3024`，最大值是3023。"
   ]
  },
  {
   "cell_type": "code",
   "execution_count": 58,
   "metadata": {},
   "outputs": [],
   "source": [
    "dims = (6,7,8,9)\n",
    "x = np.arange(dims[0]*dims[1]*dims[2]*dims[3]).reshape(dims)"
   ]
  },
  {
   "cell_type": "code",
   "execution_count": 59,
   "metadata": {},
   "outputs": [
    {
     "data": {
      "text/plain": [
       "(3, 1, 4, 1)"
      ]
     },
     "execution_count": 59,
     "metadata": {},
     "output_type": "execute_result"
    }
   ],
   "source": [
    "np.unravel_index(1621,dims)"
   ]
  },
  {
   "cell_type": "markdown",
   "metadata": {},
   "source": [
    "矩阵各维的下标从0开始。\n",
    "\n",
    "如果indices参数是一个标量(上例中indices=1621)，那么返回的是一个向量，维数 = 数组的维数，向量的值就是indices在数组中对应的下标。如`6*7*8*9`的数组，`1621/(7*8*9)=3，(1621-3*7*8*9)/(8*9)=1，(1621-3*7*8*9-1*8*9)/9=4，(1621-3*7*8*9-1*8*9-4*9)=1`。所以返回的向量为`array(3,1,4,1)`\n",
    "\n",
    "再例如：对于一个shape为（6，7，8）的数组，求第100个元素的索引（x, y, z）？"
   ]
  },
  {
   "cell_type": "code",
   "execution_count": 60,
   "metadata": {},
   "outputs": [
    {
     "data": {
      "text/plain": [
       "(1, 5, 4)"
      ]
     },
     "execution_count": 60,
     "metadata": {},
     "output_type": "execute_result"
    }
   ],
   "source": [
    "np.unravel_index(100,(6,7,8))"
   ]
  },
  {
   "cell_type": "markdown",
   "metadata": {},
   "source": [
    "如果indices参数是一个向量，那么通过该向量中**值**求出该值在目标数组中对应的下标，返回的结果为数组组成的元组。\n",
    "`(array([...]),array([...]),...)`，元组中元素（数组）的个数等于目标数组的维度数，对应目标数组每个维度的下标放在元组内的一个对应数组中，所有数组对应位置的值组成一个向量，该向量就是对应值在目标数组中的完整索引。\n",
    "\n",
    "如`7*6`的数组，是2维的，第22个元素是`22/6 = 3 余 4',即`22 = 3*6+4`，所以对应的下标是`(3,4)`，那么返回的值是 `array([3]),array([4])`"
   ]
  },
  {
   "cell_type": "code",
   "execution_count": 61,
   "metadata": {},
   "outputs": [
    {
     "data": {
      "text/plain": [
       "(array([3], dtype=int64), array([4], dtype=int64))"
      ]
     },
     "execution_count": 61,
     "metadata": {},
     "output_type": "execute_result"
    }
   ],
   "source": [
    "np.unravel_index([22], (7,6))"
   ]
  },
  {
   "cell_type": "code",
   "execution_count": 62,
   "metadata": {},
   "outputs": [
    {
     "data": {
      "text/plain": [
       "(array([3, 6, 6], dtype=int64), array([4, 5, 1], dtype=int64))"
      ]
     },
     "execution_count": 62,
     "metadata": {},
     "output_type": "execute_result"
    }
   ],
   "source": [
    "np.unravel_index([22,41,37],(7,6))"
   ]
  },
  {
   "cell_type": "markdown",
   "metadata": {},
   "source": [
    "上例中，`indices = [22,41,37]`，是一个向量，就是要批量检索的值组成的列表。`dims = (7,6)`。\n",
    "\n",
    "使用`np.unravel_index(indices,dims)`函数，就是要从dims中检索`22，41,37`，输出它们在indices中的索引下标。\n",
    "\n",
    "输出的形式是数组组成的元组：`(array([3, 6, 6]), array([4, 5, 1]))`，每个数组中有三个值，对应位置的值两两组成一个向量，即为`(3,4),(6,5),(61)`，分别是`22，41,37`在indices中的位置索引下标。"
   ]
  },
  {
   "cell_type": "markdown",
   "metadata": {},
   "source": [
    "# numpy.diag_indices\n",
    "`numpy.diag_indices(n, ndim=2)`"
   ]
  },
  {
   "cell_type": "markdown",
   "metadata": {},
   "source": [
    "返回访问数组主对角线的索引。\n",
    "\n",
    "将返回一个索引元组，可用于访问`a.ndim> = 2`维度和`shape（n，n，...，n）`的数组 a 的主对角线。\n",
    "- 对于`a.ndim = 2`，就是通常的对角线。\n",
    "- 对于`a.ndim> 2`，是一个索引集，可以用于访问`a[i, i, ..., i]`的`i = [0..n-1]`。"
   ]
  },
  {
   "cell_type": "markdown",
   "metadata": {},
   "source": [
    "## Parameters:\t\n",
    "**n :** int，在每个维度上，返回的索引数组可以使用的大小，小于等于目标数组各维度数的最小值。大于最小值，就会触发超边界错误。\n",
    "\n",
    "**ndim :** int, 可选关键字参数，返回的索引数组的维度数，默认为2。\n",
    "\n",
    "由于返回的数组元组的长度等于ndim，如果ndim大于目标数组的维度数，会触发‘too many indices for array’错误。"
   ]
  },
  {
   "cell_type": "markdown",
   "metadata": {},
   "source": [
    "## 示例\n",
    "创建一个访问shape(4,4)数组对角线的索引集。"
   ]
  },
  {
   "cell_type": "code",
   "execution_count": 63,
   "metadata": {},
   "outputs": [
    {
     "data": {
      "text/plain": [
       "(array([0, 1, 2, 3]), array([0, 1, 2, 3]))"
      ]
     },
     "execution_count": 63,
     "metadata": {},
     "output_type": "execute_result"
    }
   ],
   "source": [
    ">>> di = np.diag_indices(4)\n",
    ">>> di"
   ]
  },
  {
   "cell_type": "code",
   "execution_count": 64,
   "metadata": {},
   "outputs": [
    {
     "data": {
      "text/plain": [
       "array([[ 0,  1,  2,  3],\n",
       "       [ 4,  5,  6,  7],\n",
       "       [ 8,  9, 10, 11],\n",
       "       [12, 13, 14, 15]])"
      ]
     },
     "execution_count": 64,
     "metadata": {},
     "output_type": "execute_result"
    }
   ],
   "source": [
    ">>> a = np.arange(16).reshape(4, 4)\n",
    ">>> a"
   ]
  },
  {
   "cell_type": "code",
   "execution_count": 65,
   "metadata": {},
   "outputs": [
    {
     "data": {
      "text/plain": [
       "array([ 0,  5, 10, 15])"
      ]
     },
     "execution_count": 65,
     "metadata": {},
     "output_type": "execute_result"
    }
   ],
   "source": [
    "a[di]"
   ]
  },
  {
   "cell_type": "code",
   "execution_count": 66,
   "metadata": {},
   "outputs": [
    {
     "data": {
      "text/plain": [
       "array([[100,   1,   2,   3],\n",
       "       [  4, 100,   6,   7],\n",
       "       [  8,   9, 100,  11],\n",
       "       [ 12,  13,  14, 100]])"
      ]
     },
     "execution_count": 66,
     "metadata": {},
     "output_type": "execute_result"
    }
   ],
   "source": [
    ">>> a[di] = 100\n",
    ">>> a"
   ]
  },
  {
   "cell_type": "markdown",
   "metadata": {},
   "source": [
    "创建索引来操作一个3-D数组:"
   ]
  },
  {
   "cell_type": "code",
   "execution_count": 67,
   "metadata": {},
   "outputs": [
    {
     "data": {
      "text/plain": [
       "(array([0, 1]), array([0, 1]), array([0, 1]))"
      ]
     },
     "execution_count": 67,
     "metadata": {},
     "output_type": "execute_result"
    }
   ],
   "source": [
    ">>> d3 = np.diag_indices(2, 3)\n",
    ">>> d3"
   ]
  },
  {
   "cell_type": "markdown",
   "metadata": {},
   "source": [
    "在使用上面的索引数组检索数组时，实际是检索2个值，它们的索引下标依次是：`[0,0,0],[1,1,1]`。\n",
    "被检索的目标数组是3-D。"
   ]
  },
  {
   "cell_type": "markdown",
   "metadata": {},
   "source": [
    "然后用它来设置一个zeros数组的对角线为1："
   ]
  },
  {
   "cell_type": "code",
   "execution_count": 68,
   "metadata": {},
   "outputs": [
    {
     "data": {
      "text/plain": [
       "array([[[0, 0],\n",
       "        [0, 0]],\n",
       "\n",
       "       [[0, 0],\n",
       "        [0, 0]]])"
      ]
     },
     "execution_count": 68,
     "metadata": {},
     "output_type": "execute_result"
    }
   ],
   "source": [
    ">>> a = np.zeros((2, 2, 2), dtype=int)\n",
    "a"
   ]
  },
  {
   "cell_type": "code",
   "execution_count": 69,
   "metadata": {},
   "outputs": [
    {
     "data": {
      "text/plain": [
       "array([0, 0])"
      ]
     },
     "execution_count": 69,
     "metadata": {},
     "output_type": "execute_result"
    }
   ],
   "source": [
    "a[d3]"
   ]
  },
  {
   "cell_type": "code",
   "execution_count": 70,
   "metadata": {},
   "outputs": [
    {
     "data": {
      "text/plain": [
       "array([[[1, 0],\n",
       "        [0, 0]],\n",
       "\n",
       "       [[0, 0],\n",
       "        [0, 1]]])"
      ]
     },
     "execution_count": 70,
     "metadata": {},
     "output_type": "execute_result"
    }
   ],
   "source": [
    ">>> a[d3] = 1\n",
    ">>> a"
   ]
  },
  {
   "cell_type": "markdown",
   "metadata": {},
   "source": [
    "# numpy.diag_indices_from\n",
    "`numpy.diag_indices_from(arr)`\n",
    "\n",
    "返回用于访问n-D数组主对角线的索引。\n",
    "\n",
    "参见`diag_indices`."
   ]
  },
  {
   "cell_type": "markdown",
   "metadata": {},
   "source": [
    "## Parameters:\t\n",
    "arr : array, at least 2-D"
   ]
  },
  {
   "cell_type": "markdown",
   "metadata": {},
   "source": [
    "# numpy.mask_indices\n",
    "`numpy.mask_indices(n, mask_func, k=0)`\n",
    "\n",
    "给出一个掩码函数，根据这个函数返回索引，用于访问(n, n)数组。\n",
    "\n",
    "假设 mask_func 是一个函数，对于具有可能的偏移参数k、大小为（n，n）的正方形数组a，当调用 `mask_func（a，k）`时，返回一个在某些位置具有零的新数组（像triu或tril这样的函数可以做到这一点）。然后，此函数返回非零值所在的索引。"
   ]
  },
  {
   "cell_type": "markdown",
   "metadata": {},
   "source": [
    "## Parameters:\t\n",
    "**n :** int，返回的索引将有效地访问shape(n,n)的数组。\n",
    "\n",
    "**mask_func :** callable，一个函数，其调用签名类似于triu，tril。 也就是说，`mask_func（x，k）`返回一个形状像x的布尔数组。 k是函数的可选参数。\n",
    "\n",
    "**k :** scalar，可选关键字参数，传递给mask_func。 像triu，tril这样的函数采用第二个被解释为偏移量的参数。\n",
    "\n",
    "## Returns:\t\n",
    "indices : tuple of arrays.\n",
    "\n",
    "个索引数组的 n 对应于`mask_func（np.ones（（n，n）），k）`为True的位置。"
   ]
  },
  {
   "cell_type": "markdown",
   "metadata": {},
   "source": [
    "## 示例\n",
    "\n",
    "这些是允许您访问任何3x3阵列的上三角形部分的索引："
   ]
  },
  {
   "cell_type": "code",
   "execution_count": 72,
   "metadata": {},
   "outputs": [
    {
     "data": {
      "text/plain": [
       "(array([0, 0, 0, 1, 1, 2], dtype=int64),\n",
       " array([0, 1, 2, 1, 2, 2], dtype=int64))"
      ]
     },
     "execution_count": 72,
     "metadata": {},
     "output_type": "execute_result"
    }
   ],
   "source": [
    ">>> iu = np.mask_indices(3, np.triu)\n",
    "iu"
   ]
  },
  {
   "cell_type": "markdown",
   "metadata": {},
   "source": [
    "如果 a 是一个`3*3`的数组:"
   ]
  },
  {
   "cell_type": "code",
   "execution_count": 73,
   "metadata": {},
   "outputs": [
    {
     "data": {
      "text/plain": [
       "array([[0, 1, 2],\n",
       "       [3, 4, 5],\n",
       "       [6, 7, 8]])"
      ]
     },
     "execution_count": 73,
     "metadata": {},
     "output_type": "execute_result"
    }
   ],
   "source": [
    ">>> a = np.arange(9).reshape(3, 3)\n",
    ">>> a"
   ]
  },
  {
   "cell_type": "code",
   "execution_count": 74,
   "metadata": {},
   "outputs": [
    {
     "data": {
      "text/plain": [
       "array([0, 1, 2, 4, 5, 8])"
      ]
     },
     "execution_count": 74,
     "metadata": {},
     "output_type": "execute_result"
    }
   ],
   "source": [
    ">>> a[iu]"
   ]
  },
  {
   "cell_type": "markdown",
   "metadata": {},
   "source": [
    "偏移也可以传递给掩蔽函数。这得到从主对角线右侧第一个对角线开始的数组索引："
   ]
  },
  {
   "cell_type": "code",
   "execution_count": 75,
   "metadata": {},
   "outputs": [
    {
     "data": {
      "text/plain": [
       "(array([0, 0, 1], dtype=int64), array([1, 2, 2], dtype=int64))"
      ]
     },
     "execution_count": 75,
     "metadata": {},
     "output_type": "execute_result"
    }
   ],
   "source": [
    ">>> iu1 = np.mask_indices(3, np.triu, 1)\n",
    "iu1"
   ]
  },
  {
   "cell_type": "markdown",
   "metadata": {},
   "source": [
    "现在只提取3个元素："
   ]
  },
  {
   "cell_type": "code",
   "execution_count": 76,
   "metadata": {},
   "outputs": [
    {
     "data": {
      "text/plain": [
       "array([1, 2, 5])"
      ]
     },
     "execution_count": 76,
     "metadata": {},
     "output_type": "execute_result"
    }
   ],
   "source": [
    "a[iu1]"
   ]
  },
  {
   "cell_type": "markdown",
   "metadata": {},
   "source": [
    "# numpy.tril_indices\n",
    "`numpy.tril_indices(n, k=0, m=None)`\n",
    "\n",
    "返回一个(n,m)数组的下三角形的索引。"
   ]
  },
  {
   "cell_type": "markdown",
   "metadata": {},
   "source": [
    "## Parameters:\t\n",
    "**n :**  int，返回索引有效的数组的行维度。\n",
    "\n",
    "**k :** int, 可选参数。对角线偏移。\n",
    "\n",
    "**m :** int, 可选参数。返回索引有效的数组的列维度。默认 m 等于 n。"
   ]
  },
  {
   "cell_type": "markdown",
   "metadata": {},
   "source": [
    "## Returns:\t\n",
    "inds : tuple of arrays，数组的元组。三角形的索引。返回包含两个数组的元组，每个索引数组沿着数组的一个维度。"
   ]
  },
  {
   "cell_type": "markdown",
   "metadata": {},
   "source": [
    "## 示例\n",
    "\n",
    "计算两组不同的索引集来访问4x4的数组，一个是主对角线的下三角部分，另一个开始于右边两个对角线（左下三角形）："
   ]
  },
  {
   "cell_type": "code",
   "execution_count": 105,
   "metadata": {},
   "outputs": [
    {
     "data": {
      "text/plain": [
       "(array([0, 1, 1, 2, 2, 2, 3, 3, 3, 3], dtype=int64),\n",
       " array([0, 0, 1, 0, 1, 2, 0, 1, 2, 3], dtype=int64))"
      ]
     },
     "execution_count": 105,
     "metadata": {},
     "output_type": "execute_result"
    }
   ],
   "source": [
    ">>> il1 = np.tril_indices(4)\n",
    "il1"
   ]
  },
  {
   "cell_type": "code",
   "execution_count": 106,
   "metadata": {},
   "outputs": [
    {
     "data": {
      "text/plain": [
       "(array([0, 0, 0, 1, 1, 1, 1, 2, 2, 2, 2, 3, 3, 3, 3], dtype=int64),\n",
       " array([0, 1, 2, 0, 1, 2, 3, 0, 1, 2, 3, 0, 1, 2, 3], dtype=int64))"
      ]
     },
     "execution_count": 106,
     "metadata": {},
     "output_type": "execute_result"
    }
   ],
   "source": [
    ">>> il2 = np.tril_indices(4,2)\n",
    "il2"
   ]
  },
  {
   "cell_type": "markdown",
   "metadata": {},
   "source": [
    "下面是如何与示例数组一些使用的方法："
   ]
  },
  {
   "cell_type": "code",
   "execution_count": 107,
   "metadata": {},
   "outputs": [
    {
     "data": {
      "text/plain": [
       "array([[ 0,  1,  2,  3],\n",
       "       [ 4,  5,  6,  7],\n",
       "       [ 8,  9, 10, 11],\n",
       "       [12, 13, 14, 15]])"
      ]
     },
     "execution_count": 107,
     "metadata": {},
     "output_type": "execute_result"
    }
   ],
   "source": [
    ">>> a = np.arange(16).reshape(4, 4)\n",
    ">>> a"
   ]
  },
  {
   "cell_type": "markdown",
   "metadata": {},
   "source": [
    "Both for indexing:"
   ]
  },
  {
   "cell_type": "code",
   "execution_count": 108,
   "metadata": {},
   "outputs": [
    {
     "data": {
      "text/plain": [
       "array([ 0,  4,  5,  8,  9, 10, 12, 13, 14, 15])"
      ]
     },
     "execution_count": 108,
     "metadata": {},
     "output_type": "execute_result"
    }
   ],
   "source": [
    "a[il1]"
   ]
  },
  {
   "cell_type": "code",
   "execution_count": 109,
   "metadata": {},
   "outputs": [
    {
     "data": {
      "text/plain": [
       "array([ 0,  1,  2,  4,  5,  6,  7,  8,  9, 10, 11, 12, 13, 14, 15])"
      ]
     },
     "execution_count": 109,
     "metadata": {},
     "output_type": "execute_result"
    }
   ],
   "source": [
    "a[il2]"
   ]
  },
  {
   "cell_type": "markdown",
   "metadata": {},
   "source": [
    "检索并赋值："
   ]
  },
  {
   "cell_type": "code",
   "execution_count": 110,
   "metadata": {},
   "outputs": [
    {
     "data": {
      "text/plain": [
       "array([[-1,  1,  2,  3],\n",
       "       [-1, -1,  6,  7],\n",
       "       [-1, -1, -1, 11],\n",
       "       [-1, -1, -1, -1]])"
      ]
     },
     "execution_count": 110,
     "metadata": {},
     "output_type": "execute_result"
    }
   ],
   "source": [
    "a[il1] = -1\n",
    "a"
   ]
  },
  {
   "cell_type": "markdown",
   "metadata": {},
   "source": [
    "下面的几乎覆盖了整个数组（主对角线右边的两个对角线）："
   ]
  },
  {
   "cell_type": "code",
   "execution_count": 111,
   "metadata": {},
   "outputs": [
    {
     "data": {
      "text/plain": [
       "array([[-10, -10, -10,   3],\n",
       "       [-10, -10, -10, -10],\n",
       "       [-10, -10, -10, -10],\n",
       "       [-10, -10, -10, -10]])"
      ]
     },
     "execution_count": 111,
     "metadata": {},
     "output_type": "execute_result"
    }
   ],
   "source": [
    "a[il2]=-10\n",
    "a"
   ]
  },
  {
   "cell_type": "markdown",
   "metadata": {},
   "source": [
    "# numpy.tril_indices_from\n",
    "`numpy.tril_indices_from(arr, k=0)`\n",
    "\n",
    "返回 arr 下三角的索引。"
   ]
  },
  {
   "cell_type": "markdown",
   "metadata": {},
   "source": [
    "## Parameters:\t\n",
    "**arr :** array_like，这些索引对于那些维度与arr相同的方阵是有效的。\n",
    "\n",
    "**k :** int, 对角线的偏移。"
   ]
  },
  {
   "cell_type": "markdown",
   "metadata": {},
   "source": [
    "# numpy.triu_indices\n",
    "`numpy.triu_indices(n, k=0, m=None)`\n",
    "\n",
    "返回(n, m)数组上三角形的索引。"
   ]
  },
  {
   "cell_type": "markdown",
   "metadata": {},
   "source": [
    "## Parameters:\t\n",
    "**n :** int，返回的索引会有效的数组的大小。\n",
    "\n",
    "**k :** int, 可选参数，对角线偏移。.\n",
    "\n",
    "**m :** int, 可选参数。返回的数组将是有效的数组的列维。默认情况下`m=n`。\n",
    "\n",
    "## Returns:\t\n",
    "**inds :** tuple, shape(2) of ndarrays, shape(n),\n",
    "\n",
    "三角形的索引。返回的元组包含两个数组，每个是沿着数组一个维度的索引。可以用于shape(n, n)数组的切片。"
   ]
  },
  {
   "cell_type": "markdown",
   "metadata": {},
   "source": [
    "## 示例\n",
    "\n",
    "计算两个不同的索引以访问`4*4`的数组，一个用于从主对角线开始的上三角形，另一个从向右两个对角线开始："
   ]
  },
  {
   "cell_type": "code",
   "execution_count": 112,
   "metadata": {},
   "outputs": [],
   "source": [
    ">>> iu1 = np.triu_indices(4)\n",
    ">>> iu2 = np.triu_indices(4, 2)"
   ]
  },
  {
   "cell_type": "markdown",
   "metadata": {},
   "source": [
    "下面是如何与样本数组一起使用的方法："
   ]
  },
  {
   "cell_type": "code",
   "execution_count": 118,
   "metadata": {},
   "outputs": [
    {
     "data": {
      "text/plain": [
       "array([[ 0,  1,  2,  3],\n",
       "       [ 4,  5,  6,  7],\n",
       "       [ 8,  9, 10, 11],\n",
       "       [12, 13, 14, 15]])"
      ]
     },
     "execution_count": 118,
     "metadata": {},
     "output_type": "execute_result"
    }
   ],
   "source": [
    ">>> a = np.arange(16).reshape(4, 4)\n",
    ">>> a"
   ]
  },
  {
   "cell_type": "code",
   "execution_count": 119,
   "metadata": {},
   "outputs": [
    {
     "data": {
      "text/plain": [
       "array([ 0,  1,  2,  3,  5,  6,  7, 10, 11, 15])"
      ]
     },
     "execution_count": 119,
     "metadata": {},
     "output_type": "execute_result"
    }
   ],
   "source": [
    "a[iu1]"
   ]
  },
  {
   "cell_type": "code",
   "execution_count": 120,
   "metadata": {},
   "outputs": [
    {
     "data": {
      "text/plain": [
       "array([2, 3, 7])"
      ]
     },
     "execution_count": 120,
     "metadata": {},
     "output_type": "execute_result"
    }
   ],
   "source": [
    "a[iu2]"
   ]
  },
  {
   "cell_type": "code",
   "execution_count": 123,
   "metadata": {},
   "outputs": [
    {
     "data": {
      "text/plain": [
       "array([[-1, -1, -1, -1],\n",
       "       [ 4, -1, -1, -1],\n",
       "       [ 8,  9, -1, -1],\n",
       "       [12, 13, 14, -1]])"
      ]
     },
     "execution_count": 123,
     "metadata": {},
     "output_type": "execute_result"
    }
   ],
   "source": [
    "a[iu1]=-1\n",
    "a"
   ]
  },
  {
   "cell_type": "code",
   "execution_count": 124,
   "metadata": {},
   "outputs": [
    {
     "data": {
      "text/plain": [
       "array([-1, -1, -1])"
      ]
     },
     "execution_count": 124,
     "metadata": {},
     "output_type": "execute_result"
    }
   ],
   "source": [
    "a[iu2]"
   ]
  },
  {
   "cell_type": "code",
   "execution_count": 126,
   "metadata": {},
   "outputs": [
    {
     "data": {
      "text/plain": [
       "array([[ -1,  -1, -10, -10],\n",
       "       [  4,  -1,  -1, -10],\n",
       "       [  8,   9,  -1,  -1],\n",
       "       [ 12,  13,  14,  -1]])"
      ]
     },
     "execution_count": 126,
     "metadata": {},
     "output_type": "execute_result"
    }
   ],
   "source": [
    "a[iu2]=-10\n",
    "a"
   ]
  },
  {
   "cell_type": "markdown",
   "metadata": {},
   "source": [
    "# numpy.triu_indices_from\n",
    "`numpy.triu_indices_from(arr, k=0)`\n",
    "\n",
    "返回数组arr上三角形的索引。\n",
    "\n",
    "## Parameters:\t\n",
    "arr : ndarray, shape(N, N)，该数组的索引对正方形数组有效。\n",
    "\n",
    "**k :** int, 可选参数，对角线偏移。\n",
    "\n",
    "## Returns:\t\n",
    "triu_indices_from : tuple, shape(2) of ndarray, shape(N)\n",
    "\n",
    "元组，shape(2)的数组，shape(N)\n",
    "\n",
    "arr的上三角形的索引。"
   ]
  },
  {
   "cell_type": "markdown",
   "metadata": {},
   "source": []
  }
 ],
 "metadata": {
  "kernelspec": {
   "display_name": "Python 3",
   "language": "python",
   "name": "python3"
  },
  "language_info": {
   "codemirror_mode": {
    "name": "ipython",
    "version": 3
   },
   "file_extension": ".py",
   "mimetype": "text/x-python",
   "name": "python",
   "nbconvert_exporter": "python",
   "pygments_lexer": "ipython3",
   "version": "3.6.5"
  },
  "toc": {
   "base_numbering": 1,
   "nav_menu": {},
   "number_sections": true,
   "sideBar": true,
   "skip_h1_title": false,
   "title_cell": "Table of Contents",
   "title_sidebar": "Contents",
   "toc_cell": false,
   "toc_position": {
    "height": "calc(100% - 180px)",
    "left": "10px",
    "top": "150px",
    "width": "221px"
   },
   "toc_section_display": true,
   "toc_window_display": true
  }
 },
 "nbformat": 4,
 "nbformat_minor": 2
}
