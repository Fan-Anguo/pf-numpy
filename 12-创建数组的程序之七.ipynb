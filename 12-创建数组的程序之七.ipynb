{
 "cells": [
  {
   "cell_type": "markdown",
   "metadata": {},
   "source": [
    "12-创建数组的程序之七\n",
    "====\n",
    "The Matrix class\n",
    "----"
   ]
  },
  {
   "cell_type": "markdown",
   "metadata": {},
   "source": [
    "# numpy.mat\n",
    "`numpy.mat(data, dtype=None)\n",
    "\n",
    "将输入解译为一个矩阵。\n",
    "\n",
    "与 matrix 不同的是，如果输入已经是一个矩阵或ndarray，那么asmatrix就不会复制它。相当于matrix(data,copy= False)。"
   ]
  },
  {
   "cell_type": "markdown",
   "metadata": {},
   "source": [
    "## Parameters:\t\n",
    "**data :** array_like，输入数据。\n",
    "\n",
    "**dtype :** data-type，输出矩阵的数据类型。\n",
    "\n",
    "## Returns:\t\n",
    "mat : matrix\n",
    "\n",
    "data被解译为一个矩阵。\n",
    "\n",
    "## 示例"
   ]
  },
  {
   "cell_type": "code",
   "execution_count": 2,
   "metadata": {},
   "outputs": [
    {
     "data": {
      "text/plain": [
       "matrix([[5, 2],\n",
       "        [3, 4]])"
      ]
     },
     "execution_count": 2,
     "metadata": {},
     "output_type": "execute_result"
    }
   ],
   "source": [
    "import numpy as np\n",
    ">>> x = np.array([[1, 2], [3, 4]])\n",
    ">>> m = np.asmatrix(x)\n",
    ">>> x[0,0] = 5\n",
    ">>> m"
   ]
  },
  {
   "cell_type": "markdown",
   "metadata": {},
   "source": [
    "# numpy.bmat\n",
    "`numpy.bmat(obj, ldict=None, gdict=None)`\n",
    "\n",
    "从字符串，嵌套的序列，或array构造一个matrix对象。"
   ]
  },
  {
   "cell_type": "markdown",
   "metadata": {},
   "source": [
    "## Parameters:\t\n",
    "**obj :** str or array_like 输入的数据。如果是一个字符串，可以通过名称来引用当前作用域的变量。\n",
    "\n",
    "**ldict :** dict, 可选关键字参数。替换当前帧中的本地操作数的字典。 如果obj不是字符串，则忽略或gdict为None。\n",
    "\n",
    "**gdict :** dict, 可选关键字参数。在当前帧中替换全局操作数的词典。如果obj不是字符串，就会忽略它。\n",
    "\n",
    "## Returns:\t\n",
    "out : matrix\n",
    "\n",
    "返回一个matrix对象，它是一个专门的 2-D array.\n",
    "\n",
    "## 示例"
   ]
  },
  {
   "cell_type": "code",
   "execution_count": 4,
   "metadata": {},
   "outputs": [],
   "source": [
    ">>> A = np.mat('1 1; 1 1')\n",
    ">>> B = np.mat('2 2; 2 2')\n",
    ">>> C = np.mat('3 4; 5 6')\n",
    ">>> D = np.mat('7 8; 9 0')"
   ]
  },
  {
   "cell_type": "markdown",
   "metadata": {},
   "source": [
    "下列表达式构造相同的块矩阵："
   ]
  },
  {
   "cell_type": "code",
   "execution_count": 8,
   "metadata": {},
   "outputs": [
    {
     "data": {
      "text/plain": [
       "matrix([[1, 1, 2, 2],\n",
       "        [1, 1, 2, 2],\n",
       "        [3, 4, 7, 8],\n",
       "        [5, 6, 9, 0]])"
      ]
     },
     "execution_count": 8,
     "metadata": {},
     "output_type": "execute_result"
    }
   ],
   "source": [
    ">>> np.bmat([[A, B], [C, D]])"
   ]
  },
  {
   "cell_type": "code",
   "execution_count": 9,
   "metadata": {},
   "outputs": [
    {
     "data": {
      "text/plain": [
       "matrix([[1, 1, 2, 2],\n",
       "        [1, 1, 2, 2],\n",
       "        [3, 4, 7, 8],\n",
       "        [5, 6, 9, 0]])"
      ]
     },
     "execution_count": 9,
     "metadata": {},
     "output_type": "execute_result"
    }
   ],
   "source": [
    ">>> np.bmat(np.r_[np.c_[A, B], np.c_[C, D]])"
   ]
  },
  {
   "cell_type": "code",
   "execution_count": 10,
   "metadata": {},
   "outputs": [
    {
     "data": {
      "text/plain": [
       "matrix([[1, 1, 2, 2],\n",
       "        [1, 1, 2, 2],\n",
       "        [3, 4, 7, 8],\n",
       "        [5, 6, 9, 0]])"
      ]
     },
     "execution_count": 10,
     "metadata": {},
     "output_type": "execute_result"
    }
   ],
   "source": [
    ">>> np.bmat('A,B; C,D')"
   ]
  },
  {
   "cell_type": "code",
   "execution_count": null,
   "metadata": {},
   "outputs": [],
   "source": []
  },
  {
   "cell_type": "code",
   "execution_count": null,
   "metadata": {},
   "outputs": [],
   "source": []
  }
 ],
 "metadata": {
  "kernelspec": {
   "display_name": "Python 3",
   "language": "python",
   "name": "python3"
  },
  "language_info": {
   "codemirror_mode": {
    "name": "ipython",
    "version": 3
   },
   "file_extension": ".py",
   "mimetype": "text/x-python",
   "name": "python",
   "nbconvert_exporter": "python",
   "pygments_lexer": "ipython3",
   "version": "3.6.5"
  },
  "toc": {
   "base_numbering": 1,
   "nav_menu": {},
   "number_sections": true,
   "sideBar": true,
   "skip_h1_title": false,
   "title_cell": "Table of Contents",
   "title_sidebar": "Contents",
   "toc_cell": false,
   "toc_position": {},
   "toc_section_display": true,
   "toc_window_display": false
  }
 },
 "nbformat": 4,
 "nbformat_minor": 2
}
