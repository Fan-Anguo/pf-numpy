{
 "cells": [
  {
   "cell_type": "markdown",
   "metadata": {},
   "source": [
    "NumPy基础\n",
    "===="
   ]
  },
  {
   "cell_type": "markdown",
   "metadata": {},
   "source": [
    "NumPy的主要对象是同构多维数组。它是一个元素表（通常是数字），都是相同的类型，由正整数元组索引。在NumPy中维度被称为轴 axes。\n",
    "\n",
    "例如，3D空间 [1,2,1] 中的点的坐标具有一个轴。该轴有3个元素，所以我们说它的长度为3。在下面的示例中，数组有2个轴。 第一轴的长度为2，第二轴的长度为3。\n",
    "\n",
    "```\n",
    "[[ 1., 0., 0.],\n",
    " [ 0., 1., 2.]]\n",
    " ```\n",
    " **注：数组的开始有几个 `‘[’` ，或结束有几个 `‘]’`，就能直观地知道，这个数组有几个轴，即是几维的。**"
   ]
  },
  {
   "cell_type": "markdown",
   "metadata": {},
   "source": [
    "NumPy的数组类称为 ndarray。它还有一个别名 array 。 请注意，numpy.array与标准Python库类array.array不同，后者仅处理一维数组并提供较少的功能。 "
   ]
  },
  {
   "cell_type": "markdown",
   "metadata": {},
   "source": [
    "# numpy中的ndarray与array\n",
    "\n",
    "numpy.ndarray是一个类对象，而 numpy.array 是一个用于创建 ndarray 对象的便捷函数。\n",
    "\n",
    "推荐使用 numpy.array()这个函数来创建 ndarray。也可以用numpy.ndarray来创建，但这不是推荐的方式。"
   ]
  },
  {
   "cell_type": "markdown",
   "metadata": {},
   "source": [
    "# numpy.array()\n",
    "\n",
    "```numpy.array(object, dtype=None, copy=True, order='K', subok=False, ndmin=0)```\n",
    "\n",
    "创建一个 array.\n",
    "\n",
    "## 参数：\n",
    "\n",
    "**object : ** 一个类似数组的对象，一个 array，任何暴露了数组接口的对象，__array__方法返回一个数组的对象，或者一个序列（包括嵌套的序列）。\n",
    "\n",
    "**dtype :** 数据类型，可选参数。如果没有给出，数据将被确定为序列中对象的最小类型。这个参数只能用于“向上转换”数组。对于向下转换，请使用.astype（t）方法。\n",
    "\n",
    "**copy :** 布尔值，可选参数。如果是 True（默认值为True），则复制对象。否则，只有在__array__ 返回副本时，或者obj是嵌套序列时，或者需要复㓡来满足任何其他需求（dtype、order等）时才复制。\n",
    "\n",
    "**order : **{‘K’, ‘A’, ‘C’, ‘F’}, 可选参数。指定 array 的内存布局。如果 object 不是数组，新创建的数组将以 C 顺序（行为主），除非指定“F”，在这种情况下(指定\"F\")，它将以Fortran顺序（列为主）。如果对象是一个数组，支持下面的。\n",
    "\n",
    "\n",
    "<table>\n",
    "\n",
    "<thead>\n",
    "    <tr>\n",
    "        <th>order</th>\n",
    "        <th>no copy</th>\n",
    "        <th>copy=True</th>\n",
    "    </tr>\n",
    "</thead>\n",
    "\n",
    "<tbody>\n",
    "    <tr><td>‘K’</td>\n",
    "        <td>unchanged</td>\n",
    "        <td>F &amp; C order preserved, otherwise most similar order</td>\n",
    "    </tr>\n",
    "    \n",
    "    <tr><td>‘A’</td>\n",
    "        <td>unchanged</td>\n",
    "        <td>F order if input is F and not C, otherwise C order</td>\n",
    "    </tr>\n",
    "    \n",
    "    <tr><td>‘C’</td>\n",
    "        <td>C order</td>\n",
    "        <td>C order</td>\n",
    "    </tr>\n",
    "\n",
    "    <tr><td>‘F’</td>\n",
    "        <td>F order</td>\n",
    "        <td>F order</td>\n",
    "    </tr>\n",
    "</tbody>\n",
    "\n",
    "</table>"
   ]
  },
  {
   "cell_type": "markdown",
   "metadata": {},
   "source": [
    ">>当 copy=False，而复制是出于其他原因，结果与复制=True相同，但有一些例外，请参阅Notes部分。默认的顺序是“K”。\n",
    "\n",
    "**subok :** 布尔值, 可选参数。如果是True，那么子类将被通过，否则返回的数组将被强制成为一个基类数组（默认）。\n",
    "\n",
    "**ndmin : ** 整数，可选参数。指定结果数组应该具有的最小维数。为了满足这一要求，程序将根据需要对其进行预加工。\n",
    "\n",
    "**Returns: out : ndarray ** 返回一个满足特定需求的 array 对象。"
   ]
  },
  {
   "cell_type": "markdown",
   "metadata": {},
   "source": [
    "# ndarray 对象的重要的属性\n",
    "\n",
    "ndarray 对象的重要属性有：\n",
    "\n",
    "**ndarray.ndim**\n",
    "\n",
    "array的轴（维）的数量。\n",
    "\n",
    "**ndarray.shape**\n",
    "\n",
    "array 的规模。这是一个整数元组，标示每个维度中数组的大小。对于具有 n 行和 m 列的 matrix，shape 将为（n，m）。因此，shape 元组的长度，是 array 的轴数量，也是维数 ndim。即 len(ndarray.shape) = ndarray.ndim\n",
    "\n",
    "**ndarray.size**\n",
    "\n",
    "array 的元素总个数。这等于shape元组中元素的乘积。\n",
    "\n",
    "**ndarray.dtype**\n",
    "\n",
    "描述 array 中元素类型的对象。可以使用标准Python类型创建或指定dtype。此外，NumPy还提供自己的类型。如 numpy.int32，numpy.int16 和 numpy.float64 等。\n",
    "\n",
    "**ndarray.itemsize**\n",
    "\n",
    "array 中每个元素的大小（以字节为单位）。例如，float64类型的元素数组具有itemsize 8（= 64/8），而complex32类型之一具有itemsize 4（= 32/8）。它相当于ndarray.dtype.itemsize。\n",
    "\n",
    "**ndarray.data**\n",
    "\n",
    "包含 array 实际元素的缓冲区。通常，我们不需要使用此属性，因为我们将使用索引工具访问数组中的元素。"
   ]
  },
  {
   "cell_type": "code",
   "execution_count": 11,
   "metadata": {},
   "outputs": [
    {
     "data": {
      "text/plain": [
       "array([[ 0,  1,  2,  3,  4],\n",
       "       [ 5,  6,  7,  8,  9],\n",
       "       [10, 11, 12, 13, 14]])"
      ]
     },
     "execution_count": 11,
     "metadata": {},
     "output_type": "execute_result"
    }
   ],
   "source": [
    ">>> import numpy as np\n",
    ">>> a = np.arange(15).reshape(3, 5)\n",
    ">>> a"
   ]
  },
  {
   "cell_type": "code",
   "execution_count": 12,
   "metadata": {},
   "outputs": [
    {
     "data": {
      "text/plain": [
       "(3, 5)"
      ]
     },
     "execution_count": 12,
     "metadata": {},
     "output_type": "execute_result"
    }
   ],
   "source": [
    "a.shape"
   ]
  },
  {
   "cell_type": "code",
   "execution_count": 13,
   "metadata": {},
   "outputs": [
    {
     "data": {
      "text/plain": [
       "2"
      ]
     },
     "execution_count": 13,
     "metadata": {},
     "output_type": "execute_result"
    }
   ],
   "source": [
    "len(a.shape)"
   ]
  },
  {
   "cell_type": "code",
   "execution_count": 14,
   "metadata": {},
   "outputs": [
    {
     "data": {
      "text/plain": [
       "2"
      ]
     },
     "execution_count": 14,
     "metadata": {},
     "output_type": "execute_result"
    }
   ],
   "source": [
    "a.ndim"
   ]
  },
  {
   "cell_type": "code",
   "execution_count": 15,
   "metadata": {},
   "outputs": [
    {
     "data": {
      "text/plain": [
       "15"
      ]
     },
     "execution_count": 15,
     "metadata": {},
     "output_type": "execute_result"
    }
   ],
   "source": [
    "a.size"
   ]
  },
  {
   "cell_type": "code",
   "execution_count": 16,
   "metadata": {},
   "outputs": [
    {
     "data": {
      "text/plain": [
       "dtype('int32')"
      ]
     },
     "execution_count": 16,
     "metadata": {},
     "output_type": "execute_result"
    }
   ],
   "source": [
    "a.dtype"
   ]
  },
  {
   "cell_type": "code",
   "execution_count": 17,
   "metadata": {},
   "outputs": [
    {
     "data": {
      "text/plain": [
       "4"
      ]
     },
     "execution_count": 17,
     "metadata": {},
     "output_type": "execute_result"
    }
   ],
   "source": [
    "a.itemsize"
   ]
  },
  {
   "cell_type": "code",
   "execution_count": null,
   "metadata": {},
   "outputs": [],
   "source": []
  }
 ],
 "metadata": {
  "kernelspec": {
   "display_name": "Python 3",
   "language": "python",
   "name": "python3"
  },
  "language_info": {
   "codemirror_mode": {
    "name": "ipython",
    "version": 3
   },
   "file_extension": ".py",
   "mimetype": "text/x-python",
   "name": "python",
   "nbconvert_exporter": "python",
   "pygments_lexer": "ipython3",
   "version": "3.6.4"
  }
 },
 "nbformat": 4,
 "nbformat_minor": 2
}
