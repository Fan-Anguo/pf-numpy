{
 "cells": [
  {
   "cell_type": "markdown",
   "metadata": {},
   "source": [
    "22-Input and Output 之三\n",
    "====\n",
    "\n",
    "Raw binary files\n",
    "---"
   ]
  },
  {
   "cell_type": "markdown",
   "metadata": {},
   "source": [
    "\n",
    "| Raw   binary files                  |                                                          |\n",
    "| ----------------------------------- | -------------------------------------------------------- |\n",
    "| fromfile(file[, dtype, count, sep]) | Construct   an array from data in a text or binary file. |\n",
    "| ndarray.tofile(fid[, sep, format])  | Write   array to a file as text or binary (default).     |"
   ]
  },
  {
   "cell_type": "markdown",
   "metadata": {},
   "source": [
    "# numpy.fromfile\n",
    "`numpy.fromfile(file, dtype=float, count=-1, sep='')`\n",
    "\n",
    "根据文本或二进制文件中的数据构造数组。\n",
    "\n",
    "一种使用已知数据类型读取二进制数据的高效方法，以及解析简单格式化的文本文件。使用tofile方法写入的数据 可以使用此函数读取。\n",
    "\n",
    "## Parameters:\t\n",
    "**file** : file or str\n",
    "\n",
    "打开文件对象或文件名。\n",
    "\n",
    "**dtype** : data-type\n",
    "\n",
    "返回数组的数据类型。对于二进制文件，它用于确定文件中项目的大小和字节顺序。\n",
    "\n",
    "**count** : int\n",
    "\n",
    "要读取的项目数。-1表示所有项目（即完整文件）。\n",
    "\n",
    "**sep** : str\n",
    "\n",
    "如果文件是文本文件，则在项目之间分隔。空（“”）分隔符表示该文件应被视为二进制文件。分隔符中的空格（“”）匹配零个或多个空格字符。仅包含空格的分隔符必须至少匹配一个空格。"
   ]
  },
  {
   "cell_type": "markdown",
   "metadata": {},
   "source": [
    "**注意：**\n",
    "\n",
    "不要依赖于tofile和fromfile数据存储的组合，因为生成的二进制文件不是平台无关的。特别是，不保存字节顺序或数据类型信息。可以用save和load替代，使数据以独立于平台的.npy格式存储。\n",
    "\n",
    "## 示例\n",
    "\n",
    "构建一个ndarray："
   ]
  },
  {
   "cell_type": "code",
   "execution_count": 120,
   "metadata": {},
   "outputs": [
    {
     "data": {
      "text/plain": [
       "array([((10, 0), 98.25)],\n",
       "      dtype=[('time', [('min', '<i4'), ('sec', '<i4')]), ('temp', '<f8')])"
      ]
     },
     "execution_count": 120,
     "metadata": {},
     "output_type": "execute_result"
    }
   ],
   "source": [
    "import numpy as np\n",
    "dt = np.dtype([('time', [('min', int), ('sec', int)]),\n",
    "               ('temp', float)])\n",
    "x = np.zeros((1,), dtype=dt)\n",
    "x['time']['min'] = 10; x['temp'] = 98.25\n",
    "x"
   ]
  },
  {
   "cell_type": "markdown",
   "metadata": {},
   "source": [
    "将原始数据保存到磁盘："
   ]
  },
  {
   "cell_type": "code",
   "execution_count": 121,
   "metadata": {},
   "outputs": [
    {
     "data": {
      "text/plain": [
       "'C:\\\\Users\\\\Fan\\\\AppData\\\\Local\\\\Temp\\\\tmpejbttsbf'"
      ]
     },
     "execution_count": 121,
     "metadata": {},
     "output_type": "execute_result"
    }
   ],
   "source": [
    "from tempfile import TemporaryFile\n",
    "import os\n",
    "fname = TemporaryFile()\n",
    "x.tofile(fname)\n",
    "fname.name"
   ]
  },
  {
   "cell_type": "code",
   "execution_count": 122,
   "metadata": {
    "scrolled": true
   },
   "outputs": [
    {
     "data": {
      "text/plain": [
       "array([],\n",
       "      dtype=[('time', [('min', '<i4'), ('sec', '<i4')]), ('temp', '<f8')])"
      ]
     },
     "execution_count": 122,
     "metadata": {},
     "output_type": "execute_result"
    }
   ],
   "source": [
    "np.fromfile(fname, dtype=dt)"
   ]
  },
  {
   "cell_type": "markdown",
   "metadata": {},
   "source": [
    "建议的存储和加载数据的方法："
   ]
  },
  {
   "cell_type": "code",
   "execution_count": 123,
   "metadata": {},
   "outputs": [
    {
     "ename": "TypeError",
     "evalue": "unsupported operand type(s) for +: '_TemporaryFileWrapper' and 'str'",
     "output_type": "error",
     "traceback": [
      "\u001b[1;31m---------------------------------------------------------------------------\u001b[0m",
      "\u001b[1;31mTypeError\u001b[0m                                 Traceback (most recent call last)",
      "\u001b[1;32m<ipython-input-123-c38a3117c817>\u001b[0m in \u001b[0;36m<module>\u001b[1;34m()\u001b[0m\n\u001b[0;32m      1\u001b[0m \u001b[0mnp\u001b[0m\u001b[1;33m.\u001b[0m\u001b[0msave\u001b[0m\u001b[1;33m(\u001b[0m\u001b[0mfname\u001b[0m\u001b[1;33m,\u001b[0m \u001b[0mx\u001b[0m\u001b[1;33m)\u001b[0m\u001b[1;33m\u001b[0m\u001b[0m\n\u001b[1;32m----> 2\u001b[1;33m \u001b[0mnp\u001b[0m\u001b[1;33m.\u001b[0m\u001b[0mload\u001b[0m\u001b[1;33m(\u001b[0m\u001b[0mfname\u001b[0m \u001b[1;33m+\u001b[0m \u001b[1;34m'.npy'\u001b[0m\u001b[1;33m)\u001b[0m\u001b[1;33m\u001b[0m\u001b[0m\n\u001b[0m",
      "\u001b[1;31mTypeError\u001b[0m: unsupported operand type(s) for +: '_TemporaryFileWrapper' and 'str'"
     ]
    }
   ],
   "source": [
    ">>> np.save(fname, x)\n",
    ">>> np.load(fname + '.npy')"
   ]
  },
  {
   "cell_type": "markdown",
   "metadata": {},
   "source": [
    "# umpy.ndarray.tofile\n",
    "`ndarray.tofile(fid, sep=\"\", format=\"%s\")`\n",
    "\n",
    "将数组作为文本或二进制写入文件（默认）。\n",
    "\n",
    "数据始终以“C”顺序写入，与a的顺序无关。可以使用fromfile（）函数恢复此方法生成的数据。\n",
    "\n",
    "## Parameters:\t\n",
    "**fid** : file or str\n",
    "\n",
    "打开的文件对象或包含文件名的字符串。\n",
    "\n",
    "**sep** : str\n",
    "\n",
    "用于文本输出的数组项之间的分隔符。如果“”（空），则写入二进制文件，相当于 `file.write(a.tobytes())`。\n",
    "\n",
    "**format** : str\n",
    "\n",
    "文本文件输出的格式字符串。通过首先将数组转换为最接近的Python类型，然后使用“format”％item，将数组中的每个条目格式化为文本。"
   ]
  },
  {
   "cell_type": "markdown",
   "metadata": {},
   "source": [
    "**注意：**\n",
    "\n",
    "这是一种便于快速存储阵列数据的功能。字节顺序和精度的信息会丢失，因此对于要在具有不同字节顺序的计算机之间存档数据或传输数据文件，此方法不是一个好的选择。通过以速度和文件大小为代价输出数据作为文本文件，可以克服其中一些问题。\n",
    "\n",
    "当fid是文件对象时，数组内容将直接写入文件，绕过文件对象的write方法。因此，tofile不能与支持压缩的文件对象（例如，GzipFile）或不支持的文件类对象`fileno()`（例如，BytesIO）一起使用。"
   ]
  },
  {
   "cell_type": "code",
   "execution_count": null,
   "metadata": {},
   "outputs": [],
   "source": []
  }
 ],
 "metadata": {
  "kernelspec": {
   "display_name": "Python 3",
   "language": "python",
   "name": "python3"
  },
  "language_info": {
   "codemirror_mode": {
    "name": "ipython",
    "version": 3
   },
   "file_extension": ".py",
   "mimetype": "text/x-python",
   "name": "python",
   "nbconvert_exporter": "python",
   "pygments_lexer": "ipython3",
   "version": "3.6.6"
  },
  "toc": {
   "base_numbering": 1,
   "nav_menu": {},
   "number_sections": true,
   "sideBar": true,
   "skip_h1_title": false,
   "title_cell": "Table of Contents",
   "title_sidebar": "Contents",
   "toc_cell": false,
   "toc_position": {},
   "toc_section_display": true,
   "toc_window_display": true
  }
 },
 "nbformat": 4,
 "nbformat_minor": 2
}
