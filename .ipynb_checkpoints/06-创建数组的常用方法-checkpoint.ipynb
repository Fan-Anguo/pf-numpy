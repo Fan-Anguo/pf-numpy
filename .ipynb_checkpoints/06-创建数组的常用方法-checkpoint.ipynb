{
 "cells": [
  {
   "cell_type": "markdown",
   "metadata": {},
   "source": [
    "创建数组的常用方法\n",
    "===="
   ]
  },
  {
   "cell_type": "markdown",
   "metadata": {},
   "source": [
    "# 1 和 0"
   ]
  },
  {
   "cell_type": "markdown",
   "metadata": {},
   "source": [
    "## numpy.empty(shape, dtype=float, order='C')\n",
    "\n",
    "返回一个给出的形状和类型的新数组，不初始化元素。\n",
    "\n",
    "### Parameters:\t\n",
    "**shape :** 整数或整数元组，空数组的shape，如(2, 3) or 2.\n",
    "\n",
    "\n",
    "\n",
    "dtype : data-type, optional\n",
    "Desired output data-type for the array, e.g, numpy.int8. Default is numpy.float64.\n",
    "\n",
    "order : {‘C’, ‘F’}, optional, default: ‘C’\n",
    "Whether to store multi-dimensional data in row-major (C-style) or column-major (Fortran-style) order in memory.\n",
    "\n",
    "Returns:\t\n",
    "out : ndarray\n",
    "Array of uninitialized (arbitrary) data of the given shape, dtype, and order. Object arrays will be initialized to None.\n",
    "\n",
    "See also\n",
    "empty_like\n",
    "Return an empty array with shape and type of input.\n",
    "ones\n",
    "Return a new array setting values to one.\n",
    "zeros\n",
    "Return a new array setting values to zero.\n",
    "full\n",
    "Return a new array of given shape filled with value.\n",
    "Notes\n",
    "\n",
    "empty, unlike zeros, does not set the array values to zero, and may therefore be marginally faster. On the other hand, it requires the user to manually set all the values in the array, and should be used with caution."
   ]
  },
  {
   "cell_type": "code",
   "execution_count": null,
   "metadata": {},
   "outputs": [],
   "source": []
  }
 ],
 "metadata": {
  "kernelspec": {
   "display_name": "Python 3",
   "language": "python",
   "name": "python3"
  },
  "language_info": {
   "codemirror_mode": {
    "name": "ipython",
    "version": 3
   },
   "file_extension": ".py",
   "mimetype": "text/x-python",
   "name": "python",
   "nbconvert_exporter": "python",
   "pygments_lexer": "ipython3",
   "version": "3.6.5"
  }
 },
 "nbformat": 4,
 "nbformat_minor": 2
}
