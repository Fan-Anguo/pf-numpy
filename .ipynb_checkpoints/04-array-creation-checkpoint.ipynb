{
 "cells": [
  {
   "cell_type": "markdown",
   "metadata": {},
   "source": [
    "array creation\n",
    "===="
   ]
  },
  {
   "cell_type": "markdown",
   "metadata": {},
   "source": [
    "# 概述\n",
    "\n",
    "有5种常规的创建数组的机制：\n",
    "\n",
    "- 从其他Python结构转换（如，列表，元组）\n",
    "- numpy内置的特定函数创建 array 对象（例如，arange，one，zeros等）\n",
    "- 从标准的或自定义格式的磁盘上读取 array\n",
    "- 通过使用字符串或缓冲区数据从原始字节创建数组\n",
    "- 使用特殊库函数（例如，random()）\n",
    "\n",
    "复制，加入或以其他方式扩展或改变现有 array 的方法不是严格的创建 array，将专门讨论。\n",
    "\n",
    "创建**对象** array 或结构化 array 也专题讨论。"
   ]
  },
  {
   "cell_type": "markdown",
   "metadata": {},
   "source": [
    "# 将Python类似 array 的对象转换为 NumPy array\n",
    "\n",
    "通常，在Python中以类似 array 结构排列的数字数据可以通过使用 array() 函数转换为 array。最明显的例子是列表和元组。某些对象可能支持 array 协议，并允许以这种方式转换为 array。可以以交互方式，使用 array() 函数尝试将对象转换为 array，看它是否有效，以检测该对象是否支持 array 协议。（Python方式）。"
   ]
  },
  {
   "cell_type": "code",
   "execution_count": 86,
   "metadata": {},
   "outputs": [
    {
     "data": {
      "text/plain": [
       "array([2, 3, 1, 0])"
      ]
     },
     "execution_count": 86,
     "metadata": {},
     "output_type": "execute_result"
    }
   ],
   "source": [
    "import numpy as np\n",
    "\n",
    "x = np.array([2,3,1,0])\n",
    "x"
   ]
  },
  {
   "cell_type": "code",
   "execution_count": 87,
   "metadata": {},
   "outputs": [
    {
     "data": {
      "text/plain": [
       "array([2, 3, 1, 0])"
      ]
     },
     "execution_count": 87,
     "metadata": {},
     "output_type": "execute_result"
    }
   ],
   "source": [
    "x = np.array([2, 3, 1, 0])\n",
    "x"
   ]
  },
  {
   "cell_type": "code",
   "execution_count": 88,
   "metadata": {},
   "outputs": [
    {
     "data": {
      "text/plain": [
       "array([[ 1.+0.j,  2.+0.j],\n",
       "       [ 0.+0.j,  0.+0.j],\n",
       "       [ 1.+1.j,  3.+0.j]])"
      ]
     },
     "execution_count": 88,
     "metadata": {},
     "output_type": "execute_result"
    }
   ],
   "source": [
    "x = np.array([[1,2.0],[0,0],(1+1j,3.)]) # note mix of tuple and lists,and types\n",
    "x"
   ]
  },
  {
   "cell_type": "code",
   "execution_count": 89,
   "metadata": {},
   "outputs": [
    {
     "data": {
      "text/plain": [
       "array([[ 1.+0.j,  2.+0.j],\n",
       "       [ 0.+0.j,  0.+0.j],\n",
       "       [ 1.+1.j,  3.+0.j]])"
      ]
     },
     "execution_count": 89,
     "metadata": {},
     "output_type": "execute_result"
    }
   ],
   "source": [
    "x = np.array([[ 1.+0.j, 2.+0.j], [ 0.+0.j, 0.+0.j], [ 1.+1.j, 3.+0.j]])\n",
    "x"
   ]
  },
  {
   "cell_type": "markdown",
   "metadata": {},
   "source": [
    "# 特定的内置函数创建 array "
   ]
  },
  {
   "cell_type": "markdown",
   "metadata": {},
   "source": [
    "NumPy具有从头开始创建数组的内置函数：\n",
    "\n",
    "## zeros()\n",
    "\n",
    "将创建一个填充了具有指定形状的0值的数组。默认的dtype是float64。"
   ]
  },
  {
   "cell_type": "code",
   "execution_count": 90,
   "metadata": {},
   "outputs": [
    {
     "data": {
      "text/plain": [
       "array([[ 0.,  0.,  0.],\n",
       "       [ 0.,  0.,  0.]])"
      ]
     },
     "execution_count": 90,
     "metadata": {},
     "output_type": "execute_result"
    }
   ],
   "source": [
    "np.zeros((2, 3))"
   ]
  },
  {
   "cell_type": "markdown",
   "metadata": {},
   "source": [
    "## ones（shape）\n",
    "将创建一个具有指定形状的填充了 1 的 array。在所有其他方面它与零相同。"
   ]
  },
  {
   "cell_type": "code",
   "execution_count": 91,
   "metadata": {},
   "outputs": [
    {
     "data": {
      "text/plain": [
       "array([[ 1.,  1.],\n",
       "       [ 1.,  1.],\n",
       "       [ 1.,  1.]])"
      ]
     },
     "execution_count": 91,
     "metadata": {},
     "output_type": "execute_result"
    }
   ],
   "source": [
    "np.ones((3,2)) #注意：英文(()),shape是一个元组。"
   ]
  },
  {
   "cell_type": "markdown",
   "metadata": {},
   "source": [
    "## arange()\n",
    "创建值有规律递增的数组。"
   ]
  },
  {
   "cell_type": "markdown",
   "metadata": {},
   "source": [
    "**numpy.arange**\n",
    "\n",
    "`numpy.arange([start, ]stop, [step, ]dtype=None)`"
   ]
  },
  {
   "cell_type": "markdown",
   "metadata": {},
   "source": [
    "在给定的区间内返回均匀间距的值。\n",
    "\n",
    "值在半开区间 `[start，stop]` 内生成（换句话说，包括 start 但不包括 stop 的区间）。对于整数参数，该函数等效于Python内置范围函数，但返回的是 ndarray 而不是列表。\n",
    "\n",
    "使用非整数步骤（例如0.1）时，结果通常不一致。最好在这类情况下使用linspace（numpy.linspace()）。"
   ]
  },
  {
   "cell_type": "markdown",
   "metadata": {},
   "source": [
    "***Parameters:***\n",
    "\n",
    "**start : ** 数字，可选参数。区间的开始值。区间包括这个值，默认是 0。\n",
    "\n",
    "**stop :** 数字，区间的结束。区间一般不包括这个值，除非在 step 不是整数，并且浮点运算影响到输出的长度。\n",
    "\n",
    "**step :** 数字，可选参数。两个值的间距，即步长。对于任何输出，这是两个相邻值之间的距离，out [i + 1] - out [i]。 默认步长为1。如果要通过位置指定 step 参数，则还必须给出start（即：如果不是通过关键字参数，如 step = 2，意图根据位置提供 step 参数，前面必须给出start，否则位置就不正确）。\n",
    "\n",
    "**dtype :** dtype，输出的array的类型。如果不提供该参数，将根据输入的其它数据推断数据类型。\n",
    "\n",
    "**Returns：** 返回值在区间内的 ndarray。值有均匀间距的array。\n",
    "\n",
    "对于浮点参数，结果的长度为 `ceil((stop - start)/ step)`。 由于浮点溢出，此规则可能导致out的最后一个元素大于stop。"
   ]
  },
  {
   "cell_type": "code",
   "execution_count": 92,
   "metadata": {},
   "outputs": [
    {
     "data": {
      "text/plain": [
       "array([ 3. ,  3.5,  4. ,  4.5,  5. ,  5.5,  6. ,  6.5])"
      ]
     },
     "execution_count": 92,
     "metadata": {},
     "output_type": "execute_result"
    }
   ],
   "source": [
    "np.arange(3,7,0.5)"
   ]
  },
  {
   "cell_type": "markdown",
   "metadata": {},
   "source": [
    "Note that there are some subtleties regarding the last usage that the user should be aware of that are described in the arange docstring.\n",
    "\n",
    "linspace() will create arrays with a specified number of elements, and spaced equally between the specified beginning and end values. For example:\n",
    "\n",
    "**注意**，最终用户应该注意 arange docstring 中描述的一些微妙之处。\n",
    "\n",
    "## linspace()\n",
    "\n",
    "linspace() 将创建具有指定数量元素的数组，并在指定的开始值和结束值之间平均间隔。 例如："
   ]
  },
  {
   "cell_type": "code",
   "execution_count": 93,
   "metadata": {},
   "outputs": [
    {
     "data": {
      "text/plain": [
       "array([ 1. ,  1.6,  2.2,  2.8,  3.4,  4. ])"
      ]
     },
     "execution_count": 93,
     "metadata": {},
     "output_type": "execute_result"
    }
   ],
   "source": [
    "np.linspace(1., 4., 6)"
   ]
  },
  {
   "cell_type": "markdown",
   "metadata": {},
   "source": [
    "## numpy.linspace\n",
    "\n",
    "`numpy.linspace(start, stop, num=50, endpoint=True, retstep=False, dtype=None)`"
   ]
  },
  {
   "cell_type": "markdown",
   "metadata": {},
   "source": [
    "在指定的区间内返回均匀间隔的数字。\n",
    "\n",
    "返回‘num’ 个均匀间隔的值，在[start，stop]区间内计算。\n",
    "\n",
    "可以选择是否排除区间的结束（stop）值。\n",
    "\n",
    "**注意：linspace()与arange()的区别。**\n",
    "\n",
    "### 参数\n",
    "\n",
    "- **num** 返回值的个数，默认50个；\n",
    "- **endpoint** 是否包含结束值，默认是 True。\n",
    "- **retstep** 默认为False。如果是 True, 返回 (samples, step), "
   ]
  },
  {
   "cell_type": "code",
   "execution_count": 94,
   "metadata": {},
   "outputs": [
    {
     "data": {
      "text/plain": [
       "(array([ 1. ,  1.6,  2.2,  2.8,  3.4,  4. ]), 0.59999999999999998)"
      ]
     },
     "execution_count": 94,
     "metadata": {},
     "output_type": "execute_result"
    }
   ],
   "source": [
    "np.linspace(1.,4,6,retstep=True)"
   ]
  },
  {
   "cell_type": "markdown",
   "metadata": {},
   "source": [
    "linspace()函数的优点是可以保证元素的数量以及起点和终点。\n",
    "arange()函数通常对一些随意的start，stop 和 step 值执行创建。"
   ]
  },
  {
   "cell_type": "markdown",
   "metadata": {},
   "source": [
    "## indices()\n",
    "\n",
    "将创建一组数组（堆叠为一个更高维度的数组），每个维度有一个代表该维度的变化。用例子说明比口头描述更清晰："
   ]
  },
  {
   "cell_type": "code",
   "execution_count": 95,
   "metadata": {},
   "outputs": [
    {
     "data": {
      "text/plain": [
       "array([[[[[0, 0, 0, 0, 0],\n",
       "          [0, 0, 0, 0, 0],\n",
       "          [0, 0, 0, 0, 0],\n",
       "          [0, 0, 0, 0, 0]],\n",
       "\n",
       "         [[0, 0, 0, 0, 0],\n",
       "          [0, 0, 0, 0, 0],\n",
       "          [0, 0, 0, 0, 0],\n",
       "          [0, 0, 0, 0, 0]],\n",
       "\n",
       "         [[0, 0, 0, 0, 0],\n",
       "          [0, 0, 0, 0, 0],\n",
       "          [0, 0, 0, 0, 0],\n",
       "          [0, 0, 0, 0, 0]]],\n",
       "\n",
       "\n",
       "        [[[1, 1, 1, 1, 1],\n",
       "          [1, 1, 1, 1, 1],\n",
       "          [1, 1, 1, 1, 1],\n",
       "          [1, 1, 1, 1, 1]],\n",
       "\n",
       "         [[1, 1, 1, 1, 1],\n",
       "          [1, 1, 1, 1, 1],\n",
       "          [1, 1, 1, 1, 1],\n",
       "          [1, 1, 1, 1, 1]],\n",
       "\n",
       "         [[1, 1, 1, 1, 1],\n",
       "          [1, 1, 1, 1, 1],\n",
       "          [1, 1, 1, 1, 1],\n",
       "          [1, 1, 1, 1, 1]]]],\n",
       "\n",
       "\n",
       "\n",
       "       [[[[0, 0, 0, 0, 0],\n",
       "          [0, 0, 0, 0, 0],\n",
       "          [0, 0, 0, 0, 0],\n",
       "          [0, 0, 0, 0, 0]],\n",
       "\n",
       "         [[1, 1, 1, 1, 1],\n",
       "          [1, 1, 1, 1, 1],\n",
       "          [1, 1, 1, 1, 1],\n",
       "          [1, 1, 1, 1, 1]],\n",
       "\n",
       "         [[2, 2, 2, 2, 2],\n",
       "          [2, 2, 2, 2, 2],\n",
       "          [2, 2, 2, 2, 2],\n",
       "          [2, 2, 2, 2, 2]]],\n",
       "\n",
       "\n",
       "        [[[0, 0, 0, 0, 0],\n",
       "          [0, 0, 0, 0, 0],\n",
       "          [0, 0, 0, 0, 0],\n",
       "          [0, 0, 0, 0, 0]],\n",
       "\n",
       "         [[1, 1, 1, 1, 1],\n",
       "          [1, 1, 1, 1, 1],\n",
       "          [1, 1, 1, 1, 1],\n",
       "          [1, 1, 1, 1, 1]],\n",
       "\n",
       "         [[2, 2, 2, 2, 2],\n",
       "          [2, 2, 2, 2, 2],\n",
       "          [2, 2, 2, 2, 2],\n",
       "          [2, 2, 2, 2, 2]]]],\n",
       "\n",
       "\n",
       "\n",
       "       [[[[0, 0, 0, 0, 0],\n",
       "          [1, 1, 1, 1, 1],\n",
       "          [2, 2, 2, 2, 2],\n",
       "          [3, 3, 3, 3, 3]],\n",
       "\n",
       "         [[0, 0, 0, 0, 0],\n",
       "          [1, 1, 1, 1, 1],\n",
       "          [2, 2, 2, 2, 2],\n",
       "          [3, 3, 3, 3, 3]],\n",
       "\n",
       "         [[0, 0, 0, 0, 0],\n",
       "          [1, 1, 1, 1, 1],\n",
       "          [2, 2, 2, 2, 2],\n",
       "          [3, 3, 3, 3, 3]]],\n",
       "\n",
       "\n",
       "        [[[0, 0, 0, 0, 0],\n",
       "          [1, 1, 1, 1, 1],\n",
       "          [2, 2, 2, 2, 2],\n",
       "          [3, 3, 3, 3, 3]],\n",
       "\n",
       "         [[0, 0, 0, 0, 0],\n",
       "          [1, 1, 1, 1, 1],\n",
       "          [2, 2, 2, 2, 2],\n",
       "          [3, 3, 3, 3, 3]],\n",
       "\n",
       "         [[0, 0, 0, 0, 0],\n",
       "          [1, 1, 1, 1, 1],\n",
       "          [2, 2, 2, 2, 2],\n",
       "          [3, 3, 3, 3, 3]]]],\n",
       "\n",
       "\n",
       "\n",
       "       [[[[0, 1, 2, 3, 4],\n",
       "          [0, 1, 2, 3, 4],\n",
       "          [0, 1, 2, 3, 4],\n",
       "          [0, 1, 2, 3, 4]],\n",
       "\n",
       "         [[0, 1, 2, 3, 4],\n",
       "          [0, 1, 2, 3, 4],\n",
       "          [0, 1, 2, 3, 4],\n",
       "          [0, 1, 2, 3, 4]],\n",
       "\n",
       "         [[0, 1, 2, 3, 4],\n",
       "          [0, 1, 2, 3, 4],\n",
       "          [0, 1, 2, 3, 4],\n",
       "          [0, 1, 2, 3, 4]]],\n",
       "\n",
       "\n",
       "        [[[0, 1, 2, 3, 4],\n",
       "          [0, 1, 2, 3, 4],\n",
       "          [0, 1, 2, 3, 4],\n",
       "          [0, 1, 2, 3, 4]],\n",
       "\n",
       "         [[0, 1, 2, 3, 4],\n",
       "          [0, 1, 2, 3, 4],\n",
       "          [0, 1, 2, 3, 4],\n",
       "          [0, 1, 2, 3, 4]],\n",
       "\n",
       "         [[0, 1, 2, 3, 4],\n",
       "          [0, 1, 2, 3, 4],\n",
       "          [0, 1, 2, 3, 4],\n",
       "          [0, 1, 2, 3, 4]]]]])"
      ]
     },
     "execution_count": 95,
     "metadata": {},
     "output_type": "execute_result"
    }
   ],
   "source": [
    "x=np.indices((2,3,4,5))\n",
    "x"
   ]
  },
  {
   "cell_type": "code",
   "execution_count": 96,
   "metadata": {},
   "outputs": [
    {
     "data": {
      "text/plain": [
       "(4, 2, 3, 4, 5)"
      ]
     },
     "execution_count": 96,
     "metadata": {},
     "output_type": "execute_result"
    }
   ],
   "source": [
    "np.shape(x)"
   ]
  },
  {
   "cell_type": "markdown",
   "metadata": {},
   "source": [
    "## numpy.indices\n",
    "\n",
    "`numpy.indices(dimensions, dtype=<class 'int'>)`\n",
    "\n",
    "返回一个数组，显示网格的索引（变化）。\n",
    "\n",
    "计算一个数组，它的子数组包含0，1...不同的索引值，仅沿着相应的轴变化。"
   ]
  },
  {
   "cell_type": "markdown",
   "metadata": {},
   "source": [
    "### 参数\n",
    "\n",
    "**dimensions :** 整数序列。风格的形状。\n",
    "\n",
    "**dtype :** dtype, 可选参数。结果的数据类型。\n",
    "\n",
    "**Returns:** grid : ndarray\n",
    "\n",
    "数组的网格索引， grid.shape = (len(dimensions),) + tuple(dimensions)."
   ]
  },
  {
   "cell_type": "markdown",
   "metadata": {},
   "source": [
    "**注意：**\n",
    "\n",
    "输出shape是通过在维度元组前面加上维数来获得的，即如果维度是长度为N的元组（r0，...，rN-1），则输出shape为（N，r0，......，RN-1）。\n",
    "\n",
    "子数组 grid[k] 包含的数组，是沿第 k 轴，索引为 N-D 。明确地表示方法：\n",
    "\n",
    "`grid[k,i0,i1,...,iN-1] = ik`"
   ]
  },
  {
   "cell_type": "markdown",
   "metadata": {},
   "source": [
    "Examples\n",
    "\n",
    ">>>\n",
    ">>> grid = np.indices((2, 3))\n",
    ">>> grid.shape\n",
    "(2, 2, 3)\n",
    ">>> grid[0]        # row indices\n",
    "array([[0, 0, 0],\n",
    "       [1, 1, 1]])\n",
    ">>> grid[1]        # column indices\n",
    "array([[0, 1, 2],\n",
    "       [0, 1, 2]])\n",
    "The indices can be used as an index into an array.\n",
    "\n",
    ">>>\n",
    ">>> x = np.arange(20).reshape(5, 4)\n",
    ">>> row, col = np.indices((2, 3))\n",
    ">>> x[row, col]\n",
    "array([[0, 1, 2],\n",
    "       [4, 5, 6]])\n",
    "Note that it would be more straightforward in the above example to extract the required elements directly with x[:2, :3]."
   ]
  },
  {
   "cell_type": "code",
   "execution_count": 130,
   "metadata": {},
   "outputs": [
    {
     "data": {
      "text/plain": [
       "array([[[0, 0, 0],\n",
       "        [1, 1, 1]],\n",
       "\n",
       "       [[0, 1, 2],\n",
       "        [0, 1, 2]]])"
      ]
     },
     "execution_count": 130,
     "metadata": {},
     "output_type": "execute_result"
    }
   ],
   "source": [
    "grid = np.indices((2,3))\n",
    "grid"
   ]
  },
  {
   "cell_type": "code",
   "execution_count": 131,
   "metadata": {},
   "outputs": [
    {
     "data": {
      "text/plain": [
       "(2, 2, 3)"
      ]
     },
     "execution_count": 131,
     "metadata": {},
     "output_type": "execute_result"
    }
   ],
   "source": [
    "grid.shape"
   ]
  },
  {
   "cell_type": "code",
   "execution_count": 132,
   "metadata": {},
   "outputs": [
    {
     "data": {
      "text/plain": [
       "array([[0, 0, 0],\n",
       "       [1, 1, 1]])"
      ]
     },
     "execution_count": 132,
     "metadata": {},
     "output_type": "execute_result"
    }
   ],
   "source": [
    "grid[0]"
   ]
  },
  {
   "cell_type": "code",
   "execution_count": 133,
   "metadata": {},
   "outputs": [
    {
     "data": {
      "text/plain": [
       "array([[0, 1, 2],\n",
       "       [0, 1, 2]])"
      ]
     },
     "execution_count": 133,
     "metadata": {},
     "output_type": "execute_result"
    }
   ],
   "source": [
    "grid[1]"
   ]
  },
  {
   "cell_type": "markdown",
   "metadata": {},
   "source": [
    "The indices can be used as an index into an array.\n",
    "\n",
    "indices生成的数组可以用作数组的索引来检索数据。\n",
    "\n",
    "**注：**用两个数组作为索引源，从另一个数组中检索出需要的数据，在数据分析实践中会经常用到，可以避免使用循环。大数据集中速度优势明显，并且代码简洁。"
   ]
  },
  {
   "cell_type": "code",
   "execution_count": 136,
   "metadata": {},
   "outputs": [
    {
     "data": {
      "text/plain": [
       "array([[ 0,  1,  2,  3],\n",
       "       [ 4,  5,  6,  7],\n",
       "       [ 8,  9, 10, 11],\n",
       "       [12, 13, 14, 15],\n",
       "       [16, 17, 18, 19]])"
      ]
     },
     "execution_count": 136,
     "metadata": {},
     "output_type": "execute_result"
    }
   ],
   "source": [
    "x = np.arange(20).reshape(5, 4)\n",
    "x"
   ]
  },
  {
   "cell_type": "code",
   "execution_count": 139,
   "metadata": {},
   "outputs": [
    {
     "data": {
      "text/plain": [
       "array([[0, 0, 0],\n",
       "       [1, 1, 1]])"
      ]
     },
     "execution_count": 139,
     "metadata": {},
     "output_type": "execute_result"
    }
   ],
   "source": [
    "row, col = np.indices((2, 3))\n",
    "row"
   ]
  },
  {
   "cell_type": "code",
   "execution_count": 140,
   "metadata": {},
   "outputs": [
    {
     "data": {
      "text/plain": [
       "array([[0, 1, 2],\n",
       "       [0, 1, 2]])"
      ]
     },
     "execution_count": 140,
     "metadata": {},
     "output_type": "execute_result"
    }
   ],
   "source": [
    "col"
   ]
  },
  {
   "cell_type": "code",
   "execution_count": 141,
   "metadata": {},
   "outputs": [
    {
     "data": {
      "text/plain": [
       "array([[0, 1, 2],\n",
       "       [4, 5, 6]])"
      ]
     },
     "execution_count": 141,
     "metadata": {},
     "output_type": "execute_result"
    }
   ],
   "source": [
    "x[row,col]"
   ]
  },
  {
   "cell_type": "markdown",
   "metadata": {},
   "source": [
    "**注意：**在上面的这个例子中直接使用 `x[:2,:3]`更加简单清晰。"
   ]
  },
  {
   "cell_type": "code",
   "execution_count": 143,
   "metadata": {},
   "outputs": [
    {
     "data": {
      "text/plain": [
       "array([[0, 4, 8],\n",
       "       [1, 5, 9]])"
      ]
     },
     "execution_count": 143,
     "metadata": {},
     "output_type": "execute_result"
    }
   ],
   "source": [
    "x[col,row]"
   ]
  },
  {
   "cell_type": "code",
   "execution_count": null,
   "metadata": {},
   "outputs": [],
   "source": []
  },
  {
   "cell_type": "code",
   "execution_count": null,
   "metadata": {},
   "outputs": [],
   "source": []
  }
 ],
 "metadata": {
  "kernelspec": {
   "display_name": "Python 3",
   "language": "python",
   "name": "python3"
  },
  "language_info": {
   "codemirror_mode": {
    "name": "ipython",
    "version": 3
   },
   "file_extension": ".py",
   "mimetype": "text/x-python",
   "name": "python",
   "nbconvert_exporter": "python",
   "pygments_lexer": "ipython3",
   "version": "3.6.4"
  }
 },
 "nbformat": 4,
 "nbformat_minor": 2
}
