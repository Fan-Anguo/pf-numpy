{
 "cells": [
  {
   "cell_type": "markdown",
   "metadata": {},
   "source": [
    "25-Input and Output 之六\n",
    "====\n",
    "**Text formatting options**"
   ]
  },
  {
   "cell_type": "markdown",
   "metadata": {},
   "source": [
    "| Text   formatting options                   |                                                              |\n",
    "| ------------------------------------------- | ------------------------------------------------------------ |\n",
    "| set_printoptions([precision, threshold, …]) | Set   printing options.                                      |\n",
    "| get_printoptions()                          | Return   the current print options.                          |\n",
    "| set_string_function(f[, repr])              | Set   a Python function to be used when pretty printing arrays. |\n",
    "| printoptions(*args, **kwargs)               | Context   manager for setting print options.                 |"
   ]
  },
  {
   "cell_type": "markdown",
   "metadata": {},
   "source": [
    "# numpy.set_printoptions\n",
    "`numpy.set_printoptions(precision=None, threshold=None, edgeitems=None, linewidth=None, suppress=None, nanstr=None, infstr=None, formatter=None, sign=None, floatmode=None, **kwarg)`"
   ]
  },
  {
   "cell_type": "markdown",
   "metadata": {},
   "source": [
    "设置打印选项。\n",
    "\n",
    "这些选项确定浮点数，数组和其他NumPy对象的显示方式。\n",
    "\n",
    "Set printing options.\n",
    "\n",
    "These options determine the way floating point numbers, arrays and other NumPy objects are displayed."
   ]
  },
  {
   "cell_type": "markdown",
   "metadata": {},
   "source": [
    "## Parameters:\t\n",
    "**precision** : int or None, optional\n",
    "\n",
    "浮点输出的精度位数（默认为8）。可能没有，如果floatmode不固定，打印尽可能多的数字所必需的唯一指定值。\n",
    "\n",
    "Number of digits of precision for floating point output (default 8). May be None if floatmode is not fixed, to print as many digits as necessary to uniquely specify the value.\n",
    "\n",
    "**threshold** : int, optional\n",
    "\n",
    "\n",
    "Total number of array elements which trigger summarization rather than full repr (default 1000).\n",
    "\n",
    "edgeitems : int, optional\n",
    "Number of array items in summary at beginning and end of each dimension (default 3).\n",
    "\n",
    "linewidth : int, optional\n",
    "The number of characters per line for the purpose of inserting line breaks (default 75).\n",
    "\n",
    "suppress : bool, optional\n",
    "If True, always print floating point numbers using fixed point notation, in which case numbers equal to zero in the current precision will print as zero. If False, then scientific notation is used when absolute value of the smallest number is < 1e-4 or the ratio of the maximum absolute value to the minimum is > 1e3. The default is False."
   ]
  },
  {
   "cell_type": "markdown",
   "metadata": {},
   "source": [
    "nanstr : str, optional\n",
    "String representation of floating point not-a-number (default nan).\n",
    "\n",
    "infstr : str, optional\n",
    "String representation of floating point infinity (default inf).\n",
    "\n",
    "sign : string, either ‘-‘, ‘+’, or ‘ ‘, optional\n",
    "Controls printing of the sign of floating-point types. If ‘+’, always print the sign of positive values. If ‘ ‘, always prints a space (whitespace character) in the sign position of positive values. If ‘-‘, omit the sign character of positive values. (default ‘-‘)"
   ]
  },
  {
   "cell_type": "markdown",
   "metadata": {},
   "source": [
    "formatter : dict of callables, optional\n",
    "If not None, the keys should indicate the type(s) that the respective formatting function applies to. Callables should return a string. Types that are not specified (by their corresponding keys) are handled by the default formatters. Individual types for which a formatter can be set are:\n",
    "\n",
    "‘bool’\n",
    "‘int’\n",
    "‘timedelta’ : a numpy.timedelta64\n",
    "‘datetime’ : a numpy.datetime64\n",
    "‘float’\n",
    "‘longfloat’ : 128-bit floats\n",
    "‘complexfloat’\n",
    "‘longcomplexfloat’ : composed of two 128-bit floats\n",
    "‘numpystr’ : types numpy.string_ and numpy.unicode_\n",
    "‘object’ : np.object_ arrays\n",
    "‘str’ : all other strings\n",
    "Other keys that can be used to set a group of types at once are:\n",
    "\n",
    "‘all’ : sets all types\n",
    "‘int_kind’ : sets ‘int’\n",
    "‘float_kind’ : sets ‘float’ and ‘longfloat’\n",
    "‘complex_kind’ : sets ‘complexfloat’ and ‘longcomplexfloat’\n",
    "‘str_kind’ : sets ‘str’ and ‘numpystr’"
   ]
  },
  {
   "cell_type": "markdown",
   "metadata": {},
   "source": [
    "floatmode : str, optional\n",
    "Controls the interpretation of the precision option for floating-point types. Can take the following values:\n",
    "\n",
    "‘fixed’: Always print exactly precision fractional digits,\n",
    "even if this would print more or fewer digits than necessary to specify the value uniquely.\n",
    "‘unique’: Print the minimum number of fractional digits necessary\n",
    "to represent each value uniquely. Different elements may have a different number of digits. The value of the precision option is ignored.\n",
    "‘maxprec’: Print at most precision fractional digits, but if\n",
    "an element can be uniquely represented with fewer digits only print it with that many.\n",
    "‘maxprec_equal’: Print at most precision fractional digits,\n",
    "but if every element in the array can be uniquely represented with an equal number of fewer digits, use that many digits for all elements."
   ]
  },
  {
   "cell_type": "markdown",
   "metadata": {},
   "source": [
    "legacy : string or False, optional\n",
    "If set to the string ‘1.13’ enables 1.13 legacy printing mode. This approximates numpy 1.13 print output by including a space in the sign position of floats and different behavior for 0d arrays. If set to False, disables legacy mode. Unrecognized strings will be ignored with a warning for forward compatibility.\n",
    "\n",
    "New in version 1.14.0."
   ]
  },
  {
   "cell_type": "markdown",
   "metadata": {},
   "source": []
  },
  {
   "cell_type": "markdown",
   "metadata": {},
   "source": []
  },
  {
   "cell_type": "markdown",
   "metadata": {},
   "source": []
  },
  {
   "cell_type": "markdown",
   "metadata": {},
   "source": []
  },
  {
   "cell_type": "markdown",
   "metadata": {},
   "source": []
  }
 ],
 "metadata": {
  "kernelspec": {
   "display_name": "Python 3",
   "language": "python",
   "name": "python3"
  },
  "language_info": {
   "codemirror_mode": {
    "name": "ipython",
    "version": 3
   },
   "file_extension": ".py",
   "mimetype": "text/x-python",
   "name": "python",
   "nbconvert_exporter": "python",
   "pygments_lexer": "ipython3",
   "version": "3.6.6"
  },
  "toc": {
   "base_numbering": 1,
   "nav_menu": {},
   "number_sections": true,
   "sideBar": true,
   "skip_h1_title": false,
   "title_cell": "Table of Contents",
   "title_sidebar": "Contents",
   "toc_cell": false,
   "toc_position": {},
   "toc_section_display": true,
   "toc_window_display": false
  }
 },
 "nbformat": 4,
 "nbformat_minor": 2
}
