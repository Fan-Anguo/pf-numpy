{
 "cells": [
  {
   "cell_type": "markdown",
   "metadata": {},
   "source": [
    "Input and Output 之二\n",
    "====\n",
    "\n",
    "Text files\n",
    "----"
   ]
  },
  {
   "cell_type": "markdown",
   "metadata": {},
   "source": [
    "| Text   files                                    |                                                              |\n",
    "| ----------------------------------------------- | ------------------------------------------------------------ |\n",
    "| loadtxt(fname[, dtype, comments, delimiter, …]) | Load   data from a text file.                                |\n",
    "| savetxt(fname, X[, fmt, delimiter, newline, …]) | Save   an array to a text file.                              |\n",
    "| genfromtxt(fname[, dtype, comments, …])         | Load   data from a text file, with missing values handled as specified. |\n",
    "| fromregex(file, regexp, dtype[, encoding])      | Construct   an array from a text file, using regular expression parsing. |\n",
    "| fromstring(string[, dtype, count, sep])         | A   new 1-D array initialized from text data in a string.    |\n",
    "| ndarray.tofile(fid[, sep, format])              | Write   array to a file as text or binary (default).         |\n",
    "| ndarray.tolist()                                | Return   the array as a (possibly nested) list.              |"
   ]
  },
  {
   "cell_type": "markdown",
   "metadata": {},
   "source": [
    "# numpy.loadtxt\n",
    "`numpy.loadtxt(fname, dtype=<class 'float'>, comments='#', delimiter=None, converters=None, skiprows=0, usecols=None, unpack=False, ndmin=0, encoding='bytes')`"
   ]
  },
  {
   "cell_type": "markdown",
   "metadata": {},
   "source": [
    "从文本文件加载数据。\n",
    "\n",
    "文本文件中的每一行必须具有相同数量的值。"
   ]
  },
  {
   "cell_type": "markdown",
   "metadata": {},
   "source": [
    "## Parameters:\t\n",
    "**fname** : file, str, or pathlib.Path\n",
    "\n",
    "要读取的文件，文件名或生成器。如果文件扩展名为 `.gz`或`.bz2`，则首先解压缩文件。请注意，生成器应返回Python 3k的字节字符串。\n",
    "\n",
    "**dtype** : data-type, optional\n",
    "\n",
    "结果数组的数据类型; 默认值：float。如果这是结构化数据类型，则生成的数组将是1维的，并且每行将被解释为数组的元素。在这种情况下，使用的列数必须与数据类型中的字段数相匹配。\n",
    "\n",
    "**comments** : str or sequence of str, optional\n",
    "\n",
    "用于表示评论开头的字符或字符列表。None 意味着没有评论。为了向后兼容，字节字符串将被解码为'latin1'。默认值为“＃”。"
   ]
  },
  {
   "cell_type": "markdown",
   "metadata": {},
   "source": [
    "**delimiter** : str, optional\n",
    "\n",
    "用于分隔值的字符串。为了向后兼容，字节字符串将被解码为'latin1'。默认值为空格。\n",
    "\n",
    "**converters** : dict, optional\n",
    "\n",
    "将列号映射到将列字符串解析为所需值的函数的字典。例如，如果第0列是日期字符串：`converters = {0: datestr2num}.`。转换器也可以用于提供丢失数据的默认值（但也可以看到genfromtxt）：`converters = {3: lambda s: float(s.strip() or 0)}. Default: None.` 。默认值：无。\n",
    "\n",
    "**skiprows** : int, optional\n",
    "\n",
    "跳过第一个skiprows行数 ; 默认值：0。"
   ]
  },
  {
   "cell_type": "markdown",
   "metadata": {},
   "source": [
    "**usecols** : int or sequence, optional\n",
    "\n",
    "要读取哪些列，其中0为第一列。例如， `usecols = (1,4,5)` 将提取第2列，第5列和第6列。默认值None，读取所有列。\n",
    "\n",
    "在版本1.11.0中更改：当必须读取单个列时，可以使用整数而不是元组。例如，`usecols = 3`以与`usecols = (3,)`相同的方式读取第四列。\n",
    "\n",
    "**unpack** : bool, optional\n",
    "\n",
    "如果为True，则返回的数组被转置，以便可以使用`x, y, z = loadtxt(...)`解压缩参数。与结构化数据类型一起使用时，将为每个字段返回数组。默认值为False。"
   ]
  },
  {
   "cell_type": "markdown",
   "metadata": {},
   "source": [
    "**ndmin** : int, optional\n",
    "\n",
    "返回的数组至少具有ndmin维度。否则将挤压单维轴。合法值：0（默认值），1或2。\n",
    "\n",
    "版本1.6.0中的新功能。\n",
    "\n",
    "**encoding** : str, optional\n",
    "\n",
    "用于解码输入文件的编码。不适用于输入流。特殊值'bytes'启用向后兼容性解决方法，确保在可能的情况下接收字节数组作为结果，并将'latin1'编码的字符串传递给转换器。重写此值以接收unicode数组并将字符串作为输入传递给转换器。如果设置为“无”，则使用系统默认值。默认值为'bytes'。\n",
    "\n",
    "1.14.0版中的新功能。\n",
    "\n",
    "## Returns:\n",
    "\n",
    "**out** : ndarray，从文本文件中读取的数据。"
   ]
  },
  {
   "cell_type": "markdown",
   "metadata": {},
   "source": [
    "**注意：**\n",
    "\n",
    "此功能旨在成为简单格式化文件的快速读取器。`genfromtxt`功能提供更复杂的处理，例如具有缺失值的行。\n",
    "\n",
    "版本1.10.0中的新功能。\n",
    "\n",
    "Python `float.hex`方法生成的字符串可以用作浮点数的输入。"
   ]
  },
  {
   "cell_type": "markdown",
   "metadata": {},
   "source": [
    "## 示例"
   ]
  },
  {
   "cell_type": "code",
   "execution_count": 2,
   "metadata": {},
   "outputs": [
    {
     "data": {
      "text/plain": [
       "array([[0., 1.],\n",
       "       [2., 3.]])"
      ]
     },
     "execution_count": 2,
     "metadata": {},
     "output_type": "execute_result"
    }
   ],
   "source": [
    "import numpy as np\n",
    ">>> from io import StringIO   # StringIO behaves like a file object\n",
    ">>> c = StringIO(u\"0 1\\n2 3\")\n",
    ">>> np.loadtxt(c)"
   ]
  },
  {
   "cell_type": "code",
   "execution_count": 3,
   "metadata": {},
   "outputs": [
    {
     "data": {
      "text/plain": [
       "array([(b'M', 21, 72.), (b'F', 35, 58.)],\n",
       "      dtype=[('gender', 'S1'), ('age', '<i4'), ('weight', '<f4')])"
      ]
     },
     "execution_count": 3,
     "metadata": {},
     "output_type": "execute_result"
    }
   ],
   "source": [
    ">>> d = StringIO(u\"M 21 72\\nF 35 58\")\n",
    ">>> np.loadtxt(d, dtype={'names': ('gender', 'age', 'weight'),\n",
    "...                      'formats': ('S1', 'i4', 'f4')})"
   ]
  },
  {
   "cell_type": "code",
   "execution_count": 4,
   "metadata": {},
   "outputs": [
    {
     "data": {
      "text/plain": [
       "array([1., 3.])"
      ]
     },
     "execution_count": 4,
     "metadata": {},
     "output_type": "execute_result"
    }
   ],
   "source": [
    ">>> c = StringIO(u\"1,0,2\\n3,0,4\")\n",
    ">>> x, y = np.loadtxt(c, delimiter=',', usecols=(0, 2), unpack=True)\n",
    ">>> x"
   ]
  },
  {
   "cell_type": "code",
   "execution_count": 5,
   "metadata": {},
   "outputs": [
    {
     "data": {
      "text/plain": [
       "array([2., 4.])"
      ]
     },
     "execution_count": 5,
     "metadata": {},
     "output_type": "execute_result"
    }
   ],
   "source": [
    ">>> y"
   ]
  },
  {
   "cell_type": "markdown",
   "metadata": {},
   "source": [
    "# numpy.savetxt\n",
    "`numpy.savetxt(fname, X, fmt='%.18e', delimiter=' ', newline='\\n', header='', footer='', comments='# ', encoding=None)`\n",
    "\n",
    "将一个数组保存到文本文件中。"
   ]
  },
  {
   "cell_type": "markdown",
   "metadata": {},
   "source": [
    "## Parameters:\t\n",
    "**fname** : filename or file handle\n",
    "\n",
    "如果文件名以`.gz`结束，文件将自动以压缩的`gzip`格式保存。 loadtxt 清晰地理解 gzip 文件。\n",
    "\n",
    "**X**: 1D or 2D array_like\n",
    "\n",
    "要保存到文本文件的数据。\n",
    "\n",
    "**fmt** : str or sequence of strs, optional\n",
    "\n",
    "单个格式（`％10.5f`），格式序列或多格式字符串，例如“`Iteration ％d - ％10.5f`”，在这种情况下，将忽略分隔符。对于复杂的`X`，`fmt`的合法选项是：\n",
    "- 单个说明符，`fmt ='％。4e'`，导致数字格式为`'（％s +％sj）'％（fmt，fmt）`\n",
    "- 一个完整的字符串，指定每个实部和虚部，例如` '％.4e％+.4ej％.4e％+.4ej％.4e％+.4ej'`为3列\n",
    "- 一个说明符列表，每列一个 `-` 在这种情况下，实部和虚部必须有单独的说明符，例如`['％.3e +％.3ej'，'（％.15e％+.15ej）']` 2列\n",
    "\n",
    "**delimiter** : str, optional\n",
    "\n",
    "分隔列的字符串或字符。\n",
    "\n",
    "**newline** : str, optional\n",
    "\n",
    "字符串或字符分隔线。\n",
    "\n",
    "1.5.0版中的新功能。\n",
    "\n",
    "**header** : str, optional\n",
    "\n",
    "将在文件开头写入的字符串。\n",
    "\n",
    "版本1.7.0中的新功能。\n",
    "\n",
    "**footer** : str, optional\n",
    "\n",
    "将在文件末尾写入的字符串。\n",
    "\n",
    "版本1.7.0中的新功能。\n",
    "\n",
    "**comments** : str, optional\n",
    "\n",
    "将附加到header和footer字符串的字符串，以将其标记为注释。默认值：`'＃'`，正如预期的那样` numpy.loadtxt`。\n",
    "\n",
    "版本1.7.0中的新功能。\n",
    "\n",
    "**encoding** : {None, str}, optional\n",
    "\n",
    "用于编码输出文件的编码。不适用于输出流。如果编码不是'bytes'或'latin1'，您将无法在`NumPy`版本`<1.14`中加载该文件。默认为'latin1'。\n",
    "\n",
    "1.14.0版中的新功能。"
   ]
  },
  {
   "cell_type": "markdown",
   "metadata": {},
   "source": [
    "**注意：**\n",
    "\n",
    "fmt参数（`%[flag]width[.precision]specifier`）的进一步说明：\n",
    "\n",
    "**flags:**\n",
    "- `-` ：左对齐\n",
    "- `+` ：强制在结果前面加上+或 - 。\n",
    "- `0` ：用零填充数字而不是空格（参见 width）。\n",
    "\n",
    "**width:**\n",
    "\n",
    "要打印的最小字符数。如果该字符包含更多字符，则不会截断该值。\n",
    "\n",
    "**precision:** 精度\n",
    "- 对于整数说明符（例如d,i,o,x），最小位数。\n",
    "- For 和说明符，小数点后打印的位数。e, Ef\n",
    "- 对于g和G，最大有效位数。\n",
    "- 对于s，最大字符数。\n",
    "\n",
    "**specifiers:** 标识符\n",
    "> c : character，字符\n",
    "\n",
    "> d or i : signed decimal integer，带符号的十进制整数。\n",
    "\n",
    "> e or E : scientific notation with e or E. 带e或E的科学记数法。\n",
    "\n",
    "> f : decimal floating point，十进制浮点数。\n",
    "\n",
    "> g,G : use the shorter of e,E or f，使用较短的e, E 或 f。\n",
    "\n",
    "> o : signed octal，带符号的八进制数。\n",
    "\n",
    "> s : string of characters，字符的字符串。\n",
    "\n",
    "> u : unsigned decimal integer，无符号的十进制整数。\n",
    "\n",
    "> x,X : unsigned hexadecimal integer，无符号的十六进制整数。\n",
    "\n",
    "这种解释fmt并不完整，详尽的说明见 [Format Specification Mini-Language](https://docs.python.org/3/library/string.html#format-specification-mini-language)"
   ]
  },
  {
   "cell_type": "markdown",
   "metadata": {},
   "source": [
    "## 示例"
   ]
  },
  {
   "cell_type": "code",
   "execution_count": 7,
   "metadata": {},
   "outputs": [],
   "source": [
    ">>> x = y = z = np.arange(0.0,5.0,1.0)\n",
    ">>> np.savetxt('test.out', x, delimiter=',')   # X is an array\n",
    ">>> np.savetxt('test.out', (x,y,z))   # x,y,z equal sized 1D arrays\n",
    ">>> np.savetxt('test.out', x, fmt='%1.4e')   # use exponential notation"
   ]
  },
  {
   "cell_type": "markdown",
   "metadata": {},
   "source": [
    "# numpy.genfromtxt\n",
    "`numpy.genfromtxt(fname, dtype=<class 'float'>, comments='#', delimiter=None, skip_header=0, skip_footer=0, converters=None, missing_values=None, filling_values=None, usecols=None, names=None, excludelist=None, deletechars=None, replace_space='_', autostrip=False, case_sensitive=True, defaultfmt='f%i', unpack=None, usemask=False, loose=True, invalid_raise=True, max_rows=None, encoding='bytes')`"
   ]
  },
  {
   "cell_type": "markdown",
   "metadata": {},
   "source": [
    "从文本文件加载数据，并按指定处理缺失值。\n",
    "\n",
    "超过第一个skip_header行的每一行将以分隔符分割 ，并且将丢弃注释字符后面的字符。"
   ]
  },
  {
   "cell_type": "markdown",
   "metadata": {},
   "source": [
    "## Parameters:\t\n",
    "**fname** : file, str, pathlib.Path, list of str, generator\n",
    "\n",
    "要读取的文件，文件名，列表或生成器。如果文件扩展名为`gz`或`bz2`，则首先解压缩文件。请注意，在Python 3k中生成器必须返回字节字符串。列表中的字符串或生成器生成的字符串被视为行。\n",
    "\n",
    "**dtype** : dtype, optional\n",
    "\n",
    "结果数组的数据类型。如果为None，则dtypes将由每列的内容单独确定。\n",
    "\n",
    "**comments** : str, optional\n",
    "\n",
    "用于表示评论开始的字符。注释后出现在行上的所有字符都将被丢弃\n",
    "\n",
    "**delimiter** : str, int, or sequence, optional\n",
    "\n",
    "用于分隔值的字符串。默认情况下，任何连续的空格都用作分隔符。也可以提供整数或整数序列作为每个字段的宽度。"
   ]
  },
  {
   "cell_type": "markdown",
   "metadata": {},
   "source": [
    "**skiprows** : int, optional\n",
    "\n",
    "在numpy 1.10中删除了skiprows。请改用skip_header。\n",
    "\n",
    "**skip_header** : int, optional\n",
    "\n",
    "要在文件形状开头跳过的行数。\n",
    "\n",
    "**skip_footer** : int, optional\n",
    "\n",
    "要在文件末尾跳过的行数。\n",
    "\n",
    "**converters** : variable, optional\n",
    "\n",
    "将列数据转换为值的函数集。转换器还可用于为丢失的数据提供默认值：`converters = {3: lambda s: float(s or 0)}`\n",
    "\n",
    "**missing** : variable, optional\n",
    "\n",
    "在numpy 1.10中删除了缺失。请改用missing_values。"
   ]
  },
  {
   "cell_type": "markdown",
   "metadata": {},
   "source": [
    "**missing_values** : variable, optional\n",
    "\n",
    "与缺失数据相对应的字符串集。\n",
    "\n",
    "**filling_values** : variable, optional\n",
    "\n",
    "缺少数据时要用作默认值的值集。\n",
    "\n",
    "**usecols** : sequence, optional\n",
    "\n",
    "要读取哪些列，其中0为第一列。例如， `usecols = (1, 4, 5)`将提取第2列，第5列和第6列。\n",
    "\n",
    "**names** : {None, True, str, sequence}, optional\n",
    "\n",
    "如果names为True，则在第一个skip_header行之后的第一行读取字段名称。此行可以选择由注释分隔符继续。如果names是序列或逗号分隔名称的单字符串，则名称将用于定义结构化dtype中的字段名称。如果names为None，则将使用dtype字段的名称（如果有）。\n",
    "\n",
    "**excludelist** : sequence, optional\n",
    "\n",
    "要排除的名称列表。此列表将附加到默认列表`['return'，'file'，'print']`。排除的名称附加下划线：例如，`file`将成为`file_`。"
   ]
  },
  {
   "cell_type": "markdown",
   "metadata": {},
   "source": [
    "**deletechars** : str, optional\n",
    "\n",
    "必须从名称中删除的无效字符组合的字符串。\n",
    "\n",
    "**defaultfmt** : str, optional\n",
    "\n",
    "用于定义默认字段名称的格式，例如`“f％i”`或`“f_％02i”`。\n",
    "\n",
    "**autostrip** : bool, optional\n",
    "\n",
    "是否从变量中自动剥离空格。\n",
    "\n",
    "**replace_space** : char, optional\n",
    "\n",
    "用于替换变量名称中的空格的字符。默认情况下，使用`“_”`。\n",
    "\n",
    "**case_sensitive** : `{True, False, ‘upper’, ‘lower’}`, optional\n",
    "\n",
    "如果为True，则字段名称区分大小写。如果为False或'upper'，则字段名称将转换为大写。如果为“lower”，则字段名称将转换为小写。"
   ]
  },
  {
   "cell_type": "markdown",
   "metadata": {},
   "source": [
    "**unpack** : bool, optional\n",
    "\n",
    "如果为True，则返回的数组被转置，以便可以使用`x, y, z = loadtxt(...)`解压缩参数 \n",
    "\n",
    "**usemask** : bool, optional\n",
    "\n",
    "如果为True，则返回一个掩码数组。如果为False，则返回常规数组。\n",
    "\n",
    "**loose** : bool, optional\n",
    "\n",
    "如果为True，请不要为无效值引发错误。\n",
    "\n",
    "**invalid_raise** : bool, optional\n",
    "\n",
    "如果为True，则在列数中检测到不一致时会引发异常。如果为False，则发出警告并跳过违规行。\n",
    "\n",
    "**max_rows** : int, optional\n",
    "\n",
    "要读取的最大行数。不得与skip_footer同时使用。如果给定，则值必须至少为1.默认值是读取整个文件。\n",
    "\n",
    "版本1.10.0中的新功能。\n",
    "\n",
    "**encoding** : str, optional\n",
    "\n",
    "用于解码输入文件的编码。当fname是文件对象时不适用。特殊值'bytes'启用向后兼容性解决方法，确保在可能的情况下接收字节数组并将latin1编码的字符串传递给转换器。重写此值以接收unicode数组并将字符串作为输入传递给转换器。如果设置为“无”，则使用系统默认值。默认值为'bytes'。\n",
    "\n",
    "1.14.0版中的新功能。"
   ]
  },
  {
   "cell_type": "code",
   "execution_count": null,
   "metadata": {},
   "outputs": [],
   "source": []
  }
 ],
 "metadata": {
  "kernelspec": {
   "display_name": "Python 3",
   "language": "python",
   "name": "python3"
  },
  "language_info": {
   "codemirror_mode": {
    "name": "ipython",
    "version": 3
   },
   "file_extension": ".py",
   "mimetype": "text/x-python",
   "name": "python",
   "nbconvert_exporter": "python",
   "pygments_lexer": "ipython3",
   "version": "3.6.6"
  },
  "toc": {
   "base_numbering": 1,
   "nav_menu": {},
   "number_sections": true,
   "sideBar": true,
   "skip_h1_title": false,
   "title_cell": "Table of Contents",
   "title_sidebar": "Contents",
   "toc_cell": false,
   "toc_position": {},
   "toc_section_display": true,
   "toc_window_display": true
  }
 },
 "nbformat": 4,
 "nbformat_minor": 2
}
