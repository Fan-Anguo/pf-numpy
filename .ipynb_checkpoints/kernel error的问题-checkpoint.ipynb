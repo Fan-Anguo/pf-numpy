{
 "cells": [
  {
   "cell_type": "markdown",
   "metadata": {},
   "source": [
    "关于jupyter notebook的kernel error的问题\n",
    "===="
   ]
  },
  {
   "cell_type": "markdown",
   "metadata": {},
   "source": [
    "# 问题\n",
    "当时用Anaconda安装多个版本的Python的时候，时常由于安装和卸载多次Python导致Juoyter notebook不可用。常常导致kernel error，jupyter notebook中的代码不能运行。"
   ]
  },
  {
   "cell_type": "markdown",
   "metadata": {},
   "source": [
    "# 解决办法\n",
    "首先使用`jupyter kernelspec list`查看安装的内核和位置\n",
    "\n",
    "进入安装内核目录打开kernel.jason文件，查看Python编译器的路径是否正确, 如果不正确使用命令：\n",
    "<span class=\"burk\">`python -m ipykernel install --user`</span>重新安装内核。\n",
    "\n",
    "如果有多个内核，如果你使用 `conda create -n python2 python=2`,创建Python2环境，在anacoda下使用`activate pyhton2` 切换 python 环境，重新使用`python -m ipykernel install --user`安装内核\n",
    "\n",
    "重启jupyter notebook即可"
   ]
  },
  {
   "cell_type": "markdown",
   "metadata": {},
   "source": [
    "在cmd运行：\n",
    "\n",
    "python -m ipykernel install --user"
   ]
  },
  {
   "cell_type": "markdown",
   "metadata": {},
   "source": [
    "进入安装内核目录打开kernel.jason文件，查看Python编译器的路径是否正确\n",
    "\n",
    "如果不正确修改为正确的安装路径，我修改后的路径为： \n",
    "\n",
    "`\"D:\\\\Program Files\\\\Anaconda3\\\\envs\\\\tensorflow\\\\python.exe\"`\n",
    "\n",
    "重启jupyter"
   ]
  },
  {
   "cell_type": "markdown",
   "metadata": {},
   "source": [
    "# 删除kernel\n",
    "\n",
    "由于反复卸载、安装anaconda，导致在jupyter notebook中出现一些无效的kernel，可以删除它们：\n",
    "\n",
    "- Run `jupyter kernelspec list` to get the paths of all your kernels\n",
    "\n",
    "- Delete the folder corresponding to the kernel you want to remove.\n",
    "\n",
    "The docs has a list of the common paths for kernels to be stored in: http://jupyter-client.readthedocs.io/en/latest/kernels.html#kernelspecs"
   ]
  },
  {
   "cell_type": "markdown",
   "metadata": {},
   "source": [
    "ou can delete it in the terminal via:\n",
    "\n",
    "`sudo jupyter kernelspec uninstall yourKernel`\n",
    "\n",
    "where yourKernel is the name of the kernel you want to delete."
   ]
  },
  {
   "cell_type": "markdown",
   "metadata": {},
   "source": [
    "## Jupyter Notebook 增加kernel的方法\n",
    "\n",
    "有很多朋友会遇到这样一个问题：在anaconda中创建了多个环境，也许python版本是一样的，但是装的包以及版本不一样。启动jupyter notebook后，在new的下拉菜单中却无法使用这些环境。本文就解决这样的问题。\n",
    "\n",
    "假如我现在Ubuntu系统自带的python是python2，anaconda默认的是python3，我还有一个python2的自定义的环境，命名为myPython2。打开jupyter notebook发现只有python3可用，而我缺想使用myPython2这个环境。\n",
    "\n",
    "1. 首先，在myPython2环境下确认是否安装了ipykernel这个包，如果没有则安装。`pip install ipykernel`\n",
    "2. 然后，在这个环境下输入:\n",
    "```\n",
    "# xxx是在jupyter中显示的名字，建议使用环境的名字，但是不一样也没关系\n",
    "# 我这里和环境名字一样，使用myPython2这个名字\n",
    "python -m ipykernel install --name XXXX```\n",
    "\n",
    "3. 然后启动jupyter，会发现现在有了myPython2这个选项了！"
   ]
  },
  {
   "cell_type": "markdown",
   "metadata": {},
   "source": [
    "# 参考资料\n",
    "\n",
    "## Jupyter增加内核\n",
    "\n",
    "这里以在python2环境下的notebook添加python3 kernel为例:\n",
    "- 首先，确保python3环境下安装了ipykernel，如果没有安装安装它：`pip3 install ipykernel` \n",
    "- 然后在python3的python.exe所在目录下执行 `python -m ipykernel install`,可以添加命令` –name kernelname` 为kernel指定名字 \n",
    "\n",
    "## 查看jupyter notebook kernel\n",
    "\n",
    "使用命令`jupyter kernelspec list`可以查看当前的kernel \n",
    "\n",
    "## 删除notebook kernel\n",
    "\n",
    "使用命令`jupyter kernelspec remove kernelname`\n",
    "\n",
    "删除相应kernel的文件夹也可，kernel路径：`C：/ProgramData/jupyter/kernels/kernelname`"
   ]
  },
  {
   "cell_type": "code",
   "execution_count": null,
   "metadata": {},
   "outputs": [],
   "source": []
  }
 ],
 "metadata": {
  "kernelspec": {
   "display_name": "Python 3",
   "language": "python",
   "name": "python3"
  },
  "language_info": {
   "codemirror_mode": {
    "name": "ipython",
    "version": 3
   },
   "file_extension": ".py",
   "mimetype": "text/x-python",
   "name": "python",
   "nbconvert_exporter": "python",
   "pygments_lexer": "ipython3",
   "version": "3.6.5"
  },
  "toc": {
   "nav_menu": {},
   "number_sections": true,
   "sideBar": true,
   "skip_h1_title": false,
   "title_cell": "Table of Contents",
   "title_sidebar": "Contents",
   "toc_cell": false,
   "toc_position": {},
   "toc_section_display": true,
   "toc_window_display": false
  }
 },
 "nbformat": 4,
 "nbformat_minor": 2
}
