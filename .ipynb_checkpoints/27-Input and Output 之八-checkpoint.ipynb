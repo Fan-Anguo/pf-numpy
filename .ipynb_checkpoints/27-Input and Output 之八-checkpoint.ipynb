{
 "cells": [
  {
   "cell_type": "markdown",
   "metadata": {},
   "source": [
    "27-Input and Output 之八\n",
    "====\n",
    "**Data Sources**"
   ]
  },
  {
   "cell_type": "markdown",
   "metadata": {},
   "source": [
    "# numpy.DataSource\n",
    "`class numpy.DataSource(destpath='.')`\n",
    "\n",
    "通用数据源文件（file，http，ftp，...）。\n",
    "\n",
    "DataSource可以是本地文件或远程文件/ URL。文件也可以是压缩的或未压缩的。DataSource隐藏了下载文件的一些低级细节，允许您简单地传入有效的文件路径（或URL）并获取文件对象。\n",
    "\n",
    "\n",
    "A generic data source file (file, http, ftp, …).\n",
    "\n",
    "DataSources can be local files or remote files/URLs. The files may also be compressed or uncompressed. DataSource hides some of the low-level details of downloading the file, allowing you to simply pass in a valid file path (or URL) and obtain a file object."
   ]
  },
  {
   "cell_type": "markdown",
   "metadata": {},
   "source": [
    "## Parameters:\t\n",
    "**destpath** : str or None, optional\n",
    "\n",
    "下载源文件以供使用的目录的路径。如果destpath为None，则将创建临时目录。默认路径是当前目录。\n",
    "\n",
    "Path to the directory where the source file gets downloaded to for use. If destpath is None, a temporary directory will be created. The default path is the current directory."
   ]
  },
  {
   "cell_type": "markdown",
   "metadata": {},
   "source": [
    "**注意：**\n",
    "\n",
    "URL需要使用一个scheme字符串`（http://）`，如果没有它会失败：\n",
    "\n",
    "URLs require a scheme string (http://) to be used, without it they will fail:"
   ]
  },
  {
   "cell_type": "code",
   "execution_count": null,
   "metadata": {},
   "outputs": [],
   "source": [
    "from numpy import DataSource\n",
    ">>> repos = DataSource()\n",
    ">>> repos.exists('www.qq.com')"
   ]
  },
  {
   "cell_type": "code",
   "execution_count": null,
   "metadata": {},
   "outputs": [],
   "source": [
    ">>> repos.exists('https://www.qq.com')"
   ]
  },
  {
   "cell_type": "markdown",
   "metadata": {},
   "source": [
    "删除DataSource时将删除临时目录。\n",
    "\n",
    "Temporary directories are deleted when the DataSource is deleted.\n",
    "\n",
    "## 示例"
   ]
  },
  {
   "cell_type": "code",
   "execution_count": 26,
   "metadata": {},
   "outputs": [
    {
     "data": {
      "text/plain": [
       "'I:\\\\FanGitHub\\\\www.qq.com\\\\index.html'"
      ]
     },
     "execution_count": 26,
     "metadata": {},
     "output_type": "execute_result"
    }
   ],
   "source": [
    ">>> ds = DataSource('../')\n",
    ">>> urlname = 'http://www.qq.com/index.html'\n",
    ">>> gfile = ds.open('http://www.qq.com/index.html')  # remote file\n",
    ">>> ds.abspath(urlname)"
   ]
  },
  {
   "cell_type": "code",
   "execution_count": 27,
   "metadata": {},
   "outputs": [
    {
     "data": {
      "text/plain": [
       "<_io.TextIOWrapper name='../test.txt' mode='r' encoding='cp936'>"
      ]
     },
     "execution_count": 27,
     "metadata": {},
     "output_type": "execute_result"
    }
   ],
   "source": [
    ">>> ds = DataSource(None)  # use with temporary file\n",
    ">>> ds.open('../test.txt')"
   ]
  },
  {
   "cell_type": "code",
   "execution_count": 28,
   "metadata": {},
   "outputs": [
    {
     "data": {
      "text/plain": [
       "'C:\\\\Users\\\\Fan\\\\AppData\\\\Local\\\\Temp\\\\tmpg2ty_tbk\\\\test.txt'"
      ]
     },
     "execution_count": 28,
     "metadata": {},
     "output_type": "execute_result"
    }
   ],
   "source": [
    ">>> ds.abspath('../test.txt')"
   ]
  },
  {
   "cell_type": "markdown",
   "metadata": {},
   "source": [
    "## Methods\n",
    "\n",
    "`abspath(path)`\t返回DataSource目录中文件的绝对路径。Return absolute path of file in the DataSource directory.\n",
    "\n",
    "`exists(path)`\t测试路径是否存在。Test if path exists.\n",
    "\n",
    "`open(path[, mode, encoding, newline])`  打开并返回类似文件的对象。Open and return file-like object."
   ]
  },
  {
   "cell_type": "code",
   "execution_count": null,
   "metadata": {},
   "outputs": [],
   "source": []
  },
  {
   "cell_type": "code",
   "execution_count": null,
   "metadata": {},
   "outputs": [],
   "source": []
  },
  {
   "cell_type": "markdown",
   "metadata": {},
   "source": []
  }
 ],
 "metadata": {
  "kernelspec": {
   "display_name": "Python 3",
   "language": "python",
   "name": "python3"
  },
  "language_info": {
   "codemirror_mode": {
    "name": "ipython",
    "version": 3
   },
   "file_extension": ".py",
   "mimetype": "text/x-python",
   "name": "python",
   "nbconvert_exporter": "python",
   "pygments_lexer": "ipython3",
   "version": "3.6.6"
  },
  "toc": {
   "base_numbering": 1,
   "nav_menu": {},
   "number_sections": true,
   "sideBar": true,
   "skip_h1_title": false,
   "title_cell": "Table of Contents",
   "title_sidebar": "Contents",
   "toc_cell": false,
   "toc_position": {},
   "toc_section_display": true,
   "toc_window_display": false
  }
 },
 "nbformat": 4,
 "nbformat_minor": 2
}
