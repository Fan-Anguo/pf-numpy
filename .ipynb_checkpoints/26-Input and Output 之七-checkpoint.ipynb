{
 "cells": [
  {
   "cell_type": "markdown",
   "metadata": {},
   "source": [
    "26-Input and Output 之七\n",
    "====\n",
    "**Base-n representations**"
   ]
  },
  {
   "cell_type": "markdown",
   "metadata": {},
   "source": [
    "| Base-n   representations                          |                                                              |\n",
    "| ------------------------------------------------- | ------------------------------------------------------------ |\n",
    "| binary_repr(num[, width])Base-n   representations | Return   the binary representation of the input number as a string. |\n",
    "| base_repr(number[, base, padding])                | Return   a string representation of a number in the given base system. |"
   ]
  },
  {
   "cell_type": "markdown",
   "metadata": {},
   "source": [
    "# numpy.binary_repr\n",
    "`numpy.binary_repr(num, width=None)`\n",
    "\n",
    "将输入数字的二进制表示形式返回为字符串。\n",
    "\n",
    "对于负数，如果未给出宽度，则在前面添加减号。如果给出宽度，则返回该数字的二进制补码，相对于该宽度。\n",
    "\n",
    "在二进制补码系统中，负数由绝对值的二进制补码表示。这是在计算机上表示有符号整数的最常用方法`[1]`。`A N-bit`的二进制补码系统可以代表在`-2^{N-1} to +2^{N-1}-1`范围内的每个整数。\n",
    "\n",
    "Return the binary representation of the input number as a string.\n",
    "\n",
    "For negative numbers, if width is not given, a minus sign is added to the front. If width is given, the two’s complement of the number is returned, with respect to that width.\n",
    "\n",
    "In a two’s-complement system negative numbers are represented by the two’s complement of the absolute value. This is the most common method of representing signed integers on computers `[1]`. `A N-bit` two’s-complement system can represent every integer in the range `-2^{N-1} to +2^{N-1}-1`."
   ]
  },
  {
   "cell_type": "markdown",
   "metadata": {},
   "source": [
    "## Parameters:\t\n",
    "**num** : int\n",
    "\n",
    "只能使用整数十进制数。\n",
    "\n",
    "Only an integer decimal number can be used.\n",
    "\n",
    "**width** : int, optional\n",
    "\n",
    "如果num为正，则返回字符串的长度;如果num为负，则返回二进制补码的长度，条件是宽度至少是指定形式的num表示的足够位数。\n",
    "\n",
    "如果宽度值不足，它将被忽略，num将以二进制（num > 0）或二进制补码（num <0）形式返回，其宽度等于表示该数字所需的最小位数。指定表格。不推荐使用此行为，稍后会引发错误。\n",
    "\n",
    "自1.12.0版开始不推荐使用。\n",
    "\n",
    "The length of the returned string if num is positive, or the length of the two’s complement if num is negative, provided that width is at least a sufficient number of bits for num to be represented in the designated form.\n",
    "\n",
    "If the width value is insufficient, it will be ignored, and num will be returned in binary (num > 0) or two’s complement (num < 0) form with its width equal to the minimum number of bits needed to represent the number in the designated form. This behavior is deprecated and will later raise an error.\n",
    "\n",
    "Deprecated since version 1.12.0."
   ]
  },
  {
   "cell_type": "markdown",
   "metadata": {},
   "source": [
    "## Returns:\t\n",
    "**bin** : str\n",
    "\n",
    "num的二进制表示或num的补码。\n",
    "\n",
    "Binary representation of num or two’s complement of num."
   ]
  },
  {
   "cell_type": "markdown",
   "metadata": {},
   "source": [
    "**注意：**\n",
    "\n",
    "`binary_repr`相当于使用`base_repr`基数2，但速度提高约25倍。\n",
    "\n",
    "binary_repr is equivalent to using base_repr with base 2, but about 25x faster."
   ]
  },
  {
   "cell_type": "markdown",
   "metadata": {},
   "source": [
    "## 示例"
   ]
  },
  {
   "cell_type": "code",
   "execution_count": 2,
   "metadata": {},
   "outputs": [
    {
     "data": {
      "text/plain": [
       "'11'"
      ]
     },
     "execution_count": 2,
     "metadata": {},
     "output_type": "execute_result"
    }
   ],
   "source": [
    "import numpy as np\n",
    ">>> np.binary_repr(3)"
   ]
  },
  {
   "cell_type": "code",
   "execution_count": 3,
   "metadata": {},
   "outputs": [
    {
     "data": {
      "text/plain": [
       "'-11'"
      ]
     },
     "execution_count": 3,
     "metadata": {},
     "output_type": "execute_result"
    }
   ],
   "source": [
    ">>> np.binary_repr(-3)"
   ]
  },
  {
   "cell_type": "code",
   "execution_count": 4,
   "metadata": {},
   "outputs": [
    {
     "data": {
      "text/plain": [
       "'0011'"
      ]
     },
     "execution_count": 4,
     "metadata": {},
     "output_type": "execute_result"
    }
   ],
   "source": [
    ">>> np.binary_repr(3, width=4)"
   ]
  },
  {
   "cell_type": "markdown",
   "metadata": {},
   "source": [
    "当输入数字为负且指定宽度时，将返回二进制补码："
   ]
  },
  {
   "cell_type": "code",
   "execution_count": 6,
   "metadata": {},
   "outputs": [
    {
     "data": {
      "text/plain": [
       "'101'"
      ]
     },
     "execution_count": 6,
     "metadata": {},
     "output_type": "execute_result"
    }
   ],
   "source": [
    ">>> np.binary_repr(-3, width=3)"
   ]
  },
  {
   "cell_type": "code",
   "execution_count": 5,
   "metadata": {},
   "outputs": [
    {
     "data": {
      "text/plain": [
       "'11101'"
      ]
     },
     "execution_count": 5,
     "metadata": {},
     "output_type": "execute_result"
    }
   ],
   "source": [
    ">>> np.binary_repr(-3, width=5)"
   ]
  },
  {
   "cell_type": "markdown",
   "metadata": {},
   "source": [
    "# numpy.base_repr\n",
    "`numpy.base_repr(number, base=2, padding=0)`\n",
    "\n",
    "返回给定基本系统中数字的字符串表示形式。\n",
    "\n",
    "Return a string representation of a number in the given base system."
   ]
  },
  {
   "cell_type": "markdown",
   "metadata": {},
   "source": [
    "## Parameters:\t\n",
    "**number** : int\n",
    "\n",
    "要转换的值。处理正值和负值。\n",
    "\n",
    "The value to convert. Positive and negative values are handled.\n",
    "\n",
    "**base** : int, optional\n",
    "\n",
    "转换number为基数系统。有效范围为2-36，默认值为2。\n",
    "\n",
    "Convert number to the base number system. The valid range is 2-36, the default value is 2.\n",
    "\n",
    "**padding** : int, optional\n",
    "\n",
    "填充在左侧的零个数。默认值为0（无填充）。\n",
    "\n",
    "Number of zeros padded on the left. Default is 0 (no padding)."
   ]
  },
  {
   "cell_type": "markdown",
   "metadata": {},
   "source": [
    "## Returns:\t\n",
    "out : str\n",
    "\n",
    "在基系统中数字的字符串表示。\n",
    "\n",
    "String representation of number in base system.\n",
    "\n",
    "## 示例"
   ]
  },
  {
   "cell_type": "code",
   "execution_count": 7,
   "metadata": {},
   "outputs": [
    {
     "data": {
      "text/plain": [
       "'101'"
      ]
     },
     "execution_count": 7,
     "metadata": {},
     "output_type": "execute_result"
    }
   ],
   "source": [
    ">>> np.base_repr(5)"
   ]
  },
  {
   "cell_type": "code",
   "execution_count": 8,
   "metadata": {},
   "outputs": [
    {
     "data": {
      "text/plain": [
       "'11'"
      ]
     },
     "execution_count": 8,
     "metadata": {},
     "output_type": "execute_result"
    }
   ],
   "source": [
    ">>> np.base_repr(6, 5)"
   ]
  },
  {
   "cell_type": "code",
   "execution_count": 9,
   "metadata": {},
   "outputs": [
    {
     "data": {
      "text/plain": [
       "'00012'"
      ]
     },
     "execution_count": 9,
     "metadata": {},
     "output_type": "execute_result"
    }
   ],
   "source": [
    ">>> np.base_repr(7, base=5, padding=3)"
   ]
  },
  {
   "cell_type": "code",
   "execution_count": 10,
   "metadata": {},
   "outputs": [
    {
     "data": {
      "text/plain": [
       "'A'"
      ]
     },
     "execution_count": 10,
     "metadata": {},
     "output_type": "execute_result"
    }
   ],
   "source": [
    ">>> np.base_repr(10, base=16)"
   ]
  },
  {
   "cell_type": "code",
   "execution_count": 11,
   "metadata": {},
   "outputs": [
    {
     "data": {
      "text/plain": [
       "'20'"
      ]
     },
     "execution_count": 11,
     "metadata": {},
     "output_type": "execute_result"
    }
   ],
   "source": [
    ">>> np.base_repr(32, base=16)"
   ]
  },
  {
   "cell_type": "code",
   "execution_count": null,
   "metadata": {},
   "outputs": [],
   "source": []
  }
 ],
 "metadata": {
  "kernelspec": {
   "display_name": "Python 3",
   "language": "python",
   "name": "python3"
  },
  "language_info": {
   "codemirror_mode": {
    "name": "ipython",
    "version": 3
   },
   "file_extension": ".py",
   "mimetype": "text/x-python",
   "name": "python",
   "nbconvert_exporter": "python",
   "pygments_lexer": "ipython3",
   "version": "3.6.6"
  },
  "toc": {
   "base_numbering": 1,
   "nav_menu": {},
   "number_sections": true,
   "sideBar": true,
   "skip_h1_title": false,
   "title_cell": "Table of Contents",
   "title_sidebar": "Contents",
   "toc_cell": false,
   "toc_position": {},
   "toc_section_display": true,
   "toc_window_display": false
  }
 },
 "nbformat": 4,
 "nbformat_minor": 2
}
