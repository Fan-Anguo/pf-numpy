{
 "cells": [
  {
   "cell_type": "markdown",
   "metadata": {},
   "source": [
    "10-创建数据的程序之五\n",
    "====\n",
    "Numerical ranges\n",
    "----"
   ]
  },
  {
   "cell_type": "markdown",
   "metadata": {},
   "source": [
    "| Numerical ranges                                  |                                              |\n",
    "| ------------------------------------------------- | -------------------------------------------- |\n",
    "| arange([start,]   stop, step,)                    | 在给定的区间内返回等距值                     |\n",
    "| linspace(start,   stop[, num, endpoint, …])       | 跨给定的区间返回等距离的数。                 |\n",
    "| logspace(start,   stop[, num, endpoint, base, …]) | 返回的数以对数刻度均匀间隔。                 |\n",
    "| geomspace(start,   stop[, num, endpoint, dtype])  | 返回的数以对数刻度均匀间隔（几何学的改进。） |\n",
    "| meshgrid(`*xi,   **kwargs`)                         | 以坐标向量返回坐标矩阵   matirces.           |\n",
    "| mgrid                                             | 返回稠密多维网格的nd_grid实例。              |\n",
    "| ogrid                                             | 返回一个开放的多维网格的nd_grid实例。        |"
   ]
  },
  {
   "cell_type": "markdown",
   "metadata": {},
   "source": [
    "# numpy.arange\n",
    "`numpy.arange([start, ]stop, [step, ]dtype=None)`\n",
    "\n",
    "在给出的区间的内部返回等距离的值。\n",
    "\n",
    "值在半开区间`[start, stop)`内生成(换句话说，包括start但不包括stop)。对于整数参数，函数相当于Python内置的range函数，但是返回ndarray而不是列表。\n",
    "\n",
    "当使用非整数步骤(如0.1)时，结果往往不一致。对于这些情况，最好使用linspace。"
   ]
  },
  {
   "cell_type": "markdown",
   "metadata": {},
   "source": [
    "## Parameters:\t\n",
    "**start :** number, 可选关键字参数。区间的开始。区间包括这个值。默认为0.\n",
    "\n",
    "**stop :** number，必需的位置参数。区间的结束。区间一般不包括该值，除非出现下述情况：step 不是一个整数，并且浮点的传入影响输出的长度。\n",
    "\n",
    "**step :** number, 可选关键字参数。两个值之间的间隔。对于任何输出，这是两个相邻值之间的距离，`out[i+1] - out[i]`.step默认为1.如果step被作业位置参数传递，必须给出start。\n",
    "\n",
    "**dtype :** dtype，输出数组的类型。如果dtype没有给出，从其它输入的参数推测数据类型。"
   ]
  },
  {
   "cell_type": "markdown",
   "metadata": {},
   "source": [
    "## Returns:\t\n",
    "arange : ndarray\n",
    "\n",
    "等间距值组成的数组。\n",
    "\n",
    "对于floating参数，结果的最大长度是 `((stop - start)/step)`.因为浮点溢出，这条规则可能导致输出的最后一个元素大于stop。"
   ]
  },
  {
   "cell_type": "code",
   "execution_count": 25,
   "metadata": {},
   "outputs": [
    {
     "data": {
      "text/plain": [
       "array([0, 1, 2])"
      ]
     },
     "execution_count": 25,
     "metadata": {},
     "output_type": "execute_result"
    }
   ],
   "source": [
    "import numpy as np\n",
    ">>> np.arange(3)"
   ]
  },
  {
   "cell_type": "code",
   "execution_count": 26,
   "metadata": {},
   "outputs": [
    {
     "data": {
      "text/plain": [
       "array([0., 1., 2.])"
      ]
     },
     "execution_count": 26,
     "metadata": {},
     "output_type": "execute_result"
    }
   ],
   "source": [
    ">>> np.arange(3.0)"
   ]
  },
  {
   "cell_type": "code",
   "execution_count": 27,
   "metadata": {},
   "outputs": [
    {
     "data": {
      "text/plain": [
       "array([3, 4, 5, 6])"
      ]
     },
     "execution_count": 27,
     "metadata": {},
     "output_type": "execute_result"
    }
   ],
   "source": [
    ">>> np.arange(3,7)"
   ]
  },
  {
   "cell_type": "code",
   "execution_count": 28,
   "metadata": {},
   "outputs": [
    {
     "data": {
      "text/plain": [
       "array([3, 5])"
      ]
     },
     "execution_count": 28,
     "metadata": {},
     "output_type": "execute_result"
    }
   ],
   "source": [
    ">>> np.arange(3,7,2)"
   ]
  },
  {
   "cell_type": "markdown",
   "metadata": {},
   "source": [
    "## numpy.linspace\n",
    "`numpy.linspace(start, stop, num=50, endpoint=True, retstep=False, dtype=None)`\n",
    "\n",
    "从指定的区间返回等间距的数。\n",
    "\n",
    "返回的等间距的数值样本，计算区间覆盖 [start, stop].\n",
    "\n",
    "可以选择性地指定排除区间的端点。（默认是包含端点的。）"
   ]
  },
  {
   "cell_type": "markdown",
   "metadata": {},
   "source": [
    "## Parameters:\t\n",
    "**start :** scalar，标量，序列的起始值。\n",
    "\n",
    "**stop :** scalar，标量，序列的结束值，除非endpoint被设置为False. 在这种情况下，序列由除`num + 1`的最后一个等距样本之外的所有样本组成，因此 stop 被排除。注意，当endpoints为False时，步长会发生变化。\n",
    "\n",
    "**num :** int, 可选关键字参数，生成样本的数量。默认为50. 必须是非负数。\n",
    "\n",
    "**endpoint :** bool, 可选关键字参数。如果是True，stop是最后一个样本。否则不包括stop。默认为True.\n",
    "\n",
    "**retstep :** bool, 可选关键字参数。如果为True，返回(samples, step)，step是两个样本之间的距离。\n",
    "\n",
    "**dtype :** dtype, 可选关键字参数。输出数组的类型。如果dtype没有被给出，从输入的其它参数推测数据类型。"
   ]
  },
  {
   "cell_type": "markdown",
   "metadata": {},
   "source": [
    "## Returns:\t\n",
    "samples : ndarray\n",
    "\n",
    "在封闭区间内有等间隔的num样本 [start, stop]，或半开区间[start, stop](取决于 endpoint 是真还是假)。\n",
    "\n",
    "**step :** float, 可选的输出。仅在retstep为True时返回。两个样本间的距离。"
   ]
  },
  {
   "cell_type": "code",
   "execution_count": 29,
   "metadata": {},
   "outputs": [
    {
     "data": {
      "text/plain": [
       "array([2.  , 2.25, 2.5 , 2.75, 3.  ])"
      ]
     },
     "execution_count": 29,
     "metadata": {},
     "output_type": "execute_result"
    }
   ],
   "source": [
    ">>> np.linspace(2.0, 3.0, num=5)"
   ]
  },
  {
   "cell_type": "code",
   "execution_count": 30,
   "metadata": {},
   "outputs": [
    {
     "data": {
      "text/plain": [
       "array([2. , 2.2, 2.4, 2.6, 2.8])"
      ]
     },
     "execution_count": 30,
     "metadata": {},
     "output_type": "execute_result"
    }
   ],
   "source": [
    ">>> np.linspace(2.0, 3.0, num=5, endpoint=False)"
   ]
  },
  {
   "cell_type": "code",
   "execution_count": 31,
   "metadata": {},
   "outputs": [
    {
     "data": {
      "text/plain": [
       "(array([2.  , 2.25, 2.5 , 2.75, 3.  ]), 0.25)"
      ]
     },
     "execution_count": 31,
     "metadata": {},
     "output_type": "execute_result"
    }
   ],
   "source": [
    ">>> np.linspace(2.0, 3.0, num=5, retstep=True)"
   ]
  },
  {
   "cell_type": "markdown",
   "metadata": {},
   "source": [
    "## Graphical illustration 图解积分法:"
   ]
  },
  {
   "cell_type": "code",
   "execution_count": 32,
   "metadata": {},
   "outputs": [
    {
     "data": {
      "image/png": "[encoded data removed]",
      "text/plain": [
       "<Figure size 432x288 with 1 Axes>"
      ]
     },
     "metadata": {},
     "output_type": "display_data"
    }
   ],
   "source": [
    ">>> import matplotlib.pyplot as plt\n",
    ">>> N = 8\n",
    ">>> y = np.zeros(N)\n",
    ">>> x1 = np.linspace(0, 10, N, endpoint=True)\n",
    ">>> x2 = np.linspace(0, 10, N, endpoint=False)\n",
    ">>> plt.plot(x1, y, 'o')\n",
    ">>> plt.plot(x2, y + 0.5, 'o')\n",
    ">>> plt.ylim([-0.5, 1])\n",
    ">>> plt.show()"
   ]
  },
  {
   "cell_type": "markdown",
   "metadata": {},
   "source": [
    "# numpy.logspace\n",
    "`numpy.logspace(start, stop, num=50, endpoint=True, base=10.0, dtype=None)`\n",
    "\n",
    "返回的数字以均匀的对数刻度间隔\n",
    "\n",
    "在线性空间中，序列从`base ** start (base to the power of start)`开始，以`base ** stop`(参见下面的endpoint)结束。"
   ]
  },
  {
   "cell_type": "markdown",
   "metadata": {},
   "source": [
    "## Parameters:\t\n",
    "**start :** float\n",
    "`base ** start` 是序列的开始值。.\n",
    "\n",
    "**stop :** float\n",
    "`base ** stop`是序列的结束值，除非endpoint是Fales。在这种情况下，`num + 1`值间隔 log-space 间距，其中除了最后一个（长度为num的序列）之外的所有值都返回。\n",
    "\n",
    "在这种情况下，`num + 1`的值以日志空间中的间隔为间隔，返回除了最后一个(长度num的序列)之外的所有值。\n",
    "\n",
    "**num :** integer, 可选关键字参数。生成样本数。默认为50.\n",
    "\n",
    "**endpoint :** boolean, 可选关键字参数。如果为True，stop是最后一个样本。否则，不包括stop。默认为True.\n",
    "\n",
    "**base :** float, 可选关键字参数。log 间距的底。元素之间的步长的 `ln（samples）/ ln（base）`（或`log_base（samples）`）是一致的。 默认值为10.0。\n",
    "\n",
    "**dtype :** dtype 输出数组的类型。如果没有给定，依据输入的其它参数推断。"
   ]
  },
  {
   "cell_type": "markdown",
   "metadata": {},
   "source": [
    "## Returns:\t\n",
    "samples : ndarray，数字样本，相等的间距对数标尺。"
   ]
  },
  {
   "cell_type": "markdown",
   "metadata": {},
   "source": [
    "**注意：**\n",
    "\n",
    "Logspace 与如下代码等效：\n",
    "```\n",
    ">>> y = np.linspace(start, stop, num=num, endpoint=endpoint)\n",
    "... \n",
    ">>> power(base, y).astype(dtype)\n",
    "... \n",
    "```"
   ]
  },
  {
   "cell_type": "markdown",
   "metadata": {},
   "source": [
    "## 示例"
   ]
  },
  {
   "cell_type": "code",
   "execution_count": 33,
   "metadata": {},
   "outputs": [
    {
     "data": {
      "text/plain": [
       "array([ 100.        ,  215.443469  ,  464.15888336, 1000.        ])"
      ]
     },
     "execution_count": 33,
     "metadata": {},
     "output_type": "execute_result"
    }
   ],
   "source": [
    ">>> np.logspace(2.0, 3.0, num=4)"
   ]
  },
  {
   "cell_type": "code",
   "execution_count": 34,
   "metadata": {},
   "outputs": [
    {
     "data": {
      "text/plain": [
       "array([100.        , 177.827941  , 316.22776602, 562.34132519])"
      ]
     },
     "execution_count": 34,
     "metadata": {},
     "output_type": "execute_result"
    }
   ],
   "source": [
    ">>> np.logspace(2.0, 3.0, num=4, endpoint=False)"
   ]
  },
  {
   "cell_type": "code",
   "execution_count": 35,
   "metadata": {},
   "outputs": [
    {
     "data": {
      "text/plain": [
       "array([4.        , 5.0396842 , 6.34960421, 8.        ])"
      ]
     },
     "execution_count": 35,
     "metadata": {},
     "output_type": "execute_result"
    }
   ],
   "source": [
    ">>> np.logspace(2.0, 3.0, num=4, base=2.0)"
   ]
  },
  {
   "cell_type": "markdown",
   "metadata": {},
   "source": [
    "## Graphical illustration:"
   ]
  },
  {
   "cell_type": "code",
   "execution_count": 43,
   "metadata": {},
   "outputs": [
    {
     "data": {
      "image/png": "[encoded data removed]",
      "text/plain": [
       "<Figure size 432x288 with 1 Axes>"
      ]
     },
     "metadata": {},
     "output_type": "display_data"
    }
   ],
   "source": [
    ">>> import matplotlib.pyplot as plt\n",
    ">>> N = 10\n",
    ">>> x1 = np.logspace(0.1, 1, N, endpoint=True)\n",
    ">>> x2 = np.logspace(0.1, 1, N, endpoint=False)\n",
    ">>> y = np.zeros(N)\n",
    ">>> plt.plot(x1, y, 'o')\n",
    ">>> plt.plot(x2, y + 0.5, 'o')\n",
    ">>> plt.ylim([-0.5, 1])\n",
    ">>> plt.show()"
   ]
  },
  {
   "cell_type": "code",
   "execution_count": null,
   "metadata": {},
   "outputs": [],
   "source": []
  },
  {
   "cell_type": "code",
   "execution_count": 39,
   "metadata": {},
   "outputs": [],
   "source": []
  },
  {
   "cell_type": "code",
   "execution_count": null,
   "metadata": {},
   "outputs": [],
   "source": []
  },
  {
   "cell_type": "code",
   "execution_count": null,
   "metadata": {},
   "outputs": [],
   "source": []
  }
 ],
 "metadata": {
  "kernelspec": {
   "display_name": "Python 3",
   "language": "python",
   "name": "python3"
  },
  "language_info": {
   "codemirror_mode": {
    "name": "ipython",
    "version": 3
   },
   "file_extension": ".py",
   "mimetype": "text/x-python",
   "name": "python",
   "nbconvert_exporter": "python",
   "pygments_lexer": "ipython3",
   "version": "3.6.5"
  },
  "toc": {
   "base_numbering": 1,
   "nav_menu": {},
   "number_sections": true,
   "sideBar": true,
   "skip_h1_title": false,
   "title_cell": "Table of Contents",
   "title_sidebar": "Contents",
   "toc_cell": false,
   "toc_position": {},
   "toc_section_display": true,
   "toc_window_display": false
  }
 },
 "nbformat": 4,
 "nbformat_minor": 2
}
