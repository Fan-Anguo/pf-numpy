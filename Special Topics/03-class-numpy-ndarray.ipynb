{
 "cells": [
  {
   "cell_type": "markdown",
   "metadata": {},
   "source": [
    "class numpy.ndarray\n",
    "===="
   ]
  },
  {
   "cell_type": "markdown",
   "metadata": {},
   "source": [
    "**numpy.ndarray**\n",
    "\n",
    "`class numpy.ndarray(shape, dtype=float, buffer=None, offset=0, strides=None, order=None)`"
   ]
  },
  {
   "cell_type": "markdown",
   "metadata": {},
   "source": [
    "数组对象表示，多维、同类数组，数组的项大小固定。关联的 data-type 对象描述数组中每个元素的格式（它的字节顺序，它在内存中占用的字节数，是整数，浮点数还是其他等），等等。\n",
    "\n",
    "应使用array, zeros, empty来创建 array对象。这里给出的参数是用于实例化数组的低级方法（ndarray（...））。\n",
    "\n",
    "**也就是说，提供参数，实例化 numpy.ndarray 类的方法是创建数组的低级方法，不推荐使用这种方法。但该类的属性和方法，是操作 array 对象的基础。**"
   ]
  },
  {
   "cell_type": "markdown",
   "metadata": {},
   "source": [
    "# 参数:\n",
    "\n",
    "**shape :** 整数元组，array 的 Shape.\n",
    "\n",
    "**dtype :** data-type, 可选的。任何一个可以解释为numpy数据类型的对象。\n",
    "\n",
    "**buffer :** 对象暴露在缓冲区的接口，可选参数。用于使用数据填充 array。\n",
    "\n",
    "**offset :** 整数，可选项。缓冲区的数组数据偏移量。\n",
    "\n",
    "**strides :** 整数元组，可选参数。内存中数据的跨步。\n",
    "\n",
    "**order : **{‘C’, ‘F’}, 可选参数。Row-major (C-style) or column-major (Fortran-style) order.行优先（C 风格）或者列优先（Fortran 风格）。\n",
    "\n"
   ]
  },
  {
   "cell_type": "markdown",
   "metadata": {},
   "source": []
  },
  {
   "cell_type": "markdown",
   "metadata": {},
   "source": []
  }
 ],
 "metadata": {
  "kernelspec": {
   "display_name": "Python 3",
   "language": "python",
   "name": "python3"
  },
  "language_info": {
   "codemirror_mode": {
    "name": "ipython",
    "version": 3
   },
   "file_extension": ".py",
   "mimetype": "text/x-python",
   "name": "python",
   "nbconvert_exporter": "python",
   "pygments_lexer": "ipython3",
   "version": "3.6.4"
  }
 },
 "nbformat": 4,
 "nbformat_minor": 2
}
